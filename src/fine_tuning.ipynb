{
 "cells": [
  {
   "cell_type": "code",
   "execution_count": 6,
   "metadata": {},
   "outputs": [
    {
     "name": "stdout",
     "output_type": "stream",
     "text": [
      "Index(['tweet_id', 'created_at', 'tweet', 'label_true', 'month', 'label_pred'], dtype='object')\n",
      "       tweet_id                 created_at  \\\n",
      "0  1.421910e+18  2021-08-01 19:02:51+00:00   \n",
      "1  1.421730e+18  2021-08-01 07:26:37+00:00   \n",
      "2  1.421890e+18  2021-08-01 17:42:05+00:00   \n",
      "3  1.421980e+18  2021-08-01 23:35:28+00:00   \n",
      "4  1.421800e+18  2021-08-01 11:39:57+00:00   \n",
      "\n",
      "                                               tweet label_true   month  \\\n",
      "0  if you in spanish town, st jago park isn't ful...   in-favor  21-Aug   \n",
      "1  breaking report: cdc used rejected study from ...    against  21-Aug   \n",
      "2  covid clusters among the vaccinated are killin...    against  21-Aug   \n",
      "3  so they had an on-site vaccination at work and...   in-favor  21-Aug   \n",
      "4  what a dumb bunny.  it's a leaky vaccine and y...    against  21-Aug   \n",
      "\n",
      "   label_pred  \n",
      "0         NaN  \n",
      "1         NaN  \n",
      "2         NaN  \n",
      "3         NaN  \n",
      "4         NaN  \n"
     ]
    }
   ],
   "source": [
    "import re\n",
    "import pandas as pd\n",
    "\n",
    "df = pd.read_csv(\"../data/Q2_20230202_majority.csv\")\n",
    "print(df.columns)\n",
    "print(df.head())\n"
   ]
  },
  {
   "cell_type": "code",
   "execution_count": 7,
   "metadata": {},
   "outputs": [
    {
     "name": "stdout",
     "output_type": "stream",
     "text": [
      "Index(['tweet_id', 'created_at', 'tweet', 'label_true', 'month', 'label_pred'], dtype='object')\n",
      "       tweet_id                 created_at  \\\n",
      "0  1.421910e+18  2021-08-01 19:02:51+00:00   \n",
      "1  1.421730e+18  2021-08-01 07:26:37+00:00   \n",
      "2  1.421890e+18  2021-08-01 17:42:05+00:00   \n",
      "3  1.421980e+18  2021-08-01 23:35:28+00:00   \n",
      "4  1.421800e+18  2021-08-01 11:39:57+00:00   \n",
      "\n",
      "                                               tweet label_true   month  \\\n",
      "0  if you in spanish town, st jago park isn't ful...   in-favor  21-Aug   \n",
      "1  breaking report: cdc used rejected study from ...    against  21-Aug   \n",
      "2  covid clusters among the vaccinated are killin...    against  21-Aug   \n",
      "3  so they had an on-site vaccination at work and...   in-favor  21-Aug   \n",
      "4  what a dumb bunny.  it's a leaky vaccine and y...    against  21-Aug   \n",
      "\n",
      "   label_pred  \n",
      "0         NaN  \n",
      "1         NaN  \n",
      "2         NaN  \n",
      "3         NaN  \n",
      "4         NaN  \n"
     ]
    }
   ],
   "source": [
    "print(df.columns)\n",
    "print(df.head())"
   ]
  },
  {
   "cell_type": "code",
   "execution_count": 8,
   "metadata": {},
   "outputs": [
    {
     "name": "stdout",
     "output_type": "stream",
     "text": [
      "Index(['tweet_id', 'created_at', 'tweet', 'label_true', 'month', 'label_pred'], dtype='object')\n",
      "       tweet_id                 created_at  \\\n",
      "0  1.421910e+18  2021-08-01 19:02:51+00:00   \n",
      "1  1.421730e+18  2021-08-01 07:26:37+00:00   \n",
      "2  1.421890e+18  2021-08-01 17:42:05+00:00   \n",
      "3  1.421980e+18  2021-08-01 23:35:28+00:00   \n",
      "4  1.421800e+18  2021-08-01 11:39:57+00:00   \n",
      "\n",
      "                                               tweet label_true   month  \\\n",
      "0  if you in spanish town, st jago park isn't ful...   in-favor  21-Aug   \n",
      "1  breaking report: cdc used rejected study from ...    against  21-Aug   \n",
      "2  covid clusters among the vaccinated are killin...    against  21-Aug   \n",
      "3  so they had an on-site vaccination at work and...   in-favor  21-Aug   \n",
      "4  what a dumb bunny.  it's a leaky vaccine and y...    against  21-Aug   \n",
      "\n",
      "   label_pred  \n",
      "0         NaN  \n",
      "1         NaN  \n",
      "2         NaN  \n",
      "3         NaN  \n",
      "4         NaN  \n"
     ]
    }
   ],
   "source": [
    "print(df.columns)\n",
    "print(df.head())"
   ]
  }
 ],
 "metadata": {
  "kernelspec": {
   "display_name": "myenv",
   "language": "python",
   "name": "python3"
  },
  "language_info": {
   "codemirror_mode": {
    "name": "ipython",
    "version": 3
   },
   "file_extension": ".py",
   "mimetype": "text/x-python",
   "name": "python",
   "nbconvert_exporter": "python",
   "pygments_lexer": "ipython3",
   "version": "3.12.11"
  }
 },
 "nbformat": 4,
 "nbformat_minor": 2
}
