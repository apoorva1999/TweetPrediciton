{
  "cells": [
    {
      "cell_type": "markdown",
      "metadata": {
        "id": "view-in-github",
        "colab_type": "text"
      },
      "source": [
        "<a href=\"https://colab.research.google.com/github/apoorva1999/TweetPrediciton/blob/main/TweetClassification.ipynb\" target=\"_parent\"><img src=\"https://colab.research.google.com/assets/colab-badge.svg\" alt=\"Open In Colab\"/></a>"
      ]
    },
    {
      "cell_type": "markdown",
      "source": [
        "## Tweet Classification 🐤\n"
      ],
      "metadata": {
        "id": "FfCtyH4RkNfP"
      }
    },
    {
      "cell_type": "code",
      "execution_count": null,
      "metadata": {
        "colab": {
          "base_uri": "https://localhost:8080/"
        },
        "id": "nqH22UMJwy87",
        "outputId": "3433867d-66d6-4f32-871c-d58a886ec904"
      },
      "outputs": [
        {
          "output_type": "stream",
          "name": "stdout",
          "text": [
            "Drive already mounted at /content/drive; to attempt to forcibly remount, call drive.mount(\"/content/drive\", force_remount=True).\n"
          ]
        }
      ],
      "source": [
        "from google.colab import files\n",
        "from google.colab import drive\n",
        "drive.mount('/content/drive')"
      ]
    },
    {
      "cell_type": "code",
      "execution_count": null,
      "metadata": {
        "id": "F1XdJctBw2SK"
      },
      "outputs": [],
      "source": [
        "import os\n",
        "os.chdir('/content/drive/MyDrive/project/TweetPrediciton')"
      ]
    },
    {
      "cell_type": "code",
      "execution_count": null,
      "metadata": {
        "colab": {
          "base_uri": "https://localhost:8080/"
        },
        "id": "pduG02BEw2RL",
        "outputId": "25969951-0b56-4674-f97e-5d34a5004359"
      },
      "outputs": [
        {
          "output_type": "stream",
          "name": "stdout",
          "text": [
            "Requirement already satisfied: transformers==4.53.3 in /usr/local/lib/python3.11/dist-packages (from -r requirements.txt (line 1)) (4.53.3)\n",
            "Requirement already satisfied: torch in /usr/local/lib/python3.11/dist-packages (from -r requirements.txt (line 2)) (2.6.0+cu124)\n",
            "Requirement already satisfied: accelerate in /usr/local/lib/python3.11/dist-packages (from -r requirements.txt (line 3)) (1.9.0)\n",
            "Requirement already satisfied: sentencepiece in /usr/local/lib/python3.11/dist-packages (from -r requirements.txt (line 4)) (0.2.0)\n",
            "Requirement already satisfied: pandas in /usr/local/lib/python3.11/dist-packages (from -r requirements.txt (line 5)) (2.2.2)\n",
            "Requirement already satisfied: filelock in /usr/local/lib/python3.11/dist-packages (from transformers==4.53.3->-r requirements.txt (line 1)) (3.18.0)\n",
            "Requirement already satisfied: huggingface-hub<1.0,>=0.30.0 in /usr/local/lib/python3.11/dist-packages (from transformers==4.53.3->-r requirements.txt (line 1)) (0.33.4)\n",
            "Requirement already satisfied: numpy>=1.17 in /usr/local/lib/python3.11/dist-packages (from transformers==4.53.3->-r requirements.txt (line 1)) (2.0.2)\n",
            "Requirement already satisfied: packaging>=20.0 in /usr/local/lib/python3.11/dist-packages (from transformers==4.53.3->-r requirements.txt (line 1)) (25.0)\n",
            "Requirement already satisfied: pyyaml>=5.1 in /usr/local/lib/python3.11/dist-packages (from transformers==4.53.3->-r requirements.txt (line 1)) (6.0.2)\n",
            "Requirement already satisfied: regex!=2019.12.17 in /usr/local/lib/python3.11/dist-packages (from transformers==4.53.3->-r requirements.txt (line 1)) (2024.11.6)\n",
            "Requirement already satisfied: requests in /usr/local/lib/python3.11/dist-packages (from transformers==4.53.3->-r requirements.txt (line 1)) (2.32.3)\n",
            "Requirement already satisfied: tokenizers<0.22,>=0.21 in /usr/local/lib/python3.11/dist-packages (from transformers==4.53.3->-r requirements.txt (line 1)) (0.21.2)\n",
            "Requirement already satisfied: safetensors>=0.4.3 in /usr/local/lib/python3.11/dist-packages (from transformers==4.53.3->-r requirements.txt (line 1)) (0.5.3)\n",
            "Requirement already satisfied: tqdm>=4.27 in /usr/local/lib/python3.11/dist-packages (from transformers==4.53.3->-r requirements.txt (line 1)) (4.67.1)\n",
            "Requirement already satisfied: typing-extensions>=4.10.0 in /usr/local/lib/python3.11/dist-packages (from torch->-r requirements.txt (line 2)) (4.14.1)\n",
            "Requirement already satisfied: networkx in /usr/local/lib/python3.11/dist-packages (from torch->-r requirements.txt (line 2)) (3.5)\n",
            "Requirement already satisfied: jinja2 in /usr/local/lib/python3.11/dist-packages (from torch->-r requirements.txt (line 2)) (3.1.6)\n",
            "Requirement already satisfied: fsspec in /usr/local/lib/python3.11/dist-packages (from torch->-r requirements.txt (line 2)) (2025.7.0)\n",
            "Requirement already satisfied: nvidia-cuda-nvrtc-cu12==12.4.127 in /usr/local/lib/python3.11/dist-packages (from torch->-r requirements.txt (line 2)) (12.4.127)\n",
            "Requirement already satisfied: nvidia-cuda-runtime-cu12==12.4.127 in /usr/local/lib/python3.11/dist-packages (from torch->-r requirements.txt (line 2)) (12.4.127)\n",
            "Requirement already satisfied: nvidia-cuda-cupti-cu12==12.4.127 in /usr/local/lib/python3.11/dist-packages (from torch->-r requirements.txt (line 2)) (12.4.127)\n",
            "Requirement already satisfied: nvidia-cudnn-cu12==9.1.0.70 in /usr/local/lib/python3.11/dist-packages (from torch->-r requirements.txt (line 2)) (9.1.0.70)\n",
            "Requirement already satisfied: nvidia-cublas-cu12==12.4.5.8 in /usr/local/lib/python3.11/dist-packages (from torch->-r requirements.txt (line 2)) (12.4.5.8)\n",
            "Requirement already satisfied: nvidia-cufft-cu12==11.2.1.3 in /usr/local/lib/python3.11/dist-packages (from torch->-r requirements.txt (line 2)) (11.2.1.3)\n",
            "Requirement already satisfied: nvidia-curand-cu12==10.3.5.147 in /usr/local/lib/python3.11/dist-packages (from torch->-r requirements.txt (line 2)) (10.3.5.147)\n",
            "Requirement already satisfied: nvidia-cusolver-cu12==11.6.1.9 in /usr/local/lib/python3.11/dist-packages (from torch->-r requirements.txt (line 2)) (11.6.1.9)\n",
            "Requirement already satisfied: nvidia-cusparse-cu12==12.3.1.170 in /usr/local/lib/python3.11/dist-packages (from torch->-r requirements.txt (line 2)) (12.3.1.170)\n",
            "Requirement already satisfied: nvidia-cusparselt-cu12==0.6.2 in /usr/local/lib/python3.11/dist-packages (from torch->-r requirements.txt (line 2)) (0.6.2)\n",
            "Requirement already satisfied: nvidia-nccl-cu12==2.21.5 in /usr/local/lib/python3.11/dist-packages (from torch->-r requirements.txt (line 2)) (2.21.5)\n",
            "Requirement already satisfied: nvidia-nvtx-cu12==12.4.127 in /usr/local/lib/python3.11/dist-packages (from torch->-r requirements.txt (line 2)) (12.4.127)\n",
            "Requirement already satisfied: nvidia-nvjitlink-cu12==12.4.127 in /usr/local/lib/python3.11/dist-packages (from torch->-r requirements.txt (line 2)) (12.4.127)\n",
            "Requirement already satisfied: triton==3.2.0 in /usr/local/lib/python3.11/dist-packages (from torch->-r requirements.txt (line 2)) (3.2.0)\n",
            "Requirement already satisfied: sympy==1.13.1 in /usr/local/lib/python3.11/dist-packages (from torch->-r requirements.txt (line 2)) (1.13.1)\n",
            "Requirement already satisfied: mpmath<1.4,>=1.1.0 in /usr/local/lib/python3.11/dist-packages (from sympy==1.13.1->torch->-r requirements.txt (line 2)) (1.3.0)\n",
            "Requirement already satisfied: psutil in /usr/local/lib/python3.11/dist-packages (from accelerate->-r requirements.txt (line 3)) (5.9.5)\n",
            "Requirement already satisfied: python-dateutil>=2.8.2 in /usr/local/lib/python3.11/dist-packages (from pandas->-r requirements.txt (line 5)) (2.9.0.post0)\n",
            "Requirement already satisfied: pytz>=2020.1 in /usr/local/lib/python3.11/dist-packages (from pandas->-r requirements.txt (line 5)) (2025.2)\n",
            "Requirement already satisfied: tzdata>=2022.7 in /usr/local/lib/python3.11/dist-packages (from pandas->-r requirements.txt (line 5)) (2025.2)\n",
            "Requirement already satisfied: hf-xet<2.0.0,>=1.1.2 in /usr/local/lib/python3.11/dist-packages (from huggingface-hub<1.0,>=0.30.0->transformers==4.53.3->-r requirements.txt (line 1)) (1.1.5)\n",
            "Requirement already satisfied: six>=1.5 in /usr/local/lib/python3.11/dist-packages (from python-dateutil>=2.8.2->pandas->-r requirements.txt (line 5)) (1.17.0)\n",
            "Requirement already satisfied: MarkupSafe>=2.0 in /usr/local/lib/python3.11/dist-packages (from jinja2->torch->-r requirements.txt (line 2)) (3.0.2)\n",
            "Requirement already satisfied: charset-normalizer<4,>=2 in /usr/local/lib/python3.11/dist-packages (from requests->transformers==4.53.3->-r requirements.txt (line 1)) (3.4.2)\n",
            "Requirement already satisfied: idna<4,>=2.5 in /usr/local/lib/python3.11/dist-packages (from requests->transformers==4.53.3->-r requirements.txt (line 1)) (3.10)\n",
            "Requirement already satisfied: urllib3<3,>=1.21.1 in /usr/local/lib/python3.11/dist-packages (from requests->transformers==4.53.3->-r requirements.txt (line 1)) (2.5.0)\n",
            "Requirement already satisfied: certifi>=2017.4.17 in /usr/local/lib/python3.11/dist-packages (from requests->transformers==4.53.3->-r requirements.txt (line 1)) (2025.7.14)\n"
          ]
        }
      ],
      "source": [
        "!pip install -r requirements.txt"
      ]
    },
    {
      "cell_type": "code",
      "execution_count": null,
      "metadata": {
        "id": "cRiSGkCIxAME"
      },
      "outputs": [],
      "source": [
        "import numpy as np\n",
        "import pandas as pd\n",
        "from torch.utils.data import Dataset, DataLoader\n",
        "from transformers import T5Tokenizer, T5ForConditionalGeneration, Trainer, TrainingArguments\n",
        "from src.prompt import PROMPT_TEMPLATE\n",
        "from tqdm import tqdm"
      ]
    },
    {
      "cell_type": "markdown",
      "source": [
        "# 1. Load and preprocess data 📊\n"
      ],
      "metadata": {
        "id": "yRogOynCkW9J"
      }
    },
    {
      "cell_type": "code",
      "execution_count": null,
      "metadata": {
        "id": "JmV7bYrYxGVw"
      },
      "outputs": [],
      "source": [
        "df = pd.read_csv(\"Q2_20230202_majority.csv\")\n",
        "df = df.dropna(subset=[\"tweet\", \"label_true\"])"
      ]
    },
    {
      "cell_type": "code",
      "execution_count": null,
      "metadata": {
        "id": "IFp894zuxIod"
      },
      "outputs": [],
      "source": [
        "class TweetDataset(Dataset):\n",
        "    def __init__(self, dataframe, tokenizer, max_length=256):\n",
        "        self.data = dataframe\n",
        "        self.tokenizer = tokenizer\n",
        "        self.max_length = max_length\n",
        "\n",
        "    def __len__(self):\n",
        "        return len(self.data)\n",
        "\n",
        "    def __getitem__(self, idx):\n",
        "        tweet = self.data.iloc[idx][\"tweet\"]\n",
        "        label = self.data.iloc[idx][\"label_true\"]\n",
        "        input_text = PROMPT_TEMPLATE.format(tweet=tweet)\n",
        "        target_text = label\n",
        "        input_enc = self.tokenizer(\n",
        "            input_text, truncation=True, padding=\"max_length\", max_length=self.max_length, return_tensors=\"pt\"\n",
        "        )\n",
        "        target_enc = self.tokenizer(\n",
        "            target_text, truncation=True, padding=\"max_length\", max_length=10, return_tensors=\"pt\"\n",
        "        )\n",
        "        return {\n",
        "            \"input_ids\": input_enc.input_ids.squeeze(),\n",
        "            \"attention_mask\": input_enc.attention_mask.squeeze(),\n",
        "            \"labels\": target_enc.input_ids.squeeze(),\n",
        "        }"
      ]
    },
    {
      "cell_type": "code",
      "execution_count": null,
      "metadata": {
        "id": "wwH0oc7YxTlE"
      },
      "outputs": [],
      "source": [
        "from sklearn.model_selection import train_test_split\n",
        "\n",
        "train_df, val_df = train_test_split(df, test_size=0.2, random_state=42)"
      ]
    },
    {
      "cell_type": "code",
      "execution_count": null,
      "metadata": {
        "id": "ZQdnrhA-xYwo",
        "colab": {
          "base_uri": "https://localhost:8080/",
          "height": 287,
          "referenced_widgets": [
            "962617bb750d408eac843bc052dc7fd0",
            "1a6331411e0644c1bb089f3a52ec195c",
            "eca2243a263f4792af42e3f69a50e0ca",
            "63fd8bf035834847acbb99f2b92eea5a",
            "3a549976ea714a12866854fae9023adc",
            "acfcf89695be4989a3ad6304d0d079ac",
            "118a196ebefb4c4f8d875badc90bae96",
            "c55e823b45be435092027410749614e3",
            "468c2f8285a24d73a22c81d18ad64cbd",
            "b2acbcf3710c4422ab606c4e3bfb7a64",
            "92a83663560e426b938f6e479a0726d9",
            "b88bcf97dd0647d08ecf6b3006c24422",
            "1159ae29ffda4ffab796d5c40dde4204",
            "412ff837dee84337ba6ff19385e2a922",
            "f760ad243e224cf4b77013906e293ec2",
            "5a25c4178beb49bd9d8d9fd85384daaa",
            "efd70ac682a84939be92eb3cfd39d3e0",
            "bb172c78a00f4fd3bf3b57f00006670f",
            "662c2a1eec2a49f5a05511854e888eee",
            "0c1128f92ec84694a28a00353f6c9438",
            "434cd695c537459ca617f977221afe40",
            "08682d50cbbf4a3a825ba6894b6687b5",
            "4e201a13d941472ca0982d0a52d2af3a",
            "4d611bfefd7a43e7bd68fc552971eb7e",
            "78fcf558c2524d3b8a65689f859b4c9f",
            "e25d55c531f3406088eaf00b4f0faf0b",
            "d06641cac63a4c108b26cd38381ea13c",
            "7ef1f37711ea403baf1ff882f3b9ba49",
            "df815667a3ca46c8833a5862531be343",
            "521eaae8cb404953a1dca16ce1596a1a",
            "75ed316d46c64ef5a5ca08d62c1470f3",
            "a7fcbb8262174cf8aa9c35254601953e",
            "4c3b5ce8168a4710bc609954da7aa87c",
            "65a6c44b99d14864afce99e9d8a21891",
            "4b7024beff7c4e148d29030ef8d70831",
            "693f87e195514732b8c7dabd6d1c298f",
            "94a39069e55e49c3aa8ef8e7a500970c",
            "c619df1582ae4851a18618654a1f65e9",
            "2ed6e551b5164e39b2bc7d0022c8b8f7",
            "495bf296f6d04f8ca92a94c8b4e3a4b6",
            "1e2fae76a3244c7a8d7a05bae838311f",
            "1142d6e6c0df49c3bd2136a10e808192",
            "6f8abfd83c6a46bfa37f537c4b35cc22",
            "c067575f9da64ea89a5b577acf7e0217"
          ]
        },
        "outputId": "d770e9ae-c79d-458a-f1b5-5a50157383c0"
      },
      "outputs": [
        {
          "output_type": "stream",
          "name": "stderr",
          "text": [
            "/usr/local/lib/python3.11/dist-packages/huggingface_hub/utils/_auth.py:94: UserWarning: \n",
            "The secret `HF_TOKEN` does not exist in your Colab secrets.\n",
            "To authenticate with the Hugging Face Hub, create a token in your settings tab (https://huggingface.co/settings/tokens), set it as secret in your Google Colab and restart your session.\n",
            "You will be able to reuse this secret in all of your notebooks.\n",
            "Please note that authentication is recommended but still optional to access public models or datasets.\n",
            "  warnings.warn(\n"
          ]
        },
        {
          "output_type": "display_data",
          "data": {
            "text/plain": [
              "tokenizer_config.json: 0.00B [00:00, ?B/s]"
            ],
            "application/vnd.jupyter.widget-view+json": {
              "version_major": 2,
              "version_minor": 0,
              "model_id": "962617bb750d408eac843bc052dc7fd0"
            }
          },
          "metadata": {}
        },
        {
          "output_type": "display_data",
          "data": {
            "text/plain": [
              "spiece.model:   0%|          | 0.00/792k [00:00<?, ?B/s]"
            ],
            "application/vnd.jupyter.widget-view+json": {
              "version_major": 2,
              "version_minor": 0,
              "model_id": "b88bcf97dd0647d08ecf6b3006c24422"
            }
          },
          "metadata": {}
        },
        {
          "output_type": "display_data",
          "data": {
            "text/plain": [
              "special_tokens_map.json: 0.00B [00:00, ?B/s]"
            ],
            "application/vnd.jupyter.widget-view+json": {
              "version_major": 2,
              "version_minor": 0,
              "model_id": "4e201a13d941472ca0982d0a52d2af3a"
            }
          },
          "metadata": {}
        },
        {
          "output_type": "display_data",
          "data": {
            "text/plain": [
              "tokenizer.json: 0.00B [00:00, ?B/s]"
            ],
            "application/vnd.jupyter.widget-view+json": {
              "version_major": 2,
              "version_minor": 0,
              "model_id": "65a6c44b99d14864afce99e9d8a21891"
            }
          },
          "metadata": {}
        },
        {
          "output_type": "stream",
          "name": "stderr",
          "text": [
            "You are using the default legacy behaviour of the <class 'transformers.models.t5.tokenization_t5.T5Tokenizer'>. This is expected, and simply means that the `legacy` (previous) behavior will be used so nothing changes for you. If you want to use the new behaviour, set `legacy=False`. This should only be set if you understand what it means, and thoroughly read the reason why this was added as explained in https://github.com/huggingface/transformers/pull/24565\n"
          ]
        }
      ],
      "source": [
        "model_name = \"google/flan-t5-large\"\n",
        "tokenizer = T5Tokenizer.from_pretrained(model_name)\n",
        "\n",
        "# Create datasets\n",
        "train_dataset = TweetDataset(train_df, tokenizer)\n",
        "val_dataset = TweetDataset(val_df, tokenizer)"
      ]
    },
    {
      "cell_type": "markdown",
      "source": [
        "## Load **flan-t5-large** Model 🤖\n"
      ],
      "metadata": {
        "id": "dfAxBWmnkjp5"
      }
    },
    {
      "cell_type": "code",
      "execution_count": null,
      "metadata": {
        "colab": {
          "base_uri": "https://localhost:8080/",
          "height": 383,
          "referenced_widgets": [
            "3ab7a6828c2342349e075cbe051d0313",
            "08ab8bcf970d406ea0eccedd6bda8b42",
            "b29bf98b5bf042318b2c600160c43973",
            "1986afbf6faf43a9907c6d4110975772",
            "c8560f431f4c45169dc78a2093bc4eb6",
            "23715a10700c4212ad693acfd789d2a7",
            "f42b423aa81a42a8ad34f257c575a767",
            "0d794e54de8748e7acd8f22e07ebbc7d",
            "d3e0149f35d9400c8e2f4120af3bb6ef",
            "724023981fa347cd9b64a52a23c41ccd",
            "4c61c52a8a3045e989df3e1a3dc0c487",
            "986210a879874d8abcae8896bbaf1616",
            "a5b9046dfca24134bdb0ecb6c4670cdd",
            "9a9fb0934d434d99b09901c497a762e6",
            "8b20d47e6f504e7f9c22e0072a2f6078",
            "36feca0952a0487caecad4ea34fea204",
            "661b441b2a60428191106770b9ed74fd",
            "02c6e966644740978a146ea8b48f7ba7",
            "947533c6f21c4b69a56f0ba467d3050d",
            "769386ab842a48abb93250fa2f58a237",
            "da08803ce73047be8288746c35f35b66",
            "20086326641b4172a21d096994952c0f",
            "5bef7e508dbb477ca354e9dfc3d46ce4",
            "bc4c92a68feb49229f2adca09cdc67c6",
            "959231d8219941b8b143c12da11f9eaf",
            "40840eb218bc4ff3af699b000e6d6fdf",
            "26516f60cc49441087e443ecb90c7094",
            "21180c8983714ea7a24e1f7ff973b397",
            "a4d4e587d2714678994e818260bd6b2a",
            "e9f166f7450b4aba873816f09f500196",
            "cd05b99920914aa7af3e4cb32c0c3336",
            "8664d9fc5bcf449baf9e544198335bec",
            "924799ea16a94d47984fca58826fae0b",
            "99d7ac369ad941bb80850aab561fa58d",
            "67e988ff745e4b1f8b226b94876ac9f7",
            "8dbddfeacc294ea7b86977703a888788",
            "fafc905902fe4a1c8be10efd3ccead6e",
            "03c9a6628193420eb419d1853625a31e",
            "9306697a602e41fc957d8aa12499c02d",
            "eeee88a2184e44239e02d57b8cda8dae",
            "62dbe5294b2947cb9b621ef68f896acb",
            "a6620d6dbc3a437b8d933d027a45975f",
            "26e9e8e8fbb54f9c883684b47785079e",
            "326fb77550934a44a376d0e53e5a69e6",
            "ce777457567243eea0ac99fcb34092e7",
            "551487cc6d4341cda5f178da6c720fab",
            "f656f1d6131947899ae90d60a944b797",
            "c74ef387936f4da68389b2888c231aa5",
            "b20e11c3752a4bdca077472ac8baa5c4",
            "face31ab70f043e8b508a8e668e0bfb3",
            "5055aae092bb42c785f66a7aaa44b57c",
            "5c8483822d2143d1b5fa5355889e659d",
            "55caab0cf4e54652a1270e85ab67ab6d",
            "f9982bcbdfd4461ca09041db73879d97",
            "96b99b2a9c6648d090cd4800c158bfc4",
            "9a1973812c9e4b1783b2b54ff2c29985",
            "be4e8bfe28d64615a4fb81b7b8dd8f0b",
            "11b298cb71184bffa3d7226808c6a725",
            "958c6f9a12284871877a9a52a1a589e7",
            "7b2d62cdc0ab419b827443cef5020c43",
            "3f2ac40b81244bd2b47e4a677c59a01d",
            "8a820067320e4bfb98768806a33294dc",
            "97cb6003446d4de6a69e628e91f45417",
            "3cb3193cb0554caba782d5ffdf8c78f2",
            "972022c6f0454b63993595c6426d1eaa",
            "2e83f3fa6f2e4996b5e4732e4a4feb8d",
            "e23f6cad1efb49819f53fd26b81e6355",
            "cb7f72eeb2d847fbab7efb6a41eab8a4",
            "86cf0862e0aa4ddd95844025b343492f",
            "08129d18836d451b8339db1d39514c77",
            "dfa44673e326484d8bf9a35dbb62398b",
            "d26f108fdde743b49624c8b261c7d3e5",
            "1af92a7859c34e339bfc7984f4f1a5e3",
            "d4d2188e8cb3428d93b561e3d028ef79",
            "ff7b6497bf2b4e15a6ccdaf51613c2b3",
            "bd921eed1bfe4042b82badc358a2d0e6",
            "d89b30cedf4c4233b397716310835a5e"
          ]
        },
        "id": "H088bdAZxJiQ",
        "outputId": "81cd8c88-4e17-4d41-be30-d69705a4f2b6"
      },
      "outputs": [
        {
          "output_type": "stream",
          "name": "stderr",
          "text": [
            "/usr/local/lib/python3.11/dist-packages/huggingface_hub/utils/_auth.py:94: UserWarning: \n",
            "The secret `HF_TOKEN` does not exist in your Colab secrets.\n",
            "To authenticate with the Hugging Face Hub, create a token in your settings tab (https://huggingface.co/settings/tokens), set it as secret in your Google Colab and restart your session.\n",
            "You will be able to reuse this secret in all of your notebooks.\n",
            "Please note that authentication is recommended but still optional to access public models or datasets.\n",
            "  warnings.warn(\n"
          ]
        },
        {
          "output_type": "display_data",
          "data": {
            "text/plain": [
              "tokenizer_config.json: 0.00B [00:00, ?B/s]"
            ],
            "application/vnd.jupyter.widget-view+json": {
              "version_major": 2,
              "version_minor": 0,
              "model_id": "3ab7a6828c2342349e075cbe051d0313"
            }
          },
          "metadata": {}
        },
        {
          "output_type": "display_data",
          "data": {
            "text/plain": [
              "spiece.model:   0%|          | 0.00/792k [00:00<?, ?B/s]"
            ],
            "application/vnd.jupyter.widget-view+json": {
              "version_major": 2,
              "version_minor": 0,
              "model_id": "986210a879874d8abcae8896bbaf1616"
            }
          },
          "metadata": {}
        },
        {
          "output_type": "display_data",
          "data": {
            "text/plain": [
              "special_tokens_map.json: 0.00B [00:00, ?B/s]"
            ],
            "application/vnd.jupyter.widget-view+json": {
              "version_major": 2,
              "version_minor": 0,
              "model_id": "5bef7e508dbb477ca354e9dfc3d46ce4"
            }
          },
          "metadata": {}
        },
        {
          "output_type": "display_data",
          "data": {
            "text/plain": [
              "tokenizer.json: 0.00B [00:00, ?B/s]"
            ],
            "application/vnd.jupyter.widget-view+json": {
              "version_major": 2,
              "version_minor": 0,
              "model_id": "99d7ac369ad941bb80850aab561fa58d"
            }
          },
          "metadata": {}
        },
        {
          "output_type": "stream",
          "name": "stderr",
          "text": [
            "You are using the default legacy behaviour of the <class 'transformers.models.t5.tokenization_t5.T5Tokenizer'>. This is expected, and simply means that the `legacy` (previous) behavior will be used so nothing changes for you. If you want to use the new behaviour, set `legacy=False`. This should only be set if you understand what it means, and thoroughly read the reason why this was added as explained in https://github.com/huggingface/transformers/pull/24565\n"
          ]
        },
        {
          "output_type": "display_data",
          "data": {
            "text/plain": [
              "config.json:   0%|          | 0.00/662 [00:00<?, ?B/s]"
            ],
            "application/vnd.jupyter.widget-view+json": {
              "version_major": 2,
              "version_minor": 0,
              "model_id": "ce777457567243eea0ac99fcb34092e7"
            }
          },
          "metadata": {}
        },
        {
          "output_type": "display_data",
          "data": {
            "text/plain": [
              "model.safetensors:   0%|          | 0.00/3.13G [00:00<?, ?B/s]"
            ],
            "application/vnd.jupyter.widget-view+json": {
              "version_major": 2,
              "version_minor": 0,
              "model_id": "9a1973812c9e4b1783b2b54ff2c29985"
            }
          },
          "metadata": {}
        },
        {
          "output_type": "display_data",
          "data": {
            "text/plain": [
              "generation_config.json:   0%|          | 0.00/147 [00:00<?, ?B/s]"
            ],
            "application/vnd.jupyter.widget-view+json": {
              "version_major": 2,
              "version_minor": 0,
              "model_id": "e23f6cad1efb49819f53fd26b81e6355"
            }
          },
          "metadata": {}
        }
      ],
      "source": [
        "model = T5ForConditionalGeneration.from_pretrained(model_name)"
      ]
    },
    {
      "cell_type": "code",
      "execution_count": null,
      "metadata": {
        "colab": {
          "base_uri": "https://localhost:8080/"
        },
        "id": "NdhddA2hxKzq",
        "outputId": "68332b90-6ce4-490f-d90d-de91bd7734ad"
      },
      "outputs": [
        {
          "output_type": "execute_result",
          "data": {
            "text/plain": [
              "T5ForConditionalGeneration(\n",
              "  (shared): Embedding(32128, 1024)\n",
              "  (encoder): T5Stack(\n",
              "    (embed_tokens): Embedding(32128, 1024)\n",
              "    (block): ModuleList(\n",
              "      (0): T5Block(\n",
              "        (layer): ModuleList(\n",
              "          (0): T5LayerSelfAttention(\n",
              "            (SelfAttention): T5Attention(\n",
              "              (q): Linear(in_features=1024, out_features=1024, bias=False)\n",
              "              (k): Linear(in_features=1024, out_features=1024, bias=False)\n",
              "              (v): Linear(in_features=1024, out_features=1024, bias=False)\n",
              "              (o): Linear(in_features=1024, out_features=1024, bias=False)\n",
              "              (relative_attention_bias): Embedding(32, 16)\n",
              "            )\n",
              "            (layer_norm): T5LayerNorm()\n",
              "            (dropout): Dropout(p=0.1, inplace=False)\n",
              "          )\n",
              "          (1): T5LayerFF(\n",
              "            (DenseReluDense): T5DenseGatedActDense(\n",
              "              (wi_0): Linear(in_features=1024, out_features=2816, bias=False)\n",
              "              (wi_1): Linear(in_features=1024, out_features=2816, bias=False)\n",
              "              (wo): Linear(in_features=2816, out_features=1024, bias=False)\n",
              "              (dropout): Dropout(p=0.1, inplace=False)\n",
              "              (act): NewGELUActivation()\n",
              "            )\n",
              "            (layer_norm): T5LayerNorm()\n",
              "            (dropout): Dropout(p=0.1, inplace=False)\n",
              "          )\n",
              "        )\n",
              "      )\n",
              "      (1-23): 23 x T5Block(\n",
              "        (layer): ModuleList(\n",
              "          (0): T5LayerSelfAttention(\n",
              "            (SelfAttention): T5Attention(\n",
              "              (q): Linear(in_features=1024, out_features=1024, bias=False)\n",
              "              (k): Linear(in_features=1024, out_features=1024, bias=False)\n",
              "              (v): Linear(in_features=1024, out_features=1024, bias=False)\n",
              "              (o): Linear(in_features=1024, out_features=1024, bias=False)\n",
              "            )\n",
              "            (layer_norm): T5LayerNorm()\n",
              "            (dropout): Dropout(p=0.1, inplace=False)\n",
              "          )\n",
              "          (1): T5LayerFF(\n",
              "            (DenseReluDense): T5DenseGatedActDense(\n",
              "              (wi_0): Linear(in_features=1024, out_features=2816, bias=False)\n",
              "              (wi_1): Linear(in_features=1024, out_features=2816, bias=False)\n",
              "              (wo): Linear(in_features=2816, out_features=1024, bias=False)\n",
              "              (dropout): Dropout(p=0.1, inplace=False)\n",
              "              (act): NewGELUActivation()\n",
              "            )\n",
              "            (layer_norm): T5LayerNorm()\n",
              "            (dropout): Dropout(p=0.1, inplace=False)\n",
              "          )\n",
              "        )\n",
              "      )\n",
              "    )\n",
              "    (final_layer_norm): T5LayerNorm()\n",
              "    (dropout): Dropout(p=0.1, inplace=False)\n",
              "  )\n",
              "  (decoder): T5Stack(\n",
              "    (embed_tokens): Embedding(32128, 1024)\n",
              "    (block): ModuleList(\n",
              "      (0): T5Block(\n",
              "        (layer): ModuleList(\n",
              "          (0): T5LayerSelfAttention(\n",
              "            (SelfAttention): T5Attention(\n",
              "              (q): Linear(in_features=1024, out_features=1024, bias=False)\n",
              "              (k): Linear(in_features=1024, out_features=1024, bias=False)\n",
              "              (v): Linear(in_features=1024, out_features=1024, bias=False)\n",
              "              (o): Linear(in_features=1024, out_features=1024, bias=False)\n",
              "              (relative_attention_bias): Embedding(32, 16)\n",
              "            )\n",
              "            (layer_norm): T5LayerNorm()\n",
              "            (dropout): Dropout(p=0.1, inplace=False)\n",
              "          )\n",
              "          (1): T5LayerCrossAttention(\n",
              "            (EncDecAttention): T5Attention(\n",
              "              (q): Linear(in_features=1024, out_features=1024, bias=False)\n",
              "              (k): Linear(in_features=1024, out_features=1024, bias=False)\n",
              "              (v): Linear(in_features=1024, out_features=1024, bias=False)\n",
              "              (o): Linear(in_features=1024, out_features=1024, bias=False)\n",
              "            )\n",
              "            (layer_norm): T5LayerNorm()\n",
              "            (dropout): Dropout(p=0.1, inplace=False)\n",
              "          )\n",
              "          (2): T5LayerFF(\n",
              "            (DenseReluDense): T5DenseGatedActDense(\n",
              "              (wi_0): Linear(in_features=1024, out_features=2816, bias=False)\n",
              "              (wi_1): Linear(in_features=1024, out_features=2816, bias=False)\n",
              "              (wo): Linear(in_features=2816, out_features=1024, bias=False)\n",
              "              (dropout): Dropout(p=0.1, inplace=False)\n",
              "              (act): NewGELUActivation()\n",
              "            )\n",
              "            (layer_norm): T5LayerNorm()\n",
              "            (dropout): Dropout(p=0.1, inplace=False)\n",
              "          )\n",
              "        )\n",
              "      )\n",
              "      (1-23): 23 x T5Block(\n",
              "        (layer): ModuleList(\n",
              "          (0): T5LayerSelfAttention(\n",
              "            (SelfAttention): T5Attention(\n",
              "              (q): Linear(in_features=1024, out_features=1024, bias=False)\n",
              "              (k): Linear(in_features=1024, out_features=1024, bias=False)\n",
              "              (v): Linear(in_features=1024, out_features=1024, bias=False)\n",
              "              (o): Linear(in_features=1024, out_features=1024, bias=False)\n",
              "            )\n",
              "            (layer_norm): T5LayerNorm()\n",
              "            (dropout): Dropout(p=0.1, inplace=False)\n",
              "          )\n",
              "          (1): T5LayerCrossAttention(\n",
              "            (EncDecAttention): T5Attention(\n",
              "              (q): Linear(in_features=1024, out_features=1024, bias=False)\n",
              "              (k): Linear(in_features=1024, out_features=1024, bias=False)\n",
              "              (v): Linear(in_features=1024, out_features=1024, bias=False)\n",
              "              (o): Linear(in_features=1024, out_features=1024, bias=False)\n",
              "            )\n",
              "            (layer_norm): T5LayerNorm()\n",
              "            (dropout): Dropout(p=0.1, inplace=False)\n",
              "          )\n",
              "          (2): T5LayerFF(\n",
              "            (DenseReluDense): T5DenseGatedActDense(\n",
              "              (wi_0): Linear(in_features=1024, out_features=2816, bias=False)\n",
              "              (wi_1): Linear(in_features=1024, out_features=2816, bias=False)\n",
              "              (wo): Linear(in_features=2816, out_features=1024, bias=False)\n",
              "              (dropout): Dropout(p=0.1, inplace=False)\n",
              "              (act): NewGELUActivation()\n",
              "            )\n",
              "            (layer_norm): T5LayerNorm()\n",
              "            (dropout): Dropout(p=0.1, inplace=False)\n",
              "          )\n",
              "        )\n",
              "      )\n",
              "    )\n",
              "    (final_layer_norm): T5LayerNorm()\n",
              "    (dropout): Dropout(p=0.1, inplace=False)\n",
              "  )\n",
              "  (lm_head): Linear(in_features=1024, out_features=32128, bias=False)\n",
              ")"
            ]
          },
          "metadata": {},
          "execution_count": 8
        }
      ],
      "source": [
        "import torch\n",
        "device = torch.device(\"cuda\" if torch.cuda.is_available() else \"cpu\")\n",
        "model.to(device)"
      ]
    },
    {
      "cell_type": "markdown",
      "source": [
        "## Custom Metrics for F1-score\n"
      ],
      "metadata": {
        "id": "B3c-BQvEk7FI"
      }
    },
    {
      "cell_type": "code",
      "execution_count": null,
      "metadata": {
        "id": "SAAskbSDxaFQ"
      },
      "outputs": [],
      "source": [
        "from sklearn.metrics import f1_score\n",
        "\n",
        "def compute_metrics(eval_pred):\n",
        "  # f1 = f1_score(labels, preds, average='weighted')\n",
        "  # return {\"f1\": f1}\n",
        "\n",
        "    predictions, labels = eval_pred\n",
        "    # print(\"labels : \\n\")\n",
        "    # print(labels)\n",
        "    # print(\"preds: \\n\")\n",
        "    # print(predictions)\n",
        "    # If labels or predictions are list of lists, flatten them at one level\n",
        "\n",
        "    if isinstance(predictions, tuple):\n",
        "        predictions = predictions[0]\n",
        "    if len(predictions.shape) == 3:\n",
        "        # Convert logits to token IDs by taking argmax along vocabulary dimension\n",
        "        predictions = np.argmax(predictions, axis=-1)\n",
        "    # Decode predictions\n",
        "    pred_str = tokenizer.batch_decode(predictions, skip_special_tokens=True)\n",
        "\n",
        "    # Some models use -100 to mask label tokens; replace with pad_token_id before decoding\n",
        "    labels = np.where(np.array(labels) != -100, labels, tokenizer.pad_token_id)\n",
        "\n",
        "    # Decode labels\n",
        "    label_str = tokenizer.batch_decode(labels, skip_special_tokens=True)\n",
        "\n",
        "    # Strip whitespace\n",
        "    pred_str = [p.strip() for p in pred_str]\n",
        "    label_str = [l.strip() for l in label_str]\n",
        "\n",
        "    print(\"Predictions:\", pred_str)\n",
        "    print(\"Labels:\", label_str)\n",
        "    # Compute F1\n",
        "    f1 = {\"f1\": f1_score(label_str, pred_str, average=\"weighted\")}\n",
        "    print(\"F1 Score:\", f1)\n",
        "    return f1"
      ]
    },
    {
      "cell_type": "markdown",
      "source": [
        "# Training"
      ],
      "metadata": {
        "id": "Lls4eawSl5Z5"
      }
    },
    {
      "cell_type": "markdown",
      "source": [
        "## Training Hyperparameters ⚙️"
      ],
      "metadata": {
        "id": "TjgXi0DKlp8F"
      }
    },
    {
      "cell_type": "code",
      "execution_count": null,
      "metadata": {
        "colab": {
          "base_uri": "https://localhost:8080/"
        },
        "id": "l22CNgGixez1",
        "outputId": "10ae1955-7497-4f6a-c42e-c35a3437820d"
      },
      "outputs": [
        {
          "output_type": "stream",
          "name": "stderr",
          "text": [
            "/tmp/ipython-input-21-1387027251.py:17: FutureWarning: `tokenizer` is deprecated and will be removed in version 5.0.0 for `Trainer.__init__`. Use `processing_class` instead.\n",
            "  trainer = Trainer(\n"
          ]
        }
      ],
      "source": [
        "training_args = TrainingArguments(\n",
        "    output_dir=\"./results\",\n",
        "    learning_rate=5e-5,\n",
        "    per_device_train_batch_size=2,\n",
        "    per_device_eval_batch_size=2,\n",
        "    num_train_epochs=2,\n",
        "    weight_decay=0.01,\n",
        "    logging_steps=10,\n",
        "    push_to_hub=False,\n",
        "    report_to=\"none\",\n",
        "    eval_strategy=\"epoch\",\n",
        "    save_strategy=\"epoch\",\n",
        "    gradient_accumulation_steps=8,\n",
        ")\n",
        "\n",
        "\n",
        "trainer = Trainer(\n",
        "    model=model,\n",
        "    args=training_args,\n",
        "    train_dataset=train_dataset,      # use your actual train_dataset\n",
        "    eval_dataset=val_dataset, # use your actual val_dataset\n",
        "    tokenizer=tokenizer,\n",
        "    compute_metrics=compute_metrics,\n",
        ")"
      ]
    },
    {
      "cell_type": "markdown",
      "source": [
        "## Start training"
      ],
      "metadata": {
        "id": "Abk5fa45l3s0"
      }
    },
    {
      "cell_type": "code",
      "execution_count": null,
      "metadata": {
        "colab": {
          "base_uri": "https://localhost:8080/",
          "height": 382
        },
        "id": "Pcx5WXmHzue-",
        "outputId": "891ceece-38c0-44aa-9f95-a8a8b5c20bce"
      },
      "outputs": [
        {
          "output_type": "stream",
          "name": "stderr",
          "text": [
            "Passing a tuple of `past_key_values` is deprecated and will be removed in Transformers v4.48.0. You should pass an instance of `EncoderDecoderCache` instead, e.g. `past_key_values=EncoderDecoderCache.from_legacy_cache(past_key_values)`.\n"
          ]
        },
        {
          "output_type": "display_data",
          "data": {
            "text/plain": [
              "<IPython.core.display.HTML object>"
            ],
            "text/html": [
              "\n",
              "    <div>\n",
              "      \n",
              "      <progress value='2' max='576' style='width:300px; height:20px; vertical-align: middle;'></progress>\n",
              "      [  2/576 : < :, Epoch 0.00/2]\n",
              "    </div>\n",
              "    <table border=\"1\" class=\"dataframe\">\n",
              "  <thead>\n",
              " <tr style=\"text-align: left;\">\n",
              "      <th>Epoch</th>\n",
              "      <th>Training Loss</th>\n",
              "      <th>Validation Loss</th>\n",
              "    </tr>\n",
              "  </thead>\n",
              "  <tbody>\n",
              "  </tbody>\n",
              "</table><p>"
            ]
          },
          "metadata": {}
        },
        {
          "output_type": "error",
          "ename": "KeyboardInterrupt",
          "evalue": "",
          "traceback": [
            "\u001b[0;31m---------------------------------------------------------------------------\u001b[0m",
            "\u001b[0;31mKeyboardInterrupt\u001b[0m                         Traceback (most recent call last)",
            "\u001b[0;32m/tmp/ipython-input-22-4032920361.py\u001b[0m in \u001b[0;36m<cell line: 0>\u001b[0;34m()\u001b[0m\n\u001b[0;32m----> 1\u001b[0;31m \u001b[0mtrainer\u001b[0m\u001b[0;34m.\u001b[0m\u001b[0mtrain\u001b[0m\u001b[0;34m(\u001b[0m\u001b[0;34m)\u001b[0m\u001b[0;34m\u001b[0m\u001b[0;34m\u001b[0m\u001b[0m\n\u001b[0m",
            "\u001b[0;32m/usr/local/lib/python3.11/dist-packages/transformers/trainer.py\u001b[0m in \u001b[0;36mtrain\u001b[0;34m(self, resume_from_checkpoint, trial, ignore_keys_for_eval, **kwargs)\u001b[0m\n\u001b[1;32m   2204\u001b[0m                 \u001b[0mhf_hub_utils\u001b[0m\u001b[0;34m.\u001b[0m\u001b[0menable_progress_bars\u001b[0m\u001b[0;34m(\u001b[0m\u001b[0;34m)\u001b[0m\u001b[0;34m\u001b[0m\u001b[0;34m\u001b[0m\u001b[0m\n\u001b[1;32m   2205\u001b[0m         \u001b[0;32melse\u001b[0m\u001b[0;34m:\u001b[0m\u001b[0;34m\u001b[0m\u001b[0;34m\u001b[0m\u001b[0m\n\u001b[0;32m-> 2206\u001b[0;31m             return inner_training_loop(\n\u001b[0m\u001b[1;32m   2207\u001b[0m                 \u001b[0margs\u001b[0m\u001b[0;34m=\u001b[0m\u001b[0margs\u001b[0m\u001b[0;34m,\u001b[0m\u001b[0;34m\u001b[0m\u001b[0;34m\u001b[0m\u001b[0m\n\u001b[1;32m   2208\u001b[0m                 \u001b[0mresume_from_checkpoint\u001b[0m\u001b[0;34m=\u001b[0m\u001b[0mresume_from_checkpoint\u001b[0m\u001b[0;34m,\u001b[0m\u001b[0;34m\u001b[0m\u001b[0;34m\u001b[0m\u001b[0m\n",
            "\u001b[0;32m/usr/local/lib/python3.11/dist-packages/transformers/trainer.py\u001b[0m in \u001b[0;36m_inner_training_loop\u001b[0;34m(self, batch_size, args, resume_from_checkpoint, trial, ignore_keys_for_eval)\u001b[0m\n\u001b[1;32m   2546\u001b[0m                     )\n\u001b[1;32m   2547\u001b[0m                     \u001b[0;32mwith\u001b[0m \u001b[0mcontext\u001b[0m\u001b[0;34m(\u001b[0m\u001b[0;34m)\u001b[0m\u001b[0;34m:\u001b[0m\u001b[0;34m\u001b[0m\u001b[0;34m\u001b[0m\u001b[0m\n\u001b[0;32m-> 2548\u001b[0;31m                         \u001b[0mtr_loss_step\u001b[0m \u001b[0;34m=\u001b[0m \u001b[0mself\u001b[0m\u001b[0;34m.\u001b[0m\u001b[0mtraining_step\u001b[0m\u001b[0;34m(\u001b[0m\u001b[0mmodel\u001b[0m\u001b[0;34m,\u001b[0m \u001b[0minputs\u001b[0m\u001b[0;34m,\u001b[0m \u001b[0mnum_items_in_batch\u001b[0m\u001b[0;34m)\u001b[0m\u001b[0;34m\u001b[0m\u001b[0;34m\u001b[0m\u001b[0m\n\u001b[0m\u001b[1;32m   2549\u001b[0m \u001b[0;34m\u001b[0m\u001b[0m\n\u001b[1;32m   2550\u001b[0m                     if (\n",
            "\u001b[0;32m/usr/local/lib/python3.11/dist-packages/transformers/trainer.py\u001b[0m in \u001b[0;36mtraining_step\u001b[0;34m(***failed resolving arguments***)\u001b[0m\n\u001b[1;32m   3795\u001b[0m                 \u001b[0mkwargs\u001b[0m\u001b[0;34m[\u001b[0m\u001b[0;34m\"scale_wrt_gas\"\u001b[0m\u001b[0;34m]\u001b[0m \u001b[0;34m=\u001b[0m \u001b[0;32mFalse\u001b[0m\u001b[0;34m\u001b[0m\u001b[0;34m\u001b[0m\u001b[0m\n\u001b[1;32m   3796\u001b[0m \u001b[0;34m\u001b[0m\u001b[0m\n\u001b[0;32m-> 3797\u001b[0;31m             \u001b[0mself\u001b[0m\u001b[0;34m.\u001b[0m\u001b[0maccelerator\u001b[0m\u001b[0;34m.\u001b[0m\u001b[0mbackward\u001b[0m\u001b[0;34m(\u001b[0m\u001b[0mloss\u001b[0m\u001b[0;34m,\u001b[0m \u001b[0;34m**\u001b[0m\u001b[0mkwargs\u001b[0m\u001b[0;34m)\u001b[0m\u001b[0;34m\u001b[0m\u001b[0;34m\u001b[0m\u001b[0m\n\u001b[0m\u001b[1;32m   3798\u001b[0m \u001b[0;34m\u001b[0m\u001b[0m\n\u001b[1;32m   3799\u001b[0m             \u001b[0;32mreturn\u001b[0m \u001b[0mloss\u001b[0m\u001b[0;34m.\u001b[0m\u001b[0mdetach\u001b[0m\u001b[0;34m(\u001b[0m\u001b[0;34m)\u001b[0m\u001b[0;34m\u001b[0m\u001b[0;34m\u001b[0m\u001b[0m\n",
            "\u001b[0;32m/usr/local/lib/python3.11/dist-packages/accelerate/accelerator.py\u001b[0m in \u001b[0;36mbackward\u001b[0;34m(self, loss, **kwargs)\u001b[0m\n\u001b[1;32m   2576\u001b[0m             \u001b[0mself\u001b[0m\u001b[0;34m.\u001b[0m\u001b[0mlomo_backward\u001b[0m\u001b[0;34m(\u001b[0m\u001b[0mloss\u001b[0m\u001b[0;34m,\u001b[0m \u001b[0mlearning_rate\u001b[0m\u001b[0;34m)\u001b[0m\u001b[0;34m\u001b[0m\u001b[0;34m\u001b[0m\u001b[0m\n\u001b[1;32m   2577\u001b[0m         \u001b[0;32melse\u001b[0m\u001b[0;34m:\u001b[0m\u001b[0;34m\u001b[0m\u001b[0;34m\u001b[0m\u001b[0m\n\u001b[0;32m-> 2578\u001b[0;31m             \u001b[0mloss\u001b[0m\u001b[0;34m.\u001b[0m\u001b[0mbackward\u001b[0m\u001b[0;34m(\u001b[0m\u001b[0;34m**\u001b[0m\u001b[0mkwargs\u001b[0m\u001b[0;34m)\u001b[0m\u001b[0;34m\u001b[0m\u001b[0;34m\u001b[0m\u001b[0m\n\u001b[0m\u001b[1;32m   2579\u001b[0m \u001b[0;34m\u001b[0m\u001b[0m\n\u001b[1;32m   2580\u001b[0m     \u001b[0;32mdef\u001b[0m \u001b[0mset_trigger\u001b[0m\u001b[0;34m(\u001b[0m\u001b[0mself\u001b[0m\u001b[0;34m)\u001b[0m\u001b[0;34m:\u001b[0m\u001b[0;34m\u001b[0m\u001b[0;34m\u001b[0m\u001b[0m\n",
            "\u001b[0;32m/usr/local/lib/python3.11/dist-packages/torch/_tensor.py\u001b[0m in \u001b[0;36mbackward\u001b[0;34m(self, gradient, retain_graph, create_graph, inputs)\u001b[0m\n\u001b[1;32m    624\u001b[0m                 \u001b[0minputs\u001b[0m\u001b[0;34m=\u001b[0m\u001b[0minputs\u001b[0m\u001b[0;34m,\u001b[0m\u001b[0;34m\u001b[0m\u001b[0;34m\u001b[0m\u001b[0m\n\u001b[1;32m    625\u001b[0m             )\n\u001b[0;32m--> 626\u001b[0;31m         torch.autograd.backward(\n\u001b[0m\u001b[1;32m    627\u001b[0m             \u001b[0mself\u001b[0m\u001b[0;34m,\u001b[0m \u001b[0mgradient\u001b[0m\u001b[0;34m,\u001b[0m \u001b[0mretain_graph\u001b[0m\u001b[0;34m,\u001b[0m \u001b[0mcreate_graph\u001b[0m\u001b[0;34m,\u001b[0m \u001b[0minputs\u001b[0m\u001b[0;34m=\u001b[0m\u001b[0minputs\u001b[0m\u001b[0;34m\u001b[0m\u001b[0;34m\u001b[0m\u001b[0m\n\u001b[1;32m    628\u001b[0m         )\n",
            "\u001b[0;32m/usr/local/lib/python3.11/dist-packages/torch/autograd/__init__.py\u001b[0m in \u001b[0;36mbackward\u001b[0;34m(tensors, grad_tensors, retain_graph, create_graph, grad_variables, inputs)\u001b[0m\n\u001b[1;32m    345\u001b[0m     \u001b[0;31m# some Python versions print out the first line of a multi-line function\u001b[0m\u001b[0;34m\u001b[0m\u001b[0;34m\u001b[0m\u001b[0m\n\u001b[1;32m    346\u001b[0m     \u001b[0;31m# calls in the traceback and some print out the last line\u001b[0m\u001b[0;34m\u001b[0m\u001b[0;34m\u001b[0m\u001b[0m\n\u001b[0;32m--> 347\u001b[0;31m     _engine_run_backward(\n\u001b[0m\u001b[1;32m    348\u001b[0m         \u001b[0mtensors\u001b[0m\u001b[0;34m,\u001b[0m\u001b[0;34m\u001b[0m\u001b[0;34m\u001b[0m\u001b[0m\n\u001b[1;32m    349\u001b[0m         \u001b[0mgrad_tensors_\u001b[0m\u001b[0;34m,\u001b[0m\u001b[0;34m\u001b[0m\u001b[0;34m\u001b[0m\u001b[0m\n",
            "\u001b[0;32m/usr/local/lib/python3.11/dist-packages/torch/autograd/graph.py\u001b[0m in \u001b[0;36m_engine_run_backward\u001b[0;34m(t_outputs, *args, **kwargs)\u001b[0m\n\u001b[1;32m    821\u001b[0m         \u001b[0munregister_hooks\u001b[0m \u001b[0;34m=\u001b[0m \u001b[0m_register_logging_hooks_on_whole_graph\u001b[0m\u001b[0;34m(\u001b[0m\u001b[0mt_outputs\u001b[0m\u001b[0;34m)\u001b[0m\u001b[0;34m\u001b[0m\u001b[0;34m\u001b[0m\u001b[0m\n\u001b[1;32m    822\u001b[0m     \u001b[0;32mtry\u001b[0m\u001b[0;34m:\u001b[0m\u001b[0;34m\u001b[0m\u001b[0;34m\u001b[0m\u001b[0m\n\u001b[0;32m--> 823\u001b[0;31m         return Variable._execution_engine.run_backward(  # Calls into the C++ engine to run the backward pass\n\u001b[0m\u001b[1;32m    824\u001b[0m             \u001b[0mt_outputs\u001b[0m\u001b[0;34m,\u001b[0m \u001b[0;34m*\u001b[0m\u001b[0margs\u001b[0m\u001b[0;34m,\u001b[0m \u001b[0;34m**\u001b[0m\u001b[0mkwargs\u001b[0m\u001b[0;34m\u001b[0m\u001b[0;34m\u001b[0m\u001b[0m\n\u001b[1;32m    825\u001b[0m         )  # Calls into the C++ engine to run the backward pass\n",
            "\u001b[0;31mKeyboardInterrupt\u001b[0m: "
          ]
        }
      ],
      "source": [
        "trainer.train()"
      ]
    },
    {
      "cell_type": "markdown",
      "source": [
        "### Saving model for evaluation"
      ],
      "metadata": {
        "id": "UcKYs59QmEbC"
      }
    },
    {
      "cell_type": "code",
      "execution_count": null,
      "metadata": {
        "id": "ZOhEC1V27Hsa"
      },
      "outputs": [],
      "source": [
        "trainer.save_model(\"./results/version_1/\")"
      ]
    },
    {
      "cell_type": "code",
      "execution_count": null,
      "metadata": {
        "id": "8nPxbUlT5kCU"
      },
      "outputs": [],
      "source": [
        "fine_tuned_model_1 = T5ForConditionalGeneration.from_pretrained(\"./results/version_1\")"
      ]
    },
    {
      "cell_type": "code",
      "execution_count": null,
      "metadata": {
        "colab": {
          "base_uri": "https://localhost:8080/"
        },
        "id": "9kOPIPCRVdve",
        "outputId": "28415375-f571-4262-f80b-774273222cdc"
      },
      "outputs": [
        {
          "data": {
            "text/plain": [
              "T5ForConditionalGeneration(\n",
              "  (shared): Embedding(32128, 1024)\n",
              "  (encoder): T5Stack(\n",
              "    (embed_tokens): Embedding(32128, 1024)\n",
              "    (block): ModuleList(\n",
              "      (0): T5Block(\n",
              "        (layer): ModuleList(\n",
              "          (0): T5LayerSelfAttention(\n",
              "            (SelfAttention): T5Attention(\n",
              "              (q): Linear(in_features=1024, out_features=1024, bias=False)\n",
              "              (k): Linear(in_features=1024, out_features=1024, bias=False)\n",
              "              (v): Linear(in_features=1024, out_features=1024, bias=False)\n",
              "              (o): Linear(in_features=1024, out_features=1024, bias=False)\n",
              "              (relative_attention_bias): Embedding(32, 16)\n",
              "            )\n",
              "            (layer_norm): T5LayerNorm()\n",
              "            (dropout): Dropout(p=0.1, inplace=False)\n",
              "          )\n",
              "          (1): T5LayerFF(\n",
              "            (DenseReluDense): T5DenseGatedActDense(\n",
              "              (wi_0): Linear(in_features=1024, out_features=2816, bias=False)\n",
              "              (wi_1): Linear(in_features=1024, out_features=2816, bias=False)\n",
              "              (wo): Linear(in_features=2816, out_features=1024, bias=False)\n",
              "              (dropout): Dropout(p=0.1, inplace=False)\n",
              "              (act): NewGELUActivation()\n",
              "            )\n",
              "            (layer_norm): T5LayerNorm()\n",
              "            (dropout): Dropout(p=0.1, inplace=False)\n",
              "          )\n",
              "        )\n",
              "      )\n",
              "      (1-23): 23 x T5Block(\n",
              "        (layer): ModuleList(\n",
              "          (0): T5LayerSelfAttention(\n",
              "            (SelfAttention): T5Attention(\n",
              "              (q): Linear(in_features=1024, out_features=1024, bias=False)\n",
              "              (k): Linear(in_features=1024, out_features=1024, bias=False)\n",
              "              (v): Linear(in_features=1024, out_features=1024, bias=False)\n",
              "              (o): Linear(in_features=1024, out_features=1024, bias=False)\n",
              "            )\n",
              "            (layer_norm): T5LayerNorm()\n",
              "            (dropout): Dropout(p=0.1, inplace=False)\n",
              "          )\n",
              "          (1): T5LayerFF(\n",
              "            (DenseReluDense): T5DenseGatedActDense(\n",
              "              (wi_0): Linear(in_features=1024, out_features=2816, bias=False)\n",
              "              (wi_1): Linear(in_features=1024, out_features=2816, bias=False)\n",
              "              (wo): Linear(in_features=2816, out_features=1024, bias=False)\n",
              "              (dropout): Dropout(p=0.1, inplace=False)\n",
              "              (act): NewGELUActivation()\n",
              "            )\n",
              "            (layer_norm): T5LayerNorm()\n",
              "            (dropout): Dropout(p=0.1, inplace=False)\n",
              "          )\n",
              "        )\n",
              "      )\n",
              "    )\n",
              "    (final_layer_norm): T5LayerNorm()\n",
              "    (dropout): Dropout(p=0.1, inplace=False)\n",
              "  )\n",
              "  (decoder): T5Stack(\n",
              "    (embed_tokens): Embedding(32128, 1024)\n",
              "    (block): ModuleList(\n",
              "      (0): T5Block(\n",
              "        (layer): ModuleList(\n",
              "          (0): T5LayerSelfAttention(\n",
              "            (SelfAttention): T5Attention(\n",
              "              (q): Linear(in_features=1024, out_features=1024, bias=False)\n",
              "              (k): Linear(in_features=1024, out_features=1024, bias=False)\n",
              "              (v): Linear(in_features=1024, out_features=1024, bias=False)\n",
              "              (o): Linear(in_features=1024, out_features=1024, bias=False)\n",
              "              (relative_attention_bias): Embedding(32, 16)\n",
              "            )\n",
              "            (layer_norm): T5LayerNorm()\n",
              "            (dropout): Dropout(p=0.1, inplace=False)\n",
              "          )\n",
              "          (1): T5LayerCrossAttention(\n",
              "            (EncDecAttention): T5Attention(\n",
              "              (q): Linear(in_features=1024, out_features=1024, bias=False)\n",
              "              (k): Linear(in_features=1024, out_features=1024, bias=False)\n",
              "              (v): Linear(in_features=1024, out_features=1024, bias=False)\n",
              "              (o): Linear(in_features=1024, out_features=1024, bias=False)\n",
              "            )\n",
              "            (layer_norm): T5LayerNorm()\n",
              "            (dropout): Dropout(p=0.1, inplace=False)\n",
              "          )\n",
              "          (2): T5LayerFF(\n",
              "            (DenseReluDense): T5DenseGatedActDense(\n",
              "              (wi_0): Linear(in_features=1024, out_features=2816, bias=False)\n",
              "              (wi_1): Linear(in_features=1024, out_features=2816, bias=False)\n",
              "              (wo): Linear(in_features=2816, out_features=1024, bias=False)\n",
              "              (dropout): Dropout(p=0.1, inplace=False)\n",
              "              (act): NewGELUActivation()\n",
              "            )\n",
              "            (layer_norm): T5LayerNorm()\n",
              "            (dropout): Dropout(p=0.1, inplace=False)\n",
              "          )\n",
              "        )\n",
              "      )\n",
              "      (1-23): 23 x T5Block(\n",
              "        (layer): ModuleList(\n",
              "          (0): T5LayerSelfAttention(\n",
              "            (SelfAttention): T5Attention(\n",
              "              (q): Linear(in_features=1024, out_features=1024, bias=False)\n",
              "              (k): Linear(in_features=1024, out_features=1024, bias=False)\n",
              "              (v): Linear(in_features=1024, out_features=1024, bias=False)\n",
              "              (o): Linear(in_features=1024, out_features=1024, bias=False)\n",
              "            )\n",
              "            (layer_norm): T5LayerNorm()\n",
              "            (dropout): Dropout(p=0.1, inplace=False)\n",
              "          )\n",
              "          (1): T5LayerCrossAttention(\n",
              "            (EncDecAttention): T5Attention(\n",
              "              (q): Linear(in_features=1024, out_features=1024, bias=False)\n",
              "              (k): Linear(in_features=1024, out_features=1024, bias=False)\n",
              "              (v): Linear(in_features=1024, out_features=1024, bias=False)\n",
              "              (o): Linear(in_features=1024, out_features=1024, bias=False)\n",
              "            )\n",
              "            (layer_norm): T5LayerNorm()\n",
              "            (dropout): Dropout(p=0.1, inplace=False)\n",
              "          )\n",
              "          (2): T5LayerFF(\n",
              "            (DenseReluDense): T5DenseGatedActDense(\n",
              "              (wi_0): Linear(in_features=1024, out_features=2816, bias=False)\n",
              "              (wi_1): Linear(in_features=1024, out_features=2816, bias=False)\n",
              "              (wo): Linear(in_features=2816, out_features=1024, bias=False)\n",
              "              (dropout): Dropout(p=0.1, inplace=False)\n",
              "              (act): NewGELUActivation()\n",
              "            )\n",
              "            (layer_norm): T5LayerNorm()\n",
              "            (dropout): Dropout(p=0.1, inplace=False)\n",
              "          )\n",
              "        )\n",
              "      )\n",
              "    )\n",
              "    (final_layer_norm): T5LayerNorm()\n",
              "    (dropout): Dropout(p=0.1, inplace=False)\n",
              "  )\n",
              "  (lm_head): Linear(in_features=1024, out_features=32128, bias=False)\n",
              ")"
            ]
          },
          "execution_count": 22,
          "metadata": {},
          "output_type": "execute_result"
        }
      ],
      "source": [
        "fine_tuned_model_1.to(device)"
      ]
    },
    {
      "cell_type": "markdown",
      "source": [
        "### Function for generating Model Predictions and Calculating F1 Score 📈"
      ],
      "metadata": {
        "id": "vlgN3hCPmZ2B"
      }
    },
    {
      "cell_type": "code",
      "execution_count": null,
      "metadata": {
        "id": "qedFAU-QU4TC"
      },
      "outputs": [],
      "source": [
        "def evaluate_with_generate(model, dataset, tokenizer):\n",
        "    model.eval()\n",
        "    predictions = []\n",
        "    references = []\n",
        "\n",
        "    # Use tqdm for progress bar\n",
        "    for i in tqdm(range(len(dataset)), desc=\"Generating predictions\"):\n",
        "        # Get input from dataset\n",
        "        inputs = dataset[i]\n",
        "        input_ids = inputs[\"input_ids\"].unsqueeze(0).to(device)\n",
        "        attention_mask = inputs[\"attention_mask\"].unsqueeze(0).to(device)\n",
        "\n",
        "        # Generate prediction\n",
        "        with torch.no_grad():\n",
        "            output = model.generate(\n",
        "                input_ids=input_ids,\n",
        "                attention_mask=attention_mask,\n",
        "                max_length=10\n",
        "            )\n",
        "\n",
        "        # Decode prediction and reference\n",
        "        pred_text = tokenizer.decode(output[0], skip_special_tokens=True).strip()\n",
        "        label_ids = inputs[\"labels\"]\n",
        "        # Replace -100 with pad token id\n",
        "        label_ids = torch.where(label_ids != -100, label_ids, tokenizer.pad_token_id)\n",
        "        ref_text = tokenizer.decode(label_ids, skip_special_tokens=True).strip()\n",
        "\n",
        "        predictions.append(pred_text)\n",
        "        references.append(ref_text)\n",
        "\n",
        "    # Calculate F1 score\n",
        "    f1 = f1_score(references, predictions, average=\"weighted\")\n",
        "\n",
        "    print(\"Sample predictions:\")\n",
        "    for i in range(min(5, len(predictions))):\n",
        "        print(f\"Pred: {predictions[i]} | Ref: {references[i]}\")\n",
        "\n",
        "    print(f\"F1 Score: {f1:.4f}\")\n",
        "    return f1, predictions, references"
      ]
    },
    {
      "cell_type": "markdown",
      "source": [
        "#### Calculating f1_score using the fine-tuned model"
      ],
      "metadata": {
        "id": "nnraFb4jmoke"
      }
    },
    {
      "cell_type": "code",
      "execution_count": null,
      "metadata": {
        "colab": {
          "background_save": true,
          "base_uri": "https://localhost:8080/"
        },
        "id": "HVnOw57ihklf",
        "outputId": "f97cbe48-172d-4842-be69-c9a4b34ad050"
      },
      "outputs": [
        {
          "name": "stderr",
          "output_type": "stream",
          "text": [
            "Generating predictions: 100%|██████████| 1151/1151 [04:05<00:00,  4.70it/s]"
          ]
        },
        {
          "name": "stdout",
          "output_type": "stream",
          "text": [
            "Sample predictions:\n",
            "Pred: in-favor | Ref: in-favor\n",
            "Pred: in-favor | Ref: against\n",
            "Pred: in-favor | Ref: in-favor\n",
            "Pred: neutral-or-unclear | Ref: in-favor\n",
            "Pred: in-favor | Ref: in-favor\n",
            "F1 Score: 0.7085\n"
          ]
        },
        {
          "name": "stderr",
          "output_type": "stream",
          "text": [
            "\n"
          ]
        }
      ],
      "source": [
        "f1_new, preds_new, refs_new = evaluate_with_generate(fine_tuned_model_1, val_dataset, tokenizer)"
      ]
    },
    {
      "cell_type": "markdown",
      "source": [
        "### Tweaking Hyperparameters ⚙️"
      ],
      "metadata": {
        "id": "k_yvgz4FnzDa"
      }
    },
    {
      "cell_type": "code",
      "execution_count": null,
      "metadata": {
        "id": "QyUBLBFcwKjX",
        "colab": {
          "base_uri": "https://localhost:8080/",
          "height": 211
        },
        "outputId": "e943021f-259a-4451-f1bb-ba8274cc1a2b"
      },
      "outputs": [
        {
          "output_type": "error",
          "ename": "NameError",
          "evalue": "name 'model' is not defined",
          "traceback": [
            "\u001b[0;31m---------------------------------------------------------------------------\u001b[0m",
            "\u001b[0;31mNameError\u001b[0m                                 Traceback (most recent call last)",
            "\u001b[0;32m/tmp/ipython-input-13-3174995352.py\u001b[0m in \u001b[0;36m<cell line: 0>\u001b[0;34m()\u001b[0m\n\u001b[1;32m      4\u001b[0m \u001b[0;32mfrom\u001b[0m \u001b[0mtransformers\u001b[0m \u001b[0;32mimport\u001b[0m \u001b[0mDataCollatorForSeq2Seq\u001b[0m\u001b[0;34m\u001b[0m\u001b[0;34m\u001b[0m\u001b[0m\n\u001b[1;32m      5\u001b[0m \u001b[0;34m\u001b[0m\u001b[0m\n\u001b[0;32m----> 6\u001b[0;31m \u001b[0mdata_collator\u001b[0m \u001b[0;34m=\u001b[0m \u001b[0mDataCollatorForSeq2Seq\u001b[0m\u001b[0;34m(\u001b[0m\u001b[0mtokenizer\u001b[0m\u001b[0;34m,\u001b[0m \u001b[0mmodel\u001b[0m\u001b[0;34m=\u001b[0m\u001b[0mmodel\u001b[0m\u001b[0;34m)\u001b[0m\u001b[0;34m\u001b[0m\u001b[0;34m\u001b[0m\u001b[0m\n\u001b[0m\u001b[1;32m      7\u001b[0m \u001b[0;34m\u001b[0m\u001b[0m\n\u001b[1;32m      8\u001b[0m training_args = Seq2SeqTrainingArguments(\n",
            "\u001b[0;31mNameError\u001b[0m: name 'model' is not defined"
          ]
        }
      ],
      "source": [
        "from transformers import EarlyStoppingCallback\n",
        "from transformers import Seq2SeqTrainer, Seq2SeqTrainingArguments\n",
        "\n",
        "from transformers import DataCollatorForSeq2Seq\n",
        "\n",
        "data_collator = DataCollatorForSeq2Seq(tokenizer, model=model)\n",
        "\n",
        "training_args = Seq2SeqTrainingArguments(\n",
        "    output_dir=\"./version_2/\",\n",
        "    learning_rate=3e-5,\n",
        "    per_device_train_batch_size=2,\n",
        "    per_device_eval_batch_size=2,\n",
        "    num_train_epochs=5,\n",
        "    weight_decay=0.01,\n",
        "    logging_steps=10,\n",
        "    push_to_hub=False,\n",
        "    report_to=\"none\",\n",
        "    eval_strategy=\"epoch\",\n",
        "    save_strategy=\"epoch\",\n",
        "    gradient_accumulation_steps=8,\n",
        "    metric_for_best_model=\"f1\",\n",
        "    load_best_model_at_end=True,\n",
        "    greater_is_better=True,\n",
        "    label_smoothing_factor=0.1\n",
        "\n",
        ")\n",
        "\n",
        "\n",
        "trainer = Seq2SeqTrainer(\n",
        "    model=model,\n",
        "    args=training_args,\n",
        "    train_dataset=train_dataset,\n",
        "    eval_dataset=val_dataset,\n",
        "    tokenizer=tokenizer,\n",
        "    data_collator=data_collator,\n",
        "    compute_metrics=compute_metrics,\n",
        "    callbacks=[EarlyStoppingCallback(early_stopping_patience=2)]\n",
        ")"
      ]
    },
    {
      "cell_type": "code",
      "execution_count": null,
      "metadata": {
        "id": "EfOpg2zWwPxS",
        "colab": {
          "base_uri": "https://localhost:8080/",
          "height": 565
        },
        "outputId": "666dce6d-e519-44dd-d646-455065f6fe27"
      },
      "outputs": [
        {
          "output_type": "display_data",
          "data": {
            "text/plain": [
              "<IPython.core.display.HTML object>"
            ],
            "text/html": [
              "\n",
              "    <div>\n",
              "      \n",
              "      <progress value='1440' max='1440' style='width:300px; height:20px; vertical-align: middle;'></progress>\n",
              "      [1440/1440 1:13:26, Epoch 5/5]\n",
              "    </div>\n",
              "    <table border=\"1\" class=\"dataframe\">\n",
              "  <thead>\n",
              " <tr style=\"text-align: left;\">\n",
              "      <th>Epoch</th>\n",
              "      <th>Training Loss</th>\n",
              "      <th>Validation Loss</th>\n",
              "      <th>F1</th>\n",
              "    </tr>\n",
              "  </thead>\n",
              "  <tbody>\n",
              "    <tr>\n",
              "      <td>1</td>\n",
              "      <td>1.776500</td>\n",
              "      <td>1.753529</td>\n",
              "      <td>0.727942</td>\n",
              "    </tr>\n",
              "    <tr>\n",
              "      <td>2</td>\n",
              "      <td>1.605800</td>\n",
              "      <td>1.579291</td>\n",
              "      <td>0.761100</td>\n",
              "    </tr>\n",
              "    <tr>\n",
              "      <td>3</td>\n",
              "      <td>1.550000</td>\n",
              "      <td>1.530837</td>\n",
              "      <td>0.822320</td>\n",
              "    </tr>\n",
              "    <tr>\n",
              "      <td>4</td>\n",
              "      <td>1.534000</td>\n",
              "      <td>1.512304</td>\n",
              "      <td>0.838774</td>\n",
              "    </tr>\n",
              "    <tr>\n",
              "      <td>5</td>\n",
              "      <td>1.444600</td>\n",
              "      <td>1.505037</td>\n",
              "      <td>0.845100</td>\n",
              "    </tr>\n",
              "  </tbody>\n",
              "</table><p>"
            ]
          },
          "metadata": {}
        },
        {
          "output_type": "stream",
          "name": "stdout",
          "text": [
            "Predictions: ['in-favor', 'in', 'in-favor', 'against-favor', 'in-favor', 'in-favor', 'in-or-unclear', 'in', 'in-favor', 'in-favor', 'in-favor', 'against', 'against', 'in-favor', 'against', 'in-favor', 'in-favor', 'in-favor', 'in-favor', 'against-favor', 'against-or-unclear', 'in-favor', 'against-favor', 'in-favor', 'in-favor', 'in-or-unclear', 'in-favor', 'against', 'against', 'against', 'in-favor', 'against-favor', 'in-favor', 'in-favor', 'against-favor', 'in-favor', 'against-favor', 'against', 'in-favor', 'in-favor', 'in-favor', 'in-favor', 'against', 'in-or-unclear', 'in', 'against-or-unclear', 'in-or-unclear', 'against-or-unclear', 'in', 'in-or-unclear', 'against-favor', 'in-favor', 'in-favor', 'in', 'in-favor', 'in-favor', 'in-favor', 'in-favor', 'in-favor', 'against-or-unclear', 'against', 'in', 'against', 'against-or-unclear', 'against', 'in-favor', 'in-favor', 'in-favor', 'against', 'against', 'in-favor', 'in', 'against-favor', 'against', 'against-or-unclear', 'in', 'against', 'in', 'in', 'against', 'against-or-unclear', 'in-favor', 'in-favor', 'in-favor', 'in-or-unclear', 'against', 'in-or-unclear', 'in-favor', 'in-favor', 'against-or-unclear', 'in-or-unclear', 'in-favor', 'against', 'against-or-unclear', 'against', 'against-favor', 'in-favor', 'against', 'against-favor', 'in-favor', 'in', 'in-favor', 'in-favor', 'against', 'against', 'against', 'against', 'against-favor', 'in-favor', 'against', 'against-or-unclear', 'in-or-unclear', 'against', 'in-favor', 'in-favor', 'against', 'in-or-unclear', 'in-or-unclear', 'against-or-unclear', 'in-favor', 'in-or-unclear', 'in-favor', 'in-favor', 'against-favor', 'in-favor', 'against-or-unclear', 'against', 'in-or-unclear', 'against-favor', 'in', 'against', 'against', 'against-favor', 'in-favor', 'in-favor', 'against-or-unclear', 'against-or-unclear', 'in', 'in-or-unclear', 'against', 'in-or-unclear', 'against', 'in-favor', 'in-favor', 'in-or-unclear', 'in-favor', 'in-favor', 'against', 'in-favor', 'in-favor', 'in-favor', 'in-favor', 'in-favor', 'against-favor', 'against-or-unclear', 'in-favor', 'in-favor', 'against', 'in-favor', 'in-favor', 'in-favor', 'in-favor', 'in-favor', 'against', 'against-favor', 'in-favor', 'in-favor', 'in-favor', 'in-favor', 'in-favor', 'in', 'against-or-unclear', 'in-favor', 'in-or-unclear', 'in-favor', 'in-favor', 'against', 'against', 'in-favor', 'in-favor', 'in', 'in-favor', 'in-favor', 'against', 'in-or-unclear', 'against-or-unclear', 'against', 'against-or-unclear', 'against', 'in-favor', 'in-favor', 'against-or-unclear', 'against', 'in-favor', 'against-favor', 'against-favor', 'against-or-unclear', 'in-favor', 'in-favor', 'in-favor', 'against-favor', 'against-favor', 'against', 'in-or-unclear', 'in-favor', 'against-or-unclear', 'in-favor', 'against-favor', 'in-favor', 'in-favor', 'against-or-unclear', 'in-or-unclear', 'in', 'against-favor', 'in', 'against', 'in-or-unclear', 'against-or-unclear', 'in-favor', 'against-or-unclear', 'against-favor', 'in-favor', 'against', 'in-favor', 'against', 'against', 'against', 'in-favor', 'against', 'in', 'in-favor', 'against', 'against-favor', 'in-favor', 'in-favor', 'against', 'against', 'in-favor', 'against-or-unclear', 'against-favor', 'against', 'against', 'in-favor', 'in-favor', 'against-or-unclear', 'against-or-unclear', 'against', 'against', 'against', 'against-favor', 'in-or-unclear', 'in-favor', 'against', 'in-favor', 'in-or-unclear', 'in-favor', 'in-favor', 'in-favor', 'in-or-unclear', 'against-favor', 'in', 'in-or-unclear', 'in-favor', 'in-favor', 'against-or-unclear', 'in-or-unclear', 'against', 'against', 'in-favor', 'in-favor', 'in-favor', 'in-favor', 'in-favor', 'against-favor', 'in-favor', 'in-favor', 'against-or-unclear', 'in', 'against', 'against-favor', 'in-favor', 'against', 'against', 'against-or-unclear', 'in', 'in-favor', 'in-or-unclear', 'in-favor', 'in-favor', 'against', 'in-favor', 'in-favor', 'against', 'against', 'against', 'in-favor', 'against', 'in-favor', 'in', 'against', 'in-favor', 'against-or-unclear', 'against', 'against', 'against', 'in-favor', 'against', 'in-favor', 'in-favor', 'in-favor', 'in-or-unclear', 'against', 'against-or-unclear', 'in-favor', 'in', 'in-favor', 'against', 'against-or-unclear', 'in-favor', 'in-favor', 'in-favor', 'in-or-unclear', 'against', 'against', 'against-favor', 'against-favor', 'in-or-unclear', 'in-favor', 'in-favor', 'against', 'in-favor', 'in-favor', 'against-favor', 'against-favor', 'against-or-unclear', 'in-favor', 'against', 'in-favor', 'in-or-unclear', 'against-or-unclear', 'in-favor', 'in-favor', 'against', 'in-favor', 'against', 'in-or-unclear', 'in-favor', 'in-favor', 'against', 'in-favor', 'in-favor', 'in-favor', 'against', 'in-favor', 'in-favor', 'in', 'in-favor', 'against', 'in-favor', 'in-favor', 'in-favor', 'in-favor', 'against-or-unclear', 'in', 'against', 'in-favor', 'in-favor', 'in-or-unclear', 'against-or-unclear', 'against', 'in-favor', 'against', 'in-or-unclear', 'in-favor', 'against-or-unclear', 'against-or-unclear', 'in-favor', 'against-favor', 'in-favor', 'against-favor', 'against', 'against', 'against', 'in-favor', 'in-favor', 'against-favor', 'in-favor', 'against-or-unclear', 'in', 'in-favor', 'in', 'in', 'against', 'against', 'in-favor', 'in-favor', 'in-favor', 'against-or-unclear', 'against', 'in', 'against-favor', 'in-favor', 'against', 'in-or-unclear', 'in-favor', 'in-or-unclear', 'against-or-unclear', 'in-favor', 'against', 'in-favor', 'in-favor', 'in-or-unclear', 'in-or-unclear', 'against-favor', 'against', 'in-favor', 'against', 'against', 'against', 'against-or-unclear', 'in-or-unclear', 'in-favor', 'against', 'in-favor', 'against-favor', 'in-or-unclear', 'in-or-unclear', 'in-favor', 'against-or-unclear', 'in-favor', 'against-or-unclear', 'in-favor', 'against', 'against-or-unclear', 'against', 'in-favor', 'in-favor', 'in-or-unclear', 'against-or-unclear', 'in-favor', 'in-favor', 'in-favor', 'against-favor', 'in-favor', 'in', 'in-favor', 'in-favor', 'against-or-unclear', 'in-favor', 'against-or-unclear', 'in-favor', 'in-favor', 'against', 'against', 'in-favor', 'in-favor', 'against-favor', 'in-favor', 'in-favor', 'against', 'in-or-unclear', 'against', 'against-favor', 'in-favor', 'in-favor', 'in-favor', 'against', 'against', 'in-favor', 'in-favor', 'in-favor', 'in-favor', 'against', 'against', 'against', 'against', 'in-favor', 'against', 'against-or-unclear', 'against-or-unclear', 'in-favor', 'in-favor', 'in-favor', 'against', 'against-favor', 'against-or-unclear', 'in-or-unclear', 'in-favor', 'in-favor', 'in-favor', 'in-favor', 'against', 'in', 'against', 'against', 'in-or-unclear', 'in-favor', 'in-favor', 'in', 'against', 'against-or-unclear', 'against', 'against-favor', 'against-or-unclear', 'in-favor', 'against-or-unclear', 'against', 'in-favor', 'in-favor', 'against', 'against', 'in-favor', 'in-or-unclear', 'against', 'against', 'in-favor', 'in-or-unclear', 'against-favor', 'in-or-unclear', 'in-favor', 'against-favor', 'in-favor', 'against-favor', 'in-favor', 'in-favor', 'against', 'in-favor', 'against', 'in-favor', 'in-or-unclear', 'in-favor', 'against', 'against-favor', 'in-or-unclear', 'against', 'in', 'in-or-unclear', 'in-favor', 'against-or-unclear', 'against', 'in-favor', 'against', 'against-favor', 'in', 'in-favor', 'against-or-unclear', 'against', 'in-favor', 'in-favor', 'against-or-unclear', 'in-favor', 'against', 'in-favor', 'in-favor', 'against', 'against-favor', 'in-favor', 'against-or-unclear', 'in-favor', 'in-favor', 'in-favor', 'against-favor', 'in-favor', 'in-favor', 'against-favor', 'in-favor', 'against', 'in', 'against-favor', 'against-favor', 'in-favor', 'in-favor', 'against-favor', 'against-or-unclear', 'in', 'against', 'in-favor', 'in-favor', 'against', 'in-or-unclear', 'in-or-unclear', 'against-favor', 'in-favor', 'against-or-unclear', 'in-favor', 'in-favor', 'in-or-unclear', 'in-favor', 'against-or-unclear', 'in-favor', 'in-favor', 'against-or-unclear', 'against', 'in-favor', 'in-favor', 'against', 'in', 'in-favor', 'in-or-unclear', 'against-favor', 'in-favor', 'against-or-unclear', 'against', 'against-favor', 'in-favor', 'in', 'against', 'against', 'against', 'against-favor', 'against-or-unclear', 'against', 'against', 'against', 'against', 'in-or-unclear', 'in-favor', 'against', 'against', 'in-favor', 'in-or-unclear', 'in-favor', 'against-favor', 'against', 'against-or-unclear', 'against', 'against-or-unclear', 'in-favor', 'against', 'in-favor', 'in-favor', 'against', 'against', 'in', 'in-or-unclear', 'in-favor', 'against-favor', 'in-or-unclear', 'against', 'against', 'in-or-unclear', 'against', 'in-favor', 'in-favor', 'against', 'against', 'against', 'in-or-unclear', 'against-favor', 'against', 'against', 'against-or-unclear', 'against', 'against', 'in-or-unclear', 'in-favor', 'in-favor', 'against-or-unclear', 'against', 'in-or-unclear', 'against-or-unclear', 'in-favor', 'against', 'against-or-unclear', 'in-favor', 'against', 'against-favor', 'against-favor', 'against-or-unclear', 'against-favor', 'in-favor', 'against-favor', 'in-favor', 'in-favor', 'in-or-unclear', 'in-favor', 'against', 'in-favor', 'in', 'against', 'in-favor', 'in-favor', 'in-favor', 'in-favor', 'against', 'in-favor', 'against', 'in-favor', 'in-favor', 'against', 'against-or-unclear', 'in-favor', 'against-favor', 'against-favor', 'in-favor', 'in-favor', 'against', 'against-or-unclear', 'against', 'against-or-unclear', 'against', 'against', 'in-favor', 'in-favor', 'in-or-unclear', 'in-favor', 'against-favor', 'against-or-unclear', 'against-or-unclear', 'against', 'against', 'in', 'in', 'in-favor', 'against-favor', 'against', 'against', 'against', 'in-favor', 'against-favor', 'in-favor', 'against', 'in-favor', 'against', 'against', 'against', 'in-favor', 'in-favor', 'against', 'against', 'in', 'in-or-unclear', 'against-or-unclear', 'in-favor', 'in-or-unclear', 'against', 'against', 'in-favor', 'against', 'against', 'in-favor', 'in-favor', 'in-favor', 'in-favor', 'in-favor', 'against', 'in-favor', 'against', 'in-favor', 'against', 'in-or-unclear', 'against-or-unclear', 'against', 'in-favor', 'in-favor', 'in-favor', 'against', 'against-favor', 'in-or-unclear', 'against-or-unclear', 'against', 'against', 'in-favor', 'in-favor', 'against-or-unclear', 'in-favor', 'against', 'in-favor', 'in', 'in-favor', 'in-favor', 'in-favor', 'against-or-unclear', 'against', 'in-favor', 'in-favor', 'against', 'against', 'against-or-unclear', 'against-or-unclear', 'against-or-unclear', 'in-favor', 'in-favor', 'against', 'in-or-unclear', 'against-favor', 'against', 'in-favor', 'in-favor', 'against', 'against-or-unclear', 'against', 'against-favor', 'against-favor', 'against', 'in-favor', 'against-favor', 'against', 'in-favor', 'in-favor', 'in-favor', 'in-favor', 'in-favor', 'in', 'in-favor', 'against-or-unclear', 'in', 'in-favor', 'in-favor', 'against-or-unclear', 'in-favor', 'in-or-unclear', 'in-or-unclear', 'against', 'in-favor', 'in-favor', 'in-favor', 'against', 'against', 'in-favor', 'against-or-unclear', 'against', 'against-or-unclear', 'against', 'against', 'in', 'in-favor', 'in-or-unclear', 'in-favor', 'in-or-unclear', 'in-favor', 'in-favor', 'against', 'in', 'against', 'in-favor', 'against', 'against', 'in-favor', 'in-favor', 'in', 'against', 'in-or-unclear', 'against-or-unclear', 'against-or-unclear', 'against', 'in-favor', 'against-or-unclear', 'against', 'in-favor', 'against', 'in-favor', 'against-or-unclear', 'in-favor', 'against', 'in-favor', 'against', 'in-favor', 'in-favor', 'against-favor', 'in-or-unclear', 'against', 'in-favor', 'against-or-unclear', 'in-favor', 'in-favor', 'in-favor', 'in-favor', 'in-favor', 'in', 'against-favor', 'in-favor', 'against-favor', 'in-favor', 'against-favor', 'in-favor', 'against', 'in-favor', 'in-favor', 'in-favor', 'against', 'against', 'in-favor', 'in-favor', 'in-favor', 'against-favor', 'in-favor', 'against-or-unclear', 'against', 'in-or-unclear', 'against-favor', 'in', 'against', 'in-favor', 'against', 'in', 'in-or-unclear', 'in-favor', 'in-favor', 'in-favor', 'in-favor', 'against-or-unclear', 'in-favor', 'against-favor', 'against', 'against-favor', 'in-favor', 'against-favor', 'against', 'against-favor', 'in-favor', 'against-or-unclear', 'in-favor', 'in-favor', 'in-favor', 'against-favor', 'in-or-unclear', 'in-favor', 'in-or-unclear', 'in-favor', 'against', 'in-favor', 'in-favor', 'in-favor', 'against', 'against', 'in-favor', 'in-favor', 'against-or-unclear', 'in-favor', 'in-favor', 'against', 'against', 'against-or-unclear', 'in-or-unclear', 'against', 'in-favor', 'in-favor', 'in-favor', 'in-or-unclear', 'against-or-unclear', 'against', 'in-favor', 'against', 'in-favor', 'against', 'in-favor', 'in-favor', 'in-favor', 'in-favor', 'in-favor', 'in-favor', 'in-or-unclear', 'in-favor', 'in-favor', 'in-favor', 'against', 'in-favor', 'in-favor', 'in-favor', 'against', 'against-or-unclear', 'in-or-unclear', 'in-favor', 'in-favor', 'in-favor', 'in', 'in-favor', 'against-or-unclear', 'in-favor', 'against-or-unclear', 'in-favor', 'against', 'in-favor', 'against-favor', 'against', 'in-favor', 'against', 'in-favor', 'in-favor', 'against', 'in-favor', 'against', 'in-or-unclear', 'in-or-unclear', 'in-favor', 'against', 'against', 'against-favor', 'against', 'in-favor', 'against', 'in', 'against-favor', 'in-favor', 'against', 'in-favor', 'in-favor', 'in-favor', 'in-favor', 'in-favor', 'against', 'in-or-unclear', 'in-favor', 'in-favor', 'in-favor', 'against-favor', 'in-favor', 'against', 'in-favor', 'against', 'against', 'against', 'against-or-unclear', 'against', 'against', 'against-favor', 'in-or-unclear', 'against', 'in', 'in-favor', 'in-favor', 'against', 'against', 'in-favor', 'in-favor', 'against', 'in-favor', 'against-favor', 'in-or-unclear', 'in-favor', 'in-favor', 'against-favor', 'in-favor', 'in-or-unclear', 'in-favor', 'against-favor', 'against-or-unclear', 'in', 'in-or-unclear', 'in-or-unclear', 'against', 'against', 'against', 'in', 'against-favor', 'against-favor', 'in-favor', 'in-favor', 'against-or-unclear', 'against-favor', 'in-favor', 'in-favor', 'in-favor', 'against', 'in-favor', 'in-favor', 'against', 'against-favor', 'in-favor', 'in-or-unclear', 'in-favor', 'in-favor', 'against-or-unclear', 'against-or-unclear', 'against', 'against-favor', 'in-favor', 'against', 'in-favor', 'in-or-unclear', 'against-favor', 'in-favor', 'in', 'against-or-unclear', 'against', 'against', 'against', 'in-favor', 'in', 'in-or-unclear', 'in-favor', 'in-favor', 'against', 'in-favor', 'in-favor', 'in-or-unclear', 'against', 'in-favor', 'in-or-unclear', 'against', 'against-or-unclear', 'in-favor', 'against', 'against-favor', 'in-favor', 'against-or-unclear', 'in-favor', 'in-or-unclear', 'against', 'in-favor', 'in-favor', 'in-favor', 'against-or-unclear', 'in-favor', 'against-favor', 'in-favor', 'against', 'against', 'against', 'in-favor', 'against-or-unclear', 'in-or-unclear', 'against', 'in-favor', 'against-favor', 'in-favor', 'against-or-unclear', 'in-favor', 'in-favor', 'against', 'against', 'in-or-unclear', 'in', 'against-favor', 'in-favor', 'against', 'against-favor', 'in-favor', 'in-favor', 'against', 'against-or-unclear', 'in-favor', 'in-favor', 'in-or-unclear', 'in-favor', 'against-favor', 'in-favor', 'against', 'in', 'in-or-unclear', 'in', 'in', 'in-favor', 'in-favor', 'in-favor', 'against', 'in-favor', 'in-or-unclear', 'against-favor', 'in-favor']\n",
            "Labels: ['in-favor', 'against', 'in-favor', 'in-favor', 'in-favor', 'in-favor', 'neutral-or-unclear', 'against', 'in-favor', 'in-favor', 'in-favor', 'against', 'against', 'in-favor', 'against', 'in-favor', 'in-favor', 'in-favor', 'in-favor', 'in-favor', 'neutral-or-unclear', 'in-favor', 'in-favor', 'in-favor', 'in-favor', 'neutral-or-unclear', 'in-favor', 'against', 'against', 'against', 'in-favor', 'in-favor', 'in-favor', 'in-favor', 'in-favor', 'in-favor', 'in-favor', 'against', 'in-favor', 'in-favor', 'in-favor', 'in-favor', 'against', 'neutral-or-unclear', 'against', 'neutral-or-unclear', 'neutral-or-unclear', 'neutral-or-unclear', 'against', 'neutral-or-unclear', 'in-favor', 'in-favor', 'in-favor', 'against', 'in-favor', 'in-favor', 'in-favor', 'in-favor', 'in-favor', 'neutral-or-unclear', 'against', 'against', 'against', 'neutral-or-unclear', 'against', 'in-favor', 'in-favor', 'in-favor', 'against', 'against', 'in-favor', 'against', 'in-favor', 'against', 'neutral-or-unclear', 'against', 'against', 'against', 'against', 'against', 'neutral-or-unclear', 'in-favor', 'in-favor', 'in-favor', 'neutral-or-unclear', 'against', 'neutral-or-unclear', 'in-favor', 'in-favor', 'neutral-or-unclear', 'neutral-or-unclear', 'in-favor', 'against', 'neutral-or-unclear', 'against', 'in-favor', 'in-favor', 'against', 'in-favor', 'in-favor', 'against', 'in-favor', 'in-favor', 'against', 'against', 'against', 'against', 'in-favor', 'in-favor', 'against', 'neutral-or-unclear', 'neutral-or-unclear', 'against', 'in-favor', 'in-favor', 'against', 'neutral-or-unclear', 'neutral-or-unclear', 'neutral-or-unclear', 'in-favor', 'neutral-or-unclear', 'in-favor', 'in-favor', 'in-favor', 'in-favor', 'neutral-or-unclear', 'against', 'neutral-or-unclear', 'in-favor', 'against', 'against', 'against', 'in-favor', 'in-favor', 'in-favor', 'neutral-or-unclear', 'neutral-or-unclear', 'against', 'neutral-or-unclear', 'against', 'neutral-or-unclear', 'against', 'in-favor', 'in-favor', 'neutral-or-unclear', 'in-favor', 'in-favor', 'against', 'in-favor', 'in-favor', 'in-favor', 'in-favor', 'in-favor', 'in-favor', 'neutral-or-unclear', 'in-favor', 'in-favor', 'against', 'in-favor', 'in-favor', 'in-favor', 'in-favor', 'in-favor', 'against', 'in-favor', 'in-favor', 'in-favor', 'in-favor', 'in-favor', 'in-favor', 'against', 'neutral-or-unclear', 'in-favor', 'neutral-or-unclear', 'in-favor', 'in-favor', 'against', 'against', 'in-favor', 'in-favor', 'against', 'in-favor', 'in-favor', 'against', 'neutral-or-unclear', 'neutral-or-unclear', 'against', 'neutral-or-unclear', 'against', 'in-favor', 'in-favor', 'neutral-or-unclear', 'against', 'in-favor', 'in-favor', 'in-favor', 'neutral-or-unclear', 'in-favor', 'in-favor', 'in-favor', 'in-favor', 'in-favor', 'against', 'neutral-or-unclear', 'in-favor', 'neutral-or-unclear', 'in-favor', 'in-favor', 'in-favor', 'in-favor', 'neutral-or-unclear', 'neutral-or-unclear', 'against', 'in-favor', 'against', 'against', 'neutral-or-unclear', 'neutral-or-unclear', 'in-favor', 'neutral-or-unclear', 'in-favor', 'in-favor', 'against', 'in-favor', 'against', 'against', 'against', 'in-favor', 'against', 'against', 'in-favor', 'against', 'in-favor', 'in-favor', 'in-favor', 'against', 'against', 'in-favor', 'neutral-or-unclear', 'in-favor', 'against', 'against', 'in-favor', 'in-favor', 'neutral-or-unclear', 'neutral-or-unclear', 'against', 'against', 'against', 'in-favor', 'neutral-or-unclear', 'in-favor', 'against', 'in-favor', 'neutral-or-unclear', 'in-favor', 'in-favor', 'in-favor', 'neutral-or-unclear', 'in-favor', 'against', 'neutral-or-unclear', 'in-favor', 'in-favor', 'neutral-or-unclear', 'neutral-or-unclear', 'against', 'against', 'in-favor', 'in-favor', 'in-favor', 'in-favor', 'in-favor', 'in-favor', 'in-favor', 'in-favor', 'neutral-or-unclear', 'against', 'against', 'in-favor', 'in-favor', 'against', 'against', 'neutral-or-unclear', 'against', 'in-favor', 'neutral-or-unclear', 'in-favor', 'in-favor', 'against', 'in-favor', 'in-favor', 'against', 'against', 'against', 'in-favor', 'against', 'in-favor', 'against', 'against', 'in-favor', 'neutral-or-unclear', 'against', 'against', 'against', 'in-favor', 'against', 'in-favor', 'in-favor', 'in-favor', 'neutral-or-unclear', 'against', 'neutral-or-unclear', 'in-favor', 'against', 'in-favor', 'against', 'neutral-or-unclear', 'in-favor', 'in-favor', 'in-favor', 'neutral-or-unclear', 'against', 'against', 'in-favor', 'in-favor', 'neutral-or-unclear', 'in-favor', 'in-favor', 'against', 'in-favor', 'in-favor', 'in-favor', 'in-favor', 'neutral-or-unclear', 'in-favor', 'against', 'in-favor', 'neutral-or-unclear', 'neutral-or-unclear', 'in-favor', 'in-favor', 'against', 'in-favor', 'against', 'neutral-or-unclear', 'in-favor', 'in-favor', 'against', 'in-favor', 'in-favor', 'in-favor', 'against', 'in-favor', 'in-favor', 'against', 'in-favor', 'against', 'in-favor', 'in-favor', 'in-favor', 'in-favor', 'neutral-or-unclear', 'against', 'against', 'in-favor', 'in-favor', 'neutral-or-unclear', 'neutral-or-unclear', 'against', 'in-favor', 'against', 'neutral-or-unclear', 'in-favor', 'neutral-or-unclear', 'neutral-or-unclear', 'in-favor', 'in-favor', 'in-favor', 'in-favor', 'against', 'against', 'against', 'in-favor', 'in-favor', 'in-favor', 'in-favor', 'neutral-or-unclear', 'against', 'in-favor', 'against', 'against', 'against', 'against', 'in-favor', 'in-favor', 'in-favor', 'neutral-or-unclear', 'against', 'against', 'in-favor', 'in-favor', 'against', 'neutral-or-unclear', 'in-favor', 'neutral-or-unclear', 'neutral-or-unclear', 'in-favor', 'against', 'in-favor', 'in-favor', 'neutral-or-unclear', 'neutral-or-unclear', 'in-favor', 'against', 'in-favor', 'against', 'against', 'against', 'neutral-or-unclear', 'neutral-or-unclear', 'in-favor', 'against', 'in-favor', 'in-favor', 'neutral-or-unclear', 'neutral-or-unclear', 'in-favor', 'neutral-or-unclear', 'in-favor', 'neutral-or-unclear', 'in-favor', 'against', 'neutral-or-unclear', 'against', 'in-favor', 'in-favor', 'neutral-or-unclear', 'neutral-or-unclear', 'in-favor', 'in-favor', 'in-favor', 'in-favor', 'in-favor', 'against', 'in-favor', 'in-favor', 'neutral-or-unclear', 'in-favor', 'neutral-or-unclear', 'in-favor', 'in-favor', 'against', 'against', 'in-favor', 'in-favor', 'in-favor', 'in-favor', 'in-favor', 'against', 'neutral-or-unclear', 'against', 'in-favor', 'in-favor', 'in-favor', 'in-favor', 'against', 'against', 'in-favor', 'in-favor', 'in-favor', 'in-favor', 'against', 'against', 'against', 'against', 'in-favor', 'against', 'neutral-or-unclear', 'neutral-or-unclear', 'in-favor', 'in-favor', 'in-favor', 'against', 'in-favor', 'neutral-or-unclear', 'neutral-or-unclear', 'in-favor', 'in-favor', 'in-favor', 'in-favor', 'against', 'against', 'against', 'against', 'neutral-or-unclear', 'in-favor', 'in-favor', 'against', 'against', 'neutral-or-unclear', 'against', 'in-favor', 'neutral-or-unclear', 'in-favor', 'neutral-or-unclear', 'against', 'in-favor', 'in-favor', 'against', 'against', 'in-favor', 'neutral-or-unclear', 'against', 'against', 'in-favor', 'neutral-or-unclear', 'in-favor', 'neutral-or-unclear', 'in-favor', 'in-favor', 'in-favor', 'in-favor', 'in-favor', 'in-favor', 'against', 'in-favor', 'against', 'in-favor', 'neutral-or-unclear', 'in-favor', 'against', 'in-favor', 'neutral-or-unclear', 'against', 'against', 'neutral-or-unclear', 'in-favor', 'neutral-or-unclear', 'against', 'in-favor', 'against', 'in-favor', 'against', 'in-favor', 'neutral-or-unclear', 'against', 'in-favor', 'in-favor', 'neutral-or-unclear', 'in-favor', 'against', 'in-favor', 'in-favor', 'against', 'in-favor', 'in-favor', 'neutral-or-unclear', 'in-favor', 'in-favor', 'in-favor', 'in-favor', 'in-favor', 'in-favor', 'in-favor', 'in-favor', 'against', 'against', 'in-favor', 'in-favor', 'in-favor', 'in-favor', 'in-favor', 'neutral-or-unclear', 'against', 'against', 'in-favor', 'in-favor', 'against', 'neutral-or-unclear', 'neutral-or-unclear', 'in-favor', 'in-favor', 'neutral-or-unclear', 'in-favor', 'in-favor', 'neutral-or-unclear', 'in-favor', 'neutral-or-unclear', 'in-favor', 'in-favor', 'neutral-or-unclear', 'against', 'in-favor', 'in-favor', 'against', 'against', 'in-favor', 'neutral-or-unclear', 'in-favor', 'in-favor', 'neutral-or-unclear', 'against', 'in-favor', 'in-favor', 'against', 'against', 'against', 'against', 'in-favor', 'neutral-or-unclear', 'against', 'against', 'against', 'against', 'neutral-or-unclear', 'in-favor', 'against', 'against', 'in-favor', 'neutral-or-unclear', 'in-favor', 'in-favor', 'against', 'neutral-or-unclear', 'against', 'neutral-or-unclear', 'in-favor', 'against', 'in-favor', 'in-favor', 'against', 'against', 'against', 'neutral-or-unclear', 'in-favor', 'in-favor', 'neutral-or-unclear', 'against', 'against', 'neutral-or-unclear', 'against', 'in-favor', 'in-favor', 'against', 'against', 'against', 'neutral-or-unclear', 'in-favor', 'against', 'against', 'neutral-or-unclear', 'against', 'against', 'neutral-or-unclear', 'in-favor', 'in-favor', 'neutral-or-unclear', 'against', 'neutral-or-unclear', 'neutral-or-unclear', 'in-favor', 'against', 'neutral-or-unclear', 'in-favor', 'against', 'in-favor', 'in-favor', 'neutral-or-unclear', 'in-favor', 'in-favor', 'in-favor', 'in-favor', 'in-favor', 'neutral-or-unclear', 'in-favor', 'against', 'in-favor', 'against', 'against', 'in-favor', 'in-favor', 'in-favor', 'in-favor', 'against', 'in-favor', 'against', 'in-favor', 'in-favor', 'against', 'neutral-or-unclear', 'in-favor', 'in-favor', 'in-favor', 'in-favor', 'in-favor', 'against', 'neutral-or-unclear', 'against', 'neutral-or-unclear', 'against', 'against', 'in-favor', 'in-favor', 'neutral-or-unclear', 'in-favor', 'in-favor', 'neutral-or-unclear', 'neutral-or-unclear', 'against', 'against', 'against', 'against', 'in-favor', 'in-favor', 'against', 'against', 'against', 'in-favor', 'in-favor', 'in-favor', 'against', 'in-favor', 'against', 'against', 'against', 'in-favor', 'in-favor', 'against', 'against', 'against', 'neutral-or-unclear', 'neutral-or-unclear', 'in-favor', 'neutral-or-unclear', 'against', 'against', 'in-favor', 'against', 'against', 'in-favor', 'in-favor', 'in-favor', 'in-favor', 'in-favor', 'against', 'in-favor', 'against', 'in-favor', 'against', 'neutral-or-unclear', 'neutral-or-unclear', 'against', 'in-favor', 'in-favor', 'in-favor', 'against', 'in-favor', 'neutral-or-unclear', 'neutral-or-unclear', 'against', 'against', 'in-favor', 'in-favor', 'neutral-or-unclear', 'in-favor', 'against', 'in-favor', 'against', 'in-favor', 'in-favor', 'in-favor', 'neutral-or-unclear', 'against', 'in-favor', 'in-favor', 'against', 'against', 'neutral-or-unclear', 'neutral-or-unclear', 'neutral-or-unclear', 'in-favor', 'in-favor', 'against', 'neutral-or-unclear', 'in-favor', 'against', 'in-favor', 'in-favor', 'against', 'neutral-or-unclear', 'against', 'in-favor', 'in-favor', 'against', 'in-favor', 'in-favor', 'against', 'in-favor', 'in-favor', 'in-favor', 'in-favor', 'in-favor', 'against', 'in-favor', 'neutral-or-unclear', 'against', 'in-favor', 'in-favor', 'neutral-or-unclear', 'in-favor', 'neutral-or-unclear', 'neutral-or-unclear', 'against', 'in-favor', 'in-favor', 'in-favor', 'against', 'against', 'in-favor', 'neutral-or-unclear', 'against', 'neutral-or-unclear', 'against', 'against', 'against', 'in-favor', 'neutral-or-unclear', 'in-favor', 'neutral-or-unclear', 'in-favor', 'in-favor', 'against', 'against', 'against', 'in-favor', 'against', 'against', 'in-favor', 'in-favor', 'against', 'against', 'neutral-or-unclear', 'neutral-or-unclear', 'neutral-or-unclear', 'against', 'in-favor', 'neutral-or-unclear', 'against', 'in-favor', 'against', 'in-favor', 'neutral-or-unclear', 'in-favor', 'against', 'in-favor', 'against', 'in-favor', 'in-favor', 'in-favor', 'neutral-or-unclear', 'against', 'in-favor', 'neutral-or-unclear', 'in-favor', 'in-favor', 'in-favor', 'in-favor', 'in-favor', 'against', 'in-favor', 'in-favor', 'in-favor', 'in-favor', 'in-favor', 'in-favor', 'against', 'in-favor', 'in-favor', 'in-favor', 'against', 'against', 'in-favor', 'in-favor', 'in-favor', 'in-favor', 'in-favor', 'neutral-or-unclear', 'against', 'neutral-or-unclear', 'in-favor', 'against', 'against', 'in-favor', 'against', 'against', 'neutral-or-unclear', 'in-favor', 'in-favor', 'in-favor', 'in-favor', 'neutral-or-unclear', 'in-favor', 'in-favor', 'against', 'in-favor', 'in-favor', 'in-favor', 'against', 'in-favor', 'in-favor', 'neutral-or-unclear', 'in-favor', 'in-favor', 'in-favor', 'in-favor', 'neutral-or-unclear', 'in-favor', 'neutral-or-unclear', 'in-favor', 'against', 'in-favor', 'in-favor', 'in-favor', 'against', 'against', 'in-favor', 'in-favor', 'neutral-or-unclear', 'in-favor', 'in-favor', 'against', 'against', 'neutral-or-unclear', 'neutral-or-unclear', 'against', 'in-favor', 'in-favor', 'in-favor', 'neutral-or-unclear', 'neutral-or-unclear', 'against', 'in-favor', 'against', 'in-favor', 'against', 'in-favor', 'in-favor', 'in-favor', 'in-favor', 'in-favor', 'in-favor', 'neutral-or-unclear', 'in-favor', 'in-favor', 'in-favor', 'against', 'in-favor', 'in-favor', 'in-favor', 'against', 'neutral-or-unclear', 'neutral-or-unclear', 'in-favor', 'in-favor', 'in-favor', 'against', 'in-favor', 'neutral-or-unclear', 'in-favor', 'neutral-or-unclear', 'in-favor', 'against', 'in-favor', 'in-favor', 'against', 'in-favor', 'against', 'in-favor', 'in-favor', 'against', 'in-favor', 'against', 'neutral-or-unclear', 'neutral-or-unclear', 'in-favor', 'against', 'against', 'in-favor', 'against', 'in-favor', 'against', 'against', 'in-favor', 'in-favor', 'against', 'in-favor', 'in-favor', 'in-favor', 'in-favor', 'in-favor', 'against', 'neutral-or-unclear', 'in-favor', 'in-favor', 'in-favor', 'in-favor', 'in-favor', 'against', 'in-favor', 'against', 'against', 'against', 'neutral-or-unclear', 'against', 'against', 'in-favor', 'neutral-or-unclear', 'against', 'against', 'in-favor', 'in-favor', 'against', 'against', 'in-favor', 'in-favor', 'against', 'in-favor', 'in-favor', 'neutral-or-unclear', 'in-favor', 'in-favor', 'in-favor', 'in-favor', 'neutral-or-unclear', 'in-favor', 'in-favor', 'neutral-or-unclear', 'against', 'neutral-or-unclear', 'neutral-or-unclear', 'against', 'against', 'against', 'against', 'in-favor', 'in-favor', 'in-favor', 'in-favor', 'neutral-or-unclear', 'in-favor', 'in-favor', 'in-favor', 'in-favor', 'against', 'in-favor', 'in-favor', 'against', 'in-favor', 'in-favor', 'neutral-or-unclear', 'in-favor', 'in-favor', 'neutral-or-unclear', 'neutral-or-unclear', 'against', 'in-favor', 'in-favor', 'against', 'in-favor', 'neutral-or-unclear', 'in-favor', 'in-favor', 'against', 'neutral-or-unclear', 'against', 'against', 'against', 'in-favor', 'against', 'neutral-or-unclear', 'in-favor', 'in-favor', 'against', 'in-favor', 'in-favor', 'neutral-or-unclear', 'against', 'in-favor', 'neutral-or-unclear', 'against', 'neutral-or-unclear', 'in-favor', 'against', 'in-favor', 'in-favor', 'neutral-or-unclear', 'in-favor', 'neutral-or-unclear', 'against', 'in-favor', 'in-favor', 'in-favor', 'neutral-or-unclear', 'in-favor', 'in-favor', 'in-favor', 'against', 'against', 'against', 'in-favor', 'neutral-or-unclear', 'neutral-or-unclear', 'against', 'in-favor', 'in-favor', 'in-favor', 'neutral-or-unclear', 'in-favor', 'in-favor', 'against', 'against', 'neutral-or-unclear', 'against', 'in-favor', 'in-favor', 'against', 'in-favor', 'in-favor', 'in-favor', 'against', 'neutral-or-unclear', 'in-favor', 'in-favor', 'neutral-or-unclear', 'in-favor', 'in-favor', 'in-favor', 'against', 'against', 'neutral-or-unclear', 'against', 'against', 'in-favor', 'in-favor', 'in-favor', 'against', 'in-favor', 'neutral-or-unclear', 'in-favor', 'in-favor']\n",
            "F1 Score: {'f1': 0.727941928206832}\n",
            "Predictions: ['in-favor', 'in', 'in-favor', 'against-favor', 'in-favor', 'in-favor', 'in-or-unclear', 'in', 'in-favor', 'in-favor', 'in-favor', 'against', 'against', 'in-favor', 'against', 'in-favor', 'in-favor', 'in-favor', 'in-favor', 'against-favor', 'against-or-unclear', 'in-favor', 'in-favor', 'against-favor', 'in-favor', 'in-or-unclear', 'in-favor', 'against', 'against', 'against', 'in-favor', 'in-favor', 'in-favor', 'in-favor', 'against-favor', 'in-favor', 'against-favor', 'against', 'in-favor', 'in-favor', 'in-favor', 'in-favor', 'against', 'in-or-unclear', 'against', 'against-or-unclear', 'in-or-unclear', 'against-or-unclear', 'in', 'in-or-unclear', 'in-favor', 'in-favor', 'in-favor', 'in', 'in-favor', 'in-favor', 'in-favor', 'in-favor', 'in-favor', 'against-or-unclear', 'against', 'in', 'against', 'against-or-unclear', 'against', 'in-favor', 'in-favor', 'in-favor', 'against', 'against', 'in-favor', 'against', 'in-favor', 'against', 'against-or-unclear', 'against', 'against', 'in', 'in', 'against', 'against-or-unclear', 'in-favor', 'in-favor', 'in-favor', 'in-or-unclear', 'against', 'in-or-unclear', 'against-favor', 'in-favor', 'against-or-unclear', 'in-or-unclear', 'in-favor', 'against', 'in-or-unclear', 'against', 'in-favor', 'in-favor', 'against', 'against-favor', 'in-favor', 'against', 'in-favor', 'in-favor', 'against', 'against', 'in', 'against', 'against-favor', 'in-favor', 'against', 'against-or-unclear', 'in-or-unclear', 'against', 'in-favor', 'in-favor', 'against', 'in-or-unclear', 'against-or-unclear', 'against-or-unclear', 'in-favor', 'in-or-unclear', 'in-favor', 'in-favor', 'in-favor', 'in-favor', 'against-or-unclear', 'against', 'in-or-unclear', 'in-favor', 'in', 'against', 'against', 'against-favor', 'in-favor', 'in-favor', 'against-or-unclear', 'against-or-unclear', 'in', 'in-or-unclear', 'against', 'in-or-unclear', 'against', 'in-favor', 'in-favor', 'in-or-unclear', 'in-favor', 'in-favor', 'against', 'in-favor', 'in-favor', 'in-favor', 'in-favor', 'in-favor', 'against-favor', 'against-or-unclear', 'in-favor', 'in-favor', 'against', 'in-favor', 'in-favor', 'in-favor', 'in-favor', 'in-favor', 'against', 'in-favor', 'in-favor', 'in-favor', 'in-favor', 'in-favor', 'in-favor', 'in', 'against-or-unclear', 'in-favor', 'against-or-unclear', 'in-favor', 'in-favor', 'against', 'against', 'in-favor', 'in-favor', 'in', 'in-favor', 'in-favor', 'against', 'in-or-unclear', 'against-or-unclear', 'against', 'against-or-unclear', 'in', 'in-favor', 'against-favor', 'against-or-unclear', 'against', 'in-favor', 'against-favor', 'against-favor', 'against-or-unclear', 'in-favor', 'in-favor', 'in-favor', 'against-favor', 'against-favor', 'against', 'in-or-unclear', 'in-favor', 'against-or-unclear', 'in-favor', 'against-favor', 'in-favor', 'in-favor', 'against-or-unclear', 'against-or-unclear', 'in', 'against-favor', 'in', 'against', 'in-or-unclear', 'against-or-unclear', 'in-favor', 'in-or-unclear', 'in-favor', 'in-favor', 'against', 'in-favor', 'against', 'against', 'against', 'in-favor', 'against', 'in', 'in-favor', 'against', 'against-favor', 'in-favor', 'in-favor', 'against', 'against', 'in-favor', 'in-or-unclear', 'against-favor', 'against', 'against', 'in-favor', 'against-favor', 'against-or-unclear', 'against-or-unclear', 'against', 'against', 'against', 'in-favor', 'in-or-unclear', 'in-favor', 'against', 'in-favor', 'neutral-or-unclear', 'in-favor', 'in-favor', 'in-favor', 'in-or-unclear', 'against-favor', 'against', 'in-or-unclear', 'in-favor', 'in-favor', 'against-or-unclear', 'neutral-or-unclear', 'against', 'against', 'in-favor', 'in-favor', 'in-favor', 'in-favor', 'in-favor', 'against-favor', 'in-favor', 'in-favor', 'against-or-unclear', 'against', 'against', 'against-favor', 'in-favor', 'against', 'against', 'against-or-unclear', 'against', 'in-favor', 'neutral-or-unclear', 'in-favor', 'in-favor', 'against', 'in-favor', 'in-favor', 'in', 'against', 'against', 'in-favor', 'against', 'in-favor', 'against', 'against', 'in-favor', 'against-or-unclear', 'against', 'against', 'against', 'in-favor', 'against', 'in-favor', 'in-favor', 'in-favor', 'in-or-unclear', 'against', 'against-or-unclear', 'in-favor', 'against', 'in-favor', 'against', 'in-or-unclear', 'in-favor', 'in-favor', 'in-favor', 'in-or-unclear', 'against', 'against', 'in-favor', 'against-favor', 'in-or-unclear', 'in-favor', 'in-favor', 'against', 'in-favor', 'in-favor', 'in-favor', 'in-favor', 'against-or-unclear', 'in-favor', 'against', 'in-favor', 'neutral-or-unclear', 'against-or-unclear', 'in-favor', 'in-favor', 'against', 'in-favor', 'against', 'in-or-unclear', 'in-favor', 'in-favor', 'against', 'in-favor', 'in-favor', 'in-favor', 'against', 'in-favor', 'in-favor', 'against', 'in-favor', 'against', 'in-favor', 'in-favor', 'in-favor', 'in-favor', 'neutral-or-unclear', 'in', 'against', 'in-favor', 'in-favor', 'in-or-unclear', 'against-or-unclear', 'against', 'in-favor', 'against', 'in-or-unclear', 'in-favor', 'against-or-unclear', 'against-or-unclear', 'in-favor', 'against-favor', 'in-favor', 'in-favor', 'against', 'against', 'against', 'in-favor', 'in-favor', 'in-favor', 'in-favor', 'against-or-unclear', 'against', 'in-favor', 'in', 'against', 'against', 'against', 'in-favor', 'in-favor', 'in-favor', 'in-or-unclear', 'against', 'in', 'in-favor', 'in-favor', 'against', 'in-or-unclear', 'in-favor', 'in-or-unclear', 'in-or-unclear', 'in-favor', 'against', 'in-favor', 'in-favor', 'in-or-unclear', 'against-or-unclear', 'against-favor', 'against', 'in-favor', 'against', 'against', 'against', 'against-or-unclear', 'in-or-unclear', 'in-favor', 'against', 'in-favor', 'against-favor', 'in-or-unclear', 'in-or-unclear', 'in-favor', 'in-or-unclear', 'in-favor', 'against-or-unclear', 'in-favor', 'against', 'in-or-unclear', 'against', 'in-favor', 'in-favor', 'against-or-unclear', 'against-or-unclear', 'in-favor', 'in-favor', 'in-favor', 'against-favor', 'in-favor', 'in', 'in-favor', 'in-favor', 'against-or-unclear', 'in-favor', 'in-or-unclear', 'in-favor', 'in-favor', 'against', 'against', 'in-favor', 'in-favor', 'against-favor', 'in-favor', 'in-favor', 'against', 'in-or-unclear', 'against', 'against-favor', 'in-favor', 'in-favor', 'in-favor', 'against', 'against', 'in-favor', 'in-favor', 'in-favor', 'against-favor', 'against', 'against', 'against', 'against', 'in-favor', 'against', 'against-or-unclear', 'against-or-unclear', 'in-favor', 'in-favor', 'in-favor', 'against', 'in-favor', 'against-or-unclear', 'in-or-unclear', 'in-favor', 'in-favor', 'in-favor', 'in-favor', 'against', 'in', 'against', 'against', 'against-or-unclear', 'in-favor', 'in-favor', 'in', 'against', 'against-or-unclear', 'against', 'against-favor', 'against-or-unclear', 'in-favor', 'against-or-unclear', 'against', 'against-favor', 'in-favor', 'against', 'in', 'in-favor', 'in-or-unclear', 'in', 'against', 'in-favor', 'in-or-unclear', 'against-favor', 'in-or-unclear', 'in-favor', 'against-favor', 'in-favor', 'against-favor', 'in-favor', 'in-favor', 'against', 'in-favor', 'against', 'in-favor', 'in-or-unclear', 'in-favor', 'against', 'against-favor', 'in-or-unclear', 'against', 'in', 'in-or-unclear', 'in-favor', 'against-or-unclear', 'against', 'in-favor', 'against', 'against-favor', 'in', 'in-favor', 'against-or-unclear', 'against', 'in-favor', 'in-favor', 'against-or-unclear', 'in-favor', 'against', 'in-favor', 'in-favor', 'against', 'against-favor', 'in-favor', 'against-or-unclear', 'in-favor', 'in-favor', 'in-favor', 'in-favor', 'in-favor', 'in-favor', 'in-favor', 'in-favor', 'against', 'against', 'against-favor', 'against-favor', 'in-favor', 'in-favor', 'against-favor', 'against-or-unclear', 'against', 'against', 'in-favor', 'in-favor', 'against', 'in-or-unclear', 'against-or-unclear', 'in-favor', 'in-favor', 'against-or-unclear', 'in-favor', 'in-favor', 'in-or-unclear', 'in-favor', 'against-or-unclear', 'in-favor', 'in-favor', 'in-or-unclear', 'against', 'in-favor', 'in-favor', 'against', 'against', 'in-favor', 'in-or-unclear', 'against-favor', 'in-favor', 'against-or-unclear', 'against', 'against-favor', 'in-favor', 'against', 'against', 'against', 'against', 'against-favor', 'against-or-unclear', 'against', 'against', 'against', 'against', 'neutral-or-unclear', 'in-favor', 'against', 'against', 'in-favor', 'in-or-unclear', 'in-favor', 'against-favor', 'against', 'against-or-unclear', 'against', 'against-or-unclear', 'in-favor', 'against', 'in-favor', 'in-favor', 'against', 'against', 'in', 'in-or-unclear', 'in-favor', 'in-favor', 'in-or-unclear', 'against', 'against', 'against-or-unclear', 'against', 'in-favor', 'in-favor', 'against', 'against', 'against', 'in-or-unclear', 'in-favor', 'against', 'against', 'against-or-unclear', 'against', 'against', 'in-or-unclear', 'in-favor', 'in-favor', 'against-or-unclear', 'against', 'against-or-unclear', 'against-or-unclear', 'in-favor', 'against', 'against-or-unclear', 'in-favor', 'against', 'in-favor', 'in-favor', 'against-or-unclear', 'against-favor', 'in-favor', 'in-favor', 'in-favor', 'in-favor', 'in-or-unclear', 'in-favor', 'against', 'in-favor', 'in', 'against', 'in-favor', 'in-favor', 'in-favor', 'in-favor', 'against', 'in-favor', 'against', 'in-favor', 'in-favor', 'against', 'in-or-unclear', 'in-favor', 'against-favor', 'against-favor', 'in-favor', 'in-favor', 'against', 'against-or-unclear', 'against', 'against-or-unclear', 'against', 'in', 'in-favor', 'in-favor', 'in-or-unclear', 'in-favor', 'against-favor', 'in-or-unclear', 'against-or-unclear', 'against', 'against', 'in', 'against', 'in-favor', 'against-favor', 'against', 'against', 'against', 'in-favor', 'against-favor', 'in-favor', 'against', 'in-favor', 'against', 'against', 'against', 'in-favor', 'in-favor', 'neutral', 'against', 'in', 'in-or-unclear', 'in-or-unclear', 'in-favor', 'in-or-unclear', 'against', 'against', 'in-favor', 'against', 'against', 'in-favor', 'in-favor', 'in-favor', 'in-favor', 'in-favor', 'against', 'against-favor', 'against', 'in-favor', 'against', 'in-or-unclear', 'against-or-unclear', 'against', 'in-favor', 'in-favor', 'against-favor', 'against', 'in-favor', 'in-or-unclear', 'against-or-unclear', 'neutral', 'against', 'in-favor', 'in-favor', 'against-or-unclear', 'in-favor', 'against', 'in-favor', 'against', 'in-favor', 'in-favor', 'in-favor', 'against-or-unclear', 'against', 'in-favor', 'in-favor', 'against', 'against', 'against-or-unclear', 'against-or-unclear', 'against-or-unclear', 'in-favor', 'in-favor', 'against', 'against-or-unclear', 'against-favor', 'against', 'in-favor', 'in-favor', 'against', 'against-or-unclear', 'against', 'against-favor', 'against-favor', 'against', 'in-favor', 'in-favor', 'against', 'in-favor', 'in-favor', 'in-favor', 'in-favor', 'in-favor', 'against', 'in-favor', 'against-or-unclear', 'in', 'in-favor', 'against-favor', 'against-or-unclear', 'in-favor', 'in-or-unclear', 'in-or-unclear', 'against', 'in-favor', 'in-favor', 'in-favor', 'against', 'against', 'in-favor', 'against-or-unclear', 'against', 'in-or-unclear', 'against', 'against', 'in', 'in-favor', 'in-or-unclear', 'in-favor', 'in-or-unclear', 'in-favor', 'in-favor', 'against', 'in', 'against', 'in-favor', 'against', 'against', 'in-favor', 'in-favor', 'in', 'against', 'in-or-unclear', 'against-or-unclear', 'against-or-unclear', 'against', 'in-favor', 'against-or-unclear', 'against', 'in-favor', 'against', 'in-favor', 'in-or-unclear', 'in-favor', 'against', 'in-favor', 'against', 'in-favor', 'in-favor', 'against-favor', 'in-or-unclear', 'against', 'in-favor', 'against-or-unclear', 'in-favor', 'in-favor', 'in-favor', 'in-favor', 'in-favor', 'in', 'against-favor', 'in-favor', 'against-favor', 'in-favor', 'against-favor', 'in-favor', 'neutral', 'in-favor', 'in-favor', 'in-favor', 'against', 'against', 'in-favor', 'in-favor', 'in-favor', 'in-favor', 'in-favor', 'against-or-unclear', 'against', 'in-or-unclear', 'in-favor', 'in', 'against', 'in-favor', 'against', 'in', 'in-or-unclear', 'in-favor', 'in-favor', 'in-favor', 'in-favor', 'against-or-unclear', 'in-favor', 'in-favor', 'against', 'against-favor', 'in-favor', 'against-favor', 'against', 'in-favor', 'in-favor', 'against-or-unclear', 'against-favor', 'in-favor', 'in-favor', 'against-favor', 'in-or-unclear', 'in-favor', 'in-or-unclear', 'in-favor', 'against', 'in-favor', 'in-favor', 'in-favor', 'against', 'neutral', 'in-favor', 'in-favor', 'against-or-unclear', 'in-favor', 'in-favor', 'against', 'against', 'against-or-unclear', 'in-or-unclear', 'against', 'in-favor', 'in-favor', 'in-favor', 'in-or-unclear', 'neutral-or-unclear', 'against', 'in-favor', 'in', 'in-favor', 'against', 'in-favor', 'in-favor', 'in-favor', 'in-favor', 'in-favor', 'in-favor', 'neutral-or-unclear', 'in-favor', 'in-favor', 'in-favor', 'against', 'in-favor', 'in-favor', 'in-favor', 'against', 'against-or-unclear', 'in-or-unclear', 'in-favor', 'in-favor', 'in-favor', 'against', 'in-favor', 'in-or-unclear', 'in-favor', 'against-or-unclear', 'in-favor', 'against', 'in-favor', 'against-favor', 'against', 'in-favor', 'against', 'in-favor', 'in-favor', 'in', 'in-favor', 'against', 'in-or-unclear', 'in-or-unclear', 'in-favor', 'against', 'against', 'against-favor', 'against', 'in-favor', 'against', 'in', 'against-favor', 'in-favor', 'against', 'in-favor', 'in-favor', 'in-favor', 'in-favor', 'in-favor', 'against', 'in-or-unclear', 'in-favor', 'in-favor', 'in-favor', 'in-favor', 'in-favor', 'against', 'in-favor', 'against', 'against', 'against', 'against-or-unclear', 'against', 'against', 'against-favor', 'against-or-unclear', 'against', 'in', 'in-favor', 'in-favor', 'against', 'against', 'against-favor', 'in-favor', 'against', 'in-favor', 'against-favor', 'against-or-unclear', 'in-favor', 'in-favor', 'against-favor', 'in-favor', 'in-or-unclear', 'in-favor', 'against-favor', 'against-or-unclear', 'against', 'in-or-unclear', 'in-or-unclear', 'against', 'against', 'against', 'against', 'against-favor', 'against-favor', 'in-favor', 'in-favor', 'in-or-unclear', 'against-favor', 'in-favor', 'in-favor', 'in-favor', 'against', 'in-favor', 'in-favor', 'against', 'against-favor', 'in-favor', 'in-or-unclear', 'in-favor', 'in-favor', 'against-or-unclear', 'against-or-unclear', 'against', 'against-favor', 'in-favor', 'against', 'in-favor', 'in-or-unclear', 'in-favor', 'in-favor', 'in', 'against-or-unclear', 'against', 'against', 'against', 'in-favor', 'in', 'in-or-unclear', 'in-favor', 'in-favor', 'against', 'in-favor', 'in-favor', 'in-or-unclear', 'against', 'in-favor', 'neutral-or-unclear', 'against', 'against-or-unclear', 'in-favor', 'against', 'against-favor', 'in-favor', 'against-or-unclear', 'in-favor', 'in-or-unclear', 'against', 'in-favor', 'in-favor', 'in-favor', 'in-or-unclear', 'in-favor', 'against-favor', 'in-favor', 'against', 'in', 'against', 'in-favor', 'against-or-unclear', 'in-or-unclear', 'against', 'in-favor', 'against-favor', 'in-favor', 'against-or-unclear', 'in-favor', 'in-favor', 'against', 'against', 'in-or-unclear', 'in', 'against-favor', 'in-favor', 'against', 'against-favor', 'in-favor', 'in-favor', 'against', 'against-or-unclear', 'in-favor', 'in-favor', 'in-or-unclear', 'in-favor', 'against-favor', 'in-favor', 'against', 'against', 'in-or-unclear', 'in', 'against', 'in-favor', 'in-favor', 'in-favor', 'in', 'in-favor', 'neutral-or-unclear', 'against-favor', 'in-favor']\n",
            "Labels: ['in-favor', 'against', 'in-favor', 'in-favor', 'in-favor', 'in-favor', 'neutral-or-unclear', 'against', 'in-favor', 'in-favor', 'in-favor', 'against', 'against', 'in-favor', 'against', 'in-favor', 'in-favor', 'in-favor', 'in-favor', 'in-favor', 'neutral-or-unclear', 'in-favor', 'in-favor', 'in-favor', 'in-favor', 'neutral-or-unclear', 'in-favor', 'against', 'against', 'against', 'in-favor', 'in-favor', 'in-favor', 'in-favor', 'in-favor', 'in-favor', 'in-favor', 'against', 'in-favor', 'in-favor', 'in-favor', 'in-favor', 'against', 'neutral-or-unclear', 'against', 'neutral-or-unclear', 'neutral-or-unclear', 'neutral-or-unclear', 'against', 'neutral-or-unclear', 'in-favor', 'in-favor', 'in-favor', 'against', 'in-favor', 'in-favor', 'in-favor', 'in-favor', 'in-favor', 'neutral-or-unclear', 'against', 'against', 'against', 'neutral-or-unclear', 'against', 'in-favor', 'in-favor', 'in-favor', 'against', 'against', 'in-favor', 'against', 'in-favor', 'against', 'neutral-or-unclear', 'against', 'against', 'against', 'against', 'against', 'neutral-or-unclear', 'in-favor', 'in-favor', 'in-favor', 'neutral-or-unclear', 'against', 'neutral-or-unclear', 'in-favor', 'in-favor', 'neutral-or-unclear', 'neutral-or-unclear', 'in-favor', 'against', 'neutral-or-unclear', 'against', 'in-favor', 'in-favor', 'against', 'in-favor', 'in-favor', 'against', 'in-favor', 'in-favor', 'against', 'against', 'against', 'against', 'in-favor', 'in-favor', 'against', 'neutral-or-unclear', 'neutral-or-unclear', 'against', 'in-favor', 'in-favor', 'against', 'neutral-or-unclear', 'neutral-or-unclear', 'neutral-or-unclear', 'in-favor', 'neutral-or-unclear', 'in-favor', 'in-favor', 'in-favor', 'in-favor', 'neutral-or-unclear', 'against', 'neutral-or-unclear', 'in-favor', 'against', 'against', 'against', 'in-favor', 'in-favor', 'in-favor', 'neutral-or-unclear', 'neutral-or-unclear', 'against', 'neutral-or-unclear', 'against', 'neutral-or-unclear', 'against', 'in-favor', 'in-favor', 'neutral-or-unclear', 'in-favor', 'in-favor', 'against', 'in-favor', 'in-favor', 'in-favor', 'in-favor', 'in-favor', 'in-favor', 'neutral-or-unclear', 'in-favor', 'in-favor', 'against', 'in-favor', 'in-favor', 'in-favor', 'in-favor', 'in-favor', 'against', 'in-favor', 'in-favor', 'in-favor', 'in-favor', 'in-favor', 'in-favor', 'against', 'neutral-or-unclear', 'in-favor', 'neutral-or-unclear', 'in-favor', 'in-favor', 'against', 'against', 'in-favor', 'in-favor', 'against', 'in-favor', 'in-favor', 'against', 'neutral-or-unclear', 'neutral-or-unclear', 'against', 'neutral-or-unclear', 'against', 'in-favor', 'in-favor', 'neutral-or-unclear', 'against', 'in-favor', 'in-favor', 'in-favor', 'neutral-or-unclear', 'in-favor', 'in-favor', 'in-favor', 'in-favor', 'in-favor', 'against', 'neutral-or-unclear', 'in-favor', 'neutral-or-unclear', 'in-favor', 'in-favor', 'in-favor', 'in-favor', 'neutral-or-unclear', 'neutral-or-unclear', 'against', 'in-favor', 'against', 'against', 'neutral-or-unclear', 'neutral-or-unclear', 'in-favor', 'neutral-or-unclear', 'in-favor', 'in-favor', 'against', 'in-favor', 'against', 'against', 'against', 'in-favor', 'against', 'against', 'in-favor', 'against', 'in-favor', 'in-favor', 'in-favor', 'against', 'against', 'in-favor', 'neutral-or-unclear', 'in-favor', 'against', 'against', 'in-favor', 'in-favor', 'neutral-or-unclear', 'neutral-or-unclear', 'against', 'against', 'against', 'in-favor', 'neutral-or-unclear', 'in-favor', 'against', 'in-favor', 'neutral-or-unclear', 'in-favor', 'in-favor', 'in-favor', 'neutral-or-unclear', 'in-favor', 'against', 'neutral-or-unclear', 'in-favor', 'in-favor', 'neutral-or-unclear', 'neutral-or-unclear', 'against', 'against', 'in-favor', 'in-favor', 'in-favor', 'in-favor', 'in-favor', 'in-favor', 'in-favor', 'in-favor', 'neutral-or-unclear', 'against', 'against', 'in-favor', 'in-favor', 'against', 'against', 'neutral-or-unclear', 'against', 'in-favor', 'neutral-or-unclear', 'in-favor', 'in-favor', 'against', 'in-favor', 'in-favor', 'against', 'against', 'against', 'in-favor', 'against', 'in-favor', 'against', 'against', 'in-favor', 'neutral-or-unclear', 'against', 'against', 'against', 'in-favor', 'against', 'in-favor', 'in-favor', 'in-favor', 'neutral-or-unclear', 'against', 'neutral-or-unclear', 'in-favor', 'against', 'in-favor', 'against', 'neutral-or-unclear', 'in-favor', 'in-favor', 'in-favor', 'neutral-or-unclear', 'against', 'against', 'in-favor', 'in-favor', 'neutral-or-unclear', 'in-favor', 'in-favor', 'against', 'in-favor', 'in-favor', 'in-favor', 'in-favor', 'neutral-or-unclear', 'in-favor', 'against', 'in-favor', 'neutral-or-unclear', 'neutral-or-unclear', 'in-favor', 'in-favor', 'against', 'in-favor', 'against', 'neutral-or-unclear', 'in-favor', 'in-favor', 'against', 'in-favor', 'in-favor', 'in-favor', 'against', 'in-favor', 'in-favor', 'against', 'in-favor', 'against', 'in-favor', 'in-favor', 'in-favor', 'in-favor', 'neutral-or-unclear', 'against', 'against', 'in-favor', 'in-favor', 'neutral-or-unclear', 'neutral-or-unclear', 'against', 'in-favor', 'against', 'neutral-or-unclear', 'in-favor', 'neutral-or-unclear', 'neutral-or-unclear', 'in-favor', 'in-favor', 'in-favor', 'in-favor', 'against', 'against', 'against', 'in-favor', 'in-favor', 'in-favor', 'in-favor', 'neutral-or-unclear', 'against', 'in-favor', 'against', 'against', 'against', 'against', 'in-favor', 'in-favor', 'in-favor', 'neutral-or-unclear', 'against', 'against', 'in-favor', 'in-favor', 'against', 'neutral-or-unclear', 'in-favor', 'neutral-or-unclear', 'neutral-or-unclear', 'in-favor', 'against', 'in-favor', 'in-favor', 'neutral-or-unclear', 'neutral-or-unclear', 'in-favor', 'against', 'in-favor', 'against', 'against', 'against', 'neutral-or-unclear', 'neutral-or-unclear', 'in-favor', 'against', 'in-favor', 'in-favor', 'neutral-or-unclear', 'neutral-or-unclear', 'in-favor', 'neutral-or-unclear', 'in-favor', 'neutral-or-unclear', 'in-favor', 'against', 'neutral-or-unclear', 'against', 'in-favor', 'in-favor', 'neutral-or-unclear', 'neutral-or-unclear', 'in-favor', 'in-favor', 'in-favor', 'in-favor', 'in-favor', 'against', 'in-favor', 'in-favor', 'neutral-or-unclear', 'in-favor', 'neutral-or-unclear', 'in-favor', 'in-favor', 'against', 'against', 'in-favor', 'in-favor', 'in-favor', 'in-favor', 'in-favor', 'against', 'neutral-or-unclear', 'against', 'in-favor', 'in-favor', 'in-favor', 'in-favor', 'against', 'against', 'in-favor', 'in-favor', 'in-favor', 'in-favor', 'against', 'against', 'against', 'against', 'in-favor', 'against', 'neutral-or-unclear', 'neutral-or-unclear', 'in-favor', 'in-favor', 'in-favor', 'against', 'in-favor', 'neutral-or-unclear', 'neutral-or-unclear', 'in-favor', 'in-favor', 'in-favor', 'in-favor', 'against', 'against', 'against', 'against', 'neutral-or-unclear', 'in-favor', 'in-favor', 'against', 'against', 'neutral-or-unclear', 'against', 'in-favor', 'neutral-or-unclear', 'in-favor', 'neutral-or-unclear', 'against', 'in-favor', 'in-favor', 'against', 'against', 'in-favor', 'neutral-or-unclear', 'against', 'against', 'in-favor', 'neutral-or-unclear', 'in-favor', 'neutral-or-unclear', 'in-favor', 'in-favor', 'in-favor', 'in-favor', 'in-favor', 'in-favor', 'against', 'in-favor', 'against', 'in-favor', 'neutral-or-unclear', 'in-favor', 'against', 'in-favor', 'neutral-or-unclear', 'against', 'against', 'neutral-or-unclear', 'in-favor', 'neutral-or-unclear', 'against', 'in-favor', 'against', 'in-favor', 'against', 'in-favor', 'neutral-or-unclear', 'against', 'in-favor', 'in-favor', 'neutral-or-unclear', 'in-favor', 'against', 'in-favor', 'in-favor', 'against', 'in-favor', 'in-favor', 'neutral-or-unclear', 'in-favor', 'in-favor', 'in-favor', 'in-favor', 'in-favor', 'in-favor', 'in-favor', 'in-favor', 'against', 'against', 'in-favor', 'in-favor', 'in-favor', 'in-favor', 'in-favor', 'neutral-or-unclear', 'against', 'against', 'in-favor', 'in-favor', 'against', 'neutral-or-unclear', 'neutral-or-unclear', 'in-favor', 'in-favor', 'neutral-or-unclear', 'in-favor', 'in-favor', 'neutral-or-unclear', 'in-favor', 'neutral-or-unclear', 'in-favor', 'in-favor', 'neutral-or-unclear', 'against', 'in-favor', 'in-favor', 'against', 'against', 'in-favor', 'neutral-or-unclear', 'in-favor', 'in-favor', 'neutral-or-unclear', 'against', 'in-favor', 'in-favor', 'against', 'against', 'against', 'against', 'in-favor', 'neutral-or-unclear', 'against', 'against', 'against', 'against', 'neutral-or-unclear', 'in-favor', 'against', 'against', 'in-favor', 'neutral-or-unclear', 'in-favor', 'in-favor', 'against', 'neutral-or-unclear', 'against', 'neutral-or-unclear', 'in-favor', 'against', 'in-favor', 'in-favor', 'against', 'against', 'against', 'neutral-or-unclear', 'in-favor', 'in-favor', 'neutral-or-unclear', 'against', 'against', 'neutral-or-unclear', 'against', 'in-favor', 'in-favor', 'against', 'against', 'against', 'neutral-or-unclear', 'in-favor', 'against', 'against', 'neutral-or-unclear', 'against', 'against', 'neutral-or-unclear', 'in-favor', 'in-favor', 'neutral-or-unclear', 'against', 'neutral-or-unclear', 'neutral-or-unclear', 'in-favor', 'against', 'neutral-or-unclear', 'in-favor', 'against', 'in-favor', 'in-favor', 'neutral-or-unclear', 'in-favor', 'in-favor', 'in-favor', 'in-favor', 'in-favor', 'neutral-or-unclear', 'in-favor', 'against', 'in-favor', 'against', 'against', 'in-favor', 'in-favor', 'in-favor', 'in-favor', 'against', 'in-favor', 'against', 'in-favor', 'in-favor', 'against', 'neutral-or-unclear', 'in-favor', 'in-favor', 'in-favor', 'in-favor', 'in-favor', 'against', 'neutral-or-unclear', 'against', 'neutral-or-unclear', 'against', 'against', 'in-favor', 'in-favor', 'neutral-or-unclear', 'in-favor', 'in-favor', 'neutral-or-unclear', 'neutral-or-unclear', 'against', 'against', 'against', 'against', 'in-favor', 'in-favor', 'against', 'against', 'against', 'in-favor', 'in-favor', 'in-favor', 'against', 'in-favor', 'against', 'against', 'against', 'in-favor', 'in-favor', 'against', 'against', 'against', 'neutral-or-unclear', 'neutral-or-unclear', 'in-favor', 'neutral-or-unclear', 'against', 'against', 'in-favor', 'against', 'against', 'in-favor', 'in-favor', 'in-favor', 'in-favor', 'in-favor', 'against', 'in-favor', 'against', 'in-favor', 'against', 'neutral-or-unclear', 'neutral-or-unclear', 'against', 'in-favor', 'in-favor', 'in-favor', 'against', 'in-favor', 'neutral-or-unclear', 'neutral-or-unclear', 'against', 'against', 'in-favor', 'in-favor', 'neutral-or-unclear', 'in-favor', 'against', 'in-favor', 'against', 'in-favor', 'in-favor', 'in-favor', 'neutral-or-unclear', 'against', 'in-favor', 'in-favor', 'against', 'against', 'neutral-or-unclear', 'neutral-or-unclear', 'neutral-or-unclear', 'in-favor', 'in-favor', 'against', 'neutral-or-unclear', 'in-favor', 'against', 'in-favor', 'in-favor', 'against', 'neutral-or-unclear', 'against', 'in-favor', 'in-favor', 'against', 'in-favor', 'in-favor', 'against', 'in-favor', 'in-favor', 'in-favor', 'in-favor', 'in-favor', 'against', 'in-favor', 'neutral-or-unclear', 'against', 'in-favor', 'in-favor', 'neutral-or-unclear', 'in-favor', 'neutral-or-unclear', 'neutral-or-unclear', 'against', 'in-favor', 'in-favor', 'in-favor', 'against', 'against', 'in-favor', 'neutral-or-unclear', 'against', 'neutral-or-unclear', 'against', 'against', 'against', 'in-favor', 'neutral-or-unclear', 'in-favor', 'neutral-or-unclear', 'in-favor', 'in-favor', 'against', 'against', 'against', 'in-favor', 'against', 'against', 'in-favor', 'in-favor', 'against', 'against', 'neutral-or-unclear', 'neutral-or-unclear', 'neutral-or-unclear', 'against', 'in-favor', 'neutral-or-unclear', 'against', 'in-favor', 'against', 'in-favor', 'neutral-or-unclear', 'in-favor', 'against', 'in-favor', 'against', 'in-favor', 'in-favor', 'in-favor', 'neutral-or-unclear', 'against', 'in-favor', 'neutral-or-unclear', 'in-favor', 'in-favor', 'in-favor', 'in-favor', 'in-favor', 'against', 'in-favor', 'in-favor', 'in-favor', 'in-favor', 'in-favor', 'in-favor', 'against', 'in-favor', 'in-favor', 'in-favor', 'against', 'against', 'in-favor', 'in-favor', 'in-favor', 'in-favor', 'in-favor', 'neutral-or-unclear', 'against', 'neutral-or-unclear', 'in-favor', 'against', 'against', 'in-favor', 'against', 'against', 'neutral-or-unclear', 'in-favor', 'in-favor', 'in-favor', 'in-favor', 'neutral-or-unclear', 'in-favor', 'in-favor', 'against', 'in-favor', 'in-favor', 'in-favor', 'against', 'in-favor', 'in-favor', 'neutral-or-unclear', 'in-favor', 'in-favor', 'in-favor', 'in-favor', 'neutral-or-unclear', 'in-favor', 'neutral-or-unclear', 'in-favor', 'against', 'in-favor', 'in-favor', 'in-favor', 'against', 'against', 'in-favor', 'in-favor', 'neutral-or-unclear', 'in-favor', 'in-favor', 'against', 'against', 'neutral-or-unclear', 'neutral-or-unclear', 'against', 'in-favor', 'in-favor', 'in-favor', 'neutral-or-unclear', 'neutral-or-unclear', 'against', 'in-favor', 'against', 'in-favor', 'against', 'in-favor', 'in-favor', 'in-favor', 'in-favor', 'in-favor', 'in-favor', 'neutral-or-unclear', 'in-favor', 'in-favor', 'in-favor', 'against', 'in-favor', 'in-favor', 'in-favor', 'against', 'neutral-or-unclear', 'neutral-or-unclear', 'in-favor', 'in-favor', 'in-favor', 'against', 'in-favor', 'neutral-or-unclear', 'in-favor', 'neutral-or-unclear', 'in-favor', 'against', 'in-favor', 'in-favor', 'against', 'in-favor', 'against', 'in-favor', 'in-favor', 'against', 'in-favor', 'against', 'neutral-or-unclear', 'neutral-or-unclear', 'in-favor', 'against', 'against', 'in-favor', 'against', 'in-favor', 'against', 'against', 'in-favor', 'in-favor', 'against', 'in-favor', 'in-favor', 'in-favor', 'in-favor', 'in-favor', 'against', 'neutral-or-unclear', 'in-favor', 'in-favor', 'in-favor', 'in-favor', 'in-favor', 'against', 'in-favor', 'against', 'against', 'against', 'neutral-or-unclear', 'against', 'against', 'in-favor', 'neutral-or-unclear', 'against', 'against', 'in-favor', 'in-favor', 'against', 'against', 'in-favor', 'in-favor', 'against', 'in-favor', 'in-favor', 'neutral-or-unclear', 'in-favor', 'in-favor', 'in-favor', 'in-favor', 'neutral-or-unclear', 'in-favor', 'in-favor', 'neutral-or-unclear', 'against', 'neutral-or-unclear', 'neutral-or-unclear', 'against', 'against', 'against', 'against', 'in-favor', 'in-favor', 'in-favor', 'in-favor', 'neutral-or-unclear', 'in-favor', 'in-favor', 'in-favor', 'in-favor', 'against', 'in-favor', 'in-favor', 'against', 'in-favor', 'in-favor', 'neutral-or-unclear', 'in-favor', 'in-favor', 'neutral-or-unclear', 'neutral-or-unclear', 'against', 'in-favor', 'in-favor', 'against', 'in-favor', 'neutral-or-unclear', 'in-favor', 'in-favor', 'against', 'neutral-or-unclear', 'against', 'against', 'against', 'in-favor', 'against', 'neutral-or-unclear', 'in-favor', 'in-favor', 'against', 'in-favor', 'in-favor', 'neutral-or-unclear', 'against', 'in-favor', 'neutral-or-unclear', 'against', 'neutral-or-unclear', 'in-favor', 'against', 'in-favor', 'in-favor', 'neutral-or-unclear', 'in-favor', 'neutral-or-unclear', 'against', 'in-favor', 'in-favor', 'in-favor', 'neutral-or-unclear', 'in-favor', 'in-favor', 'in-favor', 'against', 'against', 'against', 'in-favor', 'neutral-or-unclear', 'neutral-or-unclear', 'against', 'in-favor', 'in-favor', 'in-favor', 'neutral-or-unclear', 'in-favor', 'in-favor', 'against', 'against', 'neutral-or-unclear', 'against', 'in-favor', 'in-favor', 'against', 'in-favor', 'in-favor', 'in-favor', 'against', 'neutral-or-unclear', 'in-favor', 'in-favor', 'neutral-or-unclear', 'in-favor', 'in-favor', 'in-favor', 'against', 'against', 'neutral-or-unclear', 'against', 'against', 'in-favor', 'in-favor', 'in-favor', 'against', 'in-favor', 'neutral-or-unclear', 'in-favor', 'in-favor']\n",
            "F1 Score: {'f1': 0.7610996837248968}\n",
            "Predictions: ['in-favor', 'in', 'in-favor', 'neutral-favor', 'in-favor', 'in-favor', 'neutral-or-unclear', 'in', 'in-favor', 'in-favor', 'in-favor', 'against', 'against', 'in-favor', 'against', 'in-favor', 'in-favor', 'in-favor', 'in-favor', 'neutral-favor', 'against-or-unclear', 'in-favor', 'in-favor', 'in-favor', 'in-favor', 'in-or-unclear', 'in-favor', 'against', 'against', 'against', 'in-favor', 'in-favor', 'in-favor', 'in-favor', 'in-favor', 'in-favor', 'in-favor', 'against', 'in-favor', 'in-favor', 'in-favor', 'in-favor', 'against', 'in-or-unclear', 'against', 'against-or-unclear', 'in-or-unclear', 'against-or-unclear', 'in', 'in-or-unclear', 'in-favor', 'in-favor', 'in-favor', 'in', 'in-favor', 'in-favor', 'in-favor', 'in-favor', 'in-favor', 'neutral-or-unclear', 'against', 'in', 'against', 'against-or-unclear', 'against', 'in-favor', 'in-favor', 'in-favor', 'against', 'against', 'in-favor', 'against', 'in-favor', 'against', 'against-or-unclear', 'in', 'against', 'in', 'in', 'against', 'against-or-unclear', 'in-favor', 'in-favor', 'in-favor', 'in-or-unclear', 'against', 'in-or-unclear', 'against-favor', 'in-favor', 'neutral-or-unclear', 'in-or-unclear', 'in-favor', 'against', 'in-or-unclear', 'against', 'in-favor', 'in-favor', 'against', 'in-favor', 'in-favor', 'in', 'in-favor', 'in-favor', 'against', 'against', 'in', 'against', 'in-favor', 'in-favor', 'against', 'against-or-unclear', 'in-or-unclear', 'against', 'in-favor', 'in-favor', 'against', 'in-or-unclear', 'neutral-or-unclear', 'neutral-or-unclear', 'in-favor', 'neutral-or-unclear', 'in-favor', 'in-favor', 'in-favor', 'in-favor', 'against-or-unclear', 'against', 'in-or-unclear', 'in-favor', 'in', 'against', 'against', 'against-favor', 'in-favor', 'in-favor', 'in-or-unclear', 'against-or-unclear', 'in', 'against-or-unclear', 'against', 'neutral-or-unclear', 'in', 'in-favor', 'in-favor', 'in-or-unclear', 'in-favor', 'in-favor', 'against', 'in-favor', 'in-favor', 'in-favor', 'in-favor', 'in-favor', 'neutral-favor', 'against-or-unclear', 'in-favor', 'in-favor', 'against', 'in-favor', 'in-favor', 'in-favor', 'in-favor', 'in-favor', 'against', 'in-favor', 'in-favor', 'in-favor', 'in-favor', 'in-favor', 'in-favor', 'against', 'in-or-unclear', 'in-favor', 'neutral-or-unclear', 'in-favor', 'in-favor', 'against', 'against', 'in-favor', 'in-favor', 'in', 'in-favor', 'in-favor', 'against', 'in-or-unclear', 'in-or-unclear', 'against', 'neutral-or-unclear', 'in', 'in-favor', 'against-favor', 'against-or-unclear', 'against', 'in-favor', 'neutral-favor', 'against-favor', 'neutral-or-unclear', 'in-favor', 'in-favor', 'in-favor', 'neutral-favor', 'against-favor', 'against', 'in-or-unclear', 'in-favor', 'in-or-unclear', 'neutral-favor', 'against-favor', 'in-favor', 'in-favor', 'in-or-unclear', 'neutral-or-unclear', 'in', 'in-favor', 'in', 'against', 'in-or-unclear', 'neutral-or-unclear', 'in-favor', 'in-or-unclear', 'in-favor', 'in-favor', 'against', 'in-favor', 'against', 'in', 'in', 'in-favor', 'against', 'in', 'in-favor', 'against', 'in-favor', 'in-favor', 'in-favor', 'against', 'against', 'in-favor', 'in-or-unclear', 'against-favor', 'against', 'against', 'in-favor', 'in-favor', 'neutral-or-unclear', 'against-or-unclear', 'against', 'against', 'against', 'in-favor', 'in-or-unclear', 'in-favor', 'against', 'in-favor', 'neutral-or-unclear', 'in-favor', 'in-favor', 'in-favor', 'in-or-unclear', 'in-favor', 'against', 'in-or-unclear', 'in-favor', 'in-favor', 'in-or-unclear', 'neutral-or-unclear', 'against', 'against', 'in-favor', 'in-favor', 'in-favor', 'in-favor', 'in-favor', 'against-favor', 'in-favor', 'in-favor', 'against-or-unclear', 'against', 'against', 'against-favor', 'in-favor', 'against', 'neutral', 'against-or-unclear', 'in', 'in-favor', 'neutral-or-unclear', 'in-favor', 'in-favor', 'against', 'in-favor', 'in-favor', 'in', 'against', 'in', 'in-favor', 'against', 'in-favor', 'against', 'in', 'in-favor', 'against-or-unclear', 'against', 'against', 'against', 'in-favor', 'against', 'in-favor', 'in-favor', 'in-favor', 'in-or-unclear', 'against', 'against-or-unclear', 'in-favor', 'against', 'in-favor', 'neutral', 'in-or-unclear', 'in-favor', 'in-favor', 'in-favor', 'in-or-unclear', 'against', 'against', 'in-favor', 'in-favor', 'neutral-or-unclear', 'in-favor', 'in-favor', 'against', 'in-favor', 'in-favor', 'against-favor', 'in-favor', 'against-or-unclear', 'in-favor', 'against', 'in-favor', 'neutral-or-unclear', 'neutral-or-unclear', 'in-favor', 'in-favor', 'against', 'in-favor', 'against', 'in-or-unclear', 'in-favor', 'in-favor', 'against', 'in-favor', 'in-favor', 'in-favor', 'against', 'in-favor', 'in-favor', 'against', 'in-favor', 'neutral', 'in-favor', 'in-favor', 'in-favor', 'in-favor', 'neutral-or-unclear', 'in', 'against', 'in-favor', 'in-favor', 'in-or-unclear', 'against-or-unclear', 'against', 'in-favor', 'against', 'in-or-unclear', 'in-favor', 'against-or-unclear', 'neutral-or-unclear', 'in-favor', 'against-favor', 'in-favor', 'in-favor', 'against', 'against', 'against', 'in-favor', 'in-favor', 'in-favor', 'in-favor', 'against-or-unclear', 'against', 'in-favor', 'in', 'in', 'against', 'against', 'in-favor', 'in-favor', 'in-favor', 'in-or-unclear', 'against', 'in', 'in-favor', 'neutral-favor', 'neutral', 'in-or-unclear', 'in-favor', 'in-or-unclear', 'in-or-unclear', 'in-favor', 'neutral', 'in-favor', 'in-favor', 'in-or-unclear', 'against-or-unclear', 'against-favor', 'against', 'in-favor', 'against', 'in', 'against', 'against-or-unclear', 'in-or-unclear', 'in-favor', 'against', 'in-favor', 'in-favor', 'in-or-unclear', 'neutral-or-unclear', 'in-favor', 'in-or-unclear', 'in-favor', 'against-or-unclear', 'in-favor', 'against', 'neutral-or-unclear', 'against', 'in-favor', 'in-favor', 'against-or-unclear', 'against-or-unclear', 'in-favor', 'in-favor', 'in-favor', 'in-favor', 'in-favor', 'in', 'in-favor', 'in-favor', 'in-or-unclear', 'in-favor', 'in-or-unclear', 'in-favor', 'in-favor', 'in', 'against', 'in-favor', 'in-favor', 'against-favor', 'in-favor', 'in-favor', 'against', 'neutral-or-unclear', 'against', 'in-favor', 'in-favor', 'in-favor', 'in-favor', 'against', 'against', 'in-favor', 'in-favor', 'in-favor', 'against-favor', 'against', 'against', 'against', 'against', 'in-favor', 'against', 'neutral-or-unclear', 'against-or-unclear', 'in-favor', 'in-favor', 'in-favor', 'against', 'in-favor', 'in-or-unclear', 'in-or-unclear', 'in-favor', 'in-favor', 'in-favor', 'in-favor', 'against', 'in', 'against', 'against', 'neutral-or-unclear', 'in-favor', 'in-favor', 'in', 'against', 'neutral-or-unclear', 'against', 'against-favor', 'in-or-unclear', 'in-favor', 'neutral-or-unclear', 'against', 'in-favor', 'in-favor', 'against', 'in', 'in-favor', 'neutral-or-unclear', 'in', 'neutral', 'in-favor', 'in-or-unclear', 'against-favor', 'in-or-unclear', 'in-favor', 'against-favor', 'in-favor', 'in-favor', 'in-favor', 'in-favor', 'against', 'in-favor', 'neutral', 'in-favor', 'in-or-unclear', 'in-favor', 'against', 'against-favor', 'in-or-unclear', 'against', 'in', 'in-or-unclear', 'in-favor', 'against-or-unclear', 'against', 'in-favor', 'against', 'against-favor', 'in', 'in-favor', 'against-or-unclear', 'against', 'in-favor', 'in-favor', 'neutral-or-unclear', 'in-favor', 'against', 'in-favor', 'in-favor', 'against', 'against-favor', 'in-favor', 'against-or-unclear', 'in-favor', 'in-favor', 'in-favor', 'in-favor', 'in-favor', 'in-favor', 'in-favor', 'in-favor', 'against', 'against', 'in-favor', 'against-favor', 'in-favor', 'in-favor', 'neutral-favor', 'against-or-unclear', 'against', 'against', 'in-favor', 'in-favor', 'neutral', 'in-or-unclear', 'neutral-or-unclear', 'in-favor', 'in-favor', 'against-or-unclear', 'in-favor', 'in-favor', 'in-or-unclear', 'in-favor', 'neutral-or-unclear', 'in-favor', 'in-favor', 'in-or-unclear', 'against', 'in-favor', 'in-favor', 'against', 'against', 'in-favor', 'in-or-unclear', 'neutral-favor', 'in-favor', 'against-or-unclear', 'in', 'against-favor', 'in-favor', 'against', 'against', 'against', 'against', 'against-favor', 'in-or-unclear', 'against', 'against', 'against', 'against', 'neutral-or-unclear', 'in-favor', 'against', 'against', 'in-favor', 'neutral-or-unclear', 'in-favor', 'against-favor', 'against', 'neutral-or-unclear', 'against', 'against-or-unclear', 'in-favor', 'against', 'in-favor', 'in-favor', 'against', 'against', 'in', 'in-or-unclear', 'in-favor', 'in-favor', 'in-or-unclear', 'against', 'against', 'neutral-or-unclear', 'against', 'in-favor', 'in-favor', 'against', 'against', 'against', 'in-or-unclear', 'in-favor', 'against', 'in', 'against-or-unclear', 'against', 'against', 'in-or-unclear', 'in-favor', 'in-favor', 'against-or-unclear', 'against', 'in-or-unclear', 'against-or-unclear', 'in-favor', 'against', 'neutral-or-unclear', 'in-favor', 'against', 'in-favor', 'in-favor', 'against-or-unclear', 'in-favor', 'in-favor', 'in-favor', 'in-favor', 'in-favor', 'in-or-unclear', 'in-favor', 'against', 'in-favor', 'in', 'against', 'in-favor', 'in-favor', 'in-favor', 'in-favor', 'against', 'in-favor', 'in', 'in-favor', 'in-favor', 'against', 'neutral-or-unclear', 'in-favor', 'in-favor', 'in-favor', 'in-favor', 'in-favor', 'against', 'neutral-or-unclear', 'against', 'against-or-unclear', 'against', 'in', 'in-favor', 'in-favor', 'in-or-unclear', 'in-favor', 'against-favor', 'in-or-unclear', 'against-or-unclear', 'in', 'against', 'in', 'neutral', 'in-favor', 'neutral-favor', 'against', 'against', 'against', 'in-favor', 'against-favor', 'in-favor', 'against', 'in-favor', 'against', 'against', 'against', 'in-favor', 'in-favor', 'neutral', 'against', 'in', 'in-or-unclear', 'in-or-unclear', 'in-favor', 'neutral-or-unclear', 'in', 'against', 'in-favor', 'against', 'against', 'in-favor', 'in-favor', 'in-favor', 'in-favor', 'in-favor', 'neutral', 'neutral-favor', 'against', 'in-favor', 'against', 'in-or-unclear', 'neutral-or-unclear', 'against', 'in-favor', 'in-favor', 'in-favor', 'against', 'in-favor', 'in-or-unclear', 'neutral-or-unclear', 'neutral', 'against', 'in-favor', 'in-favor', 'neutral-or-unclear', 'in-favor', 'against', 'in-favor', 'neutral', 'in-favor', 'in-favor', 'in-favor', 'in-or-unclear', 'against', 'in-favor', 'in-favor', 'against', 'against', 'against-or-unclear', 'against-or-unclear', 'against-or-unclear', 'in-favor', 'in-favor', 'against', 'in-or-unclear', 'against-favor', 'against', 'in-favor', 'in-favor', 'against', 'against-or-unclear', 'against', 'against-favor', 'against-favor', 'against', 'in-favor', 'in-favor', 'against', 'in-favor', 'in-favor', 'in-favor', 'in-favor', 'in-favor', 'in', 'in-favor', 'neutral-or-unclear', 'in', 'in-favor', 'against-favor', 'neutral-or-unclear', 'in-favor', 'in-or-unclear', 'in-or-unclear', 'against', 'in-favor', 'in-favor', 'in-favor', 'against', 'against', 'in-favor', 'against-or-unclear', 'against', 'in-or-unclear', 'against', 'against', 'in', 'in-favor', 'in-or-unclear', 'in-favor', 'in-or-unclear', 'in-favor', 'in-favor', 'against', 'in', 'neutral', 'in-favor', 'against', 'against', 'in-favor', 'in-favor', 'neutral', 'against', 'in-or-unclear', 'against-or-unclear', 'neutral-or-unclear', 'in', 'in-favor', 'against-or-unclear', 'in', 'in-favor', 'against', 'in-favor', 'neutral-or-unclear', 'in-favor', 'against', 'in-favor', 'against', 'in-favor', 'in-favor', 'against-favor', 'in-or-unclear', 'in', 'in-favor', 'against-or-unclear', 'in-favor', 'in-favor', 'in-favor', 'in-favor', 'in-favor', 'in', 'in-favor', 'in-favor', 'in-favor', 'in-favor', 'in-favor', 'in-favor', 'neutral', 'in-favor', 'in-favor', 'in-favor', 'against', 'against', 'in-favor', 'in-favor', 'in-favor', 'in-favor', 'in-favor', 'against-or-unclear', 'against', 'in-or-unclear', 'in-favor', 'in', 'against', 'in-favor', 'against', 'in', 'in-or-unclear', 'in-favor', 'in-favor', 'in-favor', 'in-favor', 'neutral-or-unclear', 'in-favor', 'in-favor', 'against', 'in-favor', 'in-favor', 'against-favor', 'against', 'in-favor', 'in-favor', 'in-or-unclear', 'neutral-favor', 'in-favor', 'in-favor', 'neutral-favor', 'in-or-unclear', 'in-favor', 'in-or-unclear', 'in-favor', 'against', 'in-favor', 'in-favor', 'in-favor', 'against', 'neutral', 'in-favor', 'in-favor', 'neutral-or-unclear', 'in-favor', 'in-favor', 'against', 'against', 'against-or-unclear', 'in-or-unclear', 'against', 'in-favor', 'in-favor', 'in-favor', 'in-or-unclear', 'in-or-unclear', 'against', 'in-favor', 'in', 'in-favor', 'against', 'in-favor', 'in-favor', 'in-favor', 'in-favor', 'in-favor', 'in-favor', 'neutral-or-unclear', 'in-favor', 'in-favor', 'in-favor', 'against', 'in-favor', 'in-favor', 'in-favor', 'against', 'against-or-unclear', 'neutral-or-unclear', 'in-favor', 'in-favor', 'in-favor', 'against', 'in-favor', 'in-or-unclear', 'in-favor', 'neutral-or-unclear', 'in-favor', 'against', 'in-favor', 'neutral-favor', 'against', 'in-favor', 'against', 'in-favor', 'in-favor', 'in', 'in-favor', 'against', 'in-or-unclear', 'in-or-unclear', 'in-favor', 'against', 'against', 'against-favor', 'in', 'in-favor', 'in', 'in', 'in-favor', 'in-favor', 'against', 'in-favor', 'in-favor', 'in-favor', 'in-favor', 'in-favor', 'against', 'in-or-unclear', 'in-favor', 'in-favor', 'in-favor', 'in-favor', 'in-favor', 'against', 'in-favor', 'against', 'in', 'against', 'against-or-unclear', 'against', 'in', 'against-favor', 'against-or-unclear', 'against', 'in', 'in-favor', 'in-favor', 'against', 'against', 'in-favor', 'in-favor', 'against', 'in-favor', 'against-favor', 'against-or-unclear', 'in-favor', 'in-favor', 'in-favor', 'in-favor', 'in-or-unclear', 'in-favor', 'against-favor', 'against-or-unclear', 'against', 'in-or-unclear', 'in-or-unclear', 'against', 'against', 'against', 'against', 'against-favor', 'in-favor', 'in-favor', 'in-favor', 'in-or-unclear', 'against-favor', 'in-favor', 'in-favor', 'in-favor', 'against', 'in-favor', 'in-favor', 'against', 'against-favor', 'in-favor', 'in-or-unclear', 'in-favor', 'in-favor', 'neutral-or-unclear', 'against-or-unclear', 'against', 'against-favor', 'in-favor', 'against', 'in-favor', 'in-or-unclear', 'in-favor', 'in-favor', 'in', 'neutral-or-unclear', 'against', 'against', 'against', 'in-favor', 'in', 'in-or-unclear', 'in-favor', 'in-favor', 'against', 'in-favor', 'in-favor', 'in-or-unclear', 'against', 'in-favor', 'neutral-or-unclear', 'against', 'neutral-or-unclear', 'in-favor', 'against', 'neutral-favor', 'in-favor', 'neutral-or-unclear', 'in-favor', 'in-or-unclear', 'against', 'in-favor', 'in-favor', 'in-favor', 'in-or-unclear', 'in-favor', 'in-favor', 'in-favor', 'against', 'in', 'against', 'in-favor', 'neutral-or-unclear', 'in-or-unclear', 'against', 'in-favor', 'against-favor', 'in-favor', 'against-or-unclear', 'in-favor', 'in-favor', 'against', 'against', 'neutral-or-unclear', 'in', 'against-favor', 'in-favor', 'against', 'in-favor', 'in-favor', 'in-favor', 'neutral', 'neutral-or-unclear', 'in-favor', 'in-favor', 'in-or-unclear', 'in-favor', 'in-favor', 'in-favor', 'against', 'against', 'in-or-unclear', 'in', 'against', 'in-favor', 'in-favor', 'in-favor', 'in', 'in-favor', 'neutral-or-unclear', 'in-favor', 'in-favor']\n",
            "Labels: ['in-favor', 'against', 'in-favor', 'in-favor', 'in-favor', 'in-favor', 'neutral-or-unclear', 'against', 'in-favor', 'in-favor', 'in-favor', 'against', 'against', 'in-favor', 'against', 'in-favor', 'in-favor', 'in-favor', 'in-favor', 'in-favor', 'neutral-or-unclear', 'in-favor', 'in-favor', 'in-favor', 'in-favor', 'neutral-or-unclear', 'in-favor', 'against', 'against', 'against', 'in-favor', 'in-favor', 'in-favor', 'in-favor', 'in-favor', 'in-favor', 'in-favor', 'against', 'in-favor', 'in-favor', 'in-favor', 'in-favor', 'against', 'neutral-or-unclear', 'against', 'neutral-or-unclear', 'neutral-or-unclear', 'neutral-or-unclear', 'against', 'neutral-or-unclear', 'in-favor', 'in-favor', 'in-favor', 'against', 'in-favor', 'in-favor', 'in-favor', 'in-favor', 'in-favor', 'neutral-or-unclear', 'against', 'against', 'against', 'neutral-or-unclear', 'against', 'in-favor', 'in-favor', 'in-favor', 'against', 'against', 'in-favor', 'against', 'in-favor', 'against', 'neutral-or-unclear', 'against', 'against', 'against', 'against', 'against', 'neutral-or-unclear', 'in-favor', 'in-favor', 'in-favor', 'neutral-or-unclear', 'against', 'neutral-or-unclear', 'in-favor', 'in-favor', 'neutral-or-unclear', 'neutral-or-unclear', 'in-favor', 'against', 'neutral-or-unclear', 'against', 'in-favor', 'in-favor', 'against', 'in-favor', 'in-favor', 'against', 'in-favor', 'in-favor', 'against', 'against', 'against', 'against', 'in-favor', 'in-favor', 'against', 'neutral-or-unclear', 'neutral-or-unclear', 'against', 'in-favor', 'in-favor', 'against', 'neutral-or-unclear', 'neutral-or-unclear', 'neutral-or-unclear', 'in-favor', 'neutral-or-unclear', 'in-favor', 'in-favor', 'in-favor', 'in-favor', 'neutral-or-unclear', 'against', 'neutral-or-unclear', 'in-favor', 'against', 'against', 'against', 'in-favor', 'in-favor', 'in-favor', 'neutral-or-unclear', 'neutral-or-unclear', 'against', 'neutral-or-unclear', 'against', 'neutral-or-unclear', 'against', 'in-favor', 'in-favor', 'neutral-or-unclear', 'in-favor', 'in-favor', 'against', 'in-favor', 'in-favor', 'in-favor', 'in-favor', 'in-favor', 'in-favor', 'neutral-or-unclear', 'in-favor', 'in-favor', 'against', 'in-favor', 'in-favor', 'in-favor', 'in-favor', 'in-favor', 'against', 'in-favor', 'in-favor', 'in-favor', 'in-favor', 'in-favor', 'in-favor', 'against', 'neutral-or-unclear', 'in-favor', 'neutral-or-unclear', 'in-favor', 'in-favor', 'against', 'against', 'in-favor', 'in-favor', 'against', 'in-favor', 'in-favor', 'against', 'neutral-or-unclear', 'neutral-or-unclear', 'against', 'neutral-or-unclear', 'against', 'in-favor', 'in-favor', 'neutral-or-unclear', 'against', 'in-favor', 'in-favor', 'in-favor', 'neutral-or-unclear', 'in-favor', 'in-favor', 'in-favor', 'in-favor', 'in-favor', 'against', 'neutral-or-unclear', 'in-favor', 'neutral-or-unclear', 'in-favor', 'in-favor', 'in-favor', 'in-favor', 'neutral-or-unclear', 'neutral-or-unclear', 'against', 'in-favor', 'against', 'against', 'neutral-or-unclear', 'neutral-or-unclear', 'in-favor', 'neutral-or-unclear', 'in-favor', 'in-favor', 'against', 'in-favor', 'against', 'against', 'against', 'in-favor', 'against', 'against', 'in-favor', 'against', 'in-favor', 'in-favor', 'in-favor', 'against', 'against', 'in-favor', 'neutral-or-unclear', 'in-favor', 'against', 'against', 'in-favor', 'in-favor', 'neutral-or-unclear', 'neutral-or-unclear', 'against', 'against', 'against', 'in-favor', 'neutral-or-unclear', 'in-favor', 'against', 'in-favor', 'neutral-or-unclear', 'in-favor', 'in-favor', 'in-favor', 'neutral-or-unclear', 'in-favor', 'against', 'neutral-or-unclear', 'in-favor', 'in-favor', 'neutral-or-unclear', 'neutral-or-unclear', 'against', 'against', 'in-favor', 'in-favor', 'in-favor', 'in-favor', 'in-favor', 'in-favor', 'in-favor', 'in-favor', 'neutral-or-unclear', 'against', 'against', 'in-favor', 'in-favor', 'against', 'against', 'neutral-or-unclear', 'against', 'in-favor', 'neutral-or-unclear', 'in-favor', 'in-favor', 'against', 'in-favor', 'in-favor', 'against', 'against', 'against', 'in-favor', 'against', 'in-favor', 'against', 'against', 'in-favor', 'neutral-or-unclear', 'against', 'against', 'against', 'in-favor', 'against', 'in-favor', 'in-favor', 'in-favor', 'neutral-or-unclear', 'against', 'neutral-or-unclear', 'in-favor', 'against', 'in-favor', 'against', 'neutral-or-unclear', 'in-favor', 'in-favor', 'in-favor', 'neutral-or-unclear', 'against', 'against', 'in-favor', 'in-favor', 'neutral-or-unclear', 'in-favor', 'in-favor', 'against', 'in-favor', 'in-favor', 'in-favor', 'in-favor', 'neutral-or-unclear', 'in-favor', 'against', 'in-favor', 'neutral-or-unclear', 'neutral-or-unclear', 'in-favor', 'in-favor', 'against', 'in-favor', 'against', 'neutral-or-unclear', 'in-favor', 'in-favor', 'against', 'in-favor', 'in-favor', 'in-favor', 'against', 'in-favor', 'in-favor', 'against', 'in-favor', 'against', 'in-favor', 'in-favor', 'in-favor', 'in-favor', 'neutral-or-unclear', 'against', 'against', 'in-favor', 'in-favor', 'neutral-or-unclear', 'neutral-or-unclear', 'against', 'in-favor', 'against', 'neutral-or-unclear', 'in-favor', 'neutral-or-unclear', 'neutral-or-unclear', 'in-favor', 'in-favor', 'in-favor', 'in-favor', 'against', 'against', 'against', 'in-favor', 'in-favor', 'in-favor', 'in-favor', 'neutral-or-unclear', 'against', 'in-favor', 'against', 'against', 'against', 'against', 'in-favor', 'in-favor', 'in-favor', 'neutral-or-unclear', 'against', 'against', 'in-favor', 'in-favor', 'against', 'neutral-or-unclear', 'in-favor', 'neutral-or-unclear', 'neutral-or-unclear', 'in-favor', 'against', 'in-favor', 'in-favor', 'neutral-or-unclear', 'neutral-or-unclear', 'in-favor', 'against', 'in-favor', 'against', 'against', 'against', 'neutral-or-unclear', 'neutral-or-unclear', 'in-favor', 'against', 'in-favor', 'in-favor', 'neutral-or-unclear', 'neutral-or-unclear', 'in-favor', 'neutral-or-unclear', 'in-favor', 'neutral-or-unclear', 'in-favor', 'against', 'neutral-or-unclear', 'against', 'in-favor', 'in-favor', 'neutral-or-unclear', 'neutral-or-unclear', 'in-favor', 'in-favor', 'in-favor', 'in-favor', 'in-favor', 'against', 'in-favor', 'in-favor', 'neutral-or-unclear', 'in-favor', 'neutral-or-unclear', 'in-favor', 'in-favor', 'against', 'against', 'in-favor', 'in-favor', 'in-favor', 'in-favor', 'in-favor', 'against', 'neutral-or-unclear', 'against', 'in-favor', 'in-favor', 'in-favor', 'in-favor', 'against', 'against', 'in-favor', 'in-favor', 'in-favor', 'in-favor', 'against', 'against', 'against', 'against', 'in-favor', 'against', 'neutral-or-unclear', 'neutral-or-unclear', 'in-favor', 'in-favor', 'in-favor', 'against', 'in-favor', 'neutral-or-unclear', 'neutral-or-unclear', 'in-favor', 'in-favor', 'in-favor', 'in-favor', 'against', 'against', 'against', 'against', 'neutral-or-unclear', 'in-favor', 'in-favor', 'against', 'against', 'neutral-or-unclear', 'against', 'in-favor', 'neutral-or-unclear', 'in-favor', 'neutral-or-unclear', 'against', 'in-favor', 'in-favor', 'against', 'against', 'in-favor', 'neutral-or-unclear', 'against', 'against', 'in-favor', 'neutral-or-unclear', 'in-favor', 'neutral-or-unclear', 'in-favor', 'in-favor', 'in-favor', 'in-favor', 'in-favor', 'in-favor', 'against', 'in-favor', 'against', 'in-favor', 'neutral-or-unclear', 'in-favor', 'against', 'in-favor', 'neutral-or-unclear', 'against', 'against', 'neutral-or-unclear', 'in-favor', 'neutral-or-unclear', 'against', 'in-favor', 'against', 'in-favor', 'against', 'in-favor', 'neutral-or-unclear', 'against', 'in-favor', 'in-favor', 'neutral-or-unclear', 'in-favor', 'against', 'in-favor', 'in-favor', 'against', 'in-favor', 'in-favor', 'neutral-or-unclear', 'in-favor', 'in-favor', 'in-favor', 'in-favor', 'in-favor', 'in-favor', 'in-favor', 'in-favor', 'against', 'against', 'in-favor', 'in-favor', 'in-favor', 'in-favor', 'in-favor', 'neutral-or-unclear', 'against', 'against', 'in-favor', 'in-favor', 'against', 'neutral-or-unclear', 'neutral-or-unclear', 'in-favor', 'in-favor', 'neutral-or-unclear', 'in-favor', 'in-favor', 'neutral-or-unclear', 'in-favor', 'neutral-or-unclear', 'in-favor', 'in-favor', 'neutral-or-unclear', 'against', 'in-favor', 'in-favor', 'against', 'against', 'in-favor', 'neutral-or-unclear', 'in-favor', 'in-favor', 'neutral-or-unclear', 'against', 'in-favor', 'in-favor', 'against', 'against', 'against', 'against', 'in-favor', 'neutral-or-unclear', 'against', 'against', 'against', 'against', 'neutral-or-unclear', 'in-favor', 'against', 'against', 'in-favor', 'neutral-or-unclear', 'in-favor', 'in-favor', 'against', 'neutral-or-unclear', 'against', 'neutral-or-unclear', 'in-favor', 'against', 'in-favor', 'in-favor', 'against', 'against', 'against', 'neutral-or-unclear', 'in-favor', 'in-favor', 'neutral-or-unclear', 'against', 'against', 'neutral-or-unclear', 'against', 'in-favor', 'in-favor', 'against', 'against', 'against', 'neutral-or-unclear', 'in-favor', 'against', 'against', 'neutral-or-unclear', 'against', 'against', 'neutral-or-unclear', 'in-favor', 'in-favor', 'neutral-or-unclear', 'against', 'neutral-or-unclear', 'neutral-or-unclear', 'in-favor', 'against', 'neutral-or-unclear', 'in-favor', 'against', 'in-favor', 'in-favor', 'neutral-or-unclear', 'in-favor', 'in-favor', 'in-favor', 'in-favor', 'in-favor', 'neutral-or-unclear', 'in-favor', 'against', 'in-favor', 'against', 'against', 'in-favor', 'in-favor', 'in-favor', 'in-favor', 'against', 'in-favor', 'against', 'in-favor', 'in-favor', 'against', 'neutral-or-unclear', 'in-favor', 'in-favor', 'in-favor', 'in-favor', 'in-favor', 'against', 'neutral-or-unclear', 'against', 'neutral-or-unclear', 'against', 'against', 'in-favor', 'in-favor', 'neutral-or-unclear', 'in-favor', 'in-favor', 'neutral-or-unclear', 'neutral-or-unclear', 'against', 'against', 'against', 'against', 'in-favor', 'in-favor', 'against', 'against', 'against', 'in-favor', 'in-favor', 'in-favor', 'against', 'in-favor', 'against', 'against', 'against', 'in-favor', 'in-favor', 'against', 'against', 'against', 'neutral-or-unclear', 'neutral-or-unclear', 'in-favor', 'neutral-or-unclear', 'against', 'against', 'in-favor', 'against', 'against', 'in-favor', 'in-favor', 'in-favor', 'in-favor', 'in-favor', 'against', 'in-favor', 'against', 'in-favor', 'against', 'neutral-or-unclear', 'neutral-or-unclear', 'against', 'in-favor', 'in-favor', 'in-favor', 'against', 'in-favor', 'neutral-or-unclear', 'neutral-or-unclear', 'against', 'against', 'in-favor', 'in-favor', 'neutral-or-unclear', 'in-favor', 'against', 'in-favor', 'against', 'in-favor', 'in-favor', 'in-favor', 'neutral-or-unclear', 'against', 'in-favor', 'in-favor', 'against', 'against', 'neutral-or-unclear', 'neutral-or-unclear', 'neutral-or-unclear', 'in-favor', 'in-favor', 'against', 'neutral-or-unclear', 'in-favor', 'against', 'in-favor', 'in-favor', 'against', 'neutral-or-unclear', 'against', 'in-favor', 'in-favor', 'against', 'in-favor', 'in-favor', 'against', 'in-favor', 'in-favor', 'in-favor', 'in-favor', 'in-favor', 'against', 'in-favor', 'neutral-or-unclear', 'against', 'in-favor', 'in-favor', 'neutral-or-unclear', 'in-favor', 'neutral-or-unclear', 'neutral-or-unclear', 'against', 'in-favor', 'in-favor', 'in-favor', 'against', 'against', 'in-favor', 'neutral-or-unclear', 'against', 'neutral-or-unclear', 'against', 'against', 'against', 'in-favor', 'neutral-or-unclear', 'in-favor', 'neutral-or-unclear', 'in-favor', 'in-favor', 'against', 'against', 'against', 'in-favor', 'against', 'against', 'in-favor', 'in-favor', 'against', 'against', 'neutral-or-unclear', 'neutral-or-unclear', 'neutral-or-unclear', 'against', 'in-favor', 'neutral-or-unclear', 'against', 'in-favor', 'against', 'in-favor', 'neutral-or-unclear', 'in-favor', 'against', 'in-favor', 'against', 'in-favor', 'in-favor', 'in-favor', 'neutral-or-unclear', 'against', 'in-favor', 'neutral-or-unclear', 'in-favor', 'in-favor', 'in-favor', 'in-favor', 'in-favor', 'against', 'in-favor', 'in-favor', 'in-favor', 'in-favor', 'in-favor', 'in-favor', 'against', 'in-favor', 'in-favor', 'in-favor', 'against', 'against', 'in-favor', 'in-favor', 'in-favor', 'in-favor', 'in-favor', 'neutral-or-unclear', 'against', 'neutral-or-unclear', 'in-favor', 'against', 'against', 'in-favor', 'against', 'against', 'neutral-or-unclear', 'in-favor', 'in-favor', 'in-favor', 'in-favor', 'neutral-or-unclear', 'in-favor', 'in-favor', 'against', 'in-favor', 'in-favor', 'in-favor', 'against', 'in-favor', 'in-favor', 'neutral-or-unclear', 'in-favor', 'in-favor', 'in-favor', 'in-favor', 'neutral-or-unclear', 'in-favor', 'neutral-or-unclear', 'in-favor', 'against', 'in-favor', 'in-favor', 'in-favor', 'against', 'against', 'in-favor', 'in-favor', 'neutral-or-unclear', 'in-favor', 'in-favor', 'against', 'against', 'neutral-or-unclear', 'neutral-or-unclear', 'against', 'in-favor', 'in-favor', 'in-favor', 'neutral-or-unclear', 'neutral-or-unclear', 'against', 'in-favor', 'against', 'in-favor', 'against', 'in-favor', 'in-favor', 'in-favor', 'in-favor', 'in-favor', 'in-favor', 'neutral-or-unclear', 'in-favor', 'in-favor', 'in-favor', 'against', 'in-favor', 'in-favor', 'in-favor', 'against', 'neutral-or-unclear', 'neutral-or-unclear', 'in-favor', 'in-favor', 'in-favor', 'against', 'in-favor', 'neutral-or-unclear', 'in-favor', 'neutral-or-unclear', 'in-favor', 'against', 'in-favor', 'in-favor', 'against', 'in-favor', 'against', 'in-favor', 'in-favor', 'against', 'in-favor', 'against', 'neutral-or-unclear', 'neutral-or-unclear', 'in-favor', 'against', 'against', 'in-favor', 'against', 'in-favor', 'against', 'against', 'in-favor', 'in-favor', 'against', 'in-favor', 'in-favor', 'in-favor', 'in-favor', 'in-favor', 'against', 'neutral-or-unclear', 'in-favor', 'in-favor', 'in-favor', 'in-favor', 'in-favor', 'against', 'in-favor', 'against', 'against', 'against', 'neutral-or-unclear', 'against', 'against', 'in-favor', 'neutral-or-unclear', 'against', 'against', 'in-favor', 'in-favor', 'against', 'against', 'in-favor', 'in-favor', 'against', 'in-favor', 'in-favor', 'neutral-or-unclear', 'in-favor', 'in-favor', 'in-favor', 'in-favor', 'neutral-or-unclear', 'in-favor', 'in-favor', 'neutral-or-unclear', 'against', 'neutral-or-unclear', 'neutral-or-unclear', 'against', 'against', 'against', 'against', 'in-favor', 'in-favor', 'in-favor', 'in-favor', 'neutral-or-unclear', 'in-favor', 'in-favor', 'in-favor', 'in-favor', 'against', 'in-favor', 'in-favor', 'against', 'in-favor', 'in-favor', 'neutral-or-unclear', 'in-favor', 'in-favor', 'neutral-or-unclear', 'neutral-or-unclear', 'against', 'in-favor', 'in-favor', 'against', 'in-favor', 'neutral-or-unclear', 'in-favor', 'in-favor', 'against', 'neutral-or-unclear', 'against', 'against', 'against', 'in-favor', 'against', 'neutral-or-unclear', 'in-favor', 'in-favor', 'against', 'in-favor', 'in-favor', 'neutral-or-unclear', 'against', 'in-favor', 'neutral-or-unclear', 'against', 'neutral-or-unclear', 'in-favor', 'against', 'in-favor', 'in-favor', 'neutral-or-unclear', 'in-favor', 'neutral-or-unclear', 'against', 'in-favor', 'in-favor', 'in-favor', 'neutral-or-unclear', 'in-favor', 'in-favor', 'in-favor', 'against', 'against', 'against', 'in-favor', 'neutral-or-unclear', 'neutral-or-unclear', 'against', 'in-favor', 'in-favor', 'in-favor', 'neutral-or-unclear', 'in-favor', 'in-favor', 'against', 'against', 'neutral-or-unclear', 'against', 'in-favor', 'in-favor', 'against', 'in-favor', 'in-favor', 'in-favor', 'against', 'neutral-or-unclear', 'in-favor', 'in-favor', 'neutral-or-unclear', 'in-favor', 'in-favor', 'in-favor', 'against', 'against', 'neutral-or-unclear', 'against', 'against', 'in-favor', 'in-favor', 'in-favor', 'against', 'in-favor', 'neutral-or-unclear', 'in-favor', 'in-favor']\n",
            "F1 Score: {'f1': 0.822320108199574}\n",
            "Predictions: ['in-favor', 'in', 'in-favor', 'neutral-favor', 'in-favor', 'in-favor', 'neutral-or-unclear', 'in', 'in-favor', 'in-favor', 'in-favor', 'against', 'against', 'in-favor', 'against', 'in-favor', 'in-favor', 'in-favor', 'in-favor', 'neutral-favor', 'against-or-unclear', 'in-favor', 'in-favor', 'in-favor', 'in-favor', 'in-or-unclear', 'in-favor', 'against', 'against', 'against', 'in-favor', 'in-favor', 'in-favor', 'in-favor', 'against-favor', 'in-favor', 'in-favor', 'against', 'in-favor', 'in-favor', 'in-favor', 'in-favor', 'against', 'in-or-unclear', 'against', 'against-or-unclear', 'in-or-unclear', 'against-or-unclear', 'in', 'in-or-unclear', 'in-favor', 'in-favor', 'in-favor', 'in', 'in-favor', 'in-favor', 'in-favor', 'in-favor', 'in-favor', 'neutral-or-unclear', 'against', 'in', 'against', 'against-or-unclear', 'against', 'in-favor', 'in-favor', 'in-favor', 'against', 'against', 'in-favor', 'against', 'in-favor', 'against', 'against-or-unclear', 'neutral', 'against', 'in', 'in', 'against', 'against-or-unclear', 'in-favor', 'in-favor', 'in-favor', 'in-or-unclear', 'against', 'in-or-unclear', 'against-favor', 'in-favor', 'neutral-or-unclear', 'neutral-or-unclear', 'in-favor', 'against', 'in-or-unclear', 'against', 'in-favor', 'in-favor', 'against', 'in-favor', 'in-favor', 'against', 'in-favor', 'in-favor', 'against', 'against', 'neutral', 'against', 'against-favor', 'in-favor', 'against', 'against-or-unclear', 'in-or-unclear', 'against', 'in-favor', 'in-favor', 'against', 'in-or-unclear', 'neutral-or-unclear', 'neutral-or-unclear', 'in-favor', 'neutral-or-unclear', 'in-favor', 'in-favor', 'in-favor', 'in-favor', 'against-or-unclear', 'against', 'in-or-unclear', 'in-favor', 'against', 'against', 'against', 'against-favor', 'in-favor', 'in-favor', 'neutral-or-unclear', 'against-or-unclear', 'in', 'against-or-unclear', 'against', 'neutral-or-unclear', 'in', 'in-favor', 'in-favor', 'in-or-unclear', 'in-favor', 'in-favor', 'against', 'in-favor', 'in-favor', 'in-favor', 'in-favor', 'in-favor', 'neutral-favor', 'against-or-unclear', 'in-favor', 'in-favor', 'against', 'in-favor', 'in-favor', 'in-favor', 'in-favor', 'in-favor', 'against', 'in-favor', 'in-favor', 'in-favor', 'in-favor', 'in-favor', 'in-favor', 'against', 'against-or-unclear', 'in-favor', 'neutral-or-unclear', 'in-favor', 'in-favor', 'against', 'against', 'in-favor', 'in-favor', 'in', 'in-favor', 'in-favor', 'against', 'in-or-unclear', 'in-or-unclear', 'against', 'neutral-or-unclear', 'in', 'in-favor', 'against-favor', 'against-or-unclear', 'against', 'in-favor', 'neutral-favor', 'against-favor', 'neutral-or-unclear', 'in-favor', 'in-favor', 'in-favor', 'neutral-favor', 'against-favor', 'against', 'in-or-unclear', 'in-favor', 'against-or-unclear', 'neutral-favor', 'against-favor', 'in-favor', 'in-favor', 'in-or-unclear', 'neutral-or-unclear', 'neutral', 'in-favor', 'in', 'against', 'in-or-unclear', 'neutral-or-unclear', 'in-favor', 'in-or-unclear', 'neutral-favor', 'in-favor', 'against', 'in-favor', 'against', 'against', 'in', 'in-favor', 'against', 'in', 'in-favor', 'against', 'against-favor', 'in-favor', 'in-favor', 'against', 'against', 'in-favor', 'in-or-unclear', 'against-favor', 'against', 'against', 'in-favor', 'neutral-favor', 'neutral-or-unclear', 'against-or-unclear', 'against', 'against', 'against', 'in-favor', 'in-or-unclear', 'in-favor', 'against', 'in-favor', 'neutral-or-unclear', 'in-favor', 'in-favor', 'in-favor', 'in-or-unclear', 'in-favor', 'against', 'in-or-unclear', 'in-favor', 'in-favor', 'neutral-or-unclear', 'neutral-or-unclear', 'against', 'against', 'in-favor', 'in-favor', 'in-favor', 'in-favor', 'in-favor', 'against-favor', 'in-favor', 'in-favor', 'against-or-unclear', 'against', 'against', 'against-favor', 'in-favor', 'against', 'neutral', 'against-or-unclear', 'against', 'in-favor', 'neutral-or-unclear', 'in-favor', 'in-favor', 'against', 'in-favor', 'in-favor', 'in', 'against', 'against', 'in-favor', 'against', 'in-favor', 'against', 'in', 'in-favor', 'against-or-unclear', 'against', 'against', 'against', 'in-favor', 'against', 'in-favor', 'in-favor', 'in-favor', 'in-or-unclear', 'against', 'against-or-unclear', 'in-favor', 'against', 'in-favor', 'against', 'in-or-unclear', 'in-favor', 'in-favor', 'in-favor', 'in-or-unclear', 'against', 'against', 'in-favor', 'in-favor', 'neutral-or-unclear', 'in-favor', 'in-favor', 'against', 'in-favor', 'in-favor', 'in-favor', 'in-favor', 'against-or-unclear', 'in-favor', 'against', 'in-favor', 'neutral-or-unclear', 'in-or-unclear', 'in-favor', 'in-favor', 'against', 'in-favor', 'against', 'in-or-unclear', 'in-favor', 'in-favor', 'against', 'in-favor', 'in-favor', 'in-favor', 'against', 'in-favor', 'in-favor', 'against', 'in-favor', 'neutral', 'in-favor', 'in-favor', 'in-favor', 'in-favor', 'neutral-or-unclear', 'in', 'against', 'in-favor', 'in-favor', 'in-or-unclear', 'against-or-unclear', 'against', 'in-favor', 'against', 'in-or-unclear', 'in-favor', 'against-or-unclear', 'neutral-or-unclear', 'in-favor', 'against-favor', 'in-favor', 'in-favor', 'against', 'against', 'against', 'in-favor', 'in-favor', 'in-favor', 'in-favor', 'against-or-unclear', 'against', 'in-favor', 'in', 'against', 'against', 'against', 'in-favor', 'in-favor', 'in-favor', 'in-or-unclear', 'against', 'in', 'in-favor', 'in-favor', 'neutral', 'in-or-unclear', 'in-favor', 'in-or-unclear', 'in-or-unclear', 'in-favor', 'neutral', 'in-favor', 'in-favor', 'neutral-or-unclear', 'against-or-unclear', 'against-favor', 'against', 'in-favor', 'against', 'against', 'against', 'against-or-unclear', 'in-or-unclear', 'in-favor', 'against', 'in-favor', 'in-favor', 'in-or-unclear', 'neutral-or-unclear', 'in-favor', 'in-or-unclear', 'in-favor', 'against-or-unclear', 'in-favor', 'against', 'neutral-or-unclear', 'against', 'in-favor', 'in-favor', 'against-or-unclear', 'against-or-unclear', 'in-favor', 'in-favor', 'in-favor', 'in-favor', 'in-favor', 'in', 'in-favor', 'in-favor', 'in-or-unclear', 'in-favor', 'in-or-unclear', 'in-favor', 'in-favor', 'against', 'against', 'in-favor', 'in-favor', 'against-favor', 'in-favor', 'in-favor', 'neutral', 'neutral-or-unclear', 'against', 'against-favor', 'in-favor', 'in-favor', 'in-favor', 'against', 'against', 'in-favor', 'in-favor', 'in-favor', 'against-favor', 'against', 'against', 'against', 'against', 'in-favor', 'against', 'neutral-or-unclear', 'against-or-unclear', 'in-favor', 'in-favor', 'in-favor', 'against', 'in-favor', 'neutral-or-unclear', 'neutral-or-unclear', 'in-favor', 'in-favor', 'in-favor', 'in-favor', 'against', 'in', 'against', 'against', 'neutral-or-unclear', 'in-favor', 'in-favor', 'in', 'against', 'neutral-or-unclear', 'against', 'against-favor', 'against-or-unclear', 'in-favor', 'neutral-or-unclear', 'against', 'in-favor', 'in-favor', 'against', 'in', 'in-favor', 'neutral-or-unclear', 'in', 'neutral', 'in-favor', 'in-or-unclear', 'against-favor', 'in-or-unclear', 'in-favor', 'against-favor', 'in-favor', 'in-favor', 'in-favor', 'in-favor', 'against', 'in-favor', 'neutral', 'in-favor', 'in-or-unclear', 'in-favor', 'against', 'against-favor', 'in-or-unclear', 'against', 'in', 'in-or-unclear', 'in-favor', 'against-or-unclear', 'against', 'in-favor', 'against', 'against-favor', 'in', 'in-favor', 'against-or-unclear', 'against', 'in-favor', 'in-favor', 'neutral-or-unclear', 'in-favor', 'against', 'in-favor', 'in-favor', 'against', 'against-favor', 'in-favor', 'against-or-unclear', 'in-favor', 'in-favor', 'in-favor', 'in-favor', 'in-favor', 'in-favor', 'in-favor', 'in-favor', 'against', 'against', 'in-favor', 'against-favor', 'in-favor', 'in-favor', 'neutral-favor', 'against-or-unclear', 'against', 'against', 'in-favor', 'in-favor', 'against', 'in-or-unclear', 'neutral-or-unclear', 'in-favor', 'in-favor', 'against-or-unclear', 'in-favor', 'in-favor', 'in-or-unclear', 'in-favor', 'neutral-or-unclear', 'in-favor', 'in-favor', 'in-or-unclear', 'against', 'in-favor', 'in-favor', 'against', 'against', 'in-favor', 'in-or-unclear', 'neutral-favor', 'in-favor', 'neutral-or-unclear', 'in', 'against-favor', 'in-favor', 'against', 'against', 'against', 'against', 'against-favor', 'against-or-unclear', 'against', 'against', 'against', 'against', 'neutral-or-unclear', 'in-favor', 'against', 'against', 'in-favor', 'neutral-or-unclear', 'in-favor', 'against-favor', 'against', 'against-or-unclear', 'against', 'against-or-unclear', 'in-favor', 'against', 'in-favor', 'in-favor', 'against', 'against', 'in', 'in-or-unclear', 'in-favor', 'in-favor', 'in-or-unclear', 'against', 'against', 'neutral-or-unclear', 'against', 'in-favor', 'in-favor', 'against', 'against', 'against', 'in-or-unclear', 'in-favor', 'against', 'in', 'against-or-unclear', 'against', 'against', 'in-or-unclear', 'in-favor', 'in-favor', 'against-or-unclear', 'against', 'in-or-unclear', 'against-or-unclear', 'in-favor', 'against', 'neutral-or-unclear', 'in-favor', 'against', 'in-favor', 'in-favor', 'against-or-unclear', 'in-favor', 'in-favor', 'in-favor', 'in-favor', 'in-favor', 'in-or-unclear', 'in-favor', 'against', 'in-favor', 'in', 'against', 'in-favor', 'in-favor', 'in-favor', 'in-favor', 'against', 'in-favor', 'against', 'in-favor', 'in-favor', 'against', 'neutral-or-unclear', 'in-favor', 'against-favor', 'against-favor', 'in-favor', 'in-favor', 'against', 'neutral-or-unclear', 'against', 'against-or-unclear', 'against', 'against', 'in-favor', 'in-favor', 'in-or-unclear', 'in-favor', 'against-favor', 'in-or-unclear', 'against-or-unclear', 'against', 'against', 'in', 'neutral', 'in-favor', 'neutral-favor', 'against', 'against', 'against', 'against-favor', 'against-favor', 'in-favor', 'against', 'in-favor', 'against', 'against', 'against', 'in-favor', 'in-favor', 'neutral', 'against', 'in', 'in-or-unclear', 'in-or-unclear', 'in-favor', 'neutral-or-unclear', 'against', 'against', 'in-favor', 'against', 'against', 'in-favor', 'in-favor', 'in-favor', 'in-favor', 'in-favor', 'neutral', 'neutral-favor', 'against', 'in-favor', 'against', 'in-or-unclear', 'neutral-or-unclear', 'against', 'in-favor', 'in-favor', 'in-favor', 'against', 'in-favor', 'in-or-unclear', 'neutral-or-unclear', 'neutral', 'against', 'in-favor', 'in-favor', 'neutral-or-unclear', 'in-favor', 'against', 'in-favor', 'neutral', 'in-favor', 'in-favor', 'in-favor', 'in-or-unclear', 'against', 'in-favor', 'in-favor', 'against', 'against', 'against-or-unclear', 'against-or-unclear', 'against-or-unclear', 'in-favor', 'in-favor', 'against', 'neutral-or-unclear', 'against-favor', 'against', 'in-favor', 'in-favor', 'against', 'against-or-unclear', 'against', 'against-favor', 'against-favor', 'neutral', 'in-favor', 'in-favor', 'against', 'in-favor', 'in-favor', 'in-favor', 'in-favor', 'in-favor', 'in', 'in-favor', 'against-or-unclear', 'in', 'in-favor', 'against-favor', 'in-or-unclear', 'neutral-favor', 'in-or-unclear', 'in-or-unclear', 'against', 'in-favor', 'in-favor', 'in-favor', 'against', 'against', 'in-favor', 'against-or-unclear', 'against', 'in-or-unclear', 'against', 'against', 'in', 'in-favor', 'in-or-unclear', 'in-favor', 'in-or-unclear', 'in-favor', 'in-favor', 'against', 'against', 'neutral', 'in-favor', 'against', 'against', 'in-favor', 'in-favor', 'against', 'against', 'in-or-unclear', 'against-or-unclear', 'neutral-or-unclear', 'against', 'in-favor', 'against-or-unclear', 'against', 'in-favor', 'against', 'in-favor', 'neutral-or-unclear', 'in-favor', 'against', 'in-favor', 'against', 'in-favor', 'in-favor', 'against-favor', 'in-or-unclear', 'against', 'in-favor', 'against-or-unclear', 'in-favor', 'in-favor', 'in-favor', 'in-favor', 'in-favor', 'neutral', 'in-favor', 'in-favor', 'in-favor', 'in-favor', 'in-favor', 'in-favor', 'neutral', 'in-favor', 'in-favor', 'in-favor', 'against', 'against', 'in-favor', 'in-favor', 'in-favor', 'in-favor', 'in-favor', 'against-or-unclear', 'against', 'in-or-unclear', 'in-favor', 'in', 'against', 'in-favor', 'against', 'in', 'in-or-unclear', 'in-favor', 'in-favor', 'in-favor', 'in-favor', 'neutral-or-unclear', 'in-favor', 'in-favor', 'against', 'in-favor', 'in-favor', 'against-favor', 'against', 'in-favor', 'in-favor', 'in-or-unclear', 'neutral-favor', 'in-favor', 'in-favor', 'against-favor', 'in-or-unclear', 'in-favor', 'in-or-unclear', 'in-favor', 'against', 'in-favor', 'in-favor', 'in-favor', 'against', 'neutral', 'in-favor', 'in-favor', 'neutral-or-unclear', 'in-favor', 'in-favor', 'against', 'against', 'against-or-unclear', 'neutral-or-unclear', 'against', 'in-favor', 'in-favor', 'in-favor', 'in-or-unclear', 'neutral-or-unclear', 'against', 'in-favor', 'against', 'in-favor', 'against', 'in-favor', 'in-favor', 'in-favor', 'in-favor', 'in-favor', 'in-favor', 'neutral-or-unclear', 'in-favor', 'in-favor', 'in-favor', 'against', 'in-favor', 'in-favor', 'in-favor', 'against', 'against-or-unclear', 'neutral-or-unclear', 'in-favor', 'in-favor', 'against-favor', 'against', 'in-favor', 'neutral-or-unclear', 'in-favor', 'neutral-or-unclear', 'in-favor', 'against', 'in-favor', 'neutral-favor', 'against', 'in-favor', 'against', 'in-favor', 'in-favor', 'in', 'in-favor', 'against', 'in-or-unclear', 'in-or-unclear', 'in-favor', 'against', 'against', 'against-favor', 'against', 'in-favor', 'against', 'in', 'against-favor', 'in-favor', 'against', 'in-favor', 'in-favor', 'in-favor', 'in-favor', 'in-favor', 'against', 'in-or-unclear', 'in-favor', 'in-favor', 'in-favor', 'in-favor', 'in-favor', 'against', 'in-favor', 'against', 'neutral', 'against', 'against-or-unclear', 'against', 'against', 'against-favor', 'against-or-unclear', 'against', 'in', 'in-favor', 'in-favor', 'against', 'against', 'against-favor', 'in-favor', 'against', 'in-favor', 'against-favor', 'neutral-or-unclear', 'in-favor', 'in-favor', 'in-favor', 'in-favor', 'in-or-unclear', 'in-favor', 'against-favor', 'against-or-unclear', 'against', 'neutral-or-unclear', 'in-or-unclear', 'against', 'against', 'against', 'against', 'against-favor', 'against-favor', 'in-favor', 'in-favor', 'in-or-unclear', 'against-favor', 'in-favor', 'in-favor', 'in-favor', 'against', 'in-favor', 'in-favor', 'against', 'against-favor', 'in-favor', 'in-or-unclear', 'in-favor', 'in-favor', 'neutral-or-unclear', 'against-or-unclear', 'against', 'against-favor', 'in-favor', 'against', 'in-favor', 'neutral-or-unclear', 'in-favor', 'in-favor', 'in', 'neutral-or-unclear', 'against', 'against', 'against', 'in-favor', 'in', 'in-or-unclear', 'in-favor', 'in-favor', 'against', 'in-favor', 'in-favor', 'in-or-unclear', 'against', 'in-favor', 'neutral-or-unclear', 'against', 'neutral-or-unclear', 'in-favor', 'against', 'neutral-favor', 'in-favor', 'neutral-or-unclear', 'in-favor', 'in-or-unclear', 'against', 'in-favor', 'in-favor', 'in-favor', 'in-or-unclear', 'in-favor', 'against-favor', 'in-favor', 'against', 'in', 'against', 'in-favor', 'neutral-or-unclear', 'neutral-or-unclear', 'against', 'in-favor', 'against-favor', 'in-favor', 'against-or-unclear', 'in-favor', 'in-favor', 'against', 'against', 'neutral-or-unclear', 'in', 'against-favor', 'in-favor', 'against', 'in-favor', 'in-favor', 'in-favor', 'neutral', 'neutral-or-unclear', 'in-favor', 'in-favor', 'in-or-unclear', 'in-favor', 'against-favor', 'in-favor', 'against', 'against', 'neutral-or-unclear', 'in', 'neutral', 'in-favor', 'in-favor', 'in-favor', 'in', 'in-favor', 'neutral-or-unclear', 'in-favor', 'in-favor']\n",
            "Labels: ['in-favor', 'against', 'in-favor', 'in-favor', 'in-favor', 'in-favor', 'neutral-or-unclear', 'against', 'in-favor', 'in-favor', 'in-favor', 'against', 'against', 'in-favor', 'against', 'in-favor', 'in-favor', 'in-favor', 'in-favor', 'in-favor', 'neutral-or-unclear', 'in-favor', 'in-favor', 'in-favor', 'in-favor', 'neutral-or-unclear', 'in-favor', 'against', 'against', 'against', 'in-favor', 'in-favor', 'in-favor', 'in-favor', 'in-favor', 'in-favor', 'in-favor', 'against', 'in-favor', 'in-favor', 'in-favor', 'in-favor', 'against', 'neutral-or-unclear', 'against', 'neutral-or-unclear', 'neutral-or-unclear', 'neutral-or-unclear', 'against', 'neutral-or-unclear', 'in-favor', 'in-favor', 'in-favor', 'against', 'in-favor', 'in-favor', 'in-favor', 'in-favor', 'in-favor', 'neutral-or-unclear', 'against', 'against', 'against', 'neutral-or-unclear', 'against', 'in-favor', 'in-favor', 'in-favor', 'against', 'against', 'in-favor', 'against', 'in-favor', 'against', 'neutral-or-unclear', 'against', 'against', 'against', 'against', 'against', 'neutral-or-unclear', 'in-favor', 'in-favor', 'in-favor', 'neutral-or-unclear', 'against', 'neutral-or-unclear', 'in-favor', 'in-favor', 'neutral-or-unclear', 'neutral-or-unclear', 'in-favor', 'against', 'neutral-or-unclear', 'against', 'in-favor', 'in-favor', 'against', 'in-favor', 'in-favor', 'against', 'in-favor', 'in-favor', 'against', 'against', 'against', 'against', 'in-favor', 'in-favor', 'against', 'neutral-or-unclear', 'neutral-or-unclear', 'against', 'in-favor', 'in-favor', 'against', 'neutral-or-unclear', 'neutral-or-unclear', 'neutral-or-unclear', 'in-favor', 'neutral-or-unclear', 'in-favor', 'in-favor', 'in-favor', 'in-favor', 'neutral-or-unclear', 'against', 'neutral-or-unclear', 'in-favor', 'against', 'against', 'against', 'in-favor', 'in-favor', 'in-favor', 'neutral-or-unclear', 'neutral-or-unclear', 'against', 'neutral-or-unclear', 'against', 'neutral-or-unclear', 'against', 'in-favor', 'in-favor', 'neutral-or-unclear', 'in-favor', 'in-favor', 'against', 'in-favor', 'in-favor', 'in-favor', 'in-favor', 'in-favor', 'in-favor', 'neutral-or-unclear', 'in-favor', 'in-favor', 'against', 'in-favor', 'in-favor', 'in-favor', 'in-favor', 'in-favor', 'against', 'in-favor', 'in-favor', 'in-favor', 'in-favor', 'in-favor', 'in-favor', 'against', 'neutral-or-unclear', 'in-favor', 'neutral-or-unclear', 'in-favor', 'in-favor', 'against', 'against', 'in-favor', 'in-favor', 'against', 'in-favor', 'in-favor', 'against', 'neutral-or-unclear', 'neutral-or-unclear', 'against', 'neutral-or-unclear', 'against', 'in-favor', 'in-favor', 'neutral-or-unclear', 'against', 'in-favor', 'in-favor', 'in-favor', 'neutral-or-unclear', 'in-favor', 'in-favor', 'in-favor', 'in-favor', 'in-favor', 'against', 'neutral-or-unclear', 'in-favor', 'neutral-or-unclear', 'in-favor', 'in-favor', 'in-favor', 'in-favor', 'neutral-or-unclear', 'neutral-or-unclear', 'against', 'in-favor', 'against', 'against', 'neutral-or-unclear', 'neutral-or-unclear', 'in-favor', 'neutral-or-unclear', 'in-favor', 'in-favor', 'against', 'in-favor', 'against', 'against', 'against', 'in-favor', 'against', 'against', 'in-favor', 'against', 'in-favor', 'in-favor', 'in-favor', 'against', 'against', 'in-favor', 'neutral-or-unclear', 'in-favor', 'against', 'against', 'in-favor', 'in-favor', 'neutral-or-unclear', 'neutral-or-unclear', 'against', 'against', 'against', 'in-favor', 'neutral-or-unclear', 'in-favor', 'against', 'in-favor', 'neutral-or-unclear', 'in-favor', 'in-favor', 'in-favor', 'neutral-or-unclear', 'in-favor', 'against', 'neutral-or-unclear', 'in-favor', 'in-favor', 'neutral-or-unclear', 'neutral-or-unclear', 'against', 'against', 'in-favor', 'in-favor', 'in-favor', 'in-favor', 'in-favor', 'in-favor', 'in-favor', 'in-favor', 'neutral-or-unclear', 'against', 'against', 'in-favor', 'in-favor', 'against', 'against', 'neutral-or-unclear', 'against', 'in-favor', 'neutral-or-unclear', 'in-favor', 'in-favor', 'against', 'in-favor', 'in-favor', 'against', 'against', 'against', 'in-favor', 'against', 'in-favor', 'against', 'against', 'in-favor', 'neutral-or-unclear', 'against', 'against', 'against', 'in-favor', 'against', 'in-favor', 'in-favor', 'in-favor', 'neutral-or-unclear', 'against', 'neutral-or-unclear', 'in-favor', 'against', 'in-favor', 'against', 'neutral-or-unclear', 'in-favor', 'in-favor', 'in-favor', 'neutral-or-unclear', 'against', 'against', 'in-favor', 'in-favor', 'neutral-or-unclear', 'in-favor', 'in-favor', 'against', 'in-favor', 'in-favor', 'in-favor', 'in-favor', 'neutral-or-unclear', 'in-favor', 'against', 'in-favor', 'neutral-or-unclear', 'neutral-or-unclear', 'in-favor', 'in-favor', 'against', 'in-favor', 'against', 'neutral-or-unclear', 'in-favor', 'in-favor', 'against', 'in-favor', 'in-favor', 'in-favor', 'against', 'in-favor', 'in-favor', 'against', 'in-favor', 'against', 'in-favor', 'in-favor', 'in-favor', 'in-favor', 'neutral-or-unclear', 'against', 'against', 'in-favor', 'in-favor', 'neutral-or-unclear', 'neutral-or-unclear', 'against', 'in-favor', 'against', 'neutral-or-unclear', 'in-favor', 'neutral-or-unclear', 'neutral-or-unclear', 'in-favor', 'in-favor', 'in-favor', 'in-favor', 'against', 'against', 'against', 'in-favor', 'in-favor', 'in-favor', 'in-favor', 'neutral-or-unclear', 'against', 'in-favor', 'against', 'against', 'against', 'against', 'in-favor', 'in-favor', 'in-favor', 'neutral-or-unclear', 'against', 'against', 'in-favor', 'in-favor', 'against', 'neutral-or-unclear', 'in-favor', 'neutral-or-unclear', 'neutral-or-unclear', 'in-favor', 'against', 'in-favor', 'in-favor', 'neutral-or-unclear', 'neutral-or-unclear', 'in-favor', 'against', 'in-favor', 'against', 'against', 'against', 'neutral-or-unclear', 'neutral-or-unclear', 'in-favor', 'against', 'in-favor', 'in-favor', 'neutral-or-unclear', 'neutral-or-unclear', 'in-favor', 'neutral-or-unclear', 'in-favor', 'neutral-or-unclear', 'in-favor', 'against', 'neutral-or-unclear', 'against', 'in-favor', 'in-favor', 'neutral-or-unclear', 'neutral-or-unclear', 'in-favor', 'in-favor', 'in-favor', 'in-favor', 'in-favor', 'against', 'in-favor', 'in-favor', 'neutral-or-unclear', 'in-favor', 'neutral-or-unclear', 'in-favor', 'in-favor', 'against', 'against', 'in-favor', 'in-favor', 'in-favor', 'in-favor', 'in-favor', 'against', 'neutral-or-unclear', 'against', 'in-favor', 'in-favor', 'in-favor', 'in-favor', 'against', 'against', 'in-favor', 'in-favor', 'in-favor', 'in-favor', 'against', 'against', 'against', 'against', 'in-favor', 'against', 'neutral-or-unclear', 'neutral-or-unclear', 'in-favor', 'in-favor', 'in-favor', 'against', 'in-favor', 'neutral-or-unclear', 'neutral-or-unclear', 'in-favor', 'in-favor', 'in-favor', 'in-favor', 'against', 'against', 'against', 'against', 'neutral-or-unclear', 'in-favor', 'in-favor', 'against', 'against', 'neutral-or-unclear', 'against', 'in-favor', 'neutral-or-unclear', 'in-favor', 'neutral-or-unclear', 'against', 'in-favor', 'in-favor', 'against', 'against', 'in-favor', 'neutral-or-unclear', 'against', 'against', 'in-favor', 'neutral-or-unclear', 'in-favor', 'neutral-or-unclear', 'in-favor', 'in-favor', 'in-favor', 'in-favor', 'in-favor', 'in-favor', 'against', 'in-favor', 'against', 'in-favor', 'neutral-or-unclear', 'in-favor', 'against', 'in-favor', 'neutral-or-unclear', 'against', 'against', 'neutral-or-unclear', 'in-favor', 'neutral-or-unclear', 'against', 'in-favor', 'against', 'in-favor', 'against', 'in-favor', 'neutral-or-unclear', 'against', 'in-favor', 'in-favor', 'neutral-or-unclear', 'in-favor', 'against', 'in-favor', 'in-favor', 'against', 'in-favor', 'in-favor', 'neutral-or-unclear', 'in-favor', 'in-favor', 'in-favor', 'in-favor', 'in-favor', 'in-favor', 'in-favor', 'in-favor', 'against', 'against', 'in-favor', 'in-favor', 'in-favor', 'in-favor', 'in-favor', 'neutral-or-unclear', 'against', 'against', 'in-favor', 'in-favor', 'against', 'neutral-or-unclear', 'neutral-or-unclear', 'in-favor', 'in-favor', 'neutral-or-unclear', 'in-favor', 'in-favor', 'neutral-or-unclear', 'in-favor', 'neutral-or-unclear', 'in-favor', 'in-favor', 'neutral-or-unclear', 'against', 'in-favor', 'in-favor', 'against', 'against', 'in-favor', 'neutral-or-unclear', 'in-favor', 'in-favor', 'neutral-or-unclear', 'against', 'in-favor', 'in-favor', 'against', 'against', 'against', 'against', 'in-favor', 'neutral-or-unclear', 'against', 'against', 'against', 'against', 'neutral-or-unclear', 'in-favor', 'against', 'against', 'in-favor', 'neutral-or-unclear', 'in-favor', 'in-favor', 'against', 'neutral-or-unclear', 'against', 'neutral-or-unclear', 'in-favor', 'against', 'in-favor', 'in-favor', 'against', 'against', 'against', 'neutral-or-unclear', 'in-favor', 'in-favor', 'neutral-or-unclear', 'against', 'against', 'neutral-or-unclear', 'against', 'in-favor', 'in-favor', 'against', 'against', 'against', 'neutral-or-unclear', 'in-favor', 'against', 'against', 'neutral-or-unclear', 'against', 'against', 'neutral-or-unclear', 'in-favor', 'in-favor', 'neutral-or-unclear', 'against', 'neutral-or-unclear', 'neutral-or-unclear', 'in-favor', 'against', 'neutral-or-unclear', 'in-favor', 'against', 'in-favor', 'in-favor', 'neutral-or-unclear', 'in-favor', 'in-favor', 'in-favor', 'in-favor', 'in-favor', 'neutral-or-unclear', 'in-favor', 'against', 'in-favor', 'against', 'against', 'in-favor', 'in-favor', 'in-favor', 'in-favor', 'against', 'in-favor', 'against', 'in-favor', 'in-favor', 'against', 'neutral-or-unclear', 'in-favor', 'in-favor', 'in-favor', 'in-favor', 'in-favor', 'against', 'neutral-or-unclear', 'against', 'neutral-or-unclear', 'against', 'against', 'in-favor', 'in-favor', 'neutral-or-unclear', 'in-favor', 'in-favor', 'neutral-or-unclear', 'neutral-or-unclear', 'against', 'against', 'against', 'against', 'in-favor', 'in-favor', 'against', 'against', 'against', 'in-favor', 'in-favor', 'in-favor', 'against', 'in-favor', 'against', 'against', 'against', 'in-favor', 'in-favor', 'against', 'against', 'against', 'neutral-or-unclear', 'neutral-or-unclear', 'in-favor', 'neutral-or-unclear', 'against', 'against', 'in-favor', 'against', 'against', 'in-favor', 'in-favor', 'in-favor', 'in-favor', 'in-favor', 'against', 'in-favor', 'against', 'in-favor', 'against', 'neutral-or-unclear', 'neutral-or-unclear', 'against', 'in-favor', 'in-favor', 'in-favor', 'against', 'in-favor', 'neutral-or-unclear', 'neutral-or-unclear', 'against', 'against', 'in-favor', 'in-favor', 'neutral-or-unclear', 'in-favor', 'against', 'in-favor', 'against', 'in-favor', 'in-favor', 'in-favor', 'neutral-or-unclear', 'against', 'in-favor', 'in-favor', 'against', 'against', 'neutral-or-unclear', 'neutral-or-unclear', 'neutral-or-unclear', 'in-favor', 'in-favor', 'against', 'neutral-or-unclear', 'in-favor', 'against', 'in-favor', 'in-favor', 'against', 'neutral-or-unclear', 'against', 'in-favor', 'in-favor', 'against', 'in-favor', 'in-favor', 'against', 'in-favor', 'in-favor', 'in-favor', 'in-favor', 'in-favor', 'against', 'in-favor', 'neutral-or-unclear', 'against', 'in-favor', 'in-favor', 'neutral-or-unclear', 'in-favor', 'neutral-or-unclear', 'neutral-or-unclear', 'against', 'in-favor', 'in-favor', 'in-favor', 'against', 'against', 'in-favor', 'neutral-or-unclear', 'against', 'neutral-or-unclear', 'against', 'against', 'against', 'in-favor', 'neutral-or-unclear', 'in-favor', 'neutral-or-unclear', 'in-favor', 'in-favor', 'against', 'against', 'against', 'in-favor', 'against', 'against', 'in-favor', 'in-favor', 'against', 'against', 'neutral-or-unclear', 'neutral-or-unclear', 'neutral-or-unclear', 'against', 'in-favor', 'neutral-or-unclear', 'against', 'in-favor', 'against', 'in-favor', 'neutral-or-unclear', 'in-favor', 'against', 'in-favor', 'against', 'in-favor', 'in-favor', 'in-favor', 'neutral-or-unclear', 'against', 'in-favor', 'neutral-or-unclear', 'in-favor', 'in-favor', 'in-favor', 'in-favor', 'in-favor', 'against', 'in-favor', 'in-favor', 'in-favor', 'in-favor', 'in-favor', 'in-favor', 'against', 'in-favor', 'in-favor', 'in-favor', 'against', 'against', 'in-favor', 'in-favor', 'in-favor', 'in-favor', 'in-favor', 'neutral-or-unclear', 'against', 'neutral-or-unclear', 'in-favor', 'against', 'against', 'in-favor', 'against', 'against', 'neutral-or-unclear', 'in-favor', 'in-favor', 'in-favor', 'in-favor', 'neutral-or-unclear', 'in-favor', 'in-favor', 'against', 'in-favor', 'in-favor', 'in-favor', 'against', 'in-favor', 'in-favor', 'neutral-or-unclear', 'in-favor', 'in-favor', 'in-favor', 'in-favor', 'neutral-or-unclear', 'in-favor', 'neutral-or-unclear', 'in-favor', 'against', 'in-favor', 'in-favor', 'in-favor', 'against', 'against', 'in-favor', 'in-favor', 'neutral-or-unclear', 'in-favor', 'in-favor', 'against', 'against', 'neutral-or-unclear', 'neutral-or-unclear', 'against', 'in-favor', 'in-favor', 'in-favor', 'neutral-or-unclear', 'neutral-or-unclear', 'against', 'in-favor', 'against', 'in-favor', 'against', 'in-favor', 'in-favor', 'in-favor', 'in-favor', 'in-favor', 'in-favor', 'neutral-or-unclear', 'in-favor', 'in-favor', 'in-favor', 'against', 'in-favor', 'in-favor', 'in-favor', 'against', 'neutral-or-unclear', 'neutral-or-unclear', 'in-favor', 'in-favor', 'in-favor', 'against', 'in-favor', 'neutral-or-unclear', 'in-favor', 'neutral-or-unclear', 'in-favor', 'against', 'in-favor', 'in-favor', 'against', 'in-favor', 'against', 'in-favor', 'in-favor', 'against', 'in-favor', 'against', 'neutral-or-unclear', 'neutral-or-unclear', 'in-favor', 'against', 'against', 'in-favor', 'against', 'in-favor', 'against', 'against', 'in-favor', 'in-favor', 'against', 'in-favor', 'in-favor', 'in-favor', 'in-favor', 'in-favor', 'against', 'neutral-or-unclear', 'in-favor', 'in-favor', 'in-favor', 'in-favor', 'in-favor', 'against', 'in-favor', 'against', 'against', 'against', 'neutral-or-unclear', 'against', 'against', 'in-favor', 'neutral-or-unclear', 'against', 'against', 'in-favor', 'in-favor', 'against', 'against', 'in-favor', 'in-favor', 'against', 'in-favor', 'in-favor', 'neutral-or-unclear', 'in-favor', 'in-favor', 'in-favor', 'in-favor', 'neutral-or-unclear', 'in-favor', 'in-favor', 'neutral-or-unclear', 'against', 'neutral-or-unclear', 'neutral-or-unclear', 'against', 'against', 'against', 'against', 'in-favor', 'in-favor', 'in-favor', 'in-favor', 'neutral-or-unclear', 'in-favor', 'in-favor', 'in-favor', 'in-favor', 'against', 'in-favor', 'in-favor', 'against', 'in-favor', 'in-favor', 'neutral-or-unclear', 'in-favor', 'in-favor', 'neutral-or-unclear', 'neutral-or-unclear', 'against', 'in-favor', 'in-favor', 'against', 'in-favor', 'neutral-or-unclear', 'in-favor', 'in-favor', 'against', 'neutral-or-unclear', 'against', 'against', 'against', 'in-favor', 'against', 'neutral-or-unclear', 'in-favor', 'in-favor', 'against', 'in-favor', 'in-favor', 'neutral-or-unclear', 'against', 'in-favor', 'neutral-or-unclear', 'against', 'neutral-or-unclear', 'in-favor', 'against', 'in-favor', 'in-favor', 'neutral-or-unclear', 'in-favor', 'neutral-or-unclear', 'against', 'in-favor', 'in-favor', 'in-favor', 'neutral-or-unclear', 'in-favor', 'in-favor', 'in-favor', 'against', 'against', 'against', 'in-favor', 'neutral-or-unclear', 'neutral-or-unclear', 'against', 'in-favor', 'in-favor', 'in-favor', 'neutral-or-unclear', 'in-favor', 'in-favor', 'against', 'against', 'neutral-or-unclear', 'against', 'in-favor', 'in-favor', 'against', 'in-favor', 'in-favor', 'in-favor', 'against', 'neutral-or-unclear', 'in-favor', 'in-favor', 'neutral-or-unclear', 'in-favor', 'in-favor', 'in-favor', 'against', 'against', 'neutral-or-unclear', 'against', 'against', 'in-favor', 'in-favor', 'in-favor', 'against', 'in-favor', 'neutral-or-unclear', 'in-favor', 'in-favor']\n",
            "F1 Score: {'f1': 0.8387741708789822}\n",
            "Predictions: ['in-favor', 'in', 'in-favor', 'neutral-favor', 'in-favor', 'in-favor', 'neutral-or-unclear', 'in', 'in-favor', 'in-favor', 'in-favor', 'against', 'against', 'in-favor', 'against', 'in-favor', 'in-favor', 'in-favor', 'in-favor', 'neutral-favor', 'against-or-unclear', 'in-favor', 'in-favor', 'in-favor', 'in-favor', 'in-or-unclear', 'in-favor', 'neutral', 'against', 'against', 'in-favor', 'in-favor', 'in-favor', 'in-favor', 'against-favor', 'in-favor', 'in-favor', 'against', 'in-favor', 'in-favor', 'in-favor', 'in-favor', 'against', 'in-or-unclear', 'against', 'against-or-unclear', 'in-or-unclear', 'against-or-unclear', 'in', 'in-or-unclear', 'in-favor', 'in-favor', 'in-favor', 'in', 'in-favor', 'in-favor', 'in-favor', 'in-favor', 'in-favor', 'neutral-or-unclear', 'against', 'in', 'against', 'against-or-unclear', 'against', 'in-favor', 'in-favor', 'in-favor', 'against', 'against', 'in-favor', 'against', 'in-favor', 'against', 'against-or-unclear', 'neutral', 'against', 'in', 'in', 'against', 'against-or-unclear', 'in-favor', 'in-favor', 'in-favor', 'in-or-unclear', 'against', 'in-or-unclear', 'against-favor', 'in-favor', 'neutral-or-unclear', 'neutral-or-unclear', 'in-favor', 'against', 'in-or-unclear', 'against', 'in-favor', 'in-favor', 'against', 'in-favor', 'in-favor', 'against', 'in-favor', 'in-favor', 'against', 'against', 'neutral', 'against', 'in-favor', 'in-favor', 'against', 'against-or-unclear', 'in-or-unclear', 'against', 'in-favor', 'in-favor', 'against', 'in-or-unclear', 'neutral-or-unclear', 'neutral-or-unclear', 'in-favor', 'neutral-or-unclear', 'in-favor', 'in-favor', 'in-favor', 'in-favor', 'against-or-unclear', 'against', 'in-or-unclear', 'in-favor', 'against', 'against', 'against', 'in-favor', 'in-favor', 'in-favor', 'neutral-or-unclear', 'against-or-unclear', 'in', 'against-or-unclear', 'against', 'neutral-or-unclear', 'in', 'in-favor', 'in-favor', 'in-or-unclear', 'in-favor', 'in-favor', 'against', 'in-favor', 'in-favor', 'in-favor', 'in-favor', 'in-favor', 'neutral-favor', 'against-or-unclear', 'in-favor', 'in-favor', 'against', 'in-favor', 'in-favor', 'in-favor', 'in-favor', 'in-favor', 'against', 'in-favor', 'in-favor', 'in-favor', 'in-favor', 'in-favor', 'in-favor', 'against', 'in-or-unclear', 'in-favor', 'neutral-or-unclear', 'in-favor', 'in-favor', 'against', 'against', 'in-favor', 'in-favor', 'in', 'in-favor', 'in-favor', 'against', 'in-or-unclear', 'in-or-unclear', 'against', 'neutral-or-unclear', 'in', 'in-favor', 'against-favor', 'against-or-unclear', 'against', 'in-favor', 'neutral-favor', 'against-favor', 'neutral-or-unclear', 'in-favor', 'in-favor', 'in-favor', 'neutral-favor', 'against-favor', 'against', 'in-or-unclear', 'in-favor', 'neutral-or-unclear', 'neutral-favor', 'against-favor', 'in-favor', 'in-favor', 'in-or-unclear', 'neutral-or-unclear', 'neutral', 'in-favor', 'in', 'against', 'in-or-unclear', 'neutral-or-unclear', 'in-favor', 'in-or-unclear', 'neutral-favor', 'in-favor', 'against', 'in-favor', 'against', 'against', 'in', 'in-favor', 'against', 'in', 'in-favor', 'against', 'in-favor', 'in-favor', 'in-favor', 'against', 'against', 'in-favor', 'in-or-unclear', 'against-favor', 'against', 'against', 'in-favor', 'neutral-favor', 'neutral-or-unclear', 'against-or-unclear', 'against', 'against', 'against', 'in-favor', 'in-or-unclear', 'in-favor', 'against', 'in-favor', 'neutral-or-unclear', 'in-favor', 'in-favor', 'in-favor', 'neutral-or-unclear', 'in-favor', 'against', 'in-or-unclear', 'in-favor', 'in-favor', 'neutral-or-unclear', 'neutral-or-unclear', 'against', 'neutral', 'in-favor', 'in-favor', 'in-favor', 'in-favor', 'in-favor', 'against-favor', 'in-favor', 'in-favor', 'against-or-unclear', 'against', 'against', 'against-favor', 'in-favor', 'against', 'neutral', 'against-or-unclear', 'in', 'in-favor', 'neutral-or-unclear', 'in-favor', 'in-favor', 'against', 'in-favor', 'in-favor', 'in', 'against', 'against', 'in-favor', 'against', 'in-favor', 'against', 'in', 'in-favor', 'against-or-unclear', 'against', 'against', 'against', 'in-favor', 'against', 'in-favor', 'in-favor', 'in-favor', 'in-or-unclear', 'against', 'against-or-unclear', 'in-favor', 'against', 'in-favor', 'neutral', 'in-or-unclear', 'in-favor', 'in-favor', 'in-favor', 'in-or-unclear', 'against', 'against', 'in-favor', 'in-favor', 'neutral-or-unclear', 'in-favor', 'in-favor', 'against', 'in-favor', 'in-favor', 'against-favor', 'in-favor', 'neutral-or-unclear', 'in-favor', 'against', 'in-favor', 'neutral-or-unclear', 'neutral-or-unclear', 'in-favor', 'in-favor', 'against', 'in-favor', 'against', 'in-or-unclear', 'in-favor', 'in-favor', 'against', 'in-favor', 'in-favor', 'in-favor', 'against', 'in-favor', 'in-favor', 'against', 'in-favor', 'neutral', 'in-favor', 'in-favor', 'in-favor', 'in-favor', 'neutral-or-unclear', 'in', 'against', 'in-favor', 'in-favor', 'in-or-unclear', 'against-or-unclear', 'against', 'in-favor', 'against', 'in-or-unclear', 'in-favor', 'against-or-unclear', 'neutral-or-unclear', 'in-favor', 'against-favor', 'in-favor', 'in-favor', 'against', 'against', 'against', 'in-favor', 'in-favor', 'in-favor', 'in-favor', 'against-or-unclear', 'against', 'in-favor', 'in', 'in', 'against', 'against', 'in-favor', 'in-favor', 'in-favor', 'in-or-unclear', 'against', 'in', 'in-favor', 'neutral-favor', 'neutral', 'in-or-unclear', 'in-favor', 'in-or-unclear', 'in-or-unclear', 'in-favor', 'neutral', 'in-favor', 'in-favor', 'neutral-or-unclear', 'against-or-unclear', 'against-favor', 'against', 'in-favor', 'against', 'against', 'against', 'against-or-unclear', 'in-or-unclear', 'in-favor', 'against', 'in-favor', 'in-favor', 'in-or-unclear', 'neutral-or-unclear', 'in-favor', 'in-or-unclear', 'in-favor', 'against-or-unclear', 'in-favor', 'against', 'neutral-or-unclear', 'against', 'in-favor', 'in-favor', 'against-or-unclear', 'against-or-unclear', 'in-favor', 'in-favor', 'in-favor', 'in-favor', 'in-favor', 'in', 'in-favor', 'in-favor', 'in-or-unclear', 'in-favor', 'in-or-unclear', 'in-favor', 'in-favor', 'neutral', 'against', 'in-favor', 'in-favor', 'against-favor', 'in-favor', 'in-favor', 'neutral', 'neutral-or-unclear', 'against', 'in-favor', 'in-favor', 'in-favor', 'in-favor', 'against', 'against', 'in-favor', 'in-favor', 'in-favor', 'against-favor', 'against', 'against', 'against', 'against', 'in-favor', 'against', 'neutral-or-unclear', 'against-or-unclear', 'in-favor', 'in-favor', 'in-favor', 'against', 'in-favor', 'neutral-or-unclear', 'in-or-unclear', 'in-favor', 'in-favor', 'in-favor', 'in-favor', 'against', 'in', 'against', 'against', 'neutral-or-unclear', 'in-favor', 'in-favor', 'in', 'against', 'neutral-or-unclear', 'against', 'against-favor', 'in-or-unclear', 'in-favor', 'neutral-or-unclear', 'in', 'in-favor', 'in-favor', 'against', 'in', 'in-favor', 'neutral-or-unclear', 'in', 'neutral', 'in-favor', 'in-or-unclear', 'against-favor', 'in-or-unclear', 'in-favor', 'in-favor', 'in-favor', 'in-favor', 'in-favor', 'in-favor', 'against', 'in-favor', 'neutral', 'in-favor', 'in-or-unclear', 'in-favor', 'against', 'against-favor', 'in-or-unclear', 'against', 'in', 'in-or-unclear', 'in-favor', 'against-or-unclear', 'against', 'in-favor', 'against', 'against-favor', 'in', 'in-favor', 'against-or-unclear', 'against', 'in-favor', 'in-favor', 'neutral-or-unclear', 'in-favor', 'against', 'in-favor', 'in-favor', 'against', 'against-favor', 'in-favor', 'against-or-unclear', 'in-favor', 'in-favor', 'in-favor', 'in-favor', 'in-favor', 'in-favor', 'in-favor', 'in-favor', 'against', 'against', 'in-favor', 'against-favor', 'in-favor', 'in-favor', 'neutral-favor', 'against-or-unclear', 'in', 'against', 'in-favor', 'in-favor', 'against', 'in-or-unclear', 'neutral-or-unclear', 'in-favor', 'in-favor', 'against-or-unclear', 'in-favor', 'in-favor', 'neutral-or-unclear', 'in-favor', 'neutral-or-unclear', 'in-favor', 'in-favor', 'in-or-unclear', 'against', 'in-favor', 'in-favor', 'against', 'against', 'in-favor', 'in-or-unclear', 'neutral-favor', 'in-favor', 'neutral-or-unclear', 'in', 'neutral-favor', 'in-favor', 'against', 'against', 'against', 'against', 'against-favor', 'neutral-or-unclear', 'against', 'against', 'against', 'against', 'neutral-or-unclear', 'in-favor', 'against', 'against', 'in-favor', 'neutral-or-unclear', 'in-favor', 'against-favor', 'against', 'neutral-or-unclear', 'against', 'against-or-unclear', 'in-favor', 'against', 'in-favor', 'in-favor', 'against', 'against', 'in', 'in-or-unclear', 'in-favor', 'in-favor', 'in-or-unclear', 'against', 'against', 'neutral-or-unclear', 'against', 'in-favor', 'in-favor', 'against', 'against', 'against', 'in-or-unclear', 'in-favor', 'against', 'in', 'against-or-unclear', 'against', 'against', 'in-or-unclear', 'in-favor', 'in-favor', 'against-or-unclear', 'against', 'in-or-unclear', 'in-or-unclear', 'in-favor', 'against', 'neutral-or-unclear', 'in-favor', 'against', 'in-favor', 'in-favor', 'against-or-unclear', 'in-favor', 'in-favor', 'in-favor', 'in-favor', 'in-favor', 'in-or-unclear', 'in-favor', 'against', 'in-favor', 'in', 'against', 'in-favor', 'in-favor', 'in-favor', 'in-favor', 'against', 'in-favor', 'against', 'in-favor', 'in-favor', 'against', 'neutral-or-unclear', 'in-favor', 'in-favor', 'against-favor', 'in-favor', 'in-favor', 'against', 'neutral-or-unclear', 'against', 'against-or-unclear', 'against', 'neutral', 'in-favor', 'in-favor', 'in-or-unclear', 'in-favor', 'against-favor', 'in-or-unclear', 'against-or-unclear', 'in', 'against', 'in', 'neutral', 'in-favor', 'neutral-favor', 'against', 'against', 'against', 'in-favor', 'against-favor', 'in-favor', 'against', 'in-favor', 'against', 'against', 'against', 'in-favor', 'in-favor', 'neutral', 'against', 'in', 'in-or-unclear', 'in-or-unclear', 'in-favor', 'neutral-or-unclear', 'against', 'against', 'in-favor', 'against', 'against', 'in-favor', 'in-favor', 'in-favor', 'in-favor', 'in-favor', 'neutral', 'neutral-favor', 'against', 'in-favor', 'against', 'in-or-unclear', 'neutral-or-unclear', 'against', 'in-favor', 'in-favor', 'in-favor', 'against', 'in-favor', 'in-or-unclear', 'neutral-or-unclear', 'neutral', 'against', 'in-favor', 'in-favor', 'neutral-or-unclear', 'in-favor', 'against', 'in-favor', 'neutral', 'in-favor', 'in-favor', 'in-favor', 'neutral-or-unclear', 'against', 'in-favor', 'in-favor', 'against', 'against', 'against-or-unclear', 'against-or-unclear', 'against-or-unclear', 'in-favor', 'in-favor', 'against', 'neutral-or-unclear', 'against-favor', 'against', 'in-favor', 'in-favor', 'against', 'against-or-unclear', 'against', 'against-favor', 'against-favor', 'against', 'in-favor', 'in-favor', 'against', 'in-favor', 'in-favor', 'in-favor', 'in-favor', 'in-favor', 'in', 'in-favor', 'neutral-or-unclear', 'in', 'in-favor', 'against-favor', 'neutral-or-unclear', 'neutral-favor', 'in-or-unclear', 'in-or-unclear', 'against', 'in-favor', 'in-favor', 'in-favor', 'against', 'against', 'in-favor', 'against-or-unclear', 'against', 'in-or-unclear', 'against', 'against', 'in', 'in-favor', 'in-or-unclear', 'in-favor', 'in-or-unclear', 'in-favor', 'in-favor', 'neutral', 'against', 'neutral', 'in-favor', 'against', 'against', 'in-favor', 'in-favor', 'neutral', 'against', 'in-or-unclear', 'against-or-unclear', 'neutral-or-unclear', 'against', 'in-favor', 'against-or-unclear', 'against', 'in-favor', 'against', 'in-favor', 'neutral-or-unclear', 'in-favor', 'against', 'in-favor', 'against', 'in-favor', 'in-favor', 'against-favor', 'in-or-unclear', 'against', 'in-favor', 'against-or-unclear', 'in-favor', 'in-favor', 'in-favor', 'in-favor', 'in-favor', 'neutral', 'in-favor', 'in-favor', 'in-favor', 'in-favor', 'in-favor', 'in-favor', 'neutral', 'in-favor', 'in-favor', 'in-favor', 'against', 'against', 'in-favor', 'in-favor', 'in-favor', 'in-favor', 'in-favor', 'in-or-unclear', 'against', 'in-or-unclear', 'in-favor', 'in', 'against', 'in-favor', 'against', 'in', 'in-or-unclear', 'in-favor', 'in-favor', 'in-favor', 'in-favor', 'neutral-or-unclear', 'in-favor', 'in-favor', 'against', 'in-favor', 'in-favor', 'against-favor', 'against', 'in-favor', 'in-favor', 'in-or-unclear', 'neutral-favor', 'in-favor', 'in-favor', 'neutral-favor', 'in-or-unclear', 'in-favor', 'in-or-unclear', 'in-favor', 'against', 'in-favor', 'in-favor', 'in-favor', 'against', 'neutral', 'in-favor', 'in-favor', 'neutral-or-unclear', 'in-favor', 'in-favor', 'against', 'against', 'in-or-unclear', 'in-or-unclear', 'against', 'in-favor', 'in-favor', 'in-favor', 'in-or-unclear', 'neutral-or-unclear', 'against', 'in-favor', 'against', 'in-favor', 'against', 'in-favor', 'in-favor', 'in-favor', 'in-favor', 'in-favor', 'in-favor', 'neutral-or-unclear', 'in-favor', 'in-favor', 'in-favor', 'against', 'in-favor', 'in-favor', 'in-favor', 'against', 'against-or-unclear', 'neutral-or-unclear', 'in-favor', 'in-favor', 'in-favor', 'against', 'in-favor', 'neutral-or-unclear', 'in-favor', 'neutral-or-unclear', 'in-favor', 'against', 'in-favor', 'neutral-favor', 'against', 'in-favor', 'against', 'in-favor', 'in-favor', 'in', 'in-favor', 'against', 'in-or-unclear', 'in-or-unclear', 'in-favor', 'against', 'against', 'against-favor', 'against', 'in-favor', 'neutral', 'in', 'in-favor', 'in-favor', 'against', 'in-favor', 'in-favor', 'in-favor', 'in-favor', 'in-favor', 'against', 'in-or-unclear', 'in-favor', 'in-favor', 'in-favor', 'in-favor', 'in-favor', 'against', 'in-favor', 'against', 'neutral', 'against', 'against-or-unclear', 'against', 'in', 'against-favor', 'against-or-unclear', 'against', 'in', 'in-favor', 'in-favor', 'against', 'against', 'against-favor', 'in-favor', 'against', 'in-favor', 'against-favor', 'neutral-or-unclear', 'in-favor', 'in-favor', 'in-favor', 'in-favor', 'in-or-unclear', 'in-favor', 'against-favor', 'against-or-unclear', 'against', 'neutral-or-unclear', 'in-or-unclear', 'against', 'against', 'against', 'against', 'against-favor', 'against-favor', 'in-favor', 'in-favor', 'in-or-unclear', 'against-favor', 'in-favor', 'in-favor', 'in-favor', 'against', 'in-favor', 'in-favor', 'against', 'against-favor', 'in-favor', 'in-or-unclear', 'in-favor', 'in-favor', 'neutral-or-unclear', 'neutral-or-unclear', 'against', 'against-favor', 'in-favor', 'against', 'in-favor', 'neutral-or-unclear', 'in-favor', 'in-favor', 'in', 'neutral-or-unclear', 'against', 'against', 'against', 'in-favor', 'in', 'in-or-unclear', 'in-favor', 'in-favor', 'against', 'in-favor', 'in-favor', 'in-or-unclear', 'against', 'in-favor', 'neutral-or-unclear', 'against', 'neutral-or-unclear', 'in-favor', 'against', 'neutral-favor', 'in-favor', 'neutral-or-unclear', 'in-favor', 'in-or-unclear', 'against', 'in-favor', 'in-favor', 'in-favor', 'in-or-unclear', 'in-favor', 'in-favor', 'in-favor', 'against', 'in', 'against', 'in-favor', 'neutral-or-unclear', 'neutral-or-unclear', 'against', 'in-favor', 'against-favor', 'in-favor', 'against-or-unclear', 'in-favor', 'in-favor', 'against', 'against', 'neutral-or-unclear', 'in', 'in-favor', 'in-favor', 'against', 'in-favor', 'in-favor', 'in-favor', 'neutral', 'neutral-or-unclear', 'in-favor', 'in-favor', 'in-or-unclear', 'in-favor', 'in-favor', 'in-favor', 'against', 'against', 'neutral-or-unclear', 'in', 'neutral', 'in-favor', 'in-favor', 'in-favor', 'in', 'in-favor', 'neutral-or-unclear', 'in-favor', 'in-favor']\n",
            "Labels: ['in-favor', 'against', 'in-favor', 'in-favor', 'in-favor', 'in-favor', 'neutral-or-unclear', 'against', 'in-favor', 'in-favor', 'in-favor', 'against', 'against', 'in-favor', 'against', 'in-favor', 'in-favor', 'in-favor', 'in-favor', 'in-favor', 'neutral-or-unclear', 'in-favor', 'in-favor', 'in-favor', 'in-favor', 'neutral-or-unclear', 'in-favor', 'against', 'against', 'against', 'in-favor', 'in-favor', 'in-favor', 'in-favor', 'in-favor', 'in-favor', 'in-favor', 'against', 'in-favor', 'in-favor', 'in-favor', 'in-favor', 'against', 'neutral-or-unclear', 'against', 'neutral-or-unclear', 'neutral-or-unclear', 'neutral-or-unclear', 'against', 'neutral-or-unclear', 'in-favor', 'in-favor', 'in-favor', 'against', 'in-favor', 'in-favor', 'in-favor', 'in-favor', 'in-favor', 'neutral-or-unclear', 'against', 'against', 'against', 'neutral-or-unclear', 'against', 'in-favor', 'in-favor', 'in-favor', 'against', 'against', 'in-favor', 'against', 'in-favor', 'against', 'neutral-or-unclear', 'against', 'against', 'against', 'against', 'against', 'neutral-or-unclear', 'in-favor', 'in-favor', 'in-favor', 'neutral-or-unclear', 'against', 'neutral-or-unclear', 'in-favor', 'in-favor', 'neutral-or-unclear', 'neutral-or-unclear', 'in-favor', 'against', 'neutral-or-unclear', 'against', 'in-favor', 'in-favor', 'against', 'in-favor', 'in-favor', 'against', 'in-favor', 'in-favor', 'against', 'against', 'against', 'against', 'in-favor', 'in-favor', 'against', 'neutral-or-unclear', 'neutral-or-unclear', 'against', 'in-favor', 'in-favor', 'against', 'neutral-or-unclear', 'neutral-or-unclear', 'neutral-or-unclear', 'in-favor', 'neutral-or-unclear', 'in-favor', 'in-favor', 'in-favor', 'in-favor', 'neutral-or-unclear', 'against', 'neutral-or-unclear', 'in-favor', 'against', 'against', 'against', 'in-favor', 'in-favor', 'in-favor', 'neutral-or-unclear', 'neutral-or-unclear', 'against', 'neutral-or-unclear', 'against', 'neutral-or-unclear', 'against', 'in-favor', 'in-favor', 'neutral-or-unclear', 'in-favor', 'in-favor', 'against', 'in-favor', 'in-favor', 'in-favor', 'in-favor', 'in-favor', 'in-favor', 'neutral-or-unclear', 'in-favor', 'in-favor', 'against', 'in-favor', 'in-favor', 'in-favor', 'in-favor', 'in-favor', 'against', 'in-favor', 'in-favor', 'in-favor', 'in-favor', 'in-favor', 'in-favor', 'against', 'neutral-or-unclear', 'in-favor', 'neutral-or-unclear', 'in-favor', 'in-favor', 'against', 'against', 'in-favor', 'in-favor', 'against', 'in-favor', 'in-favor', 'against', 'neutral-or-unclear', 'neutral-or-unclear', 'against', 'neutral-or-unclear', 'against', 'in-favor', 'in-favor', 'neutral-or-unclear', 'against', 'in-favor', 'in-favor', 'in-favor', 'neutral-or-unclear', 'in-favor', 'in-favor', 'in-favor', 'in-favor', 'in-favor', 'against', 'neutral-or-unclear', 'in-favor', 'neutral-or-unclear', 'in-favor', 'in-favor', 'in-favor', 'in-favor', 'neutral-or-unclear', 'neutral-or-unclear', 'against', 'in-favor', 'against', 'against', 'neutral-or-unclear', 'neutral-or-unclear', 'in-favor', 'neutral-or-unclear', 'in-favor', 'in-favor', 'against', 'in-favor', 'against', 'against', 'against', 'in-favor', 'against', 'against', 'in-favor', 'against', 'in-favor', 'in-favor', 'in-favor', 'against', 'against', 'in-favor', 'neutral-or-unclear', 'in-favor', 'against', 'against', 'in-favor', 'in-favor', 'neutral-or-unclear', 'neutral-or-unclear', 'against', 'against', 'against', 'in-favor', 'neutral-or-unclear', 'in-favor', 'against', 'in-favor', 'neutral-or-unclear', 'in-favor', 'in-favor', 'in-favor', 'neutral-or-unclear', 'in-favor', 'against', 'neutral-or-unclear', 'in-favor', 'in-favor', 'neutral-or-unclear', 'neutral-or-unclear', 'against', 'against', 'in-favor', 'in-favor', 'in-favor', 'in-favor', 'in-favor', 'in-favor', 'in-favor', 'in-favor', 'neutral-or-unclear', 'against', 'against', 'in-favor', 'in-favor', 'against', 'against', 'neutral-or-unclear', 'against', 'in-favor', 'neutral-or-unclear', 'in-favor', 'in-favor', 'against', 'in-favor', 'in-favor', 'against', 'against', 'against', 'in-favor', 'against', 'in-favor', 'against', 'against', 'in-favor', 'neutral-or-unclear', 'against', 'against', 'against', 'in-favor', 'against', 'in-favor', 'in-favor', 'in-favor', 'neutral-or-unclear', 'against', 'neutral-or-unclear', 'in-favor', 'against', 'in-favor', 'against', 'neutral-or-unclear', 'in-favor', 'in-favor', 'in-favor', 'neutral-or-unclear', 'against', 'against', 'in-favor', 'in-favor', 'neutral-or-unclear', 'in-favor', 'in-favor', 'against', 'in-favor', 'in-favor', 'in-favor', 'in-favor', 'neutral-or-unclear', 'in-favor', 'against', 'in-favor', 'neutral-or-unclear', 'neutral-or-unclear', 'in-favor', 'in-favor', 'against', 'in-favor', 'against', 'neutral-or-unclear', 'in-favor', 'in-favor', 'against', 'in-favor', 'in-favor', 'in-favor', 'against', 'in-favor', 'in-favor', 'against', 'in-favor', 'against', 'in-favor', 'in-favor', 'in-favor', 'in-favor', 'neutral-or-unclear', 'against', 'against', 'in-favor', 'in-favor', 'neutral-or-unclear', 'neutral-or-unclear', 'against', 'in-favor', 'against', 'neutral-or-unclear', 'in-favor', 'neutral-or-unclear', 'neutral-or-unclear', 'in-favor', 'in-favor', 'in-favor', 'in-favor', 'against', 'against', 'against', 'in-favor', 'in-favor', 'in-favor', 'in-favor', 'neutral-or-unclear', 'against', 'in-favor', 'against', 'against', 'against', 'against', 'in-favor', 'in-favor', 'in-favor', 'neutral-or-unclear', 'against', 'against', 'in-favor', 'in-favor', 'against', 'neutral-or-unclear', 'in-favor', 'neutral-or-unclear', 'neutral-or-unclear', 'in-favor', 'against', 'in-favor', 'in-favor', 'neutral-or-unclear', 'neutral-or-unclear', 'in-favor', 'against', 'in-favor', 'against', 'against', 'against', 'neutral-or-unclear', 'neutral-or-unclear', 'in-favor', 'against', 'in-favor', 'in-favor', 'neutral-or-unclear', 'neutral-or-unclear', 'in-favor', 'neutral-or-unclear', 'in-favor', 'neutral-or-unclear', 'in-favor', 'against', 'neutral-or-unclear', 'against', 'in-favor', 'in-favor', 'neutral-or-unclear', 'neutral-or-unclear', 'in-favor', 'in-favor', 'in-favor', 'in-favor', 'in-favor', 'against', 'in-favor', 'in-favor', 'neutral-or-unclear', 'in-favor', 'neutral-or-unclear', 'in-favor', 'in-favor', 'against', 'against', 'in-favor', 'in-favor', 'in-favor', 'in-favor', 'in-favor', 'against', 'neutral-or-unclear', 'against', 'in-favor', 'in-favor', 'in-favor', 'in-favor', 'against', 'against', 'in-favor', 'in-favor', 'in-favor', 'in-favor', 'against', 'against', 'against', 'against', 'in-favor', 'against', 'neutral-or-unclear', 'neutral-or-unclear', 'in-favor', 'in-favor', 'in-favor', 'against', 'in-favor', 'neutral-or-unclear', 'neutral-or-unclear', 'in-favor', 'in-favor', 'in-favor', 'in-favor', 'against', 'against', 'against', 'against', 'neutral-or-unclear', 'in-favor', 'in-favor', 'against', 'against', 'neutral-or-unclear', 'against', 'in-favor', 'neutral-or-unclear', 'in-favor', 'neutral-or-unclear', 'against', 'in-favor', 'in-favor', 'against', 'against', 'in-favor', 'neutral-or-unclear', 'against', 'against', 'in-favor', 'neutral-or-unclear', 'in-favor', 'neutral-or-unclear', 'in-favor', 'in-favor', 'in-favor', 'in-favor', 'in-favor', 'in-favor', 'against', 'in-favor', 'against', 'in-favor', 'neutral-or-unclear', 'in-favor', 'against', 'in-favor', 'neutral-or-unclear', 'against', 'against', 'neutral-or-unclear', 'in-favor', 'neutral-or-unclear', 'against', 'in-favor', 'against', 'in-favor', 'against', 'in-favor', 'neutral-or-unclear', 'against', 'in-favor', 'in-favor', 'neutral-or-unclear', 'in-favor', 'against', 'in-favor', 'in-favor', 'against', 'in-favor', 'in-favor', 'neutral-or-unclear', 'in-favor', 'in-favor', 'in-favor', 'in-favor', 'in-favor', 'in-favor', 'in-favor', 'in-favor', 'against', 'against', 'in-favor', 'in-favor', 'in-favor', 'in-favor', 'in-favor', 'neutral-or-unclear', 'against', 'against', 'in-favor', 'in-favor', 'against', 'neutral-or-unclear', 'neutral-or-unclear', 'in-favor', 'in-favor', 'neutral-or-unclear', 'in-favor', 'in-favor', 'neutral-or-unclear', 'in-favor', 'neutral-or-unclear', 'in-favor', 'in-favor', 'neutral-or-unclear', 'against', 'in-favor', 'in-favor', 'against', 'against', 'in-favor', 'neutral-or-unclear', 'in-favor', 'in-favor', 'neutral-or-unclear', 'against', 'in-favor', 'in-favor', 'against', 'against', 'against', 'against', 'in-favor', 'neutral-or-unclear', 'against', 'against', 'against', 'against', 'neutral-or-unclear', 'in-favor', 'against', 'against', 'in-favor', 'neutral-or-unclear', 'in-favor', 'in-favor', 'against', 'neutral-or-unclear', 'against', 'neutral-or-unclear', 'in-favor', 'against', 'in-favor', 'in-favor', 'against', 'against', 'against', 'neutral-or-unclear', 'in-favor', 'in-favor', 'neutral-or-unclear', 'against', 'against', 'neutral-or-unclear', 'against', 'in-favor', 'in-favor', 'against', 'against', 'against', 'neutral-or-unclear', 'in-favor', 'against', 'against', 'neutral-or-unclear', 'against', 'against', 'neutral-or-unclear', 'in-favor', 'in-favor', 'neutral-or-unclear', 'against', 'neutral-or-unclear', 'neutral-or-unclear', 'in-favor', 'against', 'neutral-or-unclear', 'in-favor', 'against', 'in-favor', 'in-favor', 'neutral-or-unclear', 'in-favor', 'in-favor', 'in-favor', 'in-favor', 'in-favor', 'neutral-or-unclear', 'in-favor', 'against', 'in-favor', 'against', 'against', 'in-favor', 'in-favor', 'in-favor', 'in-favor', 'against', 'in-favor', 'against', 'in-favor', 'in-favor', 'against', 'neutral-or-unclear', 'in-favor', 'in-favor', 'in-favor', 'in-favor', 'in-favor', 'against', 'neutral-or-unclear', 'against', 'neutral-or-unclear', 'against', 'against', 'in-favor', 'in-favor', 'neutral-or-unclear', 'in-favor', 'in-favor', 'neutral-or-unclear', 'neutral-or-unclear', 'against', 'against', 'against', 'against', 'in-favor', 'in-favor', 'against', 'against', 'against', 'in-favor', 'in-favor', 'in-favor', 'against', 'in-favor', 'against', 'against', 'against', 'in-favor', 'in-favor', 'against', 'against', 'against', 'neutral-or-unclear', 'neutral-or-unclear', 'in-favor', 'neutral-or-unclear', 'against', 'against', 'in-favor', 'against', 'against', 'in-favor', 'in-favor', 'in-favor', 'in-favor', 'in-favor', 'against', 'in-favor', 'against', 'in-favor', 'against', 'neutral-or-unclear', 'neutral-or-unclear', 'against', 'in-favor', 'in-favor', 'in-favor', 'against', 'in-favor', 'neutral-or-unclear', 'neutral-or-unclear', 'against', 'against', 'in-favor', 'in-favor', 'neutral-or-unclear', 'in-favor', 'against', 'in-favor', 'against', 'in-favor', 'in-favor', 'in-favor', 'neutral-or-unclear', 'against', 'in-favor', 'in-favor', 'against', 'against', 'neutral-or-unclear', 'neutral-or-unclear', 'neutral-or-unclear', 'in-favor', 'in-favor', 'against', 'neutral-or-unclear', 'in-favor', 'against', 'in-favor', 'in-favor', 'against', 'neutral-or-unclear', 'against', 'in-favor', 'in-favor', 'against', 'in-favor', 'in-favor', 'against', 'in-favor', 'in-favor', 'in-favor', 'in-favor', 'in-favor', 'against', 'in-favor', 'neutral-or-unclear', 'against', 'in-favor', 'in-favor', 'neutral-or-unclear', 'in-favor', 'neutral-or-unclear', 'neutral-or-unclear', 'against', 'in-favor', 'in-favor', 'in-favor', 'against', 'against', 'in-favor', 'neutral-or-unclear', 'against', 'neutral-or-unclear', 'against', 'against', 'against', 'in-favor', 'neutral-or-unclear', 'in-favor', 'neutral-or-unclear', 'in-favor', 'in-favor', 'against', 'against', 'against', 'in-favor', 'against', 'against', 'in-favor', 'in-favor', 'against', 'against', 'neutral-or-unclear', 'neutral-or-unclear', 'neutral-or-unclear', 'against', 'in-favor', 'neutral-or-unclear', 'against', 'in-favor', 'against', 'in-favor', 'neutral-or-unclear', 'in-favor', 'against', 'in-favor', 'against', 'in-favor', 'in-favor', 'in-favor', 'neutral-or-unclear', 'against', 'in-favor', 'neutral-or-unclear', 'in-favor', 'in-favor', 'in-favor', 'in-favor', 'in-favor', 'against', 'in-favor', 'in-favor', 'in-favor', 'in-favor', 'in-favor', 'in-favor', 'against', 'in-favor', 'in-favor', 'in-favor', 'against', 'against', 'in-favor', 'in-favor', 'in-favor', 'in-favor', 'in-favor', 'neutral-or-unclear', 'against', 'neutral-or-unclear', 'in-favor', 'against', 'against', 'in-favor', 'against', 'against', 'neutral-or-unclear', 'in-favor', 'in-favor', 'in-favor', 'in-favor', 'neutral-or-unclear', 'in-favor', 'in-favor', 'against', 'in-favor', 'in-favor', 'in-favor', 'against', 'in-favor', 'in-favor', 'neutral-or-unclear', 'in-favor', 'in-favor', 'in-favor', 'in-favor', 'neutral-or-unclear', 'in-favor', 'neutral-or-unclear', 'in-favor', 'against', 'in-favor', 'in-favor', 'in-favor', 'against', 'against', 'in-favor', 'in-favor', 'neutral-or-unclear', 'in-favor', 'in-favor', 'against', 'against', 'neutral-or-unclear', 'neutral-or-unclear', 'against', 'in-favor', 'in-favor', 'in-favor', 'neutral-or-unclear', 'neutral-or-unclear', 'against', 'in-favor', 'against', 'in-favor', 'against', 'in-favor', 'in-favor', 'in-favor', 'in-favor', 'in-favor', 'in-favor', 'neutral-or-unclear', 'in-favor', 'in-favor', 'in-favor', 'against', 'in-favor', 'in-favor', 'in-favor', 'against', 'neutral-or-unclear', 'neutral-or-unclear', 'in-favor', 'in-favor', 'in-favor', 'against', 'in-favor', 'neutral-or-unclear', 'in-favor', 'neutral-or-unclear', 'in-favor', 'against', 'in-favor', 'in-favor', 'against', 'in-favor', 'against', 'in-favor', 'in-favor', 'against', 'in-favor', 'against', 'neutral-or-unclear', 'neutral-or-unclear', 'in-favor', 'against', 'against', 'in-favor', 'against', 'in-favor', 'against', 'against', 'in-favor', 'in-favor', 'against', 'in-favor', 'in-favor', 'in-favor', 'in-favor', 'in-favor', 'against', 'neutral-or-unclear', 'in-favor', 'in-favor', 'in-favor', 'in-favor', 'in-favor', 'against', 'in-favor', 'against', 'against', 'against', 'neutral-or-unclear', 'against', 'against', 'in-favor', 'neutral-or-unclear', 'against', 'against', 'in-favor', 'in-favor', 'against', 'against', 'in-favor', 'in-favor', 'against', 'in-favor', 'in-favor', 'neutral-or-unclear', 'in-favor', 'in-favor', 'in-favor', 'in-favor', 'neutral-or-unclear', 'in-favor', 'in-favor', 'neutral-or-unclear', 'against', 'neutral-or-unclear', 'neutral-or-unclear', 'against', 'against', 'against', 'against', 'in-favor', 'in-favor', 'in-favor', 'in-favor', 'neutral-or-unclear', 'in-favor', 'in-favor', 'in-favor', 'in-favor', 'against', 'in-favor', 'in-favor', 'against', 'in-favor', 'in-favor', 'neutral-or-unclear', 'in-favor', 'in-favor', 'neutral-or-unclear', 'neutral-or-unclear', 'against', 'in-favor', 'in-favor', 'against', 'in-favor', 'neutral-or-unclear', 'in-favor', 'in-favor', 'against', 'neutral-or-unclear', 'against', 'against', 'against', 'in-favor', 'against', 'neutral-or-unclear', 'in-favor', 'in-favor', 'against', 'in-favor', 'in-favor', 'neutral-or-unclear', 'against', 'in-favor', 'neutral-or-unclear', 'against', 'neutral-or-unclear', 'in-favor', 'against', 'in-favor', 'in-favor', 'neutral-or-unclear', 'in-favor', 'neutral-or-unclear', 'against', 'in-favor', 'in-favor', 'in-favor', 'neutral-or-unclear', 'in-favor', 'in-favor', 'in-favor', 'against', 'against', 'against', 'in-favor', 'neutral-or-unclear', 'neutral-or-unclear', 'against', 'in-favor', 'in-favor', 'in-favor', 'neutral-or-unclear', 'in-favor', 'in-favor', 'against', 'against', 'neutral-or-unclear', 'against', 'in-favor', 'in-favor', 'against', 'in-favor', 'in-favor', 'in-favor', 'against', 'neutral-or-unclear', 'in-favor', 'in-favor', 'neutral-or-unclear', 'in-favor', 'in-favor', 'in-favor', 'against', 'against', 'neutral-or-unclear', 'against', 'against', 'in-favor', 'in-favor', 'in-favor', 'against', 'in-favor', 'neutral-or-unclear', 'in-favor', 'in-favor']\n",
            "F1 Score: {'f1': 0.8450997837197584}\n"
          ]
        },
        {
          "output_type": "stream",
          "name": "stderr",
          "text": [
            "There were missing keys in the checkpoint model loaded: ['encoder.embed_tokens.weight', 'decoder.embed_tokens.weight'].\n"
          ]
        },
        {
          "output_type": "execute_result",
          "data": {
            "text/plain": [
              "TrainOutput(global_step=1440, training_loss=1.8241925597190858, metrics={'train_runtime': 4408.7106, 'train_samples_per_second': 5.217, 'train_steps_per_second': 0.327, 'total_flos': 2.6504831434752e+16, 'train_loss': 1.8241925597190858, 'epoch': 5.0})"
            ]
          },
          "metadata": {},
          "execution_count": 33
        }
      ],
      "source": [
        "trainer.train()"
      ]
    },
    {
      "cell_type": "code",
      "source": [
        "trainer.save_model()"
      ],
      "metadata": {
        "id": "_iN2avo7JpuY"
      },
      "execution_count": null,
      "outputs": []
    },
    {
      "cell_type": "code",
      "source": [
        "fine_tuned_model_2 = T5ForConditionalGeneration.from_pretrained(\"./version_2\")"
      ],
      "metadata": {
        "id": "0Y5whZE_b4F2"
      },
      "execution_count": null,
      "outputs": []
    },
    {
      "cell_type": "code",
      "source": [
        "fine_tuned_model_2.to(device)"
      ],
      "metadata": {
        "colab": {
          "base_uri": "https://localhost:8080/"
        },
        "id": "BgloJqNZcGTe",
        "outputId": "888cf75b-6dee-4738-cf49-0609f50e5f8f"
      },
      "execution_count": null,
      "outputs": [
        {
          "output_type": "execute_result",
          "data": {
            "text/plain": [
              "T5ForConditionalGeneration(\n",
              "  (shared): Embedding(32128, 1024)\n",
              "  (encoder): T5Stack(\n",
              "    (embed_tokens): Embedding(32128, 1024)\n",
              "    (block): ModuleList(\n",
              "      (0): T5Block(\n",
              "        (layer): ModuleList(\n",
              "          (0): T5LayerSelfAttention(\n",
              "            (SelfAttention): T5Attention(\n",
              "              (q): Linear(in_features=1024, out_features=1024, bias=False)\n",
              "              (k): Linear(in_features=1024, out_features=1024, bias=False)\n",
              "              (v): Linear(in_features=1024, out_features=1024, bias=False)\n",
              "              (o): Linear(in_features=1024, out_features=1024, bias=False)\n",
              "              (relative_attention_bias): Embedding(32, 16)\n",
              "            )\n",
              "            (layer_norm): T5LayerNorm()\n",
              "            (dropout): Dropout(p=0.1, inplace=False)\n",
              "          )\n",
              "          (1): T5LayerFF(\n",
              "            (DenseReluDense): T5DenseGatedActDense(\n",
              "              (wi_0): Linear(in_features=1024, out_features=2816, bias=False)\n",
              "              (wi_1): Linear(in_features=1024, out_features=2816, bias=False)\n",
              "              (wo): Linear(in_features=2816, out_features=1024, bias=False)\n",
              "              (dropout): Dropout(p=0.1, inplace=False)\n",
              "              (act): NewGELUActivation()\n",
              "            )\n",
              "            (layer_norm): T5LayerNorm()\n",
              "            (dropout): Dropout(p=0.1, inplace=False)\n",
              "          )\n",
              "        )\n",
              "      )\n",
              "      (1-23): 23 x T5Block(\n",
              "        (layer): ModuleList(\n",
              "          (0): T5LayerSelfAttention(\n",
              "            (SelfAttention): T5Attention(\n",
              "              (q): Linear(in_features=1024, out_features=1024, bias=False)\n",
              "              (k): Linear(in_features=1024, out_features=1024, bias=False)\n",
              "              (v): Linear(in_features=1024, out_features=1024, bias=False)\n",
              "              (o): Linear(in_features=1024, out_features=1024, bias=False)\n",
              "            )\n",
              "            (layer_norm): T5LayerNorm()\n",
              "            (dropout): Dropout(p=0.1, inplace=False)\n",
              "          )\n",
              "          (1): T5LayerFF(\n",
              "            (DenseReluDense): T5DenseGatedActDense(\n",
              "              (wi_0): Linear(in_features=1024, out_features=2816, bias=False)\n",
              "              (wi_1): Linear(in_features=1024, out_features=2816, bias=False)\n",
              "              (wo): Linear(in_features=2816, out_features=1024, bias=False)\n",
              "              (dropout): Dropout(p=0.1, inplace=False)\n",
              "              (act): NewGELUActivation()\n",
              "            )\n",
              "            (layer_norm): T5LayerNorm()\n",
              "            (dropout): Dropout(p=0.1, inplace=False)\n",
              "          )\n",
              "        )\n",
              "      )\n",
              "    )\n",
              "    (final_layer_norm): T5LayerNorm()\n",
              "    (dropout): Dropout(p=0.1, inplace=False)\n",
              "  )\n",
              "  (decoder): T5Stack(\n",
              "    (embed_tokens): Embedding(32128, 1024)\n",
              "    (block): ModuleList(\n",
              "      (0): T5Block(\n",
              "        (layer): ModuleList(\n",
              "          (0): T5LayerSelfAttention(\n",
              "            (SelfAttention): T5Attention(\n",
              "              (q): Linear(in_features=1024, out_features=1024, bias=False)\n",
              "              (k): Linear(in_features=1024, out_features=1024, bias=False)\n",
              "              (v): Linear(in_features=1024, out_features=1024, bias=False)\n",
              "              (o): Linear(in_features=1024, out_features=1024, bias=False)\n",
              "              (relative_attention_bias): Embedding(32, 16)\n",
              "            )\n",
              "            (layer_norm): T5LayerNorm()\n",
              "            (dropout): Dropout(p=0.1, inplace=False)\n",
              "          )\n",
              "          (1): T5LayerCrossAttention(\n",
              "            (EncDecAttention): T5Attention(\n",
              "              (q): Linear(in_features=1024, out_features=1024, bias=False)\n",
              "              (k): Linear(in_features=1024, out_features=1024, bias=False)\n",
              "              (v): Linear(in_features=1024, out_features=1024, bias=False)\n",
              "              (o): Linear(in_features=1024, out_features=1024, bias=False)\n",
              "            )\n",
              "            (layer_norm): T5LayerNorm()\n",
              "            (dropout): Dropout(p=0.1, inplace=False)\n",
              "          )\n",
              "          (2): T5LayerFF(\n",
              "            (DenseReluDense): T5DenseGatedActDense(\n",
              "              (wi_0): Linear(in_features=1024, out_features=2816, bias=False)\n",
              "              (wi_1): Linear(in_features=1024, out_features=2816, bias=False)\n",
              "              (wo): Linear(in_features=2816, out_features=1024, bias=False)\n",
              "              (dropout): Dropout(p=0.1, inplace=False)\n",
              "              (act): NewGELUActivation()\n",
              "            )\n",
              "            (layer_norm): T5LayerNorm()\n",
              "            (dropout): Dropout(p=0.1, inplace=False)\n",
              "          )\n",
              "        )\n",
              "      )\n",
              "      (1-23): 23 x T5Block(\n",
              "        (layer): ModuleList(\n",
              "          (0): T5LayerSelfAttention(\n",
              "            (SelfAttention): T5Attention(\n",
              "              (q): Linear(in_features=1024, out_features=1024, bias=False)\n",
              "              (k): Linear(in_features=1024, out_features=1024, bias=False)\n",
              "              (v): Linear(in_features=1024, out_features=1024, bias=False)\n",
              "              (o): Linear(in_features=1024, out_features=1024, bias=False)\n",
              "            )\n",
              "            (layer_norm): T5LayerNorm()\n",
              "            (dropout): Dropout(p=0.1, inplace=False)\n",
              "          )\n",
              "          (1): T5LayerCrossAttention(\n",
              "            (EncDecAttention): T5Attention(\n",
              "              (q): Linear(in_features=1024, out_features=1024, bias=False)\n",
              "              (k): Linear(in_features=1024, out_features=1024, bias=False)\n",
              "              (v): Linear(in_features=1024, out_features=1024, bias=False)\n",
              "              (o): Linear(in_features=1024, out_features=1024, bias=False)\n",
              "            )\n",
              "            (layer_norm): T5LayerNorm()\n",
              "            (dropout): Dropout(p=0.1, inplace=False)\n",
              "          )\n",
              "          (2): T5LayerFF(\n",
              "            (DenseReluDense): T5DenseGatedActDense(\n",
              "              (wi_0): Linear(in_features=1024, out_features=2816, bias=False)\n",
              "              (wi_1): Linear(in_features=1024, out_features=2816, bias=False)\n",
              "              (wo): Linear(in_features=2816, out_features=1024, bias=False)\n",
              "              (dropout): Dropout(p=0.1, inplace=False)\n",
              "              (act): NewGELUActivation()\n",
              "            )\n",
              "            (layer_norm): T5LayerNorm()\n",
              "            (dropout): Dropout(p=0.1, inplace=False)\n",
              "          )\n",
              "        )\n",
              "      )\n",
              "    )\n",
              "    (final_layer_norm): T5LayerNorm()\n",
              "    (dropout): Dropout(p=0.1, inplace=False)\n",
              "  )\n",
              "  (lm_head): Linear(in_features=1024, out_features=32128, bias=False)\n",
              ")"
            ]
          },
          "metadata": {},
          "execution_count": 39
        }
      ]
    },
    {
      "cell_type": "code",
      "source": [
        "f1, preds, refs = evaluate_with_generate(fine_tuned_model_2, val_dataset, tokenizer)"
      ],
      "metadata": {
        "colab": {
          "base_uri": "https://localhost:8080/"
        },
        "id": "NUHdGroGcAMJ",
        "outputId": "7cff7908-0e8b-4d78-ba2c-3aa00ce31e8d"
      },
      "execution_count": null,
      "outputs": [
        {
          "output_type": "stream",
          "name": "stderr",
          "text": [
            "Generating predictions: 100%|██████████| 1151/1151 [04:17<00:00,  4.47it/s]"
          ]
        },
        {
          "output_type": "stream",
          "name": "stdout",
          "text": [
            "Sample predictions:\n",
            "Pred: in-favor | Ref: in-favor\n",
            "Pred: in-favor | Ref: against\n",
            "Pred: in-favor | Ref: in-favor\n",
            "Pred: neutral-or-unclear | Ref: in-favor\n",
            "Pred: in-favor | Ref: in-favor\n",
            "F1 Score: 0.7429\n"
          ]
        },
        {
          "output_type": "stream",
          "name": "stderr",
          "text": [
            "\n"
          ]
        }
      ]
    },
    {
      "cell_type": "code",
      "source": [
        "from transformers import T5Tokenizer, T5ForConditionalGeneration, Trainer, TrainingArguments\n",
        "fine_tuned_model_2 = T5ForConditionalGeneration.from_pretrained(\"./version_2\")"
      ],
      "metadata": {
        "id": "t1PKImHFePmu"
      },
      "execution_count": null,
      "outputs": []
    },
    {
      "cell_type": "code",
      "source": [
        "from transformers import EarlyStoppingCallback\n",
        "from transformers import Seq2SeqTrainer, Seq2SeqTrainingArguments\n",
        "\n",
        "from transformers import DataCollatorForSeq2Seq\n",
        "\n",
        "data_collator = DataCollatorForSeq2Seq(tokenizer, model=fine_tuned_model_2)\n",
        "\n",
        "training_args = Seq2SeqTrainingArguments(\n",
        "    output_dir=\"./version_3/\",\n",
        "    learning_rate=3e-5,\n",
        "    per_device_train_batch_size=2,\n",
        "    per_device_eval_batch_size=2,\n",
        "    num_train_epochs=5,\n",
        "    weight_decay=0.01,\n",
        "    logging_steps=10,\n",
        "    push_to_hub=False,\n",
        "    report_to=\"none\",\n",
        "    eval_strategy=\"epoch\",\n",
        "    save_strategy=\"epoch\",\n",
        "    gradient_accumulation_steps=8,\n",
        "    metric_for_best_model=\"f1\",\n",
        "    load_best_model_at_end=True,\n",
        "    greater_is_better=True,\n",
        "    label_smoothing_factor=0.1\n",
        "\n",
        ")\n",
        "\n",
        "\n",
        "trainer = Seq2SeqTrainer(\n",
        "    model=fine_tuned_model_2,\n",
        "    args=training_args,\n",
        "    train_dataset=train_dataset,\n",
        "    eval_dataset=val_dataset,\n",
        "    tokenizer=tokenizer,\n",
        "    data_collator=data_collator,\n",
        "    compute_metrics=compute_metrics,\n",
        "    callbacks=[EarlyStoppingCallback(early_stopping_patience=2)]\n",
        ")"
      ],
      "metadata": {
        "colab": {
          "base_uri": "https://localhost:8080/"
        },
        "id": "uZEGTnFj9Evu",
        "outputId": "2f4f3608-1268-4d3a-d260-b7fb5f3393d6"
      },
      "execution_count": null,
      "outputs": [
        {
          "output_type": "stream",
          "name": "stderr",
          "text": [
            "/tmp/ipython-input-16-375554823.py:29: FutureWarning: `tokenizer` is deprecated and will be removed in version 5.0.0 for `Seq2SeqTrainer.__init__`. Use `processing_class` instead.\n",
            "  trainer = Seq2SeqTrainer(\n"
          ]
        }
      ]
    },
    {
      "cell_type": "code",
      "source": [
        "trainer.train()"
      ],
      "metadata": {
        "colab": {
          "base_uri": "https://localhost:8080/",
          "height": 617
        },
        "id": "PwWOjNMCEpD3",
        "outputId": "6b07e3d9-3008-4cff-b1a4-6ae30197a8b1"
      },
      "execution_count": null,
      "outputs": [
        {
          "output_type": "stream",
          "name": "stderr",
          "text": [
            "/usr/local/lib/python3.11/dist-packages/transformers/data/data_collator.py:741: UserWarning: Creating a tensor from a list of numpy.ndarrays is extremely slow. Please consider converting the list to a single numpy.ndarray with numpy.array() before converting to a tensor. (Triggered internally at /pytorch/torch/csrc/utils/tensor_new.cpp:254.)\n",
            "  batch[\"labels\"] = torch.tensor(batch[\"labels\"], dtype=torch.int64)\n",
            "Passing a tuple of `past_key_values` is deprecated and will be removed in Transformers v4.48.0. You should pass an instance of `EncoderDecoderCache` instead, e.g. `past_key_values=EncoderDecoderCache.from_legacy_cache(past_key_values)`.\n"
          ]
        },
        {
          "output_type": "display_data",
          "data": {
            "text/plain": [
              "<IPython.core.display.HTML object>"
            ],
            "text/html": [
              "\n",
              "    <div>\n",
              "      \n",
              "      <progress value='1440' max='1440' style='width:300px; height:20px; vertical-align: middle;'></progress>\n",
              "      [1440/1440 1:10:41, Epoch 5/5]\n",
              "    </div>\n",
              "    <table border=\"1\" class=\"dataframe\">\n",
              "  <thead>\n",
              " <tr style=\"text-align: left;\">\n",
              "      <th>Epoch</th>\n",
              "      <th>Training Loss</th>\n",
              "      <th>Validation Loss</th>\n",
              "      <th>F1</th>\n",
              "    </tr>\n",
              "  </thead>\n",
              "  <tbody>\n",
              "    <tr>\n",
              "      <td>1</td>\n",
              "      <td>1.498400</td>\n",
              "      <td>1.481835</td>\n",
              "      <td>0.841247</td>\n",
              "    </tr>\n",
              "    <tr>\n",
              "      <td>2</td>\n",
              "      <td>1.468000</td>\n",
              "      <td>1.462010</td>\n",
              "      <td>0.850433</td>\n",
              "    </tr>\n",
              "    <tr>\n",
              "      <td>3</td>\n",
              "      <td>1.464600</td>\n",
              "      <td>1.462133</td>\n",
              "      <td>0.858765</td>\n",
              "    </tr>\n",
              "    <tr>\n",
              "      <td>4</td>\n",
              "      <td>1.453700</td>\n",
              "      <td>1.465428</td>\n",
              "      <td>0.854572</td>\n",
              "    </tr>\n",
              "    <tr>\n",
              "      <td>5</td>\n",
              "      <td>1.376200</td>\n",
              "      <td>1.459753</td>\n",
              "      <td>0.858540</td>\n",
              "    </tr>\n",
              "  </tbody>\n",
              "</table><p>"
            ]
          },
          "metadata": {}
        },
        {
          "output_type": "stream",
          "name": "stdout",
          "text": [
            "Predictions: ['in-favor', 'against', 'in-favor', 'neutral-favor', 'in-favor', 'in-favor', 'neutral-or-unclear', 'in', 'in-favor', 'in-favor', 'in-favor', 'against', 'against', 'in-favor', 'against', 'in-favor', 'against-favor', 'in-favor', 'in-favor', 'neutral-favor', 'against-or-unclear', 'in-favor', 'in-favor', 'against-favor', 'in-favor', 'in-or-unclear', 'in-favor', 'against', 'against', 'against', 'in-favor', 'in-favor', 'in-favor', 'in-favor', 'against-favor', 'in-favor', 'neutral-favor', 'against', 'in-favor', 'in-favor', 'in-favor', 'in-favor', 'against', 'in-or-unclear', 'against', 'against-or-unclear', 'in-or-unclear', 'against-or-unclear', 'in', 'in-or-unclear', 'in-favor', 'in-favor', 'in-favor', 'in', 'in-favor', 'in-favor', 'in-favor', 'in-favor', 'in-favor', 'neutral-or-unclear', 'against', 'in', 'against', 'against-or-unclear', 'against', 'in-favor', 'in-favor', 'in-favor', 'against', 'against', 'in-favor', 'against', 'in-favor', 'against', 'against-or-unclear', 'against', 'against', 'in', 'in', 'against', 'against-or-unclear', 'in-favor', 'in-favor', 'in-favor', 'in-or-unclear', 'against', 'in-or-unclear', 'against-favor', 'in-favor', 'against-or-unclear', 'neutral-or-unclear', 'in-favor', 'against', 'in-or-unclear', 'against', 'in-favor', 'in-favor', 'against', 'in-favor', 'in-favor', 'against', 'in-favor', 'in-favor', 'against', 'against', 'neutral', 'against', 'against-favor', 'in-favor', 'against', 'against-or-unclear', 'in-or-unclear', 'against', 'in-favor', 'in-favor', 'against', 'neutral-or-unclear', 'neutral-or-unclear', 'neutral-or-unclear', 'in-favor', 'neutral-or-unclear', 'in-favor', 'in-favor', 'against-favor', 'in-favor', 'against-or-unclear', 'against', 'in-or-unclear', 'in-favor', 'against', 'against', 'against', 'in-favor', 'in-favor', 'in-favor', 'neutral-or-unclear', 'against-or-unclear', 'in', 'in-or-unclear', 'against', 'neutral-or-unclear', 'against', 'in-favor', 'in-favor', 'in-or-unclear', 'in-favor', 'in-favor', 'against', 'in-favor', 'in-favor', 'in-favor', 'in-favor', 'in-favor', 'neutral-favor', 'against-or-unclear', 'in-favor', 'in-favor', 'against', 'in-favor', 'in-favor', 'in-favor', 'in-favor', 'in-favor', 'against', 'in-favor', 'in-favor', 'in-favor', 'in-favor', 'in-favor', 'in-favor', 'against', 'against-or-unclear', 'in-favor', 'against-or-unclear', 'in-favor', 'in-favor', 'against', 'against', 'in-favor', 'neutral-favor', 'in', 'in-favor', 'in-favor', 'against', 'in-or-unclear', 'in-or-unclear', 'against', 'neutral-or-unclear', 'in', 'in-favor', 'against-favor', 'against-or-unclear', 'against', 'in-favor', 'neutral-favor', 'against-favor', 'neutral-or-unclear', 'in-favor', 'in-favor', 'in-favor', 'neutral-favor', 'against-favor', 'against', 'in-or-unclear', 'in-favor', 'neutral-or-unclear', 'neutral-favor', 'against-favor', 'in-favor', 'in-favor', 'in-or-unclear', 'neutral-or-unclear', 'neutral', 'neutral-favor', 'in', 'against', 'in-or-unclear', 'neutral-or-unclear', 'in-favor', 'neutral-or-unclear', 'neutral-favor', 'in-favor', 'against', 'in-favor', 'against', 'against', 'against', 'in-favor', 'against', 'in', 'in-favor', 'against', 'against-favor', 'in-favor', 'in-favor', 'against', 'against', 'neutral-favor', 'in-or-unclear', 'against-favor', 'against', 'against', 'in-favor', 'neutral-favor', 'neutral-or-unclear', 'against-or-unclear', 'against', 'against', 'against', 'in-favor', 'in-or-unclear', 'in-favor', 'against', 'in-favor', 'neutral-or-unclear', 'in-favor', 'in-favor', 'in-favor', 'in-or-unclear', 'in-favor', 'against', 'in-or-unclear', 'in-favor', 'in-favor', 'neutral-or-unclear', 'neutral-or-unclear', 'against', 'against', 'in-favor', 'in-favor', 'in-favor', 'in-favor', 'in-favor', 'against-favor', 'in-favor', 'in-favor', 'against-or-unclear', 'against', 'against', 'against-favor', 'in-favor', 'against', 'against', 'against-or-unclear', 'against', 'in-favor', 'neutral-or-unclear', 'in-favor', 'in-favor', 'against', 'in-favor', 'in-favor', 'in', 'against', 'against', 'in-favor', 'against', 'in-favor', 'against', 'against', 'in-favor', 'against-or-unclear', 'against', 'against', 'against', 'in-favor', 'against', 'in-favor', 'in-favor', 'in-favor', 'in-or-unclear', 'against', 'against-or-unclear', 'in-favor', 'against', 'in-favor', 'against', 'in-or-unclear', 'in-favor', 'in-favor', 'in-favor', 'neutral-or-unclear', 'against', 'against', 'in-favor', 'against-favor', 'neutral-or-unclear', 'in-favor', 'in-favor', 'against', 'in-favor', 'in-favor', 'in-favor', 'in-favor', 'against-or-unclear', 'in-favor', 'against', 'in-favor', 'neutral-or-unclear', 'neutral-or-unclear', 'in-favor', 'in-favor', 'against', 'in-favor', 'against', 'in-or-unclear', 'in-favor', 'in-favor', 'against', 'in-favor', 'in-favor', 'in-favor', 'against', 'in-favor', 'in-favor', 'against', 'in-favor', 'neutral', 'in-favor', 'in-favor', 'in-favor', 'in-favor', 'neutral-or-unclear', 'in', 'against', 'in-favor', 'in-favor', 'in-or-unclear', 'against-or-unclear', 'against', 'in-favor', 'against', 'in-or-unclear', 'in-favor', 'against-or-unclear', 'neutral-or-unclear', 'in-favor', 'against-favor', 'in-favor', 'in-favor', 'against', 'against', 'against', 'in-favor', 'in-favor', 'in-favor', 'in-favor', 'against-or-unclear', 'against', 'in-favor', 'in', 'against', 'against', 'against', 'in-favor', 'in-favor', 'in-favor', 'neutral-or-unclear', 'against', 'in', 'against-favor', 'neutral-favor', 'neutral', 'in-or-unclear', 'in-favor', 'in-or-unclear', 'neutral-or-unclear', 'in-favor', 'neutral', 'in-favor', 'in-favor', 'neutral-or-unclear', 'against-or-unclear', 'against-favor', 'against', 'in-favor', 'against', 'against', 'against', 'against-or-unclear', 'neutral-or-unclear', 'in-favor', 'against', 'in-favor', 'in-favor', 'neutral-or-unclear', 'neutral-or-unclear', 'in-favor', 'in-or-unclear', 'in-favor', 'against-or-unclear', 'in-favor', 'against', 'neutral-or-unclear', 'against', 'in-favor', 'in-favor', 'against-or-unclear', 'against-or-unclear', 'in-favor', 'in-favor', 'in-favor', 'in-favor', 'in-favor', 'in', 'in-favor', 'in-favor', 'in-or-unclear', 'in-favor', 'against-or-unclear', 'in-favor', 'in-favor', 'against', 'against', 'in-favor', 'in-favor', 'neutral-favor', 'in-favor', 'in-favor', 'neutral', 'neutral-or-unclear', 'against', 'against-favor', 'in-favor', 'in-favor', 'in-favor', 'against', 'against', 'in-favor', 'neutral-favor', 'in-favor', 'against-favor', 'against', 'against', 'against', 'against', 'in-favor', 'against', 'neutral-or-unclear', 'against-or-unclear', 'in-favor', 'in-favor', 'in-favor', 'against', 'against-favor', 'neutral-or-unclear', 'neutral-or-unclear', 'in-favor', 'in-favor', 'in-favor', 'in-favor', 'against', 'in', 'against', 'against', 'neutral-or-unclear', 'neutral-favor', 'in-favor', 'in', 'against', 'against-or-unclear', 'against', 'against-favor', 'against-or-unclear', 'in-favor', 'against-or-unclear', 'in', 'in-favor', 'in-favor', 'against', 'neutral', 'in-favor', 'neutral-or-unclear', 'neutral', 'neutral', 'in-favor', 'in-or-unclear', 'against-favor', 'in-or-unclear', 'in-favor', 'against-favor', 'in-favor', 'in-favor', 'in-favor', 'in-favor', 'against', 'in-favor', 'neutral', 'in-favor', 'neutral-or-unclear', 'neutral-favor', 'against', 'against-favor', 'in-or-unclear', 'against', 'in', 'in-or-unclear', 'in-favor', 'against-or-unclear', 'against', 'in-favor', 'against', 'against-favor', 'against', 'in-favor', 'against-or-unclear', 'against', 'in-favor', 'in-favor', 'neutral-or-unclear', 'in-favor', 'against', 'in-favor', 'in-favor', 'against', 'against-favor', 'in-favor', 'against-or-unclear', 'in-favor', 'in-favor', 'in-favor', 'in-favor', 'in-favor', 'in-favor', 'in-favor', 'in-favor', 'against', 'against', 'in-favor', 'against-favor', 'in-favor', 'in-favor', 'neutral-favor', 'against-or-unclear', 'in', 'against', 'in-favor', 'in-favor', 'against', 'neutral-or-unclear', 'against-or-unclear', 'in-favor', 'in-favor', 'against-or-unclear', 'in-favor', 'in-favor', 'neutral-or-unclear', 'in-favor', 'against-or-unclear', 'in-favor', 'in-favor', 'in-or-unclear', 'against', 'in-favor', 'in-favor', 'against', 'against', 'in-favor', 'neutral-or-unclear', 'against-favor', 'in-favor', 'neutral-or-unclear', 'in', 'against-favor', 'in-favor', 'against', 'against', 'against', 'against', 'against-favor', 'neutral-or-unclear', 'against', 'against', 'against', 'against', 'against-or-unclear', 'in-favor', 'against', 'against', 'in-favor', 'neutral-or-unclear', 'in-favor', 'against-favor', 'against', 'against-or-unclear', 'against', 'against-or-unclear', 'in-favor', 'against', 'in-favor', 'in-favor', 'against', 'against', 'against', 'in-or-unclear', 'in-favor', 'in-favor', 'in-or-unclear', 'against', 'against', 'neutral-or-unclear', 'against', 'in-favor', 'in-favor', 'against', 'against', 'against', 'neutral-or-unclear', 'in-favor', 'against', 'against', 'against-or-unclear', 'against', 'against', 'neutral-or-unclear', 'in-favor', 'in-favor', 'against-or-unclear', 'against', 'in-or-unclear', 'against-or-unclear', 'in-favor', 'against', 'neutral-or-unclear', 'in-favor', 'against', 'in-favor', 'in-favor', 'against-or-unclear', 'in-favor', 'in-favor', 'in-favor', 'in-favor', 'in-favor', 'neutral-or-unclear', 'in-favor', 'against', 'in-favor', 'in', 'against', 'in-favor', 'in-favor', 'in-favor', 'in-favor', 'against', 'in-favor', 'against', 'in-favor', 'in-favor', 'against', 'neutral-or-unclear', 'in-favor', 'against-favor', 'against-favor', 'in-favor', 'in-favor', 'against', 'against-or-unclear', 'against', 'against-or-unclear', 'against', 'in', 'in-favor', 'in-favor', 'in-or-unclear', 'in-favor', 'against-favor', 'in-or-unclear', 'against-or-unclear', 'against', 'against', 'neutral', 'against', 'in-favor', 'neutral-favor', 'against', 'against', 'against', 'in-favor', 'against-favor', 'in-favor', 'against', 'in-favor', 'against', 'against', 'against', 'in-favor', 'in-favor', 'neutral', 'against', 'in', 'in-or-unclear', 'in-or-unclear', 'in-favor', 'neutral-or-unclear', 'against', 'against', 'in-favor', 'against', 'against', 'in-favor', 'in-favor', 'in-favor', 'in-favor', 'in-favor', 'neutral', 'neutral-favor', 'against', 'in-favor', 'against', 'against-or-unclear', 'against-or-unclear', 'against', 'in-favor', 'in-favor', 'against-favor', 'against', 'in-favor', 'in-or-unclear', 'against-or-unclear', 'neutral', 'against', 'in-favor', 'in-favor', 'neutral-or-unclear', 'neutral-favor', 'against', 'in-favor', 'neutral', 'in-favor', 'in-favor', 'in-favor', 'neutral-or-unclear', 'against', 'in-favor', 'in-favor', 'against', 'against', 'against-or-unclear', 'against-or-unclear', 'against-or-unclear', 'in-favor', 'neutral-favor', 'against', 'against-or-unclear', 'against-favor', 'against', 'in-favor', 'in-favor', 'against', 'against-or-unclear', 'against', 'against-favor', 'against-favor', 'against', 'in-favor', 'in-favor', 'against', 'in-favor', 'in-favor', 'in-favor', 'in-favor', 'in-favor', 'in', 'in-favor', 'against-or-unclear', 'in', 'in-favor', 'against-favor', 'neutral-or-unclear', 'neutral-favor', 'in-or-unclear', 'in-or-unclear', 'against', 'in-favor', 'in-favor', 'in-favor', 'against', 'against', 'in-favor', 'against-or-unclear', 'against', 'in-or-unclear', 'against', 'against', 'in', 'in-favor', 'neutral-or-unclear', 'in-favor', 'in-or-unclear', 'in-favor', 'in-favor', 'against', 'against', 'neutral', 'in-favor', 'against', 'against', 'in-favor', 'in-favor', 'neutral', 'against', 'neutral-or-unclear', 'against-or-unclear', 'neutral-or-unclear', 'against', 'in-favor', 'against-or-unclear', 'against', 'in-favor', 'against', 'in-favor', 'neutral-or-unclear', 'in-favor', 'against', 'in-favor', 'against', 'in-favor', 'in-favor', 'against-favor', 'in-or-unclear', 'against', 'in-favor', 'against-or-unclear', 'in-favor', 'in-favor', 'in-favor', 'in-favor', 'in-favor', 'neutral', 'against-favor', 'in-favor', 'in-favor', 'in-favor', 'in-favor', 'in-favor', 'neutral', 'in-favor', 'in-favor', 'in-favor', 'against', 'against', 'in-favor', 'in-favor', 'in-favor', 'neutral-favor', 'in-favor', 'against-or-unclear', 'against', 'in-or-unclear', 'in-favor', 'in', 'against', 'in-favor', 'against', 'in', 'in-or-unclear', 'in-favor', 'in-favor', 'in-favor', 'in-favor', 'neutral-or-unclear', 'in-favor', 'in-favor', 'against', 'in-favor', 'in-favor', 'against-favor', 'against', 'in-favor', 'in-favor', 'neutral-or-unclear', 'neutral-favor', 'in-favor', 'in-favor', 'against-favor', 'in-or-unclear', 'in-favor', 'in-or-unclear', 'in-favor', 'against', 'in-favor', 'in-favor', 'in-favor', 'against', 'neutral', 'in-favor', 'in-favor', 'against-or-unclear', 'in-favor', 'in-favor', 'against', 'against', 'in-or-unclear', 'in-or-unclear', 'against', 'in-favor', 'in-favor', 'in-favor', 'in-or-unclear', 'neutral-or-unclear', 'against', 'in-favor', 'against', 'in-favor', 'against', 'in-favor', 'in-favor', 'in-favor', 'in-favor', 'in-favor', 'in-favor', 'neutral-or-unclear', 'in-favor', 'in-favor', 'in-favor', 'against', 'in-favor', 'in-favor', 'in-favor', 'against', 'against-or-unclear', 'neutral-or-unclear', 'in-favor', 'in-favor', 'in-favor', 'against', 'in-favor', 'neutral-or-unclear', 'in-favor', 'neutral-or-unclear', 'in-favor', 'against', 'in-favor', 'against-favor', 'against', 'in-favor', 'against', 'neutral-favor', 'in-favor', 'neutral', 'in-favor', 'against', 'neutral-or-unclear', 'in-or-unclear', 'in-favor', 'against', 'against', 'against-favor', 'against', 'in-favor', 'against', 'in', 'in-favor', 'in-favor', 'against', 'in-favor', 'in-favor', 'in-favor', 'in-favor', 'in-favor', 'against', 'in-or-unclear', 'in-favor', 'in-favor', 'in-favor', 'in-favor', 'in-favor', 'against', 'in-favor', 'against', 'neutral', 'against', 'against-or-unclear', 'against', 'against', 'against-favor', 'against-or-unclear', 'against', 'against', 'in-favor', 'in-favor', 'against', 'against', 'against-favor', 'in-favor', 'against', 'in-favor', 'against-favor', 'against-or-unclear', 'in-favor', 'in-favor', 'in-favor', 'in-favor', 'neutral-or-unclear', 'in-favor', 'against-favor', 'against-or-unclear', 'against', 'against-or-unclear', 'in-or-unclear', 'against', 'against', 'against', 'against', 'against-favor', 'against-favor', 'in-favor', 'in-favor', 'in-or-unclear', 'against-favor', 'in-favor', 'in-favor', 'in-favor', 'against', 'in-favor', 'in-favor', 'against', 'against-favor', 'in-favor', 'in-or-unclear', 'in-favor', 'in-favor', 'neutral-or-unclear', 'against-or-unclear', 'against', 'against-favor', 'in-favor', 'against', 'in-favor', 'neutral-or-unclear', 'in-favor', 'in-favor', 'in', 'against-or-unclear', 'against', 'against', 'against', 'in-favor', 'in', 'in-or-unclear', 'in-favor', 'in-favor', 'against', 'in-favor', 'in-favor', 'in-or-unclear', 'against', 'in-favor', 'neutral-or-unclear', 'against', 'against-or-unclear', 'in-favor', 'against', 'neutral-favor', 'in-favor', 'neutral-or-unclear', 'in-favor', 'in-or-unclear', 'against', 'in-favor', 'in-favor', 'in-favor', 'in-or-unclear', 'in-favor', 'against-favor', 'in-favor', 'against', 'in', 'against', 'in-favor', 'neutral-or-unclear', 'neutral-or-unclear', 'against', 'in-favor', 'against-favor', 'in-favor', 'against-or-unclear', 'in-favor', 'in-favor', 'against', 'against', 'neutral-or-unclear', 'in', 'against-favor', 'in-favor', 'against', 'in-favor', 'in-favor', 'in-favor', 'in', 'against-or-unclear', 'in-favor', 'in-favor', 'in-or-unclear', 'in-favor', 'in-favor', 'in-favor', 'against', 'against', 'neutral-or-unclear', 'in', 'neutral', 'in-favor', 'in-favor', 'in-favor', 'in', 'in-favor', 'neutral-or-unclear', 'in-favor', 'in-favor']\n",
            "Labels: ['in-favor', 'against', 'in-favor', 'in-favor', 'in-favor', 'in-favor', 'neutral-or-unclear', 'against', 'in-favor', 'in-favor', 'in-favor', 'against', 'against', 'in-favor', 'against', 'in-favor', 'in-favor', 'in-favor', 'in-favor', 'in-favor', 'neutral-or-unclear', 'in-favor', 'in-favor', 'in-favor', 'in-favor', 'neutral-or-unclear', 'in-favor', 'against', 'against', 'against', 'in-favor', 'in-favor', 'in-favor', 'in-favor', 'in-favor', 'in-favor', 'in-favor', 'against', 'in-favor', 'in-favor', 'in-favor', 'in-favor', 'against', 'neutral-or-unclear', 'against', 'neutral-or-unclear', 'neutral-or-unclear', 'neutral-or-unclear', 'against', 'neutral-or-unclear', 'in-favor', 'in-favor', 'in-favor', 'against', 'in-favor', 'in-favor', 'in-favor', 'in-favor', 'in-favor', 'neutral-or-unclear', 'against', 'against', 'against', 'neutral-or-unclear', 'against', 'in-favor', 'in-favor', 'in-favor', 'against', 'against', 'in-favor', 'against', 'in-favor', 'against', 'neutral-or-unclear', 'against', 'against', 'against', 'against', 'against', 'neutral-or-unclear', 'in-favor', 'in-favor', 'in-favor', 'neutral-or-unclear', 'against', 'neutral-or-unclear', 'in-favor', 'in-favor', 'neutral-or-unclear', 'neutral-or-unclear', 'in-favor', 'against', 'neutral-or-unclear', 'against', 'in-favor', 'in-favor', 'against', 'in-favor', 'in-favor', 'against', 'in-favor', 'in-favor', 'against', 'against', 'against', 'against', 'in-favor', 'in-favor', 'against', 'neutral-or-unclear', 'neutral-or-unclear', 'against', 'in-favor', 'in-favor', 'against', 'neutral-or-unclear', 'neutral-or-unclear', 'neutral-or-unclear', 'in-favor', 'neutral-or-unclear', 'in-favor', 'in-favor', 'in-favor', 'in-favor', 'neutral-or-unclear', 'against', 'neutral-or-unclear', 'in-favor', 'against', 'against', 'against', 'in-favor', 'in-favor', 'in-favor', 'neutral-or-unclear', 'neutral-or-unclear', 'against', 'neutral-or-unclear', 'against', 'neutral-or-unclear', 'against', 'in-favor', 'in-favor', 'neutral-or-unclear', 'in-favor', 'in-favor', 'against', 'in-favor', 'in-favor', 'in-favor', 'in-favor', 'in-favor', 'in-favor', 'neutral-or-unclear', 'in-favor', 'in-favor', 'against', 'in-favor', 'in-favor', 'in-favor', 'in-favor', 'in-favor', 'against', 'in-favor', 'in-favor', 'in-favor', 'in-favor', 'in-favor', 'in-favor', 'against', 'neutral-or-unclear', 'in-favor', 'neutral-or-unclear', 'in-favor', 'in-favor', 'against', 'against', 'in-favor', 'in-favor', 'against', 'in-favor', 'in-favor', 'against', 'neutral-or-unclear', 'neutral-or-unclear', 'against', 'neutral-or-unclear', 'against', 'in-favor', 'in-favor', 'neutral-or-unclear', 'against', 'in-favor', 'in-favor', 'in-favor', 'neutral-or-unclear', 'in-favor', 'in-favor', 'in-favor', 'in-favor', 'in-favor', 'against', 'neutral-or-unclear', 'in-favor', 'neutral-or-unclear', 'in-favor', 'in-favor', 'in-favor', 'in-favor', 'neutral-or-unclear', 'neutral-or-unclear', 'against', 'in-favor', 'against', 'against', 'neutral-or-unclear', 'neutral-or-unclear', 'in-favor', 'neutral-or-unclear', 'in-favor', 'in-favor', 'against', 'in-favor', 'against', 'against', 'against', 'in-favor', 'against', 'against', 'in-favor', 'against', 'in-favor', 'in-favor', 'in-favor', 'against', 'against', 'in-favor', 'neutral-or-unclear', 'in-favor', 'against', 'against', 'in-favor', 'in-favor', 'neutral-or-unclear', 'neutral-or-unclear', 'against', 'against', 'against', 'in-favor', 'neutral-or-unclear', 'in-favor', 'against', 'in-favor', 'neutral-or-unclear', 'in-favor', 'in-favor', 'in-favor', 'neutral-or-unclear', 'in-favor', 'against', 'neutral-or-unclear', 'in-favor', 'in-favor', 'neutral-or-unclear', 'neutral-or-unclear', 'against', 'against', 'in-favor', 'in-favor', 'in-favor', 'in-favor', 'in-favor', 'in-favor', 'in-favor', 'in-favor', 'neutral-or-unclear', 'against', 'against', 'in-favor', 'in-favor', 'against', 'against', 'neutral-or-unclear', 'against', 'in-favor', 'neutral-or-unclear', 'in-favor', 'in-favor', 'against', 'in-favor', 'in-favor', 'against', 'against', 'against', 'in-favor', 'against', 'in-favor', 'against', 'against', 'in-favor', 'neutral-or-unclear', 'against', 'against', 'against', 'in-favor', 'against', 'in-favor', 'in-favor', 'in-favor', 'neutral-or-unclear', 'against', 'neutral-or-unclear', 'in-favor', 'against', 'in-favor', 'against', 'neutral-or-unclear', 'in-favor', 'in-favor', 'in-favor', 'neutral-or-unclear', 'against', 'against', 'in-favor', 'in-favor', 'neutral-or-unclear', 'in-favor', 'in-favor', 'against', 'in-favor', 'in-favor', 'in-favor', 'in-favor', 'neutral-or-unclear', 'in-favor', 'against', 'in-favor', 'neutral-or-unclear', 'neutral-or-unclear', 'in-favor', 'in-favor', 'against', 'in-favor', 'against', 'neutral-or-unclear', 'in-favor', 'in-favor', 'against', 'in-favor', 'in-favor', 'in-favor', 'against', 'in-favor', 'in-favor', 'against', 'in-favor', 'against', 'in-favor', 'in-favor', 'in-favor', 'in-favor', 'neutral-or-unclear', 'against', 'against', 'in-favor', 'in-favor', 'neutral-or-unclear', 'neutral-or-unclear', 'against', 'in-favor', 'against', 'neutral-or-unclear', 'in-favor', 'neutral-or-unclear', 'neutral-or-unclear', 'in-favor', 'in-favor', 'in-favor', 'in-favor', 'against', 'against', 'against', 'in-favor', 'in-favor', 'in-favor', 'in-favor', 'neutral-or-unclear', 'against', 'in-favor', 'against', 'against', 'against', 'against', 'in-favor', 'in-favor', 'in-favor', 'neutral-or-unclear', 'against', 'against', 'in-favor', 'in-favor', 'against', 'neutral-or-unclear', 'in-favor', 'neutral-or-unclear', 'neutral-or-unclear', 'in-favor', 'against', 'in-favor', 'in-favor', 'neutral-or-unclear', 'neutral-or-unclear', 'in-favor', 'against', 'in-favor', 'against', 'against', 'against', 'neutral-or-unclear', 'neutral-or-unclear', 'in-favor', 'against', 'in-favor', 'in-favor', 'neutral-or-unclear', 'neutral-or-unclear', 'in-favor', 'neutral-or-unclear', 'in-favor', 'neutral-or-unclear', 'in-favor', 'against', 'neutral-or-unclear', 'against', 'in-favor', 'in-favor', 'neutral-or-unclear', 'neutral-or-unclear', 'in-favor', 'in-favor', 'in-favor', 'in-favor', 'in-favor', 'against', 'in-favor', 'in-favor', 'neutral-or-unclear', 'in-favor', 'neutral-or-unclear', 'in-favor', 'in-favor', 'against', 'against', 'in-favor', 'in-favor', 'in-favor', 'in-favor', 'in-favor', 'against', 'neutral-or-unclear', 'against', 'in-favor', 'in-favor', 'in-favor', 'in-favor', 'against', 'against', 'in-favor', 'in-favor', 'in-favor', 'in-favor', 'against', 'against', 'against', 'against', 'in-favor', 'against', 'neutral-or-unclear', 'neutral-or-unclear', 'in-favor', 'in-favor', 'in-favor', 'against', 'in-favor', 'neutral-or-unclear', 'neutral-or-unclear', 'in-favor', 'in-favor', 'in-favor', 'in-favor', 'against', 'against', 'against', 'against', 'neutral-or-unclear', 'in-favor', 'in-favor', 'against', 'against', 'neutral-or-unclear', 'against', 'in-favor', 'neutral-or-unclear', 'in-favor', 'neutral-or-unclear', 'against', 'in-favor', 'in-favor', 'against', 'against', 'in-favor', 'neutral-or-unclear', 'against', 'against', 'in-favor', 'neutral-or-unclear', 'in-favor', 'neutral-or-unclear', 'in-favor', 'in-favor', 'in-favor', 'in-favor', 'in-favor', 'in-favor', 'against', 'in-favor', 'against', 'in-favor', 'neutral-or-unclear', 'in-favor', 'against', 'in-favor', 'neutral-or-unclear', 'against', 'against', 'neutral-or-unclear', 'in-favor', 'neutral-or-unclear', 'against', 'in-favor', 'against', 'in-favor', 'against', 'in-favor', 'neutral-or-unclear', 'against', 'in-favor', 'in-favor', 'neutral-or-unclear', 'in-favor', 'against', 'in-favor', 'in-favor', 'against', 'in-favor', 'in-favor', 'neutral-or-unclear', 'in-favor', 'in-favor', 'in-favor', 'in-favor', 'in-favor', 'in-favor', 'in-favor', 'in-favor', 'against', 'against', 'in-favor', 'in-favor', 'in-favor', 'in-favor', 'in-favor', 'neutral-or-unclear', 'against', 'against', 'in-favor', 'in-favor', 'against', 'neutral-or-unclear', 'neutral-or-unclear', 'in-favor', 'in-favor', 'neutral-or-unclear', 'in-favor', 'in-favor', 'neutral-or-unclear', 'in-favor', 'neutral-or-unclear', 'in-favor', 'in-favor', 'neutral-or-unclear', 'against', 'in-favor', 'in-favor', 'against', 'against', 'in-favor', 'neutral-or-unclear', 'in-favor', 'in-favor', 'neutral-or-unclear', 'against', 'in-favor', 'in-favor', 'against', 'against', 'against', 'against', 'in-favor', 'neutral-or-unclear', 'against', 'against', 'against', 'against', 'neutral-or-unclear', 'in-favor', 'against', 'against', 'in-favor', 'neutral-or-unclear', 'in-favor', 'in-favor', 'against', 'neutral-or-unclear', 'against', 'neutral-or-unclear', 'in-favor', 'against', 'in-favor', 'in-favor', 'against', 'against', 'against', 'neutral-or-unclear', 'in-favor', 'in-favor', 'neutral-or-unclear', 'against', 'against', 'neutral-or-unclear', 'against', 'in-favor', 'in-favor', 'against', 'against', 'against', 'neutral-or-unclear', 'in-favor', 'against', 'against', 'neutral-or-unclear', 'against', 'against', 'neutral-or-unclear', 'in-favor', 'in-favor', 'neutral-or-unclear', 'against', 'neutral-or-unclear', 'neutral-or-unclear', 'in-favor', 'against', 'neutral-or-unclear', 'in-favor', 'against', 'in-favor', 'in-favor', 'neutral-or-unclear', 'in-favor', 'in-favor', 'in-favor', 'in-favor', 'in-favor', 'neutral-or-unclear', 'in-favor', 'against', 'in-favor', 'against', 'against', 'in-favor', 'in-favor', 'in-favor', 'in-favor', 'against', 'in-favor', 'against', 'in-favor', 'in-favor', 'against', 'neutral-or-unclear', 'in-favor', 'in-favor', 'in-favor', 'in-favor', 'in-favor', 'against', 'neutral-or-unclear', 'against', 'neutral-or-unclear', 'against', 'against', 'in-favor', 'in-favor', 'neutral-or-unclear', 'in-favor', 'in-favor', 'neutral-or-unclear', 'neutral-or-unclear', 'against', 'against', 'against', 'against', 'in-favor', 'in-favor', 'against', 'against', 'against', 'in-favor', 'in-favor', 'in-favor', 'against', 'in-favor', 'against', 'against', 'against', 'in-favor', 'in-favor', 'against', 'against', 'against', 'neutral-or-unclear', 'neutral-or-unclear', 'in-favor', 'neutral-or-unclear', 'against', 'against', 'in-favor', 'against', 'against', 'in-favor', 'in-favor', 'in-favor', 'in-favor', 'in-favor', 'against', 'in-favor', 'against', 'in-favor', 'against', 'neutral-or-unclear', 'neutral-or-unclear', 'against', 'in-favor', 'in-favor', 'in-favor', 'against', 'in-favor', 'neutral-or-unclear', 'neutral-or-unclear', 'against', 'against', 'in-favor', 'in-favor', 'neutral-or-unclear', 'in-favor', 'against', 'in-favor', 'against', 'in-favor', 'in-favor', 'in-favor', 'neutral-or-unclear', 'against', 'in-favor', 'in-favor', 'against', 'against', 'neutral-or-unclear', 'neutral-or-unclear', 'neutral-or-unclear', 'in-favor', 'in-favor', 'against', 'neutral-or-unclear', 'in-favor', 'against', 'in-favor', 'in-favor', 'against', 'neutral-or-unclear', 'against', 'in-favor', 'in-favor', 'against', 'in-favor', 'in-favor', 'against', 'in-favor', 'in-favor', 'in-favor', 'in-favor', 'in-favor', 'against', 'in-favor', 'neutral-or-unclear', 'against', 'in-favor', 'in-favor', 'neutral-or-unclear', 'in-favor', 'neutral-or-unclear', 'neutral-or-unclear', 'against', 'in-favor', 'in-favor', 'in-favor', 'against', 'against', 'in-favor', 'neutral-or-unclear', 'against', 'neutral-or-unclear', 'against', 'against', 'against', 'in-favor', 'neutral-or-unclear', 'in-favor', 'neutral-or-unclear', 'in-favor', 'in-favor', 'against', 'against', 'against', 'in-favor', 'against', 'against', 'in-favor', 'in-favor', 'against', 'against', 'neutral-or-unclear', 'neutral-or-unclear', 'neutral-or-unclear', 'against', 'in-favor', 'neutral-or-unclear', 'against', 'in-favor', 'against', 'in-favor', 'neutral-or-unclear', 'in-favor', 'against', 'in-favor', 'against', 'in-favor', 'in-favor', 'in-favor', 'neutral-or-unclear', 'against', 'in-favor', 'neutral-or-unclear', 'in-favor', 'in-favor', 'in-favor', 'in-favor', 'in-favor', 'against', 'in-favor', 'in-favor', 'in-favor', 'in-favor', 'in-favor', 'in-favor', 'against', 'in-favor', 'in-favor', 'in-favor', 'against', 'against', 'in-favor', 'in-favor', 'in-favor', 'in-favor', 'in-favor', 'neutral-or-unclear', 'against', 'neutral-or-unclear', 'in-favor', 'against', 'against', 'in-favor', 'against', 'against', 'neutral-or-unclear', 'in-favor', 'in-favor', 'in-favor', 'in-favor', 'neutral-or-unclear', 'in-favor', 'in-favor', 'against', 'in-favor', 'in-favor', 'in-favor', 'against', 'in-favor', 'in-favor', 'neutral-or-unclear', 'in-favor', 'in-favor', 'in-favor', 'in-favor', 'neutral-or-unclear', 'in-favor', 'neutral-or-unclear', 'in-favor', 'against', 'in-favor', 'in-favor', 'in-favor', 'against', 'against', 'in-favor', 'in-favor', 'neutral-or-unclear', 'in-favor', 'in-favor', 'against', 'against', 'neutral-or-unclear', 'neutral-or-unclear', 'against', 'in-favor', 'in-favor', 'in-favor', 'neutral-or-unclear', 'neutral-or-unclear', 'against', 'in-favor', 'against', 'in-favor', 'against', 'in-favor', 'in-favor', 'in-favor', 'in-favor', 'in-favor', 'in-favor', 'neutral-or-unclear', 'in-favor', 'in-favor', 'in-favor', 'against', 'in-favor', 'in-favor', 'in-favor', 'against', 'neutral-or-unclear', 'neutral-or-unclear', 'in-favor', 'in-favor', 'in-favor', 'against', 'in-favor', 'neutral-or-unclear', 'in-favor', 'neutral-or-unclear', 'in-favor', 'against', 'in-favor', 'in-favor', 'against', 'in-favor', 'against', 'in-favor', 'in-favor', 'against', 'in-favor', 'against', 'neutral-or-unclear', 'neutral-or-unclear', 'in-favor', 'against', 'against', 'in-favor', 'against', 'in-favor', 'against', 'against', 'in-favor', 'in-favor', 'against', 'in-favor', 'in-favor', 'in-favor', 'in-favor', 'in-favor', 'against', 'neutral-or-unclear', 'in-favor', 'in-favor', 'in-favor', 'in-favor', 'in-favor', 'against', 'in-favor', 'against', 'against', 'against', 'neutral-or-unclear', 'against', 'against', 'in-favor', 'neutral-or-unclear', 'against', 'against', 'in-favor', 'in-favor', 'against', 'against', 'in-favor', 'in-favor', 'against', 'in-favor', 'in-favor', 'neutral-or-unclear', 'in-favor', 'in-favor', 'in-favor', 'in-favor', 'neutral-or-unclear', 'in-favor', 'in-favor', 'neutral-or-unclear', 'against', 'neutral-or-unclear', 'neutral-or-unclear', 'against', 'against', 'against', 'against', 'in-favor', 'in-favor', 'in-favor', 'in-favor', 'neutral-or-unclear', 'in-favor', 'in-favor', 'in-favor', 'in-favor', 'against', 'in-favor', 'in-favor', 'against', 'in-favor', 'in-favor', 'neutral-or-unclear', 'in-favor', 'in-favor', 'neutral-or-unclear', 'neutral-or-unclear', 'against', 'in-favor', 'in-favor', 'against', 'in-favor', 'neutral-or-unclear', 'in-favor', 'in-favor', 'against', 'neutral-or-unclear', 'against', 'against', 'against', 'in-favor', 'against', 'neutral-or-unclear', 'in-favor', 'in-favor', 'against', 'in-favor', 'in-favor', 'neutral-or-unclear', 'against', 'in-favor', 'neutral-or-unclear', 'against', 'neutral-or-unclear', 'in-favor', 'against', 'in-favor', 'in-favor', 'neutral-or-unclear', 'in-favor', 'neutral-or-unclear', 'against', 'in-favor', 'in-favor', 'in-favor', 'neutral-or-unclear', 'in-favor', 'in-favor', 'in-favor', 'against', 'against', 'against', 'in-favor', 'neutral-or-unclear', 'neutral-or-unclear', 'against', 'in-favor', 'in-favor', 'in-favor', 'neutral-or-unclear', 'in-favor', 'in-favor', 'against', 'against', 'neutral-or-unclear', 'against', 'in-favor', 'in-favor', 'against', 'in-favor', 'in-favor', 'in-favor', 'against', 'neutral-or-unclear', 'in-favor', 'in-favor', 'neutral-or-unclear', 'in-favor', 'in-favor', 'in-favor', 'against', 'against', 'neutral-or-unclear', 'against', 'against', 'in-favor', 'in-favor', 'in-favor', 'against', 'in-favor', 'neutral-or-unclear', 'in-favor', 'in-favor']\n",
            "F1 Score: {'f1': 0.8412465637583927}\n",
            "Predictions: ['in-favor', 'against', 'in-favor', 'in-favor', 'in-favor', 'in-favor', 'neutral-or-unclear', 'in', 'in-favor', 'in-favor', 'in-favor', 'against', 'against', 'in-favor', 'against', 'in-favor', 'in-favor', 'in-favor', 'in-favor', 'in-favor', 'against-or-unclear', 'in-favor', 'in-favor', 'against-favor', 'in-favor', 'in-or-unclear', 'in-favor', 'against', 'against', 'against', 'in-favor', 'in-favor', 'in-favor', 'in-favor', 'against-favor', 'in-favor', 'in-favor', 'against', 'in-favor', 'in-favor', 'in-favor', 'in-favor', 'against', 'in-or-unclear', 'against', 'against-or-unclear', 'in-or-unclear', 'against-or-unclear', 'in', 'in-or-unclear', 'in-favor', 'in-favor', 'in-favor', 'in', 'in-favor', 'in-favor', 'in-favor', 'in-favor', 'in-favor', 'neutral-or-unclear', 'against', 'in', 'against', 'against-or-unclear', 'against', 'in-favor', 'in-favor', 'in-favor', 'against', 'against', 'in-favor', 'against', 'in-favor', 'against', 'against-or-unclear', 'against', 'against', 'in', 'in', 'against', 'against-or-unclear', 'in-favor', 'in-favor', 'in-favor', 'in-or-unclear', 'against', 'in-or-unclear', 'against-favor', 'in-favor', 'neutral-or-unclear', 'neutral-or-unclear', 'in-favor', 'against', 'in-or-unclear', 'against', 'in-favor', 'in-favor', 'against', 'in-favor', 'in-favor', 'against', 'in-favor', 'in-favor', 'against', 'against', 'neutral', 'against', 'in-favor', 'in-favor', 'against', 'against-or-unclear', 'in-or-unclear', 'against', 'in-favor', 'in-favor', 'against', 'neutral-or-unclear', 'neutral-or-unclear', 'neutral-or-unclear', 'in-favor', 'neutral-or-unclear', 'in-favor', 'in-favor', 'against-favor', 'in-favor', 'against-or-unclear', 'against', 'in-or-unclear', 'in-favor', 'against', 'against', 'against', 'in-favor', 'in-favor', 'in-favor', 'neutral-or-unclear', 'against-or-unclear', 'in', 'in-or-unclear', 'against', 'neutral-or-unclear', 'in', 'in-favor', 'in-favor', 'in-or-unclear', 'in-favor', 'in-favor', 'against', 'in-favor', 'in-favor', 'in-favor', 'in-favor', 'in-favor', 'in-favor', 'against-or-unclear', 'in-favor', 'in-favor', 'against', 'in-favor', 'in-favor', 'in-favor', 'in-favor', 'in-favor', 'against', 'in-favor', 'in-favor', 'in-favor', 'in-favor', 'in-favor', 'in-favor', 'against', 'against-or-unclear', 'in-favor', 'against-or-unclear', 'in-favor', 'in-favor', 'against', 'against', 'in-favor', 'neutral-favor', 'in', 'in-favor', 'in-favor', 'against', 'in-or-unclear', 'in-or-unclear', 'against', 'neutral-or-unclear', 'in', 'in-favor', 'against-favor', 'against-or-unclear', 'against', 'in-favor', 'neutral-favor', 'against-favor', 'neutral-or-unclear', 'in-favor', 'in-favor', 'in-favor', 'neutral-favor', 'against-favor', 'against', 'in-or-unclear', 'in-favor', 'neutral-or-unclear', 'neutral-favor', 'against-favor', 'in-favor', 'in-favor', 'in-or-unclear', 'neutral-or-unclear', 'neutral', 'in-favor', 'in', 'against', 'in-or-unclear', 'neutral-or-unclear', 'in-favor', 'in-or-unclear', 'neutral-favor', 'in-favor', 'against', 'in-favor', 'against', 'in', 'against', 'in-favor', 'against', 'against', 'in-favor', 'against', 'in-favor', 'in-favor', 'in-favor', 'against', 'against', 'neutral-favor', 'in-or-unclear', 'against-favor', 'against', 'against', 'in-favor', 'neutral-favor', 'neutral-or-unclear', 'against-or-unclear', 'against', 'against', 'against', 'in-favor', 'in-or-unclear', 'in-favor', 'against', 'in-favor', 'neutral-or-unclear', 'in-favor', 'in-favor', 'in-favor', 'neutral-or-unclear', 'in-favor', 'against', 'in-or-unclear', 'in-favor', 'in-favor', 'neutral-or-unclear', 'neutral-or-unclear', 'against', 'neutral', 'in-favor', 'in-favor', 'in-favor', 'in-favor', 'in-favor', 'against-favor', 'in-favor', 'in-favor', 'against-or-unclear', 'against', 'against', 'against-favor', 'in-favor', 'against', 'against', 'against-or-unclear', 'against', 'in-favor', 'neutral-or-unclear', 'in-favor', 'in-favor', 'against', 'in-favor', 'in-favor', 'in', 'against', 'against', 'in-favor', 'against', 'in-favor', 'against', 'against', 'in-favor', 'against-or-unclear', 'against', 'against', 'against', 'in-favor', 'against', 'in-favor', 'in-favor', 'in-favor', 'in-or-unclear', 'against', 'against-or-unclear', 'in-favor', 'against', 'in-favor', 'against', 'in-or-unclear', 'in-favor', 'in-favor', 'in-favor', 'in-or-unclear', 'against', 'against', 'in-favor', 'in-favor', 'neutral-or-unclear', 'in-favor', 'in-favor', 'against', 'in-favor', 'in-favor', 'in-favor', 'in-favor', 'neutral-or-unclear', 'in-favor', 'against', 'in-favor', 'neutral-or-unclear', 'neutral-or-unclear', 'in-favor', 'in-favor', 'against', 'in-favor', 'against', 'in-or-unclear', 'in-favor', 'in-favor', 'against', 'in-favor', 'in-favor', 'in-favor', 'against', 'in-favor', 'in-favor', 'against', 'in-favor', 'neutral', 'in-favor', 'in-favor', 'in-favor', 'in-favor', 'in-or-unclear', 'in', 'against', 'in-favor', 'in-favor', 'in-or-unclear', 'against-or-unclear', 'against', 'in-favor', 'against', 'in-or-unclear', 'in-favor', 'against-or-unclear', 'in-or-unclear', 'in-favor', 'against-favor', 'in-favor', 'in-favor', 'against', 'against', 'against', 'in-favor', 'in-favor', 'in-favor', 'in-favor', 'against-or-unclear', 'against', 'in-favor', 'against', 'against', 'against', 'against', 'in-favor', 'in-favor', 'in-favor', 'in-or-unclear', 'against', 'in', 'in-favor', 'neutral-favor', 'neutral', 'in-or-unclear', 'in-favor', 'in-or-unclear', 'in-or-unclear', 'in-favor', 'neutral', 'in-favor', 'in-favor', 'neutral-or-unclear', 'against-or-unclear', 'against-favor', 'against', 'in-favor', 'against', 'in', 'against', 'against-or-unclear', 'neutral-or-unclear', 'against-favor', 'against', 'in-favor', 'in-favor', 'in-or-unclear', 'neutral-or-unclear', 'in-favor', 'in-or-unclear', 'in-favor', 'against-or-unclear', 'in-favor', 'against', 'neutral-or-unclear', 'against', 'in-favor', 'in-favor', 'neutral-or-unclear', 'against-or-unclear', 'in-favor', 'in-favor', 'in-favor', 'in-favor', 'in-favor', 'in', 'in-favor', 'in-favor', 'in-or-unclear', 'in-favor', 'against-or-unclear', 'in-favor', 'in-favor', 'neutral', 'against', 'in-favor', 'in-favor', 'neutral-favor', 'in-favor', 'in-favor', 'neutral', 'neutral-or-unclear', 'against', 'in-favor', 'in-favor', 'in-favor', 'in-favor', 'in', 'against', 'in-favor', 'in-favor', 'in-favor', 'against-favor', 'against', 'against', 'against', 'against', 'in-favor', 'against', 'neutral-or-unclear', 'against-or-unclear', 'in-favor', 'in-favor', 'in-favor', 'against', 'in-favor', 'neutral-or-unclear', 'in-or-unclear', 'in-favor', 'in-favor', 'in-favor', 'in-favor', 'against', 'in', 'against', 'against', 'neutral-or-unclear', 'neutral-favor', 'in-favor', 'against', 'against', 'neutral-or-unclear', 'against', 'against-favor', 'in-or-unclear', 'in-favor', 'neutral-or-unclear', 'against', 'in-favor', 'in-favor', 'against', 'neutral', 'in-favor', 'neutral-or-unclear', 'in', 'neutral', 'in-favor', 'against-or-unclear', 'against-favor', 'in-or-unclear', 'in-favor', 'in-favor', 'in-favor', 'in-favor', 'in-favor', 'in-favor', 'against', 'in-favor', 'neutral', 'in-favor', 'neutral-or-unclear', 'in-favor', 'against', 'against-favor', 'in-or-unclear', 'against', 'in', 'in-or-unclear', 'in-favor', 'against-or-unclear', 'against', 'in-favor', 'against', 'against-favor', 'against', 'in-favor', 'against-or-unclear', 'against', 'in-favor', 'in-favor', 'neutral-or-unclear', 'in-favor', 'against', 'in-favor', 'in-favor', 'against', 'against-favor', 'in-favor', 'against-or-unclear', 'in-favor', 'in-favor', 'in-favor', 'in-favor', 'in-favor', 'in-favor', 'in-favor', 'in-favor', 'against', 'against', 'in-favor', 'against-favor', 'in-favor', 'in-favor', 'neutral-favor', 'against-or-unclear', 'in', 'against', 'in-favor', 'in-favor', 'against', 'neutral-or-unclear', 'against-or-unclear', 'in-favor', 'in-favor', 'against-or-unclear', 'in-favor', 'in-favor', 'neutral-or-unclear', 'in-favor', 'against-or-unclear', 'in-favor', 'in-favor', 'in-or-unclear', 'against', 'in-favor', 'in-favor', 'against', 'against', 'in-favor', 'in-or-unclear', 'against-favor', 'in-favor', 'neutral-or-unclear', 'in', 'neutral-favor', 'in-favor', 'against', 'against', 'against', 'against', 'against-favor', 'neutral-or-unclear', 'against', 'against', 'against', 'against', 'against-or-unclear', 'in-favor', 'against', 'against', 'in-favor', 'neutral-or-unclear', 'in-favor', 'against-favor', 'against', 'against-or-unclear', 'against', 'against-or-unclear', 'in-favor', 'against', 'in-favor', 'in-favor', 'against', 'against', 'in', 'in-or-unclear', 'in-favor', 'in-favor', 'in-or-unclear', 'against', 'against', 'neutral-or-unclear', 'against', 'in-favor', 'in-favor', 'against', 'against', 'against', 'in-or-unclear', 'in-favor', 'against', 'against', 'against-or-unclear', 'against', 'against', 'neutral-or-unclear', 'in-favor', 'in-favor', 'against-or-unclear', 'against', 'in-or-unclear', 'in-or-unclear', 'in-favor', 'against', 'neutral-or-unclear', 'in-favor', 'against', 'in-favor', 'in-favor', 'against-or-unclear', 'in-favor', 'in-favor', 'in-favor', 'in-favor', 'in-favor', 'in-or-unclear', 'in-favor', 'against', 'in-favor', 'in', 'against', 'in-favor', 'in-favor', 'in-favor', 'in-favor', 'against', 'in-favor', 'against', 'in-favor', 'in-favor', 'against', 'neutral-or-unclear', 'in-favor', 'in-favor', 'in-favor', 'in-favor', 'in-favor', 'against', 'against-or-unclear', 'against', 'against-or-unclear', 'in', 'neutral', 'in-favor', 'in-favor', 'in-or-unclear', 'in-favor', 'against-favor', 'in-or-unclear', 'against-or-unclear', 'neutral', 'against', 'neutral', 'neutral', 'in-favor', 'neutral-favor', 'against', 'against', 'against', 'in-favor', 'in-favor', 'in-favor', 'against', 'in-favor', 'against', 'against', 'against', 'in-favor', 'in-favor', 'neutral', 'against', 'in', 'neutral-or-unclear', 'in-or-unclear', 'in-favor', 'neutral-or-unclear', 'against', 'against', 'in-favor', 'against', 'against', 'in-favor', 'in-favor', 'in-favor', 'in-favor', 'in-favor', 'neutral', 'neutral-favor', 'against', 'in-favor', 'against', 'against-or-unclear', 'neutral-or-unclear', 'against', 'in-favor', 'in-favor', 'in-favor', 'against', 'in-favor', 'in-or-unclear', 'neutral-or-unclear', 'neutral', 'against', 'in-favor', 'in-favor', 'neutral-or-unclear', 'neutral-favor', 'against', 'in-favor', 'neutral', 'in-favor', 'in-favor', 'in-favor', 'neutral-or-unclear', 'against', 'in-favor', 'in-favor', 'against', 'against', 'against-or-unclear', 'against-or-unclear', 'against-or-unclear', 'in-favor', 'neutral-favor', 'against', 'against-or-unclear', 'against-favor', 'against', 'in-favor', 'in-favor', 'against', 'against-or-unclear', 'against', 'against-favor', 'against-favor', 'neutral', 'in-favor', 'in-favor', 'against', 'in-favor', 'in-favor', 'in-favor', 'in-favor', 'in-favor', 'against', 'in-favor', 'against-or-unclear', 'in', 'in-favor', 'against-favor', 'neutral-or-unclear', 'neutral-favor', 'in-or-unclear', 'in-or-unclear', 'against', 'in-favor', 'in-favor', 'in-favor', 'against', 'against', 'in-favor', 'against-or-unclear', 'against', 'in-or-unclear', 'against', 'against', 'in', 'in-favor', 'neutral-or-unclear', 'in-favor', 'in-or-unclear', 'in-favor', 'in-favor', 'against', 'against', 'neutral', 'in-favor', 'against', 'against', 'in-favor', 'in-favor', 'against', 'against', 'neutral-or-unclear', 'against-or-unclear', 'neutral-or-unclear', 'against', 'in-favor', 'against-or-unclear', 'against', 'in-favor', 'against', 'in-favor', 'neutral-or-unclear', 'in-favor', 'against', 'in-favor', 'against', 'in-favor', 'in-favor', 'neutral-favor', 'in-or-unclear', 'against', 'in-favor', 'against-or-unclear', 'in-favor', 'in-favor', 'in-favor', 'in-favor', 'in-favor', 'in', 'in-favor', 'in-favor', 'in-favor', 'in-favor', 'in-favor', 'in-favor', 'neutral', 'in-favor', 'in-favor', 'in-favor', 'against', 'against', 'in-favor', 'in-favor', 'in-favor', 'neutral-favor', 'in-favor', 'against-or-unclear', 'against', 'in-or-unclear', 'in-favor', 'in', 'against', 'in-favor', 'against', 'in', 'in-or-unclear', 'in-favor', 'in-favor', 'in-favor', 'in-favor', 'neutral-or-unclear', 'in-favor', 'neutral-favor', 'against', 'in-favor', 'in-favor', 'against-favor', 'against', 'in-favor', 'in-favor', 'neutral-or-unclear', 'neutral-favor', 'in-favor', 'in-favor', 'neutral-favor', 'in-or-unclear', 'in-favor', 'in-or-unclear', 'in-favor', 'against', 'in-favor', 'in-favor', 'in-favor', 'against', 'neutral', 'in-favor', 'in-favor', 'neutral-or-unclear', 'in-favor', 'in-favor', 'against', 'against', 'in-or-unclear', 'in-or-unclear', 'against', 'in-favor', 'in-favor', 'in-favor', 'in-or-unclear', 'neutral-or-unclear', 'against', 'in-favor', 'against', 'in-favor', 'against', 'in-favor', 'in-favor', 'in-favor', 'in-favor', 'in-favor', 'in-favor', 'neutral-or-unclear', 'in-favor', 'in-favor', 'in-favor', 'against', 'in-favor', 'in-favor', 'in-favor', 'against', 'against-or-unclear', 'neutral-or-unclear', 'in-favor', 'in-favor', 'in-favor', 'against', 'in-favor', 'neutral-or-unclear', 'in-favor', 'neutral-or-unclear', 'in-favor', 'against', 'in-favor', 'neutral-favor', 'against', 'in-favor', 'against', 'in-favor', 'in-favor', 'in', 'in-favor', 'against', 'neutral-or-unclear', 'in-or-unclear', 'in-favor', 'against', 'against', 'against-favor', 'against', 'in-favor', 'neutral', 'in', 'against-favor', 'in-favor', 'against', 'in-favor', 'in-favor', 'in-favor', 'in-favor', 'in-favor', 'against', 'in-or-unclear', 'in-favor', 'in-favor', 'in-favor', 'in-favor', 'in-favor', 'neutral', 'in-favor', 'against', 'neutral', 'against', 'against-or-unclear', 'against', 'against', 'against-favor', 'against-or-unclear', 'against', 'against', 'in-favor', 'in-favor', 'against', 'against', 'against-favor', 'in-favor', 'against', 'in-favor', 'against-favor', 'against-or-unclear', 'in-favor', 'in-favor', 'in-favor', 'in-favor', 'in-or-unclear', 'in-favor', 'against-favor', 'against-or-unclear', 'against', 'against-or-unclear', 'in-or-unclear', 'against', 'against', 'against', 'against', 'against-favor', 'against-favor', 'in-favor', 'in-favor', 'in-or-unclear', 'against-favor', 'in-favor', 'in-favor', 'in-favor', 'against', 'in-favor', 'in-favor', 'against', 'against-favor', 'in-favor', 'in-or-unclear', 'in-favor', 'in-favor', 'neutral-or-unclear', 'neutral-or-unclear', 'against', 'against-favor', 'in-favor', 'against', 'in-favor', 'neutral-or-unclear', 'in-favor', 'in-favor', 'against', 'neutral-or-unclear', 'against', 'against', 'against', 'in-favor', 'in', 'in-or-unclear', 'in-favor', 'in-favor', 'against', 'in-favor', 'in-favor', 'in-or-unclear', 'against', 'in-favor', 'neutral-or-unclear', 'against', 'neutral-or-unclear', 'in-favor', 'against', 'neutral-favor', 'in-favor', 'neutral-or-unclear', 'in-favor', 'in-or-unclear', 'against', 'in-favor', 'in-favor', 'in-favor', 'in-or-unclear', 'in-favor', 'against-favor', 'in-favor', 'against', 'against', 'against', 'in-favor', 'neutral-or-unclear', 'neutral-or-unclear', 'against', 'in-favor', 'in-favor', 'in-favor', 'against-or-unclear', 'in-favor', 'in-favor', 'against', 'against', 'neutral-or-unclear', 'in', 'in-favor', 'in-favor', 'against', 'in-favor', 'in-favor', 'in-favor', 'neutral', 'neutral-or-unclear', 'in-favor', 'in-favor', 'in-or-unclear', 'in-favor', 'in-favor', 'in-favor', 'against', 'against', 'neutral-or-unclear', 'in', 'neutral', 'in-favor', 'in-favor', 'in-favor', 'in', 'in-favor', 'neutral-or-unclear', 'in-favor', 'in-favor']\n",
            "Labels: ['in-favor', 'against', 'in-favor', 'in-favor', 'in-favor', 'in-favor', 'neutral-or-unclear', 'against', 'in-favor', 'in-favor', 'in-favor', 'against', 'against', 'in-favor', 'against', 'in-favor', 'in-favor', 'in-favor', 'in-favor', 'in-favor', 'neutral-or-unclear', 'in-favor', 'in-favor', 'in-favor', 'in-favor', 'neutral-or-unclear', 'in-favor', 'against', 'against', 'against', 'in-favor', 'in-favor', 'in-favor', 'in-favor', 'in-favor', 'in-favor', 'in-favor', 'against', 'in-favor', 'in-favor', 'in-favor', 'in-favor', 'against', 'neutral-or-unclear', 'against', 'neutral-or-unclear', 'neutral-or-unclear', 'neutral-or-unclear', 'against', 'neutral-or-unclear', 'in-favor', 'in-favor', 'in-favor', 'against', 'in-favor', 'in-favor', 'in-favor', 'in-favor', 'in-favor', 'neutral-or-unclear', 'against', 'against', 'against', 'neutral-or-unclear', 'against', 'in-favor', 'in-favor', 'in-favor', 'against', 'against', 'in-favor', 'against', 'in-favor', 'against', 'neutral-or-unclear', 'against', 'against', 'against', 'against', 'against', 'neutral-or-unclear', 'in-favor', 'in-favor', 'in-favor', 'neutral-or-unclear', 'against', 'neutral-or-unclear', 'in-favor', 'in-favor', 'neutral-or-unclear', 'neutral-or-unclear', 'in-favor', 'against', 'neutral-or-unclear', 'against', 'in-favor', 'in-favor', 'against', 'in-favor', 'in-favor', 'against', 'in-favor', 'in-favor', 'against', 'against', 'against', 'against', 'in-favor', 'in-favor', 'against', 'neutral-or-unclear', 'neutral-or-unclear', 'against', 'in-favor', 'in-favor', 'against', 'neutral-or-unclear', 'neutral-or-unclear', 'neutral-or-unclear', 'in-favor', 'neutral-or-unclear', 'in-favor', 'in-favor', 'in-favor', 'in-favor', 'neutral-or-unclear', 'against', 'neutral-or-unclear', 'in-favor', 'against', 'against', 'against', 'in-favor', 'in-favor', 'in-favor', 'neutral-or-unclear', 'neutral-or-unclear', 'against', 'neutral-or-unclear', 'against', 'neutral-or-unclear', 'against', 'in-favor', 'in-favor', 'neutral-or-unclear', 'in-favor', 'in-favor', 'against', 'in-favor', 'in-favor', 'in-favor', 'in-favor', 'in-favor', 'in-favor', 'neutral-or-unclear', 'in-favor', 'in-favor', 'against', 'in-favor', 'in-favor', 'in-favor', 'in-favor', 'in-favor', 'against', 'in-favor', 'in-favor', 'in-favor', 'in-favor', 'in-favor', 'in-favor', 'against', 'neutral-or-unclear', 'in-favor', 'neutral-or-unclear', 'in-favor', 'in-favor', 'against', 'against', 'in-favor', 'in-favor', 'against', 'in-favor', 'in-favor', 'against', 'neutral-or-unclear', 'neutral-or-unclear', 'against', 'neutral-or-unclear', 'against', 'in-favor', 'in-favor', 'neutral-or-unclear', 'against', 'in-favor', 'in-favor', 'in-favor', 'neutral-or-unclear', 'in-favor', 'in-favor', 'in-favor', 'in-favor', 'in-favor', 'against', 'neutral-or-unclear', 'in-favor', 'neutral-or-unclear', 'in-favor', 'in-favor', 'in-favor', 'in-favor', 'neutral-or-unclear', 'neutral-or-unclear', 'against', 'in-favor', 'against', 'against', 'neutral-or-unclear', 'neutral-or-unclear', 'in-favor', 'neutral-or-unclear', 'in-favor', 'in-favor', 'against', 'in-favor', 'against', 'against', 'against', 'in-favor', 'against', 'against', 'in-favor', 'against', 'in-favor', 'in-favor', 'in-favor', 'against', 'against', 'in-favor', 'neutral-or-unclear', 'in-favor', 'against', 'against', 'in-favor', 'in-favor', 'neutral-or-unclear', 'neutral-or-unclear', 'against', 'against', 'against', 'in-favor', 'neutral-or-unclear', 'in-favor', 'against', 'in-favor', 'neutral-or-unclear', 'in-favor', 'in-favor', 'in-favor', 'neutral-or-unclear', 'in-favor', 'against', 'neutral-or-unclear', 'in-favor', 'in-favor', 'neutral-or-unclear', 'neutral-or-unclear', 'against', 'against', 'in-favor', 'in-favor', 'in-favor', 'in-favor', 'in-favor', 'in-favor', 'in-favor', 'in-favor', 'neutral-or-unclear', 'against', 'against', 'in-favor', 'in-favor', 'against', 'against', 'neutral-or-unclear', 'against', 'in-favor', 'neutral-or-unclear', 'in-favor', 'in-favor', 'against', 'in-favor', 'in-favor', 'against', 'against', 'against', 'in-favor', 'against', 'in-favor', 'against', 'against', 'in-favor', 'neutral-or-unclear', 'against', 'against', 'against', 'in-favor', 'against', 'in-favor', 'in-favor', 'in-favor', 'neutral-or-unclear', 'against', 'neutral-or-unclear', 'in-favor', 'against', 'in-favor', 'against', 'neutral-or-unclear', 'in-favor', 'in-favor', 'in-favor', 'neutral-or-unclear', 'against', 'against', 'in-favor', 'in-favor', 'neutral-or-unclear', 'in-favor', 'in-favor', 'against', 'in-favor', 'in-favor', 'in-favor', 'in-favor', 'neutral-or-unclear', 'in-favor', 'against', 'in-favor', 'neutral-or-unclear', 'neutral-or-unclear', 'in-favor', 'in-favor', 'against', 'in-favor', 'against', 'neutral-or-unclear', 'in-favor', 'in-favor', 'against', 'in-favor', 'in-favor', 'in-favor', 'against', 'in-favor', 'in-favor', 'against', 'in-favor', 'against', 'in-favor', 'in-favor', 'in-favor', 'in-favor', 'neutral-or-unclear', 'against', 'against', 'in-favor', 'in-favor', 'neutral-or-unclear', 'neutral-or-unclear', 'against', 'in-favor', 'against', 'neutral-or-unclear', 'in-favor', 'neutral-or-unclear', 'neutral-or-unclear', 'in-favor', 'in-favor', 'in-favor', 'in-favor', 'against', 'against', 'against', 'in-favor', 'in-favor', 'in-favor', 'in-favor', 'neutral-or-unclear', 'against', 'in-favor', 'against', 'against', 'against', 'against', 'in-favor', 'in-favor', 'in-favor', 'neutral-or-unclear', 'against', 'against', 'in-favor', 'in-favor', 'against', 'neutral-or-unclear', 'in-favor', 'neutral-or-unclear', 'neutral-or-unclear', 'in-favor', 'against', 'in-favor', 'in-favor', 'neutral-or-unclear', 'neutral-or-unclear', 'in-favor', 'against', 'in-favor', 'against', 'against', 'against', 'neutral-or-unclear', 'neutral-or-unclear', 'in-favor', 'against', 'in-favor', 'in-favor', 'neutral-or-unclear', 'neutral-or-unclear', 'in-favor', 'neutral-or-unclear', 'in-favor', 'neutral-or-unclear', 'in-favor', 'against', 'neutral-or-unclear', 'against', 'in-favor', 'in-favor', 'neutral-or-unclear', 'neutral-or-unclear', 'in-favor', 'in-favor', 'in-favor', 'in-favor', 'in-favor', 'against', 'in-favor', 'in-favor', 'neutral-or-unclear', 'in-favor', 'neutral-or-unclear', 'in-favor', 'in-favor', 'against', 'against', 'in-favor', 'in-favor', 'in-favor', 'in-favor', 'in-favor', 'against', 'neutral-or-unclear', 'against', 'in-favor', 'in-favor', 'in-favor', 'in-favor', 'against', 'against', 'in-favor', 'in-favor', 'in-favor', 'in-favor', 'against', 'against', 'against', 'against', 'in-favor', 'against', 'neutral-or-unclear', 'neutral-or-unclear', 'in-favor', 'in-favor', 'in-favor', 'against', 'in-favor', 'neutral-or-unclear', 'neutral-or-unclear', 'in-favor', 'in-favor', 'in-favor', 'in-favor', 'against', 'against', 'against', 'against', 'neutral-or-unclear', 'in-favor', 'in-favor', 'against', 'against', 'neutral-or-unclear', 'against', 'in-favor', 'neutral-or-unclear', 'in-favor', 'neutral-or-unclear', 'against', 'in-favor', 'in-favor', 'against', 'against', 'in-favor', 'neutral-or-unclear', 'against', 'against', 'in-favor', 'neutral-or-unclear', 'in-favor', 'neutral-or-unclear', 'in-favor', 'in-favor', 'in-favor', 'in-favor', 'in-favor', 'in-favor', 'against', 'in-favor', 'against', 'in-favor', 'neutral-or-unclear', 'in-favor', 'against', 'in-favor', 'neutral-or-unclear', 'against', 'against', 'neutral-or-unclear', 'in-favor', 'neutral-or-unclear', 'against', 'in-favor', 'against', 'in-favor', 'against', 'in-favor', 'neutral-or-unclear', 'against', 'in-favor', 'in-favor', 'neutral-or-unclear', 'in-favor', 'against', 'in-favor', 'in-favor', 'against', 'in-favor', 'in-favor', 'neutral-or-unclear', 'in-favor', 'in-favor', 'in-favor', 'in-favor', 'in-favor', 'in-favor', 'in-favor', 'in-favor', 'against', 'against', 'in-favor', 'in-favor', 'in-favor', 'in-favor', 'in-favor', 'neutral-or-unclear', 'against', 'against', 'in-favor', 'in-favor', 'against', 'neutral-or-unclear', 'neutral-or-unclear', 'in-favor', 'in-favor', 'neutral-or-unclear', 'in-favor', 'in-favor', 'neutral-or-unclear', 'in-favor', 'neutral-or-unclear', 'in-favor', 'in-favor', 'neutral-or-unclear', 'against', 'in-favor', 'in-favor', 'against', 'against', 'in-favor', 'neutral-or-unclear', 'in-favor', 'in-favor', 'neutral-or-unclear', 'against', 'in-favor', 'in-favor', 'against', 'against', 'against', 'against', 'in-favor', 'neutral-or-unclear', 'against', 'against', 'against', 'against', 'neutral-or-unclear', 'in-favor', 'against', 'against', 'in-favor', 'neutral-or-unclear', 'in-favor', 'in-favor', 'against', 'neutral-or-unclear', 'against', 'neutral-or-unclear', 'in-favor', 'against', 'in-favor', 'in-favor', 'against', 'against', 'against', 'neutral-or-unclear', 'in-favor', 'in-favor', 'neutral-or-unclear', 'against', 'against', 'neutral-or-unclear', 'against', 'in-favor', 'in-favor', 'against', 'against', 'against', 'neutral-or-unclear', 'in-favor', 'against', 'against', 'neutral-or-unclear', 'against', 'against', 'neutral-or-unclear', 'in-favor', 'in-favor', 'neutral-or-unclear', 'against', 'neutral-or-unclear', 'neutral-or-unclear', 'in-favor', 'against', 'neutral-or-unclear', 'in-favor', 'against', 'in-favor', 'in-favor', 'neutral-or-unclear', 'in-favor', 'in-favor', 'in-favor', 'in-favor', 'in-favor', 'neutral-or-unclear', 'in-favor', 'against', 'in-favor', 'against', 'against', 'in-favor', 'in-favor', 'in-favor', 'in-favor', 'against', 'in-favor', 'against', 'in-favor', 'in-favor', 'against', 'neutral-or-unclear', 'in-favor', 'in-favor', 'in-favor', 'in-favor', 'in-favor', 'against', 'neutral-or-unclear', 'against', 'neutral-or-unclear', 'against', 'against', 'in-favor', 'in-favor', 'neutral-or-unclear', 'in-favor', 'in-favor', 'neutral-or-unclear', 'neutral-or-unclear', 'against', 'against', 'against', 'against', 'in-favor', 'in-favor', 'against', 'against', 'against', 'in-favor', 'in-favor', 'in-favor', 'against', 'in-favor', 'against', 'against', 'against', 'in-favor', 'in-favor', 'against', 'against', 'against', 'neutral-or-unclear', 'neutral-or-unclear', 'in-favor', 'neutral-or-unclear', 'against', 'against', 'in-favor', 'against', 'against', 'in-favor', 'in-favor', 'in-favor', 'in-favor', 'in-favor', 'against', 'in-favor', 'against', 'in-favor', 'against', 'neutral-or-unclear', 'neutral-or-unclear', 'against', 'in-favor', 'in-favor', 'in-favor', 'against', 'in-favor', 'neutral-or-unclear', 'neutral-or-unclear', 'against', 'against', 'in-favor', 'in-favor', 'neutral-or-unclear', 'in-favor', 'against', 'in-favor', 'against', 'in-favor', 'in-favor', 'in-favor', 'neutral-or-unclear', 'against', 'in-favor', 'in-favor', 'against', 'against', 'neutral-or-unclear', 'neutral-or-unclear', 'neutral-or-unclear', 'in-favor', 'in-favor', 'against', 'neutral-or-unclear', 'in-favor', 'against', 'in-favor', 'in-favor', 'against', 'neutral-or-unclear', 'against', 'in-favor', 'in-favor', 'against', 'in-favor', 'in-favor', 'against', 'in-favor', 'in-favor', 'in-favor', 'in-favor', 'in-favor', 'against', 'in-favor', 'neutral-or-unclear', 'against', 'in-favor', 'in-favor', 'neutral-or-unclear', 'in-favor', 'neutral-or-unclear', 'neutral-or-unclear', 'against', 'in-favor', 'in-favor', 'in-favor', 'against', 'against', 'in-favor', 'neutral-or-unclear', 'against', 'neutral-or-unclear', 'against', 'against', 'against', 'in-favor', 'neutral-or-unclear', 'in-favor', 'neutral-or-unclear', 'in-favor', 'in-favor', 'against', 'against', 'against', 'in-favor', 'against', 'against', 'in-favor', 'in-favor', 'against', 'against', 'neutral-or-unclear', 'neutral-or-unclear', 'neutral-or-unclear', 'against', 'in-favor', 'neutral-or-unclear', 'against', 'in-favor', 'against', 'in-favor', 'neutral-or-unclear', 'in-favor', 'against', 'in-favor', 'against', 'in-favor', 'in-favor', 'in-favor', 'neutral-or-unclear', 'against', 'in-favor', 'neutral-or-unclear', 'in-favor', 'in-favor', 'in-favor', 'in-favor', 'in-favor', 'against', 'in-favor', 'in-favor', 'in-favor', 'in-favor', 'in-favor', 'in-favor', 'against', 'in-favor', 'in-favor', 'in-favor', 'against', 'against', 'in-favor', 'in-favor', 'in-favor', 'in-favor', 'in-favor', 'neutral-or-unclear', 'against', 'neutral-or-unclear', 'in-favor', 'against', 'against', 'in-favor', 'against', 'against', 'neutral-or-unclear', 'in-favor', 'in-favor', 'in-favor', 'in-favor', 'neutral-or-unclear', 'in-favor', 'in-favor', 'against', 'in-favor', 'in-favor', 'in-favor', 'against', 'in-favor', 'in-favor', 'neutral-or-unclear', 'in-favor', 'in-favor', 'in-favor', 'in-favor', 'neutral-or-unclear', 'in-favor', 'neutral-or-unclear', 'in-favor', 'against', 'in-favor', 'in-favor', 'in-favor', 'against', 'against', 'in-favor', 'in-favor', 'neutral-or-unclear', 'in-favor', 'in-favor', 'against', 'against', 'neutral-or-unclear', 'neutral-or-unclear', 'against', 'in-favor', 'in-favor', 'in-favor', 'neutral-or-unclear', 'neutral-or-unclear', 'against', 'in-favor', 'against', 'in-favor', 'against', 'in-favor', 'in-favor', 'in-favor', 'in-favor', 'in-favor', 'in-favor', 'neutral-or-unclear', 'in-favor', 'in-favor', 'in-favor', 'against', 'in-favor', 'in-favor', 'in-favor', 'against', 'neutral-or-unclear', 'neutral-or-unclear', 'in-favor', 'in-favor', 'in-favor', 'against', 'in-favor', 'neutral-or-unclear', 'in-favor', 'neutral-or-unclear', 'in-favor', 'against', 'in-favor', 'in-favor', 'against', 'in-favor', 'against', 'in-favor', 'in-favor', 'against', 'in-favor', 'against', 'neutral-or-unclear', 'neutral-or-unclear', 'in-favor', 'against', 'against', 'in-favor', 'against', 'in-favor', 'against', 'against', 'in-favor', 'in-favor', 'against', 'in-favor', 'in-favor', 'in-favor', 'in-favor', 'in-favor', 'against', 'neutral-or-unclear', 'in-favor', 'in-favor', 'in-favor', 'in-favor', 'in-favor', 'against', 'in-favor', 'against', 'against', 'against', 'neutral-or-unclear', 'against', 'against', 'in-favor', 'neutral-or-unclear', 'against', 'against', 'in-favor', 'in-favor', 'against', 'against', 'in-favor', 'in-favor', 'against', 'in-favor', 'in-favor', 'neutral-or-unclear', 'in-favor', 'in-favor', 'in-favor', 'in-favor', 'neutral-or-unclear', 'in-favor', 'in-favor', 'neutral-or-unclear', 'against', 'neutral-or-unclear', 'neutral-or-unclear', 'against', 'against', 'against', 'against', 'in-favor', 'in-favor', 'in-favor', 'in-favor', 'neutral-or-unclear', 'in-favor', 'in-favor', 'in-favor', 'in-favor', 'against', 'in-favor', 'in-favor', 'against', 'in-favor', 'in-favor', 'neutral-or-unclear', 'in-favor', 'in-favor', 'neutral-or-unclear', 'neutral-or-unclear', 'against', 'in-favor', 'in-favor', 'against', 'in-favor', 'neutral-or-unclear', 'in-favor', 'in-favor', 'against', 'neutral-or-unclear', 'against', 'against', 'against', 'in-favor', 'against', 'neutral-or-unclear', 'in-favor', 'in-favor', 'against', 'in-favor', 'in-favor', 'neutral-or-unclear', 'against', 'in-favor', 'neutral-or-unclear', 'against', 'neutral-or-unclear', 'in-favor', 'against', 'in-favor', 'in-favor', 'neutral-or-unclear', 'in-favor', 'neutral-or-unclear', 'against', 'in-favor', 'in-favor', 'in-favor', 'neutral-or-unclear', 'in-favor', 'in-favor', 'in-favor', 'against', 'against', 'against', 'in-favor', 'neutral-or-unclear', 'neutral-or-unclear', 'against', 'in-favor', 'in-favor', 'in-favor', 'neutral-or-unclear', 'in-favor', 'in-favor', 'against', 'against', 'neutral-or-unclear', 'against', 'in-favor', 'in-favor', 'against', 'in-favor', 'in-favor', 'in-favor', 'against', 'neutral-or-unclear', 'in-favor', 'in-favor', 'neutral-or-unclear', 'in-favor', 'in-favor', 'in-favor', 'against', 'against', 'neutral-or-unclear', 'against', 'against', 'in-favor', 'in-favor', 'in-favor', 'against', 'in-favor', 'neutral-or-unclear', 'in-favor', 'in-favor']\n",
            "F1 Score: {'f1': 0.8504328804698009}\n",
            "Predictions: ['in-favor', 'against', 'in-favor', 'in-favor', 'in-favor', 'in-favor', 'neutral-or-unclear', 'in', 'in-favor', 'in-favor', 'in-favor', 'against', 'against', 'in-favor', 'against', 'in-favor', 'against-favor', 'in-favor', 'in-favor', 'in-favor', 'against-or-unclear', 'in-favor', 'in-favor', 'neutral-favor', 'in-favor', 'in-or-unclear', 'in-favor', 'neutral', 'against', 'against', 'in-favor', 'in-favor', 'in-favor', 'in-favor', 'against-favor', 'in-favor', 'in-favor', 'against', 'in-favor', 'in-favor', 'in-favor', 'in-favor', 'against', 'in-or-unclear', 'against', 'against-or-unclear', 'in-or-unclear', 'against-or-unclear', 'in', 'in-or-unclear', 'in-favor', 'in-favor', 'in-favor', 'in', 'in-favor', 'in-favor', 'in-favor', 'in-favor', 'in-favor', 'neutral-or-unclear', 'against', 'in', 'against', 'against-or-unclear', 'against', 'in-favor', 'in-favor', 'in-favor', 'against', 'against', 'in-favor', 'against', 'in-favor', 'against', 'against-or-unclear', 'neutral', 'against', 'in', 'in', 'against', 'against-or-unclear', 'in-favor', 'in-favor', 'in-favor', 'in-or-unclear', 'against', 'in-or-unclear', 'against-favor', 'in-favor', 'neutral-or-unclear', 'neutral-or-unclear', 'in-favor', 'against', 'in-or-unclear', 'against', 'in-favor', 'in-favor', 'against', 'in-favor', 'in-favor', 'against', 'in-favor', 'in-favor', 'against', 'against', 'neutral', 'against', 'in-favor', 'in-favor', 'against', 'against-or-unclear', 'in-or-unclear', 'against', 'in-favor', 'in-favor', 'against', 'neutral-or-unclear', 'neutral-or-unclear', 'neutral-or-unclear', 'in-favor', 'neutral-or-unclear', 'in-favor', 'in-favor', 'against-favor', 'in-favor', 'in-or-unclear', 'against', 'in-or-unclear', 'in-favor', 'against', 'neutral', 'against', 'in-favor', 'in-favor', 'in-favor', 'neutral-or-unclear', 'against-or-unclear', 'in', 'in-or-unclear', 'against', 'neutral-or-unclear', 'in', 'in-favor', 'in-favor', 'in-or-unclear', 'in-favor', 'in-favor', 'against', 'in-favor', 'in-favor', 'in-favor', 'in-favor', 'in-favor', 'in-favor', 'neutral-or-unclear', 'in-favor', 'in-favor', 'against', 'in-favor', 'in-favor', 'in-favor', 'in-favor', 'in-favor', 'neutral', 'in-favor', 'in-favor', 'in-favor', 'in-favor', 'in-favor', 'in-favor', 'against', 'in-or-unclear', 'in-favor', 'neutral-or-unclear', 'in-favor', 'in-favor', 'against', 'against', 'in-favor', 'neutral-favor', 'in', 'in-favor', 'in-favor', 'against', 'in-or-unclear', 'in-or-unclear', 'against', 'neutral-or-unclear', 'in', 'in-favor', 'neutral-favor', 'against-or-unclear', 'against', 'in-favor', 'neutral-favor', 'neutral-favor', 'neutral-or-unclear', 'in-favor', 'in-favor', 'in-favor', 'neutral-favor', 'against-favor', 'against', 'in-or-unclear', 'in-favor', 'neutral-or-unclear', 'neutral-favor', 'against-favor', 'in-favor', 'in-favor', 'in-or-unclear', 'neutral-or-unclear', 'against', 'in-favor', 'against', 'against', 'in-or-unclear', 'neutral-or-unclear', 'in-favor', 'neutral-or-unclear', 'neutral-favor', 'in-favor', 'against', 'in-favor', 'against', 'in', 'neutral', 'in-favor', 'against', 'against', 'in-favor', 'against', 'in-favor', 'in-favor', 'in-favor', 'against', 'against', 'neutral-favor', 'in-or-unclear', 'against-favor', 'against', 'against', 'in-favor', 'neutral-favor', 'neutral-or-unclear', 'against-or-unclear', 'against', 'against', 'against', 'in-favor', 'in-or-unclear', 'in-favor', 'against', 'in-favor', 'neutral-or-unclear', 'in-favor', 'in-favor', 'in-favor', 'neutral-or-unclear', 'in-favor', 'against', 'in-or-unclear', 'in-favor', 'in-favor', 'in-or-unclear', 'neutral-or-unclear', 'against', 'neutral', 'in-favor', 'in-favor', 'in-favor', 'in-favor', 'in-favor', 'against-favor', 'in-favor', 'in-favor', 'against-or-unclear', 'against', 'against', 'against-favor', 'in-favor', 'against', 'neutral', 'against-or-unclear', 'against', 'in-favor', 'neutral-or-unclear', 'in-favor', 'in-favor', 'against', 'in-favor', 'in-favor', 'in', 'against', 'against', 'in-favor', 'against', 'in-favor', 'against', 'against', 'in-favor', 'against-or-unclear', 'against', 'against', 'against', 'in-favor', 'against', 'in-favor', 'in-favor', 'in-favor', 'in-or-unclear', 'against', 'against-or-unclear', 'in-favor', 'against', 'in-favor', 'against', 'in-or-unclear', 'in-favor', 'in-favor', 'in-favor', 'in-or-unclear', 'against', 'against', 'in-favor', 'in-favor', 'neutral-or-unclear', 'in-favor', 'in-favor', 'against', 'in-favor', 'in-favor', 'in-favor', 'in-favor', 'neutral-or-unclear', 'in-favor', 'against', 'in-favor', 'neutral-or-unclear', 'neutral-or-unclear', 'in-favor', 'in-favor', 'against', 'in-favor', 'against', 'in-or-unclear', 'in-favor', 'in-favor', 'against', 'in-favor', 'in-favor', 'in-favor', 'against', 'in-favor', 'in-favor', 'neutral', 'in-favor', 'neutral', 'in-favor', 'in-favor', 'in-favor', 'in-favor', 'neutral-or-unclear', 'in', 'against', 'in-favor', 'in-favor', 'in-or-unclear', 'against-or-unclear', 'against', 'in-favor', 'against', 'in-or-unclear', 'in-favor', 'against-or-unclear', 'in-or-unclear', 'in-favor', 'against-favor', 'in-favor', 'in-favor', 'against', 'against', 'against', 'in-favor', 'in-favor', 'in-favor', 'in-favor', 'against-or-unclear', 'against', 'in-favor', 'against', 'against', 'against', 'against', 'in-favor', 'in-favor', 'in-favor', 'neutral-or-unclear', 'against', 'in', 'in-favor', 'neutral-favor', 'neutral', 'in-or-unclear', 'in-favor', 'in-or-unclear', 'in-or-unclear', 'in-favor', 'neutral', 'in-favor', 'in-favor', 'neutral-or-unclear', 'against-or-unclear', 'against-favor', 'against', 'in-favor', 'against', 'in', 'against', 'against-or-unclear', 'neutral-or-unclear', 'against-favor', 'against', 'in-favor', 'in-favor', 'neutral-or-unclear', 'neutral-or-unclear', 'in-favor', 'in-or-unclear', 'in-favor', 'against-or-unclear', 'in-favor', 'against', 'neutral-or-unclear', 'against', 'in-favor', 'in-favor', 'neutral-or-unclear', 'against-or-unclear', 'in-favor', 'in-favor', 'in-favor', 'in-favor', 'in-favor', 'in', 'in-favor', 'in-favor', 'in-or-unclear', 'in-favor', 'in-or-unclear', 'in-favor', 'in-favor', 'in', 'against', 'in-favor', 'in-favor', 'in-favor', 'in-favor', 'in-favor', 'neutral', 'neutral-or-unclear', 'against', 'in-favor', 'in-favor', 'in-favor', 'in-favor', 'against', 'against', 'in-favor', 'in-favor', 'in-favor', 'against-favor', 'against', 'against', 'against', 'against', 'in-favor', 'against', 'neutral-or-unclear', 'against-or-unclear', 'in-favor', 'in-favor', 'in-favor', 'against', 'in-favor', 'neutral-or-unclear', 'in-or-unclear', 'in-favor', 'in-favor', 'in-favor', 'in-favor', 'against', 'in', 'against', 'against', 'neutral-or-unclear', 'neutral-favor', 'in-favor', 'against', 'against', 'neutral-or-unclear', 'against', 'against-favor', 'in-or-unclear', 'in-favor', 'neutral-or-unclear', 'in', 'neutral-favor', 'in-favor', 'against', 'neutral', 'in-favor', 'neutral-or-unclear', 'in', 'neutral', 'in-favor', 'in-or-unclear', 'against-favor', 'in-or-unclear', 'in-favor', 'in-favor', 'in-favor', 'in-favor', 'in-favor', 'in-favor', 'against', 'in-favor', 'neutral', 'in-favor', 'neutral-or-unclear', 'in-favor', 'against', 'against-favor', 'in-or-unclear', 'against', 'in', 'in-or-unclear', 'in-favor', 'neutral-or-unclear', 'against', 'in-favor', 'against', 'against-favor', 'against', 'in-favor', 'against-or-unclear', 'against', 'in-favor', 'in-favor', 'neutral-or-unclear', 'in-favor', 'against', 'in-favor', 'in-favor', 'against', 'against-favor', 'in-favor', 'against-or-unclear', 'in-favor', 'in-favor', 'in-favor', 'in-favor', 'in-favor', 'in-favor', 'in-favor', 'in-favor', 'against', 'against', 'in-favor', 'against-favor', 'in-favor', 'in-favor', 'neutral-favor', 'in-or-unclear', 'against', 'against', 'in-favor', 'in-favor', 'against', 'neutral-or-unclear', 'against-or-unclear', 'in-favor', 'in-favor', 'against-or-unclear', 'in-favor', 'in-favor', 'neutral-or-unclear', 'in-favor', 'neutral-or-unclear', 'in-favor', 'in-favor', 'in-or-unclear', 'against', 'in-favor', 'in-favor', 'against', 'against', 'in-favor', 'in-or-unclear', 'neutral-favor', 'in-favor', 'neutral-or-unclear', 'in', 'neutral-favor', 'in-favor', 'against', 'against', 'against', 'against', 'against-favor', 'neutral-or-unclear', 'against', 'against', 'against', 'against', 'neutral-or-unclear', 'in-favor', 'against', 'against', 'in-favor', 'neutral-or-unclear', 'in-favor', 'against-favor', 'against', 'neutral-or-unclear', 'against', 'against-or-unclear', 'in-favor', 'against', 'in-favor', 'in-favor', 'against', 'against', 'in', 'in-or-unclear', 'in-favor', 'in-favor', 'in-or-unclear', 'against', 'against', 'neutral-or-unclear', 'against', 'in-favor', 'in-favor', 'against', 'against', 'against', 'in-or-unclear', 'in-favor', 'against', 'against', 'in-or-unclear', 'against', 'against', 'in-or-unclear', 'in-favor', 'in-favor', 'against-or-unclear', 'against', 'in-or-unclear', 'in-or-unclear', 'in-favor', 'against', 'neutral-or-unclear', 'in-favor', 'against', 'in-favor', 'in-favor', 'against-or-unclear', 'in-favor', 'in-favor', 'in-favor', 'in-favor', 'in-favor', 'neutral-or-unclear', 'in-favor', 'against', 'in-favor', 'in', 'against', 'in-favor', 'in-favor', 'in-favor', 'in-favor', 'against', 'in-favor', 'against', 'in-favor', 'in-favor', 'against', 'neutral-or-unclear', 'in-favor', 'in-favor', 'in-favor', 'in-favor', 'in-favor', 'against', 'neutral-or-unclear', 'against', 'against-or-unclear', 'against', 'neutral', 'in-favor', 'in-favor', 'in-or-unclear', 'in-favor', 'against-favor', 'in-or-unclear', 'against-or-unclear', 'neutral', 'against', 'in', 'neutral', 'in-favor', 'neutral-favor', 'against', 'against', 'against', 'in-favor', 'in-favor', 'in-favor', 'against', 'in-favor', 'against', 'against', 'against', 'in-favor', 'in-favor', 'neutral', 'against', 'in', 'neutral-or-unclear', 'in-or-unclear', 'in-favor', 'in-or-unclear', 'against', 'against', 'in-favor', 'against', 'against', 'in-favor', 'in-favor', 'in-favor', 'in-favor', 'in-favor', 'neutral', 'neutral-favor', 'against', 'in-favor', 'against', 'against-or-unclear', 'neutral-or-unclear', 'against', 'in-favor', 'in-favor', 'in-favor', 'against', 'in-favor', 'in-or-unclear', 'neutral-or-unclear', 'neutral', 'against', 'in-favor', 'in-favor', 'neutral-or-unclear', 'neutral-favor', 'against', 'in-favor', 'in', 'in-favor', 'in-favor', 'in-favor', 'neutral-or-unclear', 'against', 'in-favor', 'in-favor', 'against', 'against', 'against-or-unclear', 'against-or-unclear', 'neutral-or-unclear', 'in-favor', 'neutral-favor', 'against', 'against-or-unclear', 'in-favor', 'against', 'in-favor', 'in-favor', 'against', 'against-or-unclear', 'against', 'against-favor', 'against-favor', 'neutral', 'in-favor', 'in-favor', 'against', 'in-favor', 'in-favor', 'in-favor', 'in-favor', 'in-favor', 'against', 'in-favor', 'neutral-or-unclear', 'in', 'in-favor', 'against-favor', 'neutral-or-unclear', 'neutral-favor', 'in-or-unclear', 'in-or-unclear', 'against', 'in-favor', 'in-favor', 'in-favor', 'against', 'against', 'in-favor', 'against-or-unclear', 'against', 'in-or-unclear', 'against', 'against', 'in', 'in-favor', 'neutral-or-unclear', 'in-favor', 'in-or-unclear', 'in-favor', 'in-favor', 'against', 'against', 'neutral', 'in-favor', 'against', 'against', 'in-favor', 'in-favor', 'against', 'against', 'in-or-unclear', 'against-or-unclear', 'neutral-or-unclear', 'against', 'in-favor', 'against-or-unclear', 'against', 'in-favor', 'against', 'in-favor', 'neutral-or-unclear', 'in-favor', 'against', 'in-favor', 'against', 'in-favor', 'in-favor', 'in-favor', 'in-or-unclear', 'against', 'in-favor', 'neutral-or-unclear', 'in-favor', 'in-favor', 'in-favor', 'in-favor', 'in-favor', 'neutral', 'in-favor', 'in-favor', 'in-favor', 'in-favor', 'in-favor', 'in-favor', 'neutral', 'in-favor', 'in-favor', 'in-favor', 'against', 'against', 'in-favor', 'in-favor', 'in-favor', 'neutral-favor', 'in-favor', 'against-or-unclear', 'against', 'in-or-unclear', 'in-favor', 'in', 'against', 'in-favor', 'against', 'in', 'in-or-unclear', 'in-favor', 'in-favor', 'in-favor', 'in-favor', 'neutral-or-unclear', 'in-favor', 'neutral-favor', 'against', 'in-favor', 'in-favor', 'against-favor', 'against', 'in-favor', 'in-favor', 'neutral-or-unclear', 'neutral-favor', 'in-favor', 'in-favor', 'neutral-favor', 'in-or-unclear', 'in-favor', 'in-or-unclear', 'in-favor', 'against', 'in-favor', 'in-favor', 'in-favor', 'against', 'neutral', 'in-favor', 'in-favor', 'neutral-or-unclear', 'in-favor', 'in-favor', 'against', 'against', 'in-or-unclear', 'in-or-unclear', 'against', 'in-favor', 'in-favor', 'in-favor', 'in-or-unclear', 'neutral-or-unclear', 'against', 'in-favor', 'against', 'in-favor', 'against', 'in-favor', 'in-favor', 'in-favor', 'in-favor', 'in-favor', 'in-favor', 'neutral-or-unclear', 'in-favor', 'in-favor', 'in-favor', 'against', 'in-favor', 'in-favor', 'in-favor', 'against', 'neutral-or-unclear', 'neutral-or-unclear', 'in-favor', 'in-favor', 'against-favor', 'neutral', 'in-favor', 'neutral-or-unclear', 'in-favor', 'neutral-or-unclear', 'in-favor', 'against', 'in-favor', 'neutral-favor', 'against', 'in-favor', 'against', 'in-favor', 'in-favor', 'neutral', 'in-favor', 'against', 'neutral-or-unclear', 'in-or-unclear', 'in-favor', 'against', 'against', 'against-favor', 'against', 'in-favor', 'neutral', 'in', 'in-favor', 'in-favor', 'against', 'in-favor', 'in-favor', 'in-favor', 'in-favor', 'in-favor', 'against', 'in-or-unclear', 'in-favor', 'in-favor', 'in-favor', 'in-favor', 'in-favor', 'neutral', 'in-favor', 'against', 'neutral', 'against', 'neutral-or-unclear', 'against', 'against', 'neutral-favor', 'against-or-unclear', 'against', 'against', 'in-favor', 'in-favor', 'against', 'against', 'against-favor', 'in-favor', 'against', 'in-favor', 'against-favor', 'against-or-unclear', 'in-favor', 'in-favor', 'in-favor', 'in-favor', 'in-or-unclear', 'in-favor', 'against-favor', 'neutral-or-unclear', 'against', 'against-or-unclear', 'in-or-unclear', 'against', 'against', 'against', 'against', 'against-favor', 'against-favor', 'in-favor', 'in-favor', 'in-or-unclear', 'against-favor', 'in-favor', 'in-favor', 'in-favor', 'against', 'in-favor', 'in-favor', 'against', 'against-favor', 'in-favor', 'in-or-unclear', 'in-favor', 'in-favor', 'neutral-or-unclear', 'neutral-or-unclear', 'against', 'against-favor', 'in-favor', 'against', 'in-favor', 'neutral-or-unclear', 'in-favor', 'in-favor', 'in', 'neutral-or-unclear', 'against', 'against', 'against', 'in-favor', 'in', 'in-or-unclear', 'in-favor', 'in-favor', 'against', 'in-favor', 'in-favor', 'in-or-unclear', 'against', 'in-favor', 'neutral-or-unclear', 'against', 'neutral-or-unclear', 'in-favor', 'against', 'neutral-favor', 'in-favor', 'neutral-or-unclear', 'in-favor', 'in-or-unclear', 'against', 'neutral-favor', 'in-favor', 'in-favor', 'in-or-unclear', 'in-favor', 'in-favor', 'in-favor', 'against', 'in', 'against', 'in-favor', 'neutral-or-unclear', 'in-or-unclear', 'against', 'in-favor', 'in-favor', 'in-favor', 'against-or-unclear', 'in-favor', 'in-favor', 'against', 'against', 'neutral-or-unclear', 'in', 'in-favor', 'in-favor', 'against', 'neutral-favor', 'in-favor', 'in-favor', 'neutral', 'neutral-or-unclear', 'in-favor', 'in-favor', 'in-or-unclear', 'in-favor', 'in-favor', 'in-favor', 'against', 'against', 'neutral-or-unclear', 'in', 'neutral', 'in-favor', 'in-favor', 'in-favor', 'in', 'in-favor', 'neutral-or-unclear', 'in-favor', 'in-favor']\n",
            "Labels: ['in-favor', 'against', 'in-favor', 'in-favor', 'in-favor', 'in-favor', 'neutral-or-unclear', 'against', 'in-favor', 'in-favor', 'in-favor', 'against', 'against', 'in-favor', 'against', 'in-favor', 'in-favor', 'in-favor', 'in-favor', 'in-favor', 'neutral-or-unclear', 'in-favor', 'in-favor', 'in-favor', 'in-favor', 'neutral-or-unclear', 'in-favor', 'against', 'against', 'against', 'in-favor', 'in-favor', 'in-favor', 'in-favor', 'in-favor', 'in-favor', 'in-favor', 'against', 'in-favor', 'in-favor', 'in-favor', 'in-favor', 'against', 'neutral-or-unclear', 'against', 'neutral-or-unclear', 'neutral-or-unclear', 'neutral-or-unclear', 'against', 'neutral-or-unclear', 'in-favor', 'in-favor', 'in-favor', 'against', 'in-favor', 'in-favor', 'in-favor', 'in-favor', 'in-favor', 'neutral-or-unclear', 'against', 'against', 'against', 'neutral-or-unclear', 'against', 'in-favor', 'in-favor', 'in-favor', 'against', 'against', 'in-favor', 'against', 'in-favor', 'against', 'neutral-or-unclear', 'against', 'against', 'against', 'against', 'against', 'neutral-or-unclear', 'in-favor', 'in-favor', 'in-favor', 'neutral-or-unclear', 'against', 'neutral-or-unclear', 'in-favor', 'in-favor', 'neutral-or-unclear', 'neutral-or-unclear', 'in-favor', 'against', 'neutral-or-unclear', 'against', 'in-favor', 'in-favor', 'against', 'in-favor', 'in-favor', 'against', 'in-favor', 'in-favor', 'against', 'against', 'against', 'against', 'in-favor', 'in-favor', 'against', 'neutral-or-unclear', 'neutral-or-unclear', 'against', 'in-favor', 'in-favor', 'against', 'neutral-or-unclear', 'neutral-or-unclear', 'neutral-or-unclear', 'in-favor', 'neutral-or-unclear', 'in-favor', 'in-favor', 'in-favor', 'in-favor', 'neutral-or-unclear', 'against', 'neutral-or-unclear', 'in-favor', 'against', 'against', 'against', 'in-favor', 'in-favor', 'in-favor', 'neutral-or-unclear', 'neutral-or-unclear', 'against', 'neutral-or-unclear', 'against', 'neutral-or-unclear', 'against', 'in-favor', 'in-favor', 'neutral-or-unclear', 'in-favor', 'in-favor', 'against', 'in-favor', 'in-favor', 'in-favor', 'in-favor', 'in-favor', 'in-favor', 'neutral-or-unclear', 'in-favor', 'in-favor', 'against', 'in-favor', 'in-favor', 'in-favor', 'in-favor', 'in-favor', 'against', 'in-favor', 'in-favor', 'in-favor', 'in-favor', 'in-favor', 'in-favor', 'against', 'neutral-or-unclear', 'in-favor', 'neutral-or-unclear', 'in-favor', 'in-favor', 'against', 'against', 'in-favor', 'in-favor', 'against', 'in-favor', 'in-favor', 'against', 'neutral-or-unclear', 'neutral-or-unclear', 'against', 'neutral-or-unclear', 'against', 'in-favor', 'in-favor', 'neutral-or-unclear', 'against', 'in-favor', 'in-favor', 'in-favor', 'neutral-or-unclear', 'in-favor', 'in-favor', 'in-favor', 'in-favor', 'in-favor', 'against', 'neutral-or-unclear', 'in-favor', 'neutral-or-unclear', 'in-favor', 'in-favor', 'in-favor', 'in-favor', 'neutral-or-unclear', 'neutral-or-unclear', 'against', 'in-favor', 'against', 'against', 'neutral-or-unclear', 'neutral-or-unclear', 'in-favor', 'neutral-or-unclear', 'in-favor', 'in-favor', 'against', 'in-favor', 'against', 'against', 'against', 'in-favor', 'against', 'against', 'in-favor', 'against', 'in-favor', 'in-favor', 'in-favor', 'against', 'against', 'in-favor', 'neutral-or-unclear', 'in-favor', 'against', 'against', 'in-favor', 'in-favor', 'neutral-or-unclear', 'neutral-or-unclear', 'against', 'against', 'against', 'in-favor', 'neutral-or-unclear', 'in-favor', 'against', 'in-favor', 'neutral-or-unclear', 'in-favor', 'in-favor', 'in-favor', 'neutral-or-unclear', 'in-favor', 'against', 'neutral-or-unclear', 'in-favor', 'in-favor', 'neutral-or-unclear', 'neutral-or-unclear', 'against', 'against', 'in-favor', 'in-favor', 'in-favor', 'in-favor', 'in-favor', 'in-favor', 'in-favor', 'in-favor', 'neutral-or-unclear', 'against', 'against', 'in-favor', 'in-favor', 'against', 'against', 'neutral-or-unclear', 'against', 'in-favor', 'neutral-or-unclear', 'in-favor', 'in-favor', 'against', 'in-favor', 'in-favor', 'against', 'against', 'against', 'in-favor', 'against', 'in-favor', 'against', 'against', 'in-favor', 'neutral-or-unclear', 'against', 'against', 'against', 'in-favor', 'against', 'in-favor', 'in-favor', 'in-favor', 'neutral-or-unclear', 'against', 'neutral-or-unclear', 'in-favor', 'against', 'in-favor', 'against', 'neutral-or-unclear', 'in-favor', 'in-favor', 'in-favor', 'neutral-or-unclear', 'against', 'against', 'in-favor', 'in-favor', 'neutral-or-unclear', 'in-favor', 'in-favor', 'against', 'in-favor', 'in-favor', 'in-favor', 'in-favor', 'neutral-or-unclear', 'in-favor', 'against', 'in-favor', 'neutral-or-unclear', 'neutral-or-unclear', 'in-favor', 'in-favor', 'against', 'in-favor', 'against', 'neutral-or-unclear', 'in-favor', 'in-favor', 'against', 'in-favor', 'in-favor', 'in-favor', 'against', 'in-favor', 'in-favor', 'against', 'in-favor', 'against', 'in-favor', 'in-favor', 'in-favor', 'in-favor', 'neutral-or-unclear', 'against', 'against', 'in-favor', 'in-favor', 'neutral-or-unclear', 'neutral-or-unclear', 'against', 'in-favor', 'against', 'neutral-or-unclear', 'in-favor', 'neutral-or-unclear', 'neutral-or-unclear', 'in-favor', 'in-favor', 'in-favor', 'in-favor', 'against', 'against', 'against', 'in-favor', 'in-favor', 'in-favor', 'in-favor', 'neutral-or-unclear', 'against', 'in-favor', 'against', 'against', 'against', 'against', 'in-favor', 'in-favor', 'in-favor', 'neutral-or-unclear', 'against', 'against', 'in-favor', 'in-favor', 'against', 'neutral-or-unclear', 'in-favor', 'neutral-or-unclear', 'neutral-or-unclear', 'in-favor', 'against', 'in-favor', 'in-favor', 'neutral-or-unclear', 'neutral-or-unclear', 'in-favor', 'against', 'in-favor', 'against', 'against', 'against', 'neutral-or-unclear', 'neutral-or-unclear', 'in-favor', 'against', 'in-favor', 'in-favor', 'neutral-or-unclear', 'neutral-or-unclear', 'in-favor', 'neutral-or-unclear', 'in-favor', 'neutral-or-unclear', 'in-favor', 'against', 'neutral-or-unclear', 'against', 'in-favor', 'in-favor', 'neutral-or-unclear', 'neutral-or-unclear', 'in-favor', 'in-favor', 'in-favor', 'in-favor', 'in-favor', 'against', 'in-favor', 'in-favor', 'neutral-or-unclear', 'in-favor', 'neutral-or-unclear', 'in-favor', 'in-favor', 'against', 'against', 'in-favor', 'in-favor', 'in-favor', 'in-favor', 'in-favor', 'against', 'neutral-or-unclear', 'against', 'in-favor', 'in-favor', 'in-favor', 'in-favor', 'against', 'against', 'in-favor', 'in-favor', 'in-favor', 'in-favor', 'against', 'against', 'against', 'against', 'in-favor', 'against', 'neutral-or-unclear', 'neutral-or-unclear', 'in-favor', 'in-favor', 'in-favor', 'against', 'in-favor', 'neutral-or-unclear', 'neutral-or-unclear', 'in-favor', 'in-favor', 'in-favor', 'in-favor', 'against', 'against', 'against', 'against', 'neutral-or-unclear', 'in-favor', 'in-favor', 'against', 'against', 'neutral-or-unclear', 'against', 'in-favor', 'neutral-or-unclear', 'in-favor', 'neutral-or-unclear', 'against', 'in-favor', 'in-favor', 'against', 'against', 'in-favor', 'neutral-or-unclear', 'against', 'against', 'in-favor', 'neutral-or-unclear', 'in-favor', 'neutral-or-unclear', 'in-favor', 'in-favor', 'in-favor', 'in-favor', 'in-favor', 'in-favor', 'against', 'in-favor', 'against', 'in-favor', 'neutral-or-unclear', 'in-favor', 'against', 'in-favor', 'neutral-or-unclear', 'against', 'against', 'neutral-or-unclear', 'in-favor', 'neutral-or-unclear', 'against', 'in-favor', 'against', 'in-favor', 'against', 'in-favor', 'neutral-or-unclear', 'against', 'in-favor', 'in-favor', 'neutral-or-unclear', 'in-favor', 'against', 'in-favor', 'in-favor', 'against', 'in-favor', 'in-favor', 'neutral-or-unclear', 'in-favor', 'in-favor', 'in-favor', 'in-favor', 'in-favor', 'in-favor', 'in-favor', 'in-favor', 'against', 'against', 'in-favor', 'in-favor', 'in-favor', 'in-favor', 'in-favor', 'neutral-or-unclear', 'against', 'against', 'in-favor', 'in-favor', 'against', 'neutral-or-unclear', 'neutral-or-unclear', 'in-favor', 'in-favor', 'neutral-or-unclear', 'in-favor', 'in-favor', 'neutral-or-unclear', 'in-favor', 'neutral-or-unclear', 'in-favor', 'in-favor', 'neutral-or-unclear', 'against', 'in-favor', 'in-favor', 'against', 'against', 'in-favor', 'neutral-or-unclear', 'in-favor', 'in-favor', 'neutral-or-unclear', 'against', 'in-favor', 'in-favor', 'against', 'against', 'against', 'against', 'in-favor', 'neutral-or-unclear', 'against', 'against', 'against', 'against', 'neutral-or-unclear', 'in-favor', 'against', 'against', 'in-favor', 'neutral-or-unclear', 'in-favor', 'in-favor', 'against', 'neutral-or-unclear', 'against', 'neutral-or-unclear', 'in-favor', 'against', 'in-favor', 'in-favor', 'against', 'against', 'against', 'neutral-or-unclear', 'in-favor', 'in-favor', 'neutral-or-unclear', 'against', 'against', 'neutral-or-unclear', 'against', 'in-favor', 'in-favor', 'against', 'against', 'against', 'neutral-or-unclear', 'in-favor', 'against', 'against', 'neutral-or-unclear', 'against', 'against', 'neutral-or-unclear', 'in-favor', 'in-favor', 'neutral-or-unclear', 'against', 'neutral-or-unclear', 'neutral-or-unclear', 'in-favor', 'against', 'neutral-or-unclear', 'in-favor', 'against', 'in-favor', 'in-favor', 'neutral-or-unclear', 'in-favor', 'in-favor', 'in-favor', 'in-favor', 'in-favor', 'neutral-or-unclear', 'in-favor', 'against', 'in-favor', 'against', 'against', 'in-favor', 'in-favor', 'in-favor', 'in-favor', 'against', 'in-favor', 'against', 'in-favor', 'in-favor', 'against', 'neutral-or-unclear', 'in-favor', 'in-favor', 'in-favor', 'in-favor', 'in-favor', 'against', 'neutral-or-unclear', 'against', 'neutral-or-unclear', 'against', 'against', 'in-favor', 'in-favor', 'neutral-or-unclear', 'in-favor', 'in-favor', 'neutral-or-unclear', 'neutral-or-unclear', 'against', 'against', 'against', 'against', 'in-favor', 'in-favor', 'against', 'against', 'against', 'in-favor', 'in-favor', 'in-favor', 'against', 'in-favor', 'against', 'against', 'against', 'in-favor', 'in-favor', 'against', 'against', 'against', 'neutral-or-unclear', 'neutral-or-unclear', 'in-favor', 'neutral-or-unclear', 'against', 'against', 'in-favor', 'against', 'against', 'in-favor', 'in-favor', 'in-favor', 'in-favor', 'in-favor', 'against', 'in-favor', 'against', 'in-favor', 'against', 'neutral-or-unclear', 'neutral-or-unclear', 'against', 'in-favor', 'in-favor', 'in-favor', 'against', 'in-favor', 'neutral-or-unclear', 'neutral-or-unclear', 'against', 'against', 'in-favor', 'in-favor', 'neutral-or-unclear', 'in-favor', 'against', 'in-favor', 'against', 'in-favor', 'in-favor', 'in-favor', 'neutral-or-unclear', 'against', 'in-favor', 'in-favor', 'against', 'against', 'neutral-or-unclear', 'neutral-or-unclear', 'neutral-or-unclear', 'in-favor', 'in-favor', 'against', 'neutral-or-unclear', 'in-favor', 'against', 'in-favor', 'in-favor', 'against', 'neutral-or-unclear', 'against', 'in-favor', 'in-favor', 'against', 'in-favor', 'in-favor', 'against', 'in-favor', 'in-favor', 'in-favor', 'in-favor', 'in-favor', 'against', 'in-favor', 'neutral-or-unclear', 'against', 'in-favor', 'in-favor', 'neutral-or-unclear', 'in-favor', 'neutral-or-unclear', 'neutral-or-unclear', 'against', 'in-favor', 'in-favor', 'in-favor', 'against', 'against', 'in-favor', 'neutral-or-unclear', 'against', 'neutral-or-unclear', 'against', 'against', 'against', 'in-favor', 'neutral-or-unclear', 'in-favor', 'neutral-or-unclear', 'in-favor', 'in-favor', 'against', 'against', 'against', 'in-favor', 'against', 'against', 'in-favor', 'in-favor', 'against', 'against', 'neutral-or-unclear', 'neutral-or-unclear', 'neutral-or-unclear', 'against', 'in-favor', 'neutral-or-unclear', 'against', 'in-favor', 'against', 'in-favor', 'neutral-or-unclear', 'in-favor', 'against', 'in-favor', 'against', 'in-favor', 'in-favor', 'in-favor', 'neutral-or-unclear', 'against', 'in-favor', 'neutral-or-unclear', 'in-favor', 'in-favor', 'in-favor', 'in-favor', 'in-favor', 'against', 'in-favor', 'in-favor', 'in-favor', 'in-favor', 'in-favor', 'in-favor', 'against', 'in-favor', 'in-favor', 'in-favor', 'against', 'against', 'in-favor', 'in-favor', 'in-favor', 'in-favor', 'in-favor', 'neutral-or-unclear', 'against', 'neutral-or-unclear', 'in-favor', 'against', 'against', 'in-favor', 'against', 'against', 'neutral-or-unclear', 'in-favor', 'in-favor', 'in-favor', 'in-favor', 'neutral-or-unclear', 'in-favor', 'in-favor', 'against', 'in-favor', 'in-favor', 'in-favor', 'against', 'in-favor', 'in-favor', 'neutral-or-unclear', 'in-favor', 'in-favor', 'in-favor', 'in-favor', 'neutral-or-unclear', 'in-favor', 'neutral-or-unclear', 'in-favor', 'against', 'in-favor', 'in-favor', 'in-favor', 'against', 'against', 'in-favor', 'in-favor', 'neutral-or-unclear', 'in-favor', 'in-favor', 'against', 'against', 'neutral-or-unclear', 'neutral-or-unclear', 'against', 'in-favor', 'in-favor', 'in-favor', 'neutral-or-unclear', 'neutral-or-unclear', 'against', 'in-favor', 'against', 'in-favor', 'against', 'in-favor', 'in-favor', 'in-favor', 'in-favor', 'in-favor', 'in-favor', 'neutral-or-unclear', 'in-favor', 'in-favor', 'in-favor', 'against', 'in-favor', 'in-favor', 'in-favor', 'against', 'neutral-or-unclear', 'neutral-or-unclear', 'in-favor', 'in-favor', 'in-favor', 'against', 'in-favor', 'neutral-or-unclear', 'in-favor', 'neutral-or-unclear', 'in-favor', 'against', 'in-favor', 'in-favor', 'against', 'in-favor', 'against', 'in-favor', 'in-favor', 'against', 'in-favor', 'against', 'neutral-or-unclear', 'neutral-or-unclear', 'in-favor', 'against', 'against', 'in-favor', 'against', 'in-favor', 'against', 'against', 'in-favor', 'in-favor', 'against', 'in-favor', 'in-favor', 'in-favor', 'in-favor', 'in-favor', 'against', 'neutral-or-unclear', 'in-favor', 'in-favor', 'in-favor', 'in-favor', 'in-favor', 'against', 'in-favor', 'against', 'against', 'against', 'neutral-or-unclear', 'against', 'against', 'in-favor', 'neutral-or-unclear', 'against', 'against', 'in-favor', 'in-favor', 'against', 'against', 'in-favor', 'in-favor', 'against', 'in-favor', 'in-favor', 'neutral-or-unclear', 'in-favor', 'in-favor', 'in-favor', 'in-favor', 'neutral-or-unclear', 'in-favor', 'in-favor', 'neutral-or-unclear', 'against', 'neutral-or-unclear', 'neutral-or-unclear', 'against', 'against', 'against', 'against', 'in-favor', 'in-favor', 'in-favor', 'in-favor', 'neutral-or-unclear', 'in-favor', 'in-favor', 'in-favor', 'in-favor', 'against', 'in-favor', 'in-favor', 'against', 'in-favor', 'in-favor', 'neutral-or-unclear', 'in-favor', 'in-favor', 'neutral-or-unclear', 'neutral-or-unclear', 'against', 'in-favor', 'in-favor', 'against', 'in-favor', 'neutral-or-unclear', 'in-favor', 'in-favor', 'against', 'neutral-or-unclear', 'against', 'against', 'against', 'in-favor', 'against', 'neutral-or-unclear', 'in-favor', 'in-favor', 'against', 'in-favor', 'in-favor', 'neutral-or-unclear', 'against', 'in-favor', 'neutral-or-unclear', 'against', 'neutral-or-unclear', 'in-favor', 'against', 'in-favor', 'in-favor', 'neutral-or-unclear', 'in-favor', 'neutral-or-unclear', 'against', 'in-favor', 'in-favor', 'in-favor', 'neutral-or-unclear', 'in-favor', 'in-favor', 'in-favor', 'against', 'against', 'against', 'in-favor', 'neutral-or-unclear', 'neutral-or-unclear', 'against', 'in-favor', 'in-favor', 'in-favor', 'neutral-or-unclear', 'in-favor', 'in-favor', 'against', 'against', 'neutral-or-unclear', 'against', 'in-favor', 'in-favor', 'against', 'in-favor', 'in-favor', 'in-favor', 'against', 'neutral-or-unclear', 'in-favor', 'in-favor', 'neutral-or-unclear', 'in-favor', 'in-favor', 'in-favor', 'against', 'against', 'neutral-or-unclear', 'against', 'against', 'in-favor', 'in-favor', 'in-favor', 'against', 'in-favor', 'neutral-or-unclear', 'in-favor', 'in-favor']\n",
            "F1 Score: {'f1': 0.8587649210343861}\n",
            "Predictions: ['in-favor', 'against', 'in-favor', 'in-favor', 'in-favor', 'in-favor', 'neutral-or-unclear', 'in', 'in-favor', 'in-favor', 'in-favor', 'against', 'against', 'in-favor', 'against', 'in-favor', 'in-favor', 'in-favor', 'in-favor', 'in-favor', 'against-or-unclear', 'in-favor', 'in-favor', 'neutral-favor', 'in-favor', 'in-or-unclear', 'in-favor', 'neutral', 'against', 'against', 'in-favor', 'in-favor', 'in-favor', 'in-favor', 'against-favor', 'in-favor', 'in-favor', 'against', 'in-favor', 'in-favor', 'in-favor', 'in-favor', 'against', 'in-or-unclear', 'against', 'against-or-unclear', 'in-or-unclear', 'against-or-unclear', 'in', 'in-or-unclear', 'in-favor', 'in-favor', 'in-favor', 'in', 'in-favor', 'in-favor', 'in-favor', 'in-favor', 'in-favor', 'neutral-or-unclear', 'against', 'in', 'against', 'against-or-unclear', 'against', 'in-favor', 'in-favor', 'in-favor', 'in', 'against', 'in-favor', 'against', 'in-favor', 'against', 'against-or-unclear', 'neutral', 'against', 'in', 'in', 'against', 'against-or-unclear', 'in-favor', 'in-favor', 'in-favor', 'in-or-unclear', 'against', 'in-or-unclear', 'against-favor', 'in-favor', 'neutral-or-unclear', 'neutral-or-unclear', 'in-favor', 'against', 'in-or-unclear', 'against', 'in-favor', 'in-favor', 'against', 'in-favor', 'in-favor', 'against', 'in-favor', 'in-favor', 'against', 'against', 'neutral', 'against', 'in-favor', 'in-favor', 'against', 'against-or-unclear', 'in-or-unclear', 'against', 'in-favor', 'in-favor', 'against', 'neutral-or-unclear', 'neutral-or-unclear', 'neutral-or-unclear', 'in-favor', 'neutral-or-unclear', 'in-favor', 'in-favor', 'against-favor', 'in-favor', 'against-or-unclear', 'against', 'in-or-unclear', 'in-favor', 'against', 'against', 'against', 'in-favor', 'in-favor', 'in-favor', 'neutral-or-unclear', 'against-or-unclear', 'in', 'in-or-unclear', 'against', 'neutral-or-unclear', 'in', 'in-favor', 'in-favor', 'in-or-unclear', 'in-favor', 'in-favor', 'against', 'in-favor', 'in-favor', 'in-favor', 'in-favor', 'in-favor', 'in-favor', 'against-or-unclear', 'in-favor', 'in-favor', 'against', 'in-favor', 'in-favor', 'in-favor', 'in-favor', 'in-favor', 'against', 'in-favor', 'in-favor', 'in-favor', 'in-favor', 'in-favor', 'in-favor', 'against', 'against-or-unclear', 'in-favor', 'neutral-or-unclear', 'in-favor', 'in-favor', 'against', 'against', 'in-favor', 'neutral-favor', 'in', 'in-favor', 'in-favor', 'against', 'in-or-unclear', 'in-or-unclear', 'against', 'neutral-or-unclear', 'in', 'in-favor', 'neutral-favor', 'against-or-unclear', 'against', 'in-favor', 'neutral-favor', 'neutral-favor', 'neutral-or-unclear', 'in-favor', 'in-favor', 'in-favor', 'neutral-favor', 'against-favor', 'against', 'in-or-unclear', 'in-favor', 'neutral-or-unclear', 'neutral-favor', 'against-favor', 'in-favor', 'in-favor', 'in-or-unclear', 'neutral-or-unclear', 'against', 'in-favor', 'against', 'against', 'in-or-unclear', 'neutral-or-unclear', 'in-favor', 'in-or-unclear', 'neutral-favor', 'in-favor', 'against', 'in-favor', 'against', 'in', 'neutral', 'in-favor', 'against', 'against', 'in-favor', 'against', 'in-favor', 'in-favor', 'in-favor', 'against', 'against', 'neutral-favor', 'in-or-unclear', 'against-favor', 'against', 'against', 'in-favor', 'neutral-favor', 'neutral-or-unclear', 'against-or-unclear', 'against', 'against', 'against', 'in-favor', 'in-or-unclear', 'in-favor', 'against', 'in-favor', 'neutral-or-unclear', 'in-favor', 'in-favor', 'in-favor', 'neutral-or-unclear', 'in-favor', 'against', 'in-or-unclear', 'in-favor', 'in-favor', 'in-or-unclear', 'neutral-or-unclear', 'against', 'neutral', 'in-favor', 'in-favor', 'in-favor', 'in-favor', 'in-favor', 'against-favor', 'in-favor', 'in-favor', 'against-or-unclear', 'against', 'against', 'against-favor', 'in-favor', 'against', 'neutral', 'against-or-unclear', 'against', 'in-favor', 'neutral-or-unclear', 'in-favor', 'in-favor', 'against', 'in-favor', 'in-favor', 'in', 'against', 'against', 'in-favor', 'against', 'in-favor', 'against', 'against', 'in-favor', 'against-or-unclear', 'against', 'against', 'against', 'in-favor', 'against', 'in-favor', 'in-favor', 'in-favor', 'in-or-unclear', 'against', 'against-or-unclear', 'in-favor', 'against', 'in-favor', 'against', 'in-or-unclear', 'in-favor', 'in-favor', 'in-favor', 'in-or-unclear', 'against', 'against', 'in-favor', 'in-favor', 'neutral-or-unclear', 'in-favor', 'in-favor', 'against', 'in-favor', 'in-favor', 'in-favor', 'in-favor', 'neutral-or-unclear', 'in-favor', 'against', 'in-favor', 'neutral-or-unclear', 'neutral-or-unclear', 'in-favor', 'in-favor', 'against', 'in-favor', 'against', 'in-or-unclear', 'in-favor', 'in-favor', 'against', 'in-favor', 'in-favor', 'in-favor', 'against', 'in-favor', 'in-favor', 'neutral', 'in-favor', 'neutral', 'in-favor', 'in-favor', 'in-favor', 'in-favor', 'neutral-or-unclear', 'in', 'against', 'in-favor', 'in-favor', 'in-or-unclear', 'against-or-unclear', 'against', 'in-favor', 'against', 'in-or-unclear', 'in-favor', 'against-or-unclear', 'in-or-unclear', 'in-favor', 'against-favor', 'in-favor', 'in-favor', 'against', 'against', 'against', 'in-favor', 'in-favor', 'in-favor', 'in-favor', 'against-or-unclear', 'against', 'in-favor', 'in', 'against', 'against', 'against', 'in-favor', 'in-favor', 'in-favor', 'in-or-unclear', 'against', 'in', 'in-favor', 'neutral-favor', 'neutral', 'in-or-unclear', 'in-favor', 'in-or-unclear', 'in-or-unclear', 'in-favor', 'neutral', 'in-favor', 'in-favor', 'neutral-or-unclear', 'against-or-unclear', 'against-favor', 'against', 'in-favor', 'against', 'in', 'against', 'against-or-unclear', 'in-or-unclear', 'against-favor', 'against', 'in-favor', 'in-favor', 'neutral-or-unclear', 'neutral-or-unclear', 'in-favor', 'in-or-unclear', 'in-favor', 'against-or-unclear', 'in-favor', 'against', 'neutral-or-unclear', 'against', 'in-favor', 'in-favor', 'neutral-or-unclear', 'against-or-unclear', 'in-favor', 'in-favor', 'in-favor', 'in-favor', 'in-favor', 'in', 'in-favor', 'in-favor', 'in-or-unclear', 'in-favor', 'against-or-unclear', 'in-favor', 'in-favor', 'neutral', 'against', 'in-favor', 'in-favor', 'in-favor', 'in-favor', 'in-favor', 'neutral', 'neutral-or-unclear', 'against', 'in-favor', 'in-favor', 'in-favor', 'in-favor', 'against', 'against', 'in-favor', 'in-favor', 'in-favor', 'against-favor', 'against', 'against', 'against', 'against', 'in-favor', 'against', 'neutral-or-unclear', 'against-or-unclear', 'in-favor', 'in-favor', 'in-favor', 'against', 'in-favor', 'neutral-or-unclear', 'in-or-unclear', 'in-favor', 'in-favor', 'in-favor', 'in-favor', 'against', 'in', 'against', 'against', 'neutral-or-unclear', 'neutral-favor', 'in-favor', 'in', 'against', 'neutral-or-unclear', 'against', 'against-favor', 'in-or-unclear', 'in-favor', 'neutral-or-unclear', 'in', 'in-favor', 'in-favor', 'against', 'neutral', 'in-favor', 'neutral-or-unclear', 'in', 'neutral', 'in-favor', 'in-or-unclear', 'against-favor', 'in-or-unclear', 'in-favor', 'in-favor', 'in-favor', 'in-favor', 'in-favor', 'in-favor', 'against', 'in-favor', 'neutral', 'in-favor', 'neutral-or-unclear', 'in-favor', 'against', 'against-favor', 'in-or-unclear', 'against', 'in', 'in-or-unclear', 'in-favor', 'against-or-unclear', 'against', 'in-favor', 'against', 'against-favor', 'against', 'in-favor', 'against-or-unclear', 'against', 'in-favor', 'in-favor', 'neutral-or-unclear', 'in-favor', 'against', 'in-favor', 'in-favor', 'against', 'against-favor', 'in-favor', 'against-or-unclear', 'in-favor', 'in-favor', 'in-favor', 'in-favor', 'in-favor', 'in-favor', 'in-favor', 'in-favor', 'against', 'against', 'in-favor', 'against-favor', 'in-favor', 'in-favor', 'neutral-favor', 'against-or-unclear', 'against', 'against', 'in-favor', 'in-favor', 'against', 'neutral-or-unclear', 'against-or-unclear', 'in-favor', 'in-favor', 'against-or-unclear', 'in-favor', 'in-favor', 'neutral-or-unclear', 'in-favor', 'neutral-or-unclear', 'in-favor', 'in-favor', 'in-or-unclear', 'against', 'in-favor', 'in-favor', 'against', 'against', 'in-favor', 'in-or-unclear', 'against-favor', 'in-favor', 'neutral-or-unclear', 'in', 'neutral-favor', 'in-favor', 'against', 'against', 'against', 'against', 'against-favor', 'neutral-or-unclear', 'against', 'against', 'against', 'against', 'neutral-or-unclear', 'in-favor', 'against', 'against', 'in-favor', 'neutral-or-unclear', 'in-favor', 'against-favor', 'against', 'neutral-or-unclear', 'against', 'against-or-unclear', 'in-favor', 'against', 'in-favor', 'in-favor', 'against', 'against', 'in', 'in-or-unclear', 'in-favor', 'in-favor', 'in-or-unclear', 'against', 'against', 'neutral-or-unclear', 'against', 'in-favor', 'in-favor', 'against', 'against', 'against', 'in-or-unclear', 'in-favor', 'against', 'in', 'in-or-unclear', 'against', 'against', 'in-or-unclear', 'in-favor', 'in-favor', 'against-or-unclear', 'against', 'in-or-unclear', 'in-or-unclear', 'in-favor', 'against', 'neutral-or-unclear', 'in-favor', 'against', 'in-favor', 'in-favor', 'against-or-unclear', 'in-favor', 'in-favor', 'in-favor', 'in-favor', 'in-favor', 'neutral-or-unclear', 'in-favor', 'against', 'in-favor', 'in', 'against', 'in-favor', 'in-favor', 'in-favor', 'in-favor', 'against', 'in-favor', 'against', 'in-favor', 'in-favor', 'against', 'neutral-or-unclear', 'in-favor', 'in-favor', 'in-favor', 'in-favor', 'in-favor', 'against', 'neutral-or-unclear', 'against', 'against-or-unclear', 'against', 'neutral', 'in-favor', 'in-favor', 'in-or-unclear', 'in-favor', 'against-favor', 'in-or-unclear', 'against-or-unclear', 'neutral', 'against', 'in', 'neutral', 'in-favor', 'in-favor', 'against', 'against', 'against', 'in-favor', 'in-favor', 'in-favor', 'against', 'in-favor', 'against', 'against', 'against', 'in-favor', 'in-favor', 'neutral', 'against', 'in', 'neutral-or-unclear', 'in-or-unclear', 'in-favor', 'neutral-or-unclear', 'against', 'against', 'in-favor', 'against', 'against', 'in-favor', 'in-favor', 'in-favor', 'in-favor', 'in-favor', 'neutral', 'neutral-favor', 'against', 'in-favor', 'against', 'against-or-unclear', 'neutral-or-unclear', 'against', 'in-favor', 'in-favor', 'in-favor', 'against', 'in-favor', 'in-or-unclear', 'neutral-or-unclear', 'neutral', 'against', 'in-favor', 'in-favor', 'neutral-or-unclear', 'in-favor', 'against', 'in-favor', 'in', 'in-favor', 'in-favor', 'in-favor', 'neutral-or-unclear', 'against', 'in-favor', 'in-favor', 'against', 'against', 'against-or-unclear', 'against-or-unclear', 'neutral-or-unclear', 'in-favor', 'neutral-favor', 'against', 'against-or-unclear', 'in-favor', 'against', 'in-favor', 'in-favor', 'against', 'against-or-unclear', 'against', 'against-favor', 'against-favor', 'neutral', 'in-favor', 'in-favor', 'neutral', 'in-favor', 'in-favor', 'in-favor', 'in-favor', 'in-favor', 'against', 'in-favor', 'neutral-or-unclear', 'in', 'in-favor', 'against-favor', 'neutral-or-unclear', 'neutral-favor', 'in-or-unclear', 'in-or-unclear', 'against', 'in-favor', 'in-favor', 'in-favor', 'against', 'against', 'in-favor', 'against-or-unclear', 'against', 'in-or-unclear', 'against', 'against', 'in', 'in-favor', 'neutral-or-unclear', 'in-favor', 'in-or-unclear', 'in-favor', 'in-favor', 'against', 'against', 'neutral', 'in-favor', 'neutral', 'against', 'in-favor', 'in-favor', 'against', 'against', 'neutral-or-unclear', 'against-or-unclear', 'neutral-or-unclear', 'against', 'in-favor', 'against-or-unclear', 'against', 'in-favor', 'against', 'in-favor', 'neutral-or-unclear', 'in-favor', 'against', 'in-favor', 'against', 'in-favor', 'in-favor', 'in-favor', 'in-or-unclear', 'against', 'in-favor', 'in-or-unclear', 'in-favor', 'in-favor', 'in-favor', 'in-favor', 'in-favor', 'in', 'in-favor', 'in-favor', 'in-favor', 'in-favor', 'in-favor', 'in-favor', 'neutral', 'in-favor', 'in-favor', 'in-favor', 'against', 'against', 'in-favor', 'in-favor', 'in-favor', 'neutral-favor', 'in-favor', 'against-or-unclear', 'against', 'in-or-unclear', 'in-favor', 'in', 'against', 'in-favor', 'against', 'in', 'in-or-unclear', 'in-favor', 'in-favor', 'in-favor', 'in-favor', 'neutral-or-unclear', 'in-favor', 'neutral-favor', 'against', 'in-favor', 'in-favor', 'against-favor', 'against', 'in-favor', 'in-favor', 'neutral-or-unclear', 'neutral-favor', 'in-favor', 'in-favor', 'neutral-favor', 'in-or-unclear', 'in-favor', 'in-or-unclear', 'in-favor', 'against', 'in-favor', 'in-favor', 'in-favor', 'against', 'neutral', 'in-favor', 'in-favor', 'neutral-or-unclear', 'in-favor', 'in-favor', 'against', 'against', 'in-or-unclear', 'in-or-unclear', 'against', 'in-favor', 'in-favor', 'in-favor', 'in-or-unclear', 'neutral-or-unclear', 'against', 'in-favor', 'against', 'in-favor', 'against', 'in-favor', 'in-favor', 'in-favor', 'in-favor', 'in-favor', 'in-favor', 'neutral-or-unclear', 'in-favor', 'in-favor', 'in-favor', 'against', 'in-favor', 'in-favor', 'in-favor', 'in', 'neutral-or-unclear', 'neutral-or-unclear', 'in-favor', 'in-favor', 'in-favor', 'neutral', 'in-favor', 'neutral-or-unclear', 'in-favor', 'neutral-or-unclear', 'in-favor', 'against', 'in-favor', 'neutral-favor', 'against', 'in-favor', 'against', 'in-favor', 'in-favor', 'neutral', 'in-favor', 'against', 'neutral-or-unclear', 'in-or-unclear', 'in-favor', 'against', 'against', 'against-favor', 'against', 'in-favor', 'neutral', 'in', 'in-favor', 'in-favor', 'against', 'in-favor', 'in-favor', 'in-favor', 'in-favor', 'in-favor', 'against', 'in-or-unclear', 'in-favor', 'in-favor', 'in-favor', 'in-favor', 'in-favor', 'neutral', 'in-favor', 'against', 'neutral', 'against', 'against-or-unclear', 'against', 'against', 'neutral-favor', 'against-or-unclear', 'against', 'against', 'in-favor', 'in-favor', 'against', 'against', 'against-favor', 'in-favor', 'against', 'in-favor', 'neutral-favor', 'against-or-unclear', 'in-favor', 'in-favor', 'in-favor', 'in-favor', 'in-or-unclear', 'in-favor', 'against-favor', 'neutral-or-unclear', 'against', 'against-or-unclear', 'in-or-unclear', 'against', 'against', 'against', 'against', 'against-favor', 'against-favor', 'in-favor', 'in-favor', 'in-or-unclear', 'against-favor', 'in-favor', 'in-favor', 'in-favor', 'against', 'in-favor', 'in-favor', 'against', 'against-favor', 'in-favor', 'in-or-unclear', 'in-favor', 'in-favor', 'neutral-or-unclear', 'neutral-or-unclear', 'against', 'against-favor', 'in-favor', 'against', 'in-favor', 'neutral-or-unclear', 'in-favor', 'in-favor', 'in', 'neutral-or-unclear', 'against', 'against', 'against', 'in-favor', 'in', 'in-or-unclear', 'in-favor', 'in-favor', 'against', 'in-favor', 'in-favor', 'in-or-unclear', 'against', 'in-favor', 'neutral-or-unclear', 'against', 'neutral-or-unclear', 'in-favor', 'in', 'neutral-favor', 'in-favor', 'neutral-or-unclear', 'in-favor', 'in-or-unclear', 'against', 'in-favor', 'in-favor', 'in-favor', 'in-or-unclear', 'in-favor', 'in-favor', 'in-favor', 'against', 'in', 'against', 'in-favor', 'neutral-or-unclear', 'in-or-unclear', 'against', 'in-favor', 'in-favor', 'in-favor', 'against-or-unclear', 'in-favor', 'in-favor', 'against', 'against', 'neutral-or-unclear', 'in', 'in-favor', 'in-favor', 'against', 'in-favor', 'in-favor', 'in-favor', 'neutral', 'neutral-or-unclear', 'in-favor', 'in-favor', 'in-or-unclear', 'in-favor', 'in-favor', 'in-favor', 'against', 'against', 'neutral-or-unclear', 'in', 'neutral', 'in-favor', 'in-favor', 'in-favor', 'in', 'in-favor', 'neutral-or-unclear', 'in-favor', 'in-favor']\n",
            "Labels: ['in-favor', 'against', 'in-favor', 'in-favor', 'in-favor', 'in-favor', 'neutral-or-unclear', 'against', 'in-favor', 'in-favor', 'in-favor', 'against', 'against', 'in-favor', 'against', 'in-favor', 'in-favor', 'in-favor', 'in-favor', 'in-favor', 'neutral-or-unclear', 'in-favor', 'in-favor', 'in-favor', 'in-favor', 'neutral-or-unclear', 'in-favor', 'against', 'against', 'against', 'in-favor', 'in-favor', 'in-favor', 'in-favor', 'in-favor', 'in-favor', 'in-favor', 'against', 'in-favor', 'in-favor', 'in-favor', 'in-favor', 'against', 'neutral-or-unclear', 'against', 'neutral-or-unclear', 'neutral-or-unclear', 'neutral-or-unclear', 'against', 'neutral-or-unclear', 'in-favor', 'in-favor', 'in-favor', 'against', 'in-favor', 'in-favor', 'in-favor', 'in-favor', 'in-favor', 'neutral-or-unclear', 'against', 'against', 'against', 'neutral-or-unclear', 'against', 'in-favor', 'in-favor', 'in-favor', 'against', 'against', 'in-favor', 'against', 'in-favor', 'against', 'neutral-or-unclear', 'against', 'against', 'against', 'against', 'against', 'neutral-or-unclear', 'in-favor', 'in-favor', 'in-favor', 'neutral-or-unclear', 'against', 'neutral-or-unclear', 'in-favor', 'in-favor', 'neutral-or-unclear', 'neutral-or-unclear', 'in-favor', 'against', 'neutral-or-unclear', 'against', 'in-favor', 'in-favor', 'against', 'in-favor', 'in-favor', 'against', 'in-favor', 'in-favor', 'against', 'against', 'against', 'against', 'in-favor', 'in-favor', 'against', 'neutral-or-unclear', 'neutral-or-unclear', 'against', 'in-favor', 'in-favor', 'against', 'neutral-or-unclear', 'neutral-or-unclear', 'neutral-or-unclear', 'in-favor', 'neutral-or-unclear', 'in-favor', 'in-favor', 'in-favor', 'in-favor', 'neutral-or-unclear', 'against', 'neutral-or-unclear', 'in-favor', 'against', 'against', 'against', 'in-favor', 'in-favor', 'in-favor', 'neutral-or-unclear', 'neutral-or-unclear', 'against', 'neutral-or-unclear', 'against', 'neutral-or-unclear', 'against', 'in-favor', 'in-favor', 'neutral-or-unclear', 'in-favor', 'in-favor', 'against', 'in-favor', 'in-favor', 'in-favor', 'in-favor', 'in-favor', 'in-favor', 'neutral-or-unclear', 'in-favor', 'in-favor', 'against', 'in-favor', 'in-favor', 'in-favor', 'in-favor', 'in-favor', 'against', 'in-favor', 'in-favor', 'in-favor', 'in-favor', 'in-favor', 'in-favor', 'against', 'neutral-or-unclear', 'in-favor', 'neutral-or-unclear', 'in-favor', 'in-favor', 'against', 'against', 'in-favor', 'in-favor', 'against', 'in-favor', 'in-favor', 'against', 'neutral-or-unclear', 'neutral-or-unclear', 'against', 'neutral-or-unclear', 'against', 'in-favor', 'in-favor', 'neutral-or-unclear', 'against', 'in-favor', 'in-favor', 'in-favor', 'neutral-or-unclear', 'in-favor', 'in-favor', 'in-favor', 'in-favor', 'in-favor', 'against', 'neutral-or-unclear', 'in-favor', 'neutral-or-unclear', 'in-favor', 'in-favor', 'in-favor', 'in-favor', 'neutral-or-unclear', 'neutral-or-unclear', 'against', 'in-favor', 'against', 'against', 'neutral-or-unclear', 'neutral-or-unclear', 'in-favor', 'neutral-or-unclear', 'in-favor', 'in-favor', 'against', 'in-favor', 'against', 'against', 'against', 'in-favor', 'against', 'against', 'in-favor', 'against', 'in-favor', 'in-favor', 'in-favor', 'against', 'against', 'in-favor', 'neutral-or-unclear', 'in-favor', 'against', 'against', 'in-favor', 'in-favor', 'neutral-or-unclear', 'neutral-or-unclear', 'against', 'against', 'against', 'in-favor', 'neutral-or-unclear', 'in-favor', 'against', 'in-favor', 'neutral-or-unclear', 'in-favor', 'in-favor', 'in-favor', 'neutral-or-unclear', 'in-favor', 'against', 'neutral-or-unclear', 'in-favor', 'in-favor', 'neutral-or-unclear', 'neutral-or-unclear', 'against', 'against', 'in-favor', 'in-favor', 'in-favor', 'in-favor', 'in-favor', 'in-favor', 'in-favor', 'in-favor', 'neutral-or-unclear', 'against', 'against', 'in-favor', 'in-favor', 'against', 'against', 'neutral-or-unclear', 'against', 'in-favor', 'neutral-or-unclear', 'in-favor', 'in-favor', 'against', 'in-favor', 'in-favor', 'against', 'against', 'against', 'in-favor', 'against', 'in-favor', 'against', 'against', 'in-favor', 'neutral-or-unclear', 'against', 'against', 'against', 'in-favor', 'against', 'in-favor', 'in-favor', 'in-favor', 'neutral-or-unclear', 'against', 'neutral-or-unclear', 'in-favor', 'against', 'in-favor', 'against', 'neutral-or-unclear', 'in-favor', 'in-favor', 'in-favor', 'neutral-or-unclear', 'against', 'against', 'in-favor', 'in-favor', 'neutral-or-unclear', 'in-favor', 'in-favor', 'against', 'in-favor', 'in-favor', 'in-favor', 'in-favor', 'neutral-or-unclear', 'in-favor', 'against', 'in-favor', 'neutral-or-unclear', 'neutral-or-unclear', 'in-favor', 'in-favor', 'against', 'in-favor', 'against', 'neutral-or-unclear', 'in-favor', 'in-favor', 'against', 'in-favor', 'in-favor', 'in-favor', 'against', 'in-favor', 'in-favor', 'against', 'in-favor', 'against', 'in-favor', 'in-favor', 'in-favor', 'in-favor', 'neutral-or-unclear', 'against', 'against', 'in-favor', 'in-favor', 'neutral-or-unclear', 'neutral-or-unclear', 'against', 'in-favor', 'against', 'neutral-or-unclear', 'in-favor', 'neutral-or-unclear', 'neutral-or-unclear', 'in-favor', 'in-favor', 'in-favor', 'in-favor', 'against', 'against', 'against', 'in-favor', 'in-favor', 'in-favor', 'in-favor', 'neutral-or-unclear', 'against', 'in-favor', 'against', 'against', 'against', 'against', 'in-favor', 'in-favor', 'in-favor', 'neutral-or-unclear', 'against', 'against', 'in-favor', 'in-favor', 'against', 'neutral-or-unclear', 'in-favor', 'neutral-or-unclear', 'neutral-or-unclear', 'in-favor', 'against', 'in-favor', 'in-favor', 'neutral-or-unclear', 'neutral-or-unclear', 'in-favor', 'against', 'in-favor', 'against', 'against', 'against', 'neutral-or-unclear', 'neutral-or-unclear', 'in-favor', 'against', 'in-favor', 'in-favor', 'neutral-or-unclear', 'neutral-or-unclear', 'in-favor', 'neutral-or-unclear', 'in-favor', 'neutral-or-unclear', 'in-favor', 'against', 'neutral-or-unclear', 'against', 'in-favor', 'in-favor', 'neutral-or-unclear', 'neutral-or-unclear', 'in-favor', 'in-favor', 'in-favor', 'in-favor', 'in-favor', 'against', 'in-favor', 'in-favor', 'neutral-or-unclear', 'in-favor', 'neutral-or-unclear', 'in-favor', 'in-favor', 'against', 'against', 'in-favor', 'in-favor', 'in-favor', 'in-favor', 'in-favor', 'against', 'neutral-or-unclear', 'against', 'in-favor', 'in-favor', 'in-favor', 'in-favor', 'against', 'against', 'in-favor', 'in-favor', 'in-favor', 'in-favor', 'against', 'against', 'against', 'against', 'in-favor', 'against', 'neutral-or-unclear', 'neutral-or-unclear', 'in-favor', 'in-favor', 'in-favor', 'against', 'in-favor', 'neutral-or-unclear', 'neutral-or-unclear', 'in-favor', 'in-favor', 'in-favor', 'in-favor', 'against', 'against', 'against', 'against', 'neutral-or-unclear', 'in-favor', 'in-favor', 'against', 'against', 'neutral-or-unclear', 'against', 'in-favor', 'neutral-or-unclear', 'in-favor', 'neutral-or-unclear', 'against', 'in-favor', 'in-favor', 'against', 'against', 'in-favor', 'neutral-or-unclear', 'against', 'against', 'in-favor', 'neutral-or-unclear', 'in-favor', 'neutral-or-unclear', 'in-favor', 'in-favor', 'in-favor', 'in-favor', 'in-favor', 'in-favor', 'against', 'in-favor', 'against', 'in-favor', 'neutral-or-unclear', 'in-favor', 'against', 'in-favor', 'neutral-or-unclear', 'against', 'against', 'neutral-or-unclear', 'in-favor', 'neutral-or-unclear', 'against', 'in-favor', 'against', 'in-favor', 'against', 'in-favor', 'neutral-or-unclear', 'against', 'in-favor', 'in-favor', 'neutral-or-unclear', 'in-favor', 'against', 'in-favor', 'in-favor', 'against', 'in-favor', 'in-favor', 'neutral-or-unclear', 'in-favor', 'in-favor', 'in-favor', 'in-favor', 'in-favor', 'in-favor', 'in-favor', 'in-favor', 'against', 'against', 'in-favor', 'in-favor', 'in-favor', 'in-favor', 'in-favor', 'neutral-or-unclear', 'against', 'against', 'in-favor', 'in-favor', 'against', 'neutral-or-unclear', 'neutral-or-unclear', 'in-favor', 'in-favor', 'neutral-or-unclear', 'in-favor', 'in-favor', 'neutral-or-unclear', 'in-favor', 'neutral-or-unclear', 'in-favor', 'in-favor', 'neutral-or-unclear', 'against', 'in-favor', 'in-favor', 'against', 'against', 'in-favor', 'neutral-or-unclear', 'in-favor', 'in-favor', 'neutral-or-unclear', 'against', 'in-favor', 'in-favor', 'against', 'against', 'against', 'against', 'in-favor', 'neutral-or-unclear', 'against', 'against', 'against', 'against', 'neutral-or-unclear', 'in-favor', 'against', 'against', 'in-favor', 'neutral-or-unclear', 'in-favor', 'in-favor', 'against', 'neutral-or-unclear', 'against', 'neutral-or-unclear', 'in-favor', 'against', 'in-favor', 'in-favor', 'against', 'against', 'against', 'neutral-or-unclear', 'in-favor', 'in-favor', 'neutral-or-unclear', 'against', 'against', 'neutral-or-unclear', 'against', 'in-favor', 'in-favor', 'against', 'against', 'against', 'neutral-or-unclear', 'in-favor', 'against', 'against', 'neutral-or-unclear', 'against', 'against', 'neutral-or-unclear', 'in-favor', 'in-favor', 'neutral-or-unclear', 'against', 'neutral-or-unclear', 'neutral-or-unclear', 'in-favor', 'against', 'neutral-or-unclear', 'in-favor', 'against', 'in-favor', 'in-favor', 'neutral-or-unclear', 'in-favor', 'in-favor', 'in-favor', 'in-favor', 'in-favor', 'neutral-or-unclear', 'in-favor', 'against', 'in-favor', 'against', 'against', 'in-favor', 'in-favor', 'in-favor', 'in-favor', 'against', 'in-favor', 'against', 'in-favor', 'in-favor', 'against', 'neutral-or-unclear', 'in-favor', 'in-favor', 'in-favor', 'in-favor', 'in-favor', 'against', 'neutral-or-unclear', 'against', 'neutral-or-unclear', 'against', 'against', 'in-favor', 'in-favor', 'neutral-or-unclear', 'in-favor', 'in-favor', 'neutral-or-unclear', 'neutral-or-unclear', 'against', 'against', 'against', 'against', 'in-favor', 'in-favor', 'against', 'against', 'against', 'in-favor', 'in-favor', 'in-favor', 'against', 'in-favor', 'against', 'against', 'against', 'in-favor', 'in-favor', 'against', 'against', 'against', 'neutral-or-unclear', 'neutral-or-unclear', 'in-favor', 'neutral-or-unclear', 'against', 'against', 'in-favor', 'against', 'against', 'in-favor', 'in-favor', 'in-favor', 'in-favor', 'in-favor', 'against', 'in-favor', 'against', 'in-favor', 'against', 'neutral-or-unclear', 'neutral-or-unclear', 'against', 'in-favor', 'in-favor', 'in-favor', 'against', 'in-favor', 'neutral-or-unclear', 'neutral-or-unclear', 'against', 'against', 'in-favor', 'in-favor', 'neutral-or-unclear', 'in-favor', 'against', 'in-favor', 'against', 'in-favor', 'in-favor', 'in-favor', 'neutral-or-unclear', 'against', 'in-favor', 'in-favor', 'against', 'against', 'neutral-or-unclear', 'neutral-or-unclear', 'neutral-or-unclear', 'in-favor', 'in-favor', 'against', 'neutral-or-unclear', 'in-favor', 'against', 'in-favor', 'in-favor', 'against', 'neutral-or-unclear', 'against', 'in-favor', 'in-favor', 'against', 'in-favor', 'in-favor', 'against', 'in-favor', 'in-favor', 'in-favor', 'in-favor', 'in-favor', 'against', 'in-favor', 'neutral-or-unclear', 'against', 'in-favor', 'in-favor', 'neutral-or-unclear', 'in-favor', 'neutral-or-unclear', 'neutral-or-unclear', 'against', 'in-favor', 'in-favor', 'in-favor', 'against', 'against', 'in-favor', 'neutral-or-unclear', 'against', 'neutral-or-unclear', 'against', 'against', 'against', 'in-favor', 'neutral-or-unclear', 'in-favor', 'neutral-or-unclear', 'in-favor', 'in-favor', 'against', 'against', 'against', 'in-favor', 'against', 'against', 'in-favor', 'in-favor', 'against', 'against', 'neutral-or-unclear', 'neutral-or-unclear', 'neutral-or-unclear', 'against', 'in-favor', 'neutral-or-unclear', 'against', 'in-favor', 'against', 'in-favor', 'neutral-or-unclear', 'in-favor', 'against', 'in-favor', 'against', 'in-favor', 'in-favor', 'in-favor', 'neutral-or-unclear', 'against', 'in-favor', 'neutral-or-unclear', 'in-favor', 'in-favor', 'in-favor', 'in-favor', 'in-favor', 'against', 'in-favor', 'in-favor', 'in-favor', 'in-favor', 'in-favor', 'in-favor', 'against', 'in-favor', 'in-favor', 'in-favor', 'against', 'against', 'in-favor', 'in-favor', 'in-favor', 'in-favor', 'in-favor', 'neutral-or-unclear', 'against', 'neutral-or-unclear', 'in-favor', 'against', 'against', 'in-favor', 'against', 'against', 'neutral-or-unclear', 'in-favor', 'in-favor', 'in-favor', 'in-favor', 'neutral-or-unclear', 'in-favor', 'in-favor', 'against', 'in-favor', 'in-favor', 'in-favor', 'against', 'in-favor', 'in-favor', 'neutral-or-unclear', 'in-favor', 'in-favor', 'in-favor', 'in-favor', 'neutral-or-unclear', 'in-favor', 'neutral-or-unclear', 'in-favor', 'against', 'in-favor', 'in-favor', 'in-favor', 'against', 'against', 'in-favor', 'in-favor', 'neutral-or-unclear', 'in-favor', 'in-favor', 'against', 'against', 'neutral-or-unclear', 'neutral-or-unclear', 'against', 'in-favor', 'in-favor', 'in-favor', 'neutral-or-unclear', 'neutral-or-unclear', 'against', 'in-favor', 'against', 'in-favor', 'against', 'in-favor', 'in-favor', 'in-favor', 'in-favor', 'in-favor', 'in-favor', 'neutral-or-unclear', 'in-favor', 'in-favor', 'in-favor', 'against', 'in-favor', 'in-favor', 'in-favor', 'against', 'neutral-or-unclear', 'neutral-or-unclear', 'in-favor', 'in-favor', 'in-favor', 'against', 'in-favor', 'neutral-or-unclear', 'in-favor', 'neutral-or-unclear', 'in-favor', 'against', 'in-favor', 'in-favor', 'against', 'in-favor', 'against', 'in-favor', 'in-favor', 'against', 'in-favor', 'against', 'neutral-or-unclear', 'neutral-or-unclear', 'in-favor', 'against', 'against', 'in-favor', 'against', 'in-favor', 'against', 'against', 'in-favor', 'in-favor', 'against', 'in-favor', 'in-favor', 'in-favor', 'in-favor', 'in-favor', 'against', 'neutral-or-unclear', 'in-favor', 'in-favor', 'in-favor', 'in-favor', 'in-favor', 'against', 'in-favor', 'against', 'against', 'against', 'neutral-or-unclear', 'against', 'against', 'in-favor', 'neutral-or-unclear', 'against', 'against', 'in-favor', 'in-favor', 'against', 'against', 'in-favor', 'in-favor', 'against', 'in-favor', 'in-favor', 'neutral-or-unclear', 'in-favor', 'in-favor', 'in-favor', 'in-favor', 'neutral-or-unclear', 'in-favor', 'in-favor', 'neutral-or-unclear', 'against', 'neutral-or-unclear', 'neutral-or-unclear', 'against', 'against', 'against', 'against', 'in-favor', 'in-favor', 'in-favor', 'in-favor', 'neutral-or-unclear', 'in-favor', 'in-favor', 'in-favor', 'in-favor', 'against', 'in-favor', 'in-favor', 'against', 'in-favor', 'in-favor', 'neutral-or-unclear', 'in-favor', 'in-favor', 'neutral-or-unclear', 'neutral-or-unclear', 'against', 'in-favor', 'in-favor', 'against', 'in-favor', 'neutral-or-unclear', 'in-favor', 'in-favor', 'against', 'neutral-or-unclear', 'against', 'against', 'against', 'in-favor', 'against', 'neutral-or-unclear', 'in-favor', 'in-favor', 'against', 'in-favor', 'in-favor', 'neutral-or-unclear', 'against', 'in-favor', 'neutral-or-unclear', 'against', 'neutral-or-unclear', 'in-favor', 'against', 'in-favor', 'in-favor', 'neutral-or-unclear', 'in-favor', 'neutral-or-unclear', 'against', 'in-favor', 'in-favor', 'in-favor', 'neutral-or-unclear', 'in-favor', 'in-favor', 'in-favor', 'against', 'against', 'against', 'in-favor', 'neutral-or-unclear', 'neutral-or-unclear', 'against', 'in-favor', 'in-favor', 'in-favor', 'neutral-or-unclear', 'in-favor', 'in-favor', 'against', 'against', 'neutral-or-unclear', 'against', 'in-favor', 'in-favor', 'against', 'in-favor', 'in-favor', 'in-favor', 'against', 'neutral-or-unclear', 'in-favor', 'in-favor', 'neutral-or-unclear', 'in-favor', 'in-favor', 'in-favor', 'against', 'against', 'neutral-or-unclear', 'against', 'against', 'in-favor', 'in-favor', 'in-favor', 'against', 'in-favor', 'neutral-or-unclear', 'in-favor', 'in-favor']\n",
            "F1 Score: {'f1': 0.8545716471676436}\n",
            "Predictions: ['in-favor', 'against', 'in-favor', 'in-favor', 'in-favor', 'in-favor', 'neutral-or-unclear', 'in', 'in-favor', 'in-favor', 'in-favor', 'against', 'against', 'in-favor', 'against', 'in-favor', 'against-favor', 'in-favor', 'in-favor', 'in-favor', 'against-or-unclear', 'in-favor', 'in-favor', 'neutral-favor', 'in-favor', 'in-or-unclear', 'in-favor', 'neutral', 'against', 'against', 'in-favor', 'in-favor', 'in-favor', 'in-favor', 'against-favor', 'in-favor', 'in-favor', 'against', 'in-favor', 'in-favor', 'in-favor', 'in-favor', 'against', 'in-or-unclear', 'against', 'against-or-unclear', 'in-or-unclear', 'against-or-unclear', 'in', 'in-or-unclear', 'in-favor', 'in-favor', 'in-favor', 'in', 'in-favor', 'in-favor', 'in-favor', 'in-favor', 'in-favor', 'neutral-or-unclear', 'against', 'in', 'against', 'against-or-unclear', 'against', 'in-favor', 'in-favor', 'in-favor', 'in', 'against', 'in-favor', 'against', 'in-favor', 'against', 'against-or-unclear', 'neutral', 'against', 'in', 'in', 'against', 'against-or-unclear', 'in-favor', 'in-favor', 'in-favor', 'in-or-unclear', 'against', 'in-or-unclear', 'against-favor', 'in-favor', 'neutral-or-unclear', 'neutral-or-unclear', 'in-favor', 'against', 'in-or-unclear', 'against', 'in-favor', 'in-favor', 'against', 'in-favor', 'in-favor', 'against', 'in-favor', 'in-favor', 'against', 'against', 'neutral', 'against', 'in-favor', 'in-favor', 'against', 'against-or-unclear', 'in-or-unclear', 'against', 'in-favor', 'in-favor', 'against', 'neutral-or-unclear', 'neutral-or-unclear', 'neutral-or-unclear', 'in-favor', 'neutral-or-unclear', 'in-favor', 'in-favor', 'against-favor', 'in-favor', 'against-or-unclear', 'against', 'in-or-unclear', 'in-favor', 'against', 'against', 'against', 'in-favor', 'in-favor', 'in-favor', 'neutral-or-unclear', 'against-or-unclear', 'in', 'in-or-unclear', 'against', 'neutral-or-unclear', 'in', 'in-favor', 'in-favor', 'in-or-unclear', 'in-favor', 'in-favor', 'against', 'in-favor', 'in-favor', 'in-favor', 'in-favor', 'in-favor', 'in-favor', 'neutral-or-unclear', 'in-favor', 'in-favor', 'against', 'in-favor', 'in-favor', 'in-favor', 'in-favor', 'in-favor', 'neutral', 'in-favor', 'in-favor', 'in-favor', 'in-favor', 'in-favor', 'in-favor', 'against', 'against-or-unclear', 'in-favor', 'neutral-or-unclear', 'in-favor', 'in-favor', 'against', 'against', 'in-favor', 'neutral-favor', 'in', 'in-favor', 'in-favor', 'against', 'in-or-unclear', 'in-or-unclear', 'against', 'neutral-or-unclear', 'in', 'in-favor', 'neutral-favor', 'against-or-unclear', 'against', 'in-favor', 'neutral-favor', 'neutral-favor', 'neutral-or-unclear', 'in-favor', 'in-favor', 'in-favor', 'neutral-favor', 'against-favor', 'against', 'in-or-unclear', 'in-favor', 'neutral-or-unclear', 'neutral-favor', 'against-favor', 'in-favor', 'in-favor', 'in-or-unclear', 'neutral-or-unclear', 'against', 'in-favor', 'against', 'against', 'in-or-unclear', 'neutral-or-unclear', 'in-favor', 'in-or-unclear', 'neutral-favor', 'in-favor', 'against', 'in-favor', 'against', 'in', 'neutral', 'in-favor', 'against', 'against', 'in-favor', 'against', 'in-favor', 'in-favor', 'in-favor', 'against', 'against', 'neutral-favor', 'in-or-unclear', 'against-favor', 'against', 'against', 'in-favor', 'neutral-favor', 'neutral-or-unclear', 'against-or-unclear', 'against', 'against', 'against', 'in-favor', 'in-or-unclear', 'in-favor', 'against', 'in-favor', 'neutral-or-unclear', 'in-favor', 'in-favor', 'in-favor', 'neutral-or-unclear', 'in-favor', 'against', 'in-or-unclear', 'in-favor', 'in-favor', 'in-or-unclear', 'neutral-or-unclear', 'against', 'neutral', 'in-favor', 'in-favor', 'in-favor', 'in-favor', 'in-favor', 'against-favor', 'in-favor', 'in-favor', 'against-or-unclear', 'against', 'against', 'neutral-favor', 'in-favor', 'against', 'neutral', 'against-or-unclear', 'against', 'in-favor', 'neutral-or-unclear', 'in-favor', 'in-favor', 'against', 'in-favor', 'in-favor', 'in', 'against', 'against', 'in-favor', 'against', 'in-favor', 'against', 'against', 'in-favor', 'against-or-unclear', 'against', 'against', 'against', 'in-favor', 'against', 'in-favor', 'in-favor', 'in-favor', 'in-or-unclear', 'against', 'against-or-unclear', 'in-favor', 'against', 'in-favor', 'against', 'in-or-unclear', 'in-favor', 'in-favor', 'in-favor', 'in-or-unclear', 'against', 'against', 'neutral-favor', 'in-favor', 'neutral-or-unclear', 'in-favor', 'in-favor', 'against', 'in-favor', 'in-favor', 'in-favor', 'in-favor', 'neutral-or-unclear', 'in-favor', 'against', 'in-favor', 'neutral-or-unclear', 'neutral-or-unclear', 'in-favor', 'in-favor', 'against', 'in-favor', 'against', 'in-or-unclear', 'in-favor', 'in-favor', 'against', 'in-favor', 'in-favor', 'in-favor', 'against', 'in-favor', 'in-favor', 'neutral', 'in-favor', 'against', 'in-favor', 'in-favor', 'in-favor', 'in-favor', 'neutral-or-unclear', 'in', 'against', 'in-favor', 'in-favor', 'in-or-unclear', 'against-or-unclear', 'against', 'in-favor', 'against', 'in-or-unclear', 'in-favor', 'against-or-unclear', 'in-or-unclear', 'in-favor', 'against-favor', 'in-favor', 'in-favor', 'against', 'against', 'against', 'in-favor', 'in-favor', 'in-favor', 'in-favor', 'against-or-unclear', 'against', 'in-favor', 'against', 'against', 'against', 'against', 'in-favor', 'in-favor', 'in-favor', 'in-or-unclear', 'against', 'in', 'in-favor', 'neutral-favor', 'neutral', 'in-or-unclear', 'in-favor', 'in-or-unclear', 'in-or-unclear', 'in-favor', 'neutral', 'in-favor', 'in-favor', 'neutral-or-unclear', 'against-or-unclear', 'against-favor', 'against', 'in-favor', 'against', 'in', 'against', 'against-or-unclear', 'neutral-or-unclear', 'against-favor', 'against', 'in-favor', 'in-favor', 'neutral-or-unclear', 'neutral-or-unclear', 'in-favor', 'in-or-unclear', 'in-favor', 'against-or-unclear', 'in-favor', 'against', 'neutral-or-unclear', 'against', 'in-favor', 'in-favor', 'neutral-or-unclear', 'against-or-unclear', 'in-favor', 'in-favor', 'in-favor', 'in-favor', 'in-favor', 'in', 'in-favor', 'in-favor', 'in-or-unclear', 'in-favor', 'against-or-unclear', 'in-favor', 'in-favor', 'neutral', 'against', 'in-favor', 'in-favor', 'in-favor', 'in-favor', 'in-favor', 'neutral', 'neutral-or-unclear', 'against', 'in-favor', 'in-favor', 'in-favor', 'in-favor', 'against', 'against', 'in-favor', 'in-favor', 'in-favor', 'against-favor', 'against', 'against', 'against', 'against', 'in-favor', 'against', 'neutral-or-unclear', 'against-or-unclear', 'in-favor', 'in-favor', 'in-favor', 'against', 'in-favor', 'neutral-or-unclear', 'in-or-unclear', 'in-favor', 'in-favor', 'in-favor', 'in-favor', 'against', 'in', 'against', 'against', 'neutral-or-unclear', 'neutral-favor', 'in-favor', 'in', 'against', 'neutral-or-unclear', 'against', 'against-favor', 'in-or-unclear', 'in-favor', 'neutral-or-unclear', 'in', 'in-favor', 'in-favor', 'against', 'neutral', 'in-favor', 'neutral-or-unclear', 'in', 'neutral', 'in-favor', 'neutral-or-unclear', 'against-favor', 'in-or-unclear', 'in-favor', 'in-favor', 'in-favor', 'in-favor', 'in-favor', 'in-favor', 'against', 'in-favor', 'neutral', 'in-favor', 'neutral-or-unclear', 'in-favor', 'against', 'against-favor', 'in-or-unclear', 'against', 'in', 'in-or-unclear', 'in-favor', 'against-or-unclear', 'against', 'in-favor', 'against', 'against-favor', 'against', 'in-favor', 'against-or-unclear', 'against', 'in-favor', 'in-favor', 'neutral-or-unclear', 'in-favor', 'against', 'in-favor', 'in-favor', 'against', 'against-favor', 'in-favor', 'against-or-unclear', 'in-favor', 'in-favor', 'in-favor', 'in-favor', 'in-favor', 'in-favor', 'in-favor', 'in-favor', 'against', 'against', 'in-favor', 'against-favor', 'in-favor', 'in-favor', 'neutral-favor', 'against-or-unclear', 'against', 'against', 'in-favor', 'in-favor', 'against', 'neutral-or-unclear', 'against-or-unclear', 'in-favor', 'in-favor', 'against-or-unclear', 'in-favor', 'in-favor', 'neutral-or-unclear', 'in-favor', 'neutral-or-unclear', 'in-favor', 'in-favor', 'in-or-unclear', 'against', 'in-favor', 'in-favor', 'against', 'against', 'in-favor', 'in-or-unclear', 'against-favor', 'in-favor', 'neutral-or-unclear', 'in', 'neutral-favor', 'in-favor', 'against', 'against', 'against', 'against', 'against-favor', 'neutral-or-unclear', 'against', 'against', 'against', 'against', 'neutral-or-unclear', 'in-favor', 'against', 'against', 'in-favor', 'neutral-or-unclear', 'in-favor', 'against-favor', 'against', 'neutral-or-unclear', 'against', 'against-or-unclear', 'in-favor', 'against', 'in-favor', 'in-favor', 'against', 'against', 'in', 'in-or-unclear', 'in-favor', 'in-favor', 'in-or-unclear', 'against', 'against', 'neutral-or-unclear', 'against', 'in-favor', 'in-favor', 'against', 'against', 'against', 'in-or-unclear', 'in-favor', 'against', 'in', 'in-or-unclear', 'against', 'against', 'neutral-or-unclear', 'in-favor', 'in-favor', 'against-or-unclear', 'against', 'in-or-unclear', 'in-or-unclear', 'in-favor', 'against', 'neutral-or-unclear', 'in-favor', 'against', 'in-favor', 'in-favor', 'against-or-unclear', 'in-favor', 'in-favor', 'in-favor', 'in-favor', 'in-favor', 'neutral-or-unclear', 'in-favor', 'against', 'in-favor', 'in', 'against', 'in-favor', 'in-favor', 'in-favor', 'in-favor', 'against', 'in-favor', 'against', 'in-favor', 'in-favor', 'against', 'neutral-or-unclear', 'in-favor', 'in-favor', 'in-favor', 'in-favor', 'in-favor', 'against', 'neutral-or-unclear', 'against', 'against-or-unclear', 'against', 'neutral', 'in-favor', 'in-favor', 'in-or-unclear', 'in-favor', 'against-favor', 'in-or-unclear', 'against-or-unclear', 'neutral', 'against', 'in', 'neutral', 'in-favor', 'in-favor', 'against', 'against', 'against', 'in-favor', 'in-favor', 'in-favor', 'against', 'in-favor', 'against', 'against', 'against', 'in-favor', 'in-favor', 'neutral', 'against', 'in', 'neutral-or-unclear', 'in-or-unclear', 'in-favor', 'neutral-or-unclear', 'against', 'against', 'in-favor', 'against', 'against', 'in-favor', 'in-favor', 'in-favor', 'in-favor', 'in-favor', 'neutral', 'neutral-favor', 'against', 'in-favor', 'against', 'against-or-unclear', 'neutral-or-unclear', 'against', 'in-favor', 'in-favor', 'in-favor', 'against', 'in-favor', 'in-or-unclear', 'neutral-or-unclear', 'neutral', 'against', 'in-favor', 'in-favor', 'neutral-or-unclear', 'in-favor', 'against', 'in-favor', 'in', 'in-favor', 'in-favor', 'in-favor', 'neutral-or-unclear', 'against', 'in-favor', 'in-favor', 'against', 'against', 'against-or-unclear', 'against-or-unclear', 'neutral-or-unclear', 'in-favor', 'neutral-favor', 'against', 'against-or-unclear', 'in-favor', 'against', 'in-favor', 'in-favor', 'against', 'against-or-unclear', 'against', 'against-favor', 'against-favor', 'neutral', 'in-favor', 'in-favor', 'neutral', 'in-favor', 'in-favor', 'in-favor', 'in-favor', 'in-favor', 'against', 'in-favor', 'neutral-or-unclear', 'in', 'in-favor', 'against-favor', 'neutral-or-unclear', 'neutral-favor', 'in-or-unclear', 'in-or-unclear', 'against', 'in-favor', 'in-favor', 'in-favor', 'against', 'against', 'in-favor', 'against-or-unclear', 'against', 'in-or-unclear', 'against', 'against', 'in', 'in-favor', 'neutral-or-unclear', 'in-favor', 'in-or-unclear', 'in-favor', 'in-favor', 'against', 'against', 'neutral', 'in-favor', 'neutral', 'against', 'in-favor', 'in-favor', 'against', 'against', 'neutral-or-unclear', 'against-or-unclear', 'neutral-or-unclear', 'against', 'in-favor', 'against-or-unclear', 'against', 'in-favor', 'against', 'in-favor', 'neutral-or-unclear', 'in-favor', 'against', 'in-favor', 'against', 'in-favor', 'in-favor', 'in-favor', 'in-or-unclear', 'against', 'in-favor', 'in-or-unclear', 'in-favor', 'in-favor', 'in-favor', 'in-favor', 'in-favor', 'in', 'in-favor', 'in-favor', 'in-favor', 'in-favor', 'in-favor', 'in-favor', 'neutral', 'in-favor', 'in-favor', 'in-favor', 'against', 'against', 'in-favor', 'in-favor', 'in-favor', 'neutral-favor', 'in-favor', 'against-or-unclear', 'against', 'in-or-unclear', 'in-favor', 'in', 'against', 'in-favor', 'against', 'in', 'in-or-unclear', 'in-favor', 'in-favor', 'in-favor', 'in-favor', 'neutral-or-unclear', 'in-favor', 'neutral-favor', 'against', 'in-favor', 'in-favor', 'against-favor', 'against', 'in-favor', 'in-favor', 'neutral-or-unclear', 'neutral-favor', 'in-favor', 'in-favor', 'neutral-favor', 'in-or-unclear', 'in-favor', 'in-or-unclear', 'in-favor', 'against', 'in-favor', 'in-favor', 'in-favor', 'against', 'neutral', 'in-favor', 'in-favor', 'neutral-or-unclear', 'in-favor', 'in-favor', 'against', 'against', 'in-or-unclear', 'in-or-unclear', 'against', 'in-favor', 'in-favor', 'in-favor', 'in-or-unclear', 'neutral-or-unclear', 'against', 'in-favor', 'against', 'in-favor', 'against', 'in-favor', 'in-favor', 'in-favor', 'in-favor', 'in-favor', 'in-favor', 'neutral-or-unclear', 'in-favor', 'in-favor', 'in-favor', 'against', 'in-favor', 'in-favor', 'in-favor', 'in', 'neutral-or-unclear', 'neutral-or-unclear', 'in-favor', 'in-favor', 'in-favor', 'neutral', 'in-favor', 'neutral-or-unclear', 'in-favor', 'neutral-or-unclear', 'in-favor', 'against', 'in-favor', 'neutral-favor', 'against', 'in-favor', 'against', 'in-favor', 'in-favor', 'neutral', 'in-favor', 'against', 'neutral-or-unclear', 'in-or-unclear', 'in-favor', 'against', 'against', 'against-favor', 'against', 'in-favor', 'neutral', 'in', 'in-favor', 'in-favor', 'against', 'in-favor', 'in-favor', 'in-favor', 'in-favor', 'in-favor', 'against', 'in-or-unclear', 'in-favor', 'in-favor', 'in-favor', 'in-favor', 'in-favor', 'neutral', 'in-favor', 'against', 'against', 'against', 'neutral-or-unclear', 'against', 'against', 'neutral-favor', 'against-or-unclear', 'against', 'against', 'in-favor', 'in-favor', 'against', 'against', 'against-favor', 'in-favor', 'against', 'in-favor', 'neutral-favor', 'against-or-unclear', 'in-favor', 'in-favor', 'in-favor', 'in-favor', 'in-or-unclear', 'in-favor', 'against-favor', 'neutral-or-unclear', 'against', 'against-or-unclear', 'in-or-unclear', 'against', 'against', 'against', 'against', 'against-favor', 'against-favor', 'in-favor', 'in-favor', 'in-or-unclear', 'against-favor', 'in-favor', 'in-favor', 'in-favor', 'against', 'in-favor', 'in-favor', 'against', 'against-favor', 'in-favor', 'in-or-unclear', 'in-favor', 'in-favor', 'neutral-or-unclear', 'neutral-or-unclear', 'against', 'against-favor', 'in-favor', 'against', 'in-favor', 'neutral-or-unclear', 'in-favor', 'in-favor', 'in', 'neutral-or-unclear', 'against', 'against', 'against', 'in-favor', 'in', 'in-or-unclear', 'in-favor', 'in-favor', 'against', 'in-favor', 'in-favor', 'in-or-unclear', 'against', 'in-favor', 'neutral-or-unclear', 'against', 'neutral-or-unclear', 'in-favor', 'in', 'neutral-favor', 'in-favor', 'neutral-or-unclear', 'in-favor', 'in-or-unclear', 'against', 'neutral-favor', 'in-favor', 'in-favor', 'in-or-unclear', 'in-favor', 'in-favor', 'in-favor', 'against', 'in', 'against', 'in-favor', 'neutral-or-unclear', 'in-or-unclear', 'against', 'in-favor', 'in-favor', 'in-favor', 'against-or-unclear', 'in-favor', 'in-favor', 'against', 'against', 'neutral-or-unclear', 'in', 'in-favor', 'in-favor', 'against', 'in-favor', 'in-favor', 'in-favor', 'neutral', 'neutral-or-unclear', 'in-favor', 'in-favor', 'in-or-unclear', 'in-favor', 'in-favor', 'in-favor', 'against', 'against', 'neutral-or-unclear', 'in', 'neutral', 'in-favor', 'in-favor', 'in-favor', 'in', 'in-favor', 'neutral-or-unclear', 'in-favor', 'in-favor']\n",
            "Labels: ['in-favor', 'against', 'in-favor', 'in-favor', 'in-favor', 'in-favor', 'neutral-or-unclear', 'against', 'in-favor', 'in-favor', 'in-favor', 'against', 'against', 'in-favor', 'against', 'in-favor', 'in-favor', 'in-favor', 'in-favor', 'in-favor', 'neutral-or-unclear', 'in-favor', 'in-favor', 'in-favor', 'in-favor', 'neutral-or-unclear', 'in-favor', 'against', 'against', 'against', 'in-favor', 'in-favor', 'in-favor', 'in-favor', 'in-favor', 'in-favor', 'in-favor', 'against', 'in-favor', 'in-favor', 'in-favor', 'in-favor', 'against', 'neutral-or-unclear', 'against', 'neutral-or-unclear', 'neutral-or-unclear', 'neutral-or-unclear', 'against', 'neutral-or-unclear', 'in-favor', 'in-favor', 'in-favor', 'against', 'in-favor', 'in-favor', 'in-favor', 'in-favor', 'in-favor', 'neutral-or-unclear', 'against', 'against', 'against', 'neutral-or-unclear', 'against', 'in-favor', 'in-favor', 'in-favor', 'against', 'against', 'in-favor', 'against', 'in-favor', 'against', 'neutral-or-unclear', 'against', 'against', 'against', 'against', 'against', 'neutral-or-unclear', 'in-favor', 'in-favor', 'in-favor', 'neutral-or-unclear', 'against', 'neutral-or-unclear', 'in-favor', 'in-favor', 'neutral-or-unclear', 'neutral-or-unclear', 'in-favor', 'against', 'neutral-or-unclear', 'against', 'in-favor', 'in-favor', 'against', 'in-favor', 'in-favor', 'against', 'in-favor', 'in-favor', 'against', 'against', 'against', 'against', 'in-favor', 'in-favor', 'against', 'neutral-or-unclear', 'neutral-or-unclear', 'against', 'in-favor', 'in-favor', 'against', 'neutral-or-unclear', 'neutral-or-unclear', 'neutral-or-unclear', 'in-favor', 'neutral-or-unclear', 'in-favor', 'in-favor', 'in-favor', 'in-favor', 'neutral-or-unclear', 'against', 'neutral-or-unclear', 'in-favor', 'against', 'against', 'against', 'in-favor', 'in-favor', 'in-favor', 'neutral-or-unclear', 'neutral-or-unclear', 'against', 'neutral-or-unclear', 'against', 'neutral-or-unclear', 'against', 'in-favor', 'in-favor', 'neutral-or-unclear', 'in-favor', 'in-favor', 'against', 'in-favor', 'in-favor', 'in-favor', 'in-favor', 'in-favor', 'in-favor', 'neutral-or-unclear', 'in-favor', 'in-favor', 'against', 'in-favor', 'in-favor', 'in-favor', 'in-favor', 'in-favor', 'against', 'in-favor', 'in-favor', 'in-favor', 'in-favor', 'in-favor', 'in-favor', 'against', 'neutral-or-unclear', 'in-favor', 'neutral-or-unclear', 'in-favor', 'in-favor', 'against', 'against', 'in-favor', 'in-favor', 'against', 'in-favor', 'in-favor', 'against', 'neutral-or-unclear', 'neutral-or-unclear', 'against', 'neutral-or-unclear', 'against', 'in-favor', 'in-favor', 'neutral-or-unclear', 'against', 'in-favor', 'in-favor', 'in-favor', 'neutral-or-unclear', 'in-favor', 'in-favor', 'in-favor', 'in-favor', 'in-favor', 'against', 'neutral-or-unclear', 'in-favor', 'neutral-or-unclear', 'in-favor', 'in-favor', 'in-favor', 'in-favor', 'neutral-or-unclear', 'neutral-or-unclear', 'against', 'in-favor', 'against', 'against', 'neutral-or-unclear', 'neutral-or-unclear', 'in-favor', 'neutral-or-unclear', 'in-favor', 'in-favor', 'against', 'in-favor', 'against', 'against', 'against', 'in-favor', 'against', 'against', 'in-favor', 'against', 'in-favor', 'in-favor', 'in-favor', 'against', 'against', 'in-favor', 'neutral-or-unclear', 'in-favor', 'against', 'against', 'in-favor', 'in-favor', 'neutral-or-unclear', 'neutral-or-unclear', 'against', 'against', 'against', 'in-favor', 'neutral-or-unclear', 'in-favor', 'against', 'in-favor', 'neutral-or-unclear', 'in-favor', 'in-favor', 'in-favor', 'neutral-or-unclear', 'in-favor', 'against', 'neutral-or-unclear', 'in-favor', 'in-favor', 'neutral-or-unclear', 'neutral-or-unclear', 'against', 'against', 'in-favor', 'in-favor', 'in-favor', 'in-favor', 'in-favor', 'in-favor', 'in-favor', 'in-favor', 'neutral-or-unclear', 'against', 'against', 'in-favor', 'in-favor', 'against', 'against', 'neutral-or-unclear', 'against', 'in-favor', 'neutral-or-unclear', 'in-favor', 'in-favor', 'against', 'in-favor', 'in-favor', 'against', 'against', 'against', 'in-favor', 'against', 'in-favor', 'against', 'against', 'in-favor', 'neutral-or-unclear', 'against', 'against', 'against', 'in-favor', 'against', 'in-favor', 'in-favor', 'in-favor', 'neutral-or-unclear', 'against', 'neutral-or-unclear', 'in-favor', 'against', 'in-favor', 'against', 'neutral-or-unclear', 'in-favor', 'in-favor', 'in-favor', 'neutral-or-unclear', 'against', 'against', 'in-favor', 'in-favor', 'neutral-or-unclear', 'in-favor', 'in-favor', 'against', 'in-favor', 'in-favor', 'in-favor', 'in-favor', 'neutral-or-unclear', 'in-favor', 'against', 'in-favor', 'neutral-or-unclear', 'neutral-or-unclear', 'in-favor', 'in-favor', 'against', 'in-favor', 'against', 'neutral-or-unclear', 'in-favor', 'in-favor', 'against', 'in-favor', 'in-favor', 'in-favor', 'against', 'in-favor', 'in-favor', 'against', 'in-favor', 'against', 'in-favor', 'in-favor', 'in-favor', 'in-favor', 'neutral-or-unclear', 'against', 'against', 'in-favor', 'in-favor', 'neutral-or-unclear', 'neutral-or-unclear', 'against', 'in-favor', 'against', 'neutral-or-unclear', 'in-favor', 'neutral-or-unclear', 'neutral-or-unclear', 'in-favor', 'in-favor', 'in-favor', 'in-favor', 'against', 'against', 'against', 'in-favor', 'in-favor', 'in-favor', 'in-favor', 'neutral-or-unclear', 'against', 'in-favor', 'against', 'against', 'against', 'against', 'in-favor', 'in-favor', 'in-favor', 'neutral-or-unclear', 'against', 'against', 'in-favor', 'in-favor', 'against', 'neutral-or-unclear', 'in-favor', 'neutral-or-unclear', 'neutral-or-unclear', 'in-favor', 'against', 'in-favor', 'in-favor', 'neutral-or-unclear', 'neutral-or-unclear', 'in-favor', 'against', 'in-favor', 'against', 'against', 'against', 'neutral-or-unclear', 'neutral-or-unclear', 'in-favor', 'against', 'in-favor', 'in-favor', 'neutral-or-unclear', 'neutral-or-unclear', 'in-favor', 'neutral-or-unclear', 'in-favor', 'neutral-or-unclear', 'in-favor', 'against', 'neutral-or-unclear', 'against', 'in-favor', 'in-favor', 'neutral-or-unclear', 'neutral-or-unclear', 'in-favor', 'in-favor', 'in-favor', 'in-favor', 'in-favor', 'against', 'in-favor', 'in-favor', 'neutral-or-unclear', 'in-favor', 'neutral-or-unclear', 'in-favor', 'in-favor', 'against', 'against', 'in-favor', 'in-favor', 'in-favor', 'in-favor', 'in-favor', 'against', 'neutral-or-unclear', 'against', 'in-favor', 'in-favor', 'in-favor', 'in-favor', 'against', 'against', 'in-favor', 'in-favor', 'in-favor', 'in-favor', 'against', 'against', 'against', 'against', 'in-favor', 'against', 'neutral-or-unclear', 'neutral-or-unclear', 'in-favor', 'in-favor', 'in-favor', 'against', 'in-favor', 'neutral-or-unclear', 'neutral-or-unclear', 'in-favor', 'in-favor', 'in-favor', 'in-favor', 'against', 'against', 'against', 'against', 'neutral-or-unclear', 'in-favor', 'in-favor', 'against', 'against', 'neutral-or-unclear', 'against', 'in-favor', 'neutral-or-unclear', 'in-favor', 'neutral-or-unclear', 'against', 'in-favor', 'in-favor', 'against', 'against', 'in-favor', 'neutral-or-unclear', 'against', 'against', 'in-favor', 'neutral-or-unclear', 'in-favor', 'neutral-or-unclear', 'in-favor', 'in-favor', 'in-favor', 'in-favor', 'in-favor', 'in-favor', 'against', 'in-favor', 'against', 'in-favor', 'neutral-or-unclear', 'in-favor', 'against', 'in-favor', 'neutral-or-unclear', 'against', 'against', 'neutral-or-unclear', 'in-favor', 'neutral-or-unclear', 'against', 'in-favor', 'against', 'in-favor', 'against', 'in-favor', 'neutral-or-unclear', 'against', 'in-favor', 'in-favor', 'neutral-or-unclear', 'in-favor', 'against', 'in-favor', 'in-favor', 'against', 'in-favor', 'in-favor', 'neutral-or-unclear', 'in-favor', 'in-favor', 'in-favor', 'in-favor', 'in-favor', 'in-favor', 'in-favor', 'in-favor', 'against', 'against', 'in-favor', 'in-favor', 'in-favor', 'in-favor', 'in-favor', 'neutral-or-unclear', 'against', 'against', 'in-favor', 'in-favor', 'against', 'neutral-or-unclear', 'neutral-or-unclear', 'in-favor', 'in-favor', 'neutral-or-unclear', 'in-favor', 'in-favor', 'neutral-or-unclear', 'in-favor', 'neutral-or-unclear', 'in-favor', 'in-favor', 'neutral-or-unclear', 'against', 'in-favor', 'in-favor', 'against', 'against', 'in-favor', 'neutral-or-unclear', 'in-favor', 'in-favor', 'neutral-or-unclear', 'against', 'in-favor', 'in-favor', 'against', 'against', 'against', 'against', 'in-favor', 'neutral-or-unclear', 'against', 'against', 'against', 'against', 'neutral-or-unclear', 'in-favor', 'against', 'against', 'in-favor', 'neutral-or-unclear', 'in-favor', 'in-favor', 'against', 'neutral-or-unclear', 'against', 'neutral-or-unclear', 'in-favor', 'against', 'in-favor', 'in-favor', 'against', 'against', 'against', 'neutral-or-unclear', 'in-favor', 'in-favor', 'neutral-or-unclear', 'against', 'against', 'neutral-or-unclear', 'against', 'in-favor', 'in-favor', 'against', 'against', 'against', 'neutral-or-unclear', 'in-favor', 'against', 'against', 'neutral-or-unclear', 'against', 'against', 'neutral-or-unclear', 'in-favor', 'in-favor', 'neutral-or-unclear', 'against', 'neutral-or-unclear', 'neutral-or-unclear', 'in-favor', 'against', 'neutral-or-unclear', 'in-favor', 'against', 'in-favor', 'in-favor', 'neutral-or-unclear', 'in-favor', 'in-favor', 'in-favor', 'in-favor', 'in-favor', 'neutral-or-unclear', 'in-favor', 'against', 'in-favor', 'against', 'against', 'in-favor', 'in-favor', 'in-favor', 'in-favor', 'against', 'in-favor', 'against', 'in-favor', 'in-favor', 'against', 'neutral-or-unclear', 'in-favor', 'in-favor', 'in-favor', 'in-favor', 'in-favor', 'against', 'neutral-or-unclear', 'against', 'neutral-or-unclear', 'against', 'against', 'in-favor', 'in-favor', 'neutral-or-unclear', 'in-favor', 'in-favor', 'neutral-or-unclear', 'neutral-or-unclear', 'against', 'against', 'against', 'against', 'in-favor', 'in-favor', 'against', 'against', 'against', 'in-favor', 'in-favor', 'in-favor', 'against', 'in-favor', 'against', 'against', 'against', 'in-favor', 'in-favor', 'against', 'against', 'against', 'neutral-or-unclear', 'neutral-or-unclear', 'in-favor', 'neutral-or-unclear', 'against', 'against', 'in-favor', 'against', 'against', 'in-favor', 'in-favor', 'in-favor', 'in-favor', 'in-favor', 'against', 'in-favor', 'against', 'in-favor', 'against', 'neutral-or-unclear', 'neutral-or-unclear', 'against', 'in-favor', 'in-favor', 'in-favor', 'against', 'in-favor', 'neutral-or-unclear', 'neutral-or-unclear', 'against', 'against', 'in-favor', 'in-favor', 'neutral-or-unclear', 'in-favor', 'against', 'in-favor', 'against', 'in-favor', 'in-favor', 'in-favor', 'neutral-or-unclear', 'against', 'in-favor', 'in-favor', 'against', 'against', 'neutral-or-unclear', 'neutral-or-unclear', 'neutral-or-unclear', 'in-favor', 'in-favor', 'against', 'neutral-or-unclear', 'in-favor', 'against', 'in-favor', 'in-favor', 'against', 'neutral-or-unclear', 'against', 'in-favor', 'in-favor', 'against', 'in-favor', 'in-favor', 'against', 'in-favor', 'in-favor', 'in-favor', 'in-favor', 'in-favor', 'against', 'in-favor', 'neutral-or-unclear', 'against', 'in-favor', 'in-favor', 'neutral-or-unclear', 'in-favor', 'neutral-or-unclear', 'neutral-or-unclear', 'against', 'in-favor', 'in-favor', 'in-favor', 'against', 'against', 'in-favor', 'neutral-or-unclear', 'against', 'neutral-or-unclear', 'against', 'against', 'against', 'in-favor', 'neutral-or-unclear', 'in-favor', 'neutral-or-unclear', 'in-favor', 'in-favor', 'against', 'against', 'against', 'in-favor', 'against', 'against', 'in-favor', 'in-favor', 'against', 'against', 'neutral-or-unclear', 'neutral-or-unclear', 'neutral-or-unclear', 'against', 'in-favor', 'neutral-or-unclear', 'against', 'in-favor', 'against', 'in-favor', 'neutral-or-unclear', 'in-favor', 'against', 'in-favor', 'against', 'in-favor', 'in-favor', 'in-favor', 'neutral-or-unclear', 'against', 'in-favor', 'neutral-or-unclear', 'in-favor', 'in-favor', 'in-favor', 'in-favor', 'in-favor', 'against', 'in-favor', 'in-favor', 'in-favor', 'in-favor', 'in-favor', 'in-favor', 'against', 'in-favor', 'in-favor', 'in-favor', 'against', 'against', 'in-favor', 'in-favor', 'in-favor', 'in-favor', 'in-favor', 'neutral-or-unclear', 'against', 'neutral-or-unclear', 'in-favor', 'against', 'against', 'in-favor', 'against', 'against', 'neutral-or-unclear', 'in-favor', 'in-favor', 'in-favor', 'in-favor', 'neutral-or-unclear', 'in-favor', 'in-favor', 'against', 'in-favor', 'in-favor', 'in-favor', 'against', 'in-favor', 'in-favor', 'neutral-or-unclear', 'in-favor', 'in-favor', 'in-favor', 'in-favor', 'neutral-or-unclear', 'in-favor', 'neutral-or-unclear', 'in-favor', 'against', 'in-favor', 'in-favor', 'in-favor', 'against', 'against', 'in-favor', 'in-favor', 'neutral-or-unclear', 'in-favor', 'in-favor', 'against', 'against', 'neutral-or-unclear', 'neutral-or-unclear', 'against', 'in-favor', 'in-favor', 'in-favor', 'neutral-or-unclear', 'neutral-or-unclear', 'against', 'in-favor', 'against', 'in-favor', 'against', 'in-favor', 'in-favor', 'in-favor', 'in-favor', 'in-favor', 'in-favor', 'neutral-or-unclear', 'in-favor', 'in-favor', 'in-favor', 'against', 'in-favor', 'in-favor', 'in-favor', 'against', 'neutral-or-unclear', 'neutral-or-unclear', 'in-favor', 'in-favor', 'in-favor', 'against', 'in-favor', 'neutral-or-unclear', 'in-favor', 'neutral-or-unclear', 'in-favor', 'against', 'in-favor', 'in-favor', 'against', 'in-favor', 'against', 'in-favor', 'in-favor', 'against', 'in-favor', 'against', 'neutral-or-unclear', 'neutral-or-unclear', 'in-favor', 'against', 'against', 'in-favor', 'against', 'in-favor', 'against', 'against', 'in-favor', 'in-favor', 'against', 'in-favor', 'in-favor', 'in-favor', 'in-favor', 'in-favor', 'against', 'neutral-or-unclear', 'in-favor', 'in-favor', 'in-favor', 'in-favor', 'in-favor', 'against', 'in-favor', 'against', 'against', 'against', 'neutral-or-unclear', 'against', 'against', 'in-favor', 'neutral-or-unclear', 'against', 'against', 'in-favor', 'in-favor', 'against', 'against', 'in-favor', 'in-favor', 'against', 'in-favor', 'in-favor', 'neutral-or-unclear', 'in-favor', 'in-favor', 'in-favor', 'in-favor', 'neutral-or-unclear', 'in-favor', 'in-favor', 'neutral-or-unclear', 'against', 'neutral-or-unclear', 'neutral-or-unclear', 'against', 'against', 'against', 'against', 'in-favor', 'in-favor', 'in-favor', 'in-favor', 'neutral-or-unclear', 'in-favor', 'in-favor', 'in-favor', 'in-favor', 'against', 'in-favor', 'in-favor', 'against', 'in-favor', 'in-favor', 'neutral-or-unclear', 'in-favor', 'in-favor', 'neutral-or-unclear', 'neutral-or-unclear', 'against', 'in-favor', 'in-favor', 'against', 'in-favor', 'neutral-or-unclear', 'in-favor', 'in-favor', 'against', 'neutral-or-unclear', 'against', 'against', 'against', 'in-favor', 'against', 'neutral-or-unclear', 'in-favor', 'in-favor', 'against', 'in-favor', 'in-favor', 'neutral-or-unclear', 'against', 'in-favor', 'neutral-or-unclear', 'against', 'neutral-or-unclear', 'in-favor', 'against', 'in-favor', 'in-favor', 'neutral-or-unclear', 'in-favor', 'neutral-or-unclear', 'against', 'in-favor', 'in-favor', 'in-favor', 'neutral-or-unclear', 'in-favor', 'in-favor', 'in-favor', 'against', 'against', 'against', 'in-favor', 'neutral-or-unclear', 'neutral-or-unclear', 'against', 'in-favor', 'in-favor', 'in-favor', 'neutral-or-unclear', 'in-favor', 'in-favor', 'against', 'against', 'neutral-or-unclear', 'against', 'in-favor', 'in-favor', 'against', 'in-favor', 'in-favor', 'in-favor', 'against', 'neutral-or-unclear', 'in-favor', 'in-favor', 'neutral-or-unclear', 'in-favor', 'in-favor', 'in-favor', 'against', 'against', 'neutral-or-unclear', 'against', 'against', 'in-favor', 'in-favor', 'in-favor', 'against', 'in-favor', 'neutral-or-unclear', 'in-favor', 'in-favor']\n",
            "F1 Score: {'f1': 0.8585397435661271}\n"
          ]
        },
        {
          "output_type": "stream",
          "name": "stderr",
          "text": [
            "There were missing keys in the checkpoint model loaded: ['encoder.embed_tokens.weight', 'decoder.embed_tokens.weight'].\n"
          ]
        },
        {
          "output_type": "execute_result",
          "data": {
            "text/plain": [
              "TrainOutput(global_step=1440, training_loss=1.4662056234147813, metrics={'train_runtime': 4245.3166, 'train_samples_per_second': 5.418, 'train_steps_per_second': 0.339, 'total_flos': 2.6504831434752e+16, 'train_loss': 1.4662056234147813, 'epoch': 5.0})"
            ]
          },
          "metadata": {},
          "execution_count": 17
        }
      ]
    },
    {
      "cell_type": "code",
      "source": [
        "trainer.save_model()"
      ],
      "metadata": {
        "id": "smom-E0jU5QD"
      },
      "execution_count": null,
      "outputs": []
    },
    {
      "cell_type": "code",
      "source": [
        "fine_tuned_model_3 = T5ForConditionalGeneration.from_pretrained(\"./version_3\")"
      ],
      "metadata": {
        "id": "q0qGfNYdVETk"
      },
      "execution_count": null,
      "outputs": []
    },
    {
      "cell_type": "code",
      "source": [
        "import torch\n",
        "device  = torch.device(\"cuda\" if torch.cuda.is_available() else \"cpu\")\n",
        "fine_tuned_model_3.to(device)"
      ],
      "metadata": {
        "colab": {
          "base_uri": "https://localhost:8080/"
        },
        "id": "qBp8rQROVVq8",
        "outputId": "0da81b1c-5941-480a-c0b8-0edad9c5bb30"
      },
      "execution_count": null,
      "outputs": [
        {
          "output_type": "execute_result",
          "data": {
            "text/plain": [
              "T5ForConditionalGeneration(\n",
              "  (shared): Embedding(32128, 1024)\n",
              "  (encoder): T5Stack(\n",
              "    (embed_tokens): Embedding(32128, 1024)\n",
              "    (block): ModuleList(\n",
              "      (0): T5Block(\n",
              "        (layer): ModuleList(\n",
              "          (0): T5LayerSelfAttention(\n",
              "            (SelfAttention): T5Attention(\n",
              "              (q): Linear(in_features=1024, out_features=1024, bias=False)\n",
              "              (k): Linear(in_features=1024, out_features=1024, bias=False)\n",
              "              (v): Linear(in_features=1024, out_features=1024, bias=False)\n",
              "              (o): Linear(in_features=1024, out_features=1024, bias=False)\n",
              "              (relative_attention_bias): Embedding(32, 16)\n",
              "            )\n",
              "            (layer_norm): T5LayerNorm()\n",
              "            (dropout): Dropout(p=0.1, inplace=False)\n",
              "          )\n",
              "          (1): T5LayerFF(\n",
              "            (DenseReluDense): T5DenseGatedActDense(\n",
              "              (wi_0): Linear(in_features=1024, out_features=2816, bias=False)\n",
              "              (wi_1): Linear(in_features=1024, out_features=2816, bias=False)\n",
              "              (wo): Linear(in_features=2816, out_features=1024, bias=False)\n",
              "              (dropout): Dropout(p=0.1, inplace=False)\n",
              "              (act): NewGELUActivation()\n",
              "            )\n",
              "            (layer_norm): T5LayerNorm()\n",
              "            (dropout): Dropout(p=0.1, inplace=False)\n",
              "          )\n",
              "        )\n",
              "      )\n",
              "      (1-23): 23 x T5Block(\n",
              "        (layer): ModuleList(\n",
              "          (0): T5LayerSelfAttention(\n",
              "            (SelfAttention): T5Attention(\n",
              "              (q): Linear(in_features=1024, out_features=1024, bias=False)\n",
              "              (k): Linear(in_features=1024, out_features=1024, bias=False)\n",
              "              (v): Linear(in_features=1024, out_features=1024, bias=False)\n",
              "              (o): Linear(in_features=1024, out_features=1024, bias=False)\n",
              "            )\n",
              "            (layer_norm): T5LayerNorm()\n",
              "            (dropout): Dropout(p=0.1, inplace=False)\n",
              "          )\n",
              "          (1): T5LayerFF(\n",
              "            (DenseReluDense): T5DenseGatedActDense(\n",
              "              (wi_0): Linear(in_features=1024, out_features=2816, bias=False)\n",
              "              (wi_1): Linear(in_features=1024, out_features=2816, bias=False)\n",
              "              (wo): Linear(in_features=2816, out_features=1024, bias=False)\n",
              "              (dropout): Dropout(p=0.1, inplace=False)\n",
              "              (act): NewGELUActivation()\n",
              "            )\n",
              "            (layer_norm): T5LayerNorm()\n",
              "            (dropout): Dropout(p=0.1, inplace=False)\n",
              "          )\n",
              "        )\n",
              "      )\n",
              "    )\n",
              "    (final_layer_norm): T5LayerNorm()\n",
              "    (dropout): Dropout(p=0.1, inplace=False)\n",
              "  )\n",
              "  (decoder): T5Stack(\n",
              "    (embed_tokens): Embedding(32128, 1024)\n",
              "    (block): ModuleList(\n",
              "      (0): T5Block(\n",
              "        (layer): ModuleList(\n",
              "          (0): T5LayerSelfAttention(\n",
              "            (SelfAttention): T5Attention(\n",
              "              (q): Linear(in_features=1024, out_features=1024, bias=False)\n",
              "              (k): Linear(in_features=1024, out_features=1024, bias=False)\n",
              "              (v): Linear(in_features=1024, out_features=1024, bias=False)\n",
              "              (o): Linear(in_features=1024, out_features=1024, bias=False)\n",
              "              (relative_attention_bias): Embedding(32, 16)\n",
              "            )\n",
              "            (layer_norm): T5LayerNorm()\n",
              "            (dropout): Dropout(p=0.1, inplace=False)\n",
              "          )\n",
              "          (1): T5LayerCrossAttention(\n",
              "            (EncDecAttention): T5Attention(\n",
              "              (q): Linear(in_features=1024, out_features=1024, bias=False)\n",
              "              (k): Linear(in_features=1024, out_features=1024, bias=False)\n",
              "              (v): Linear(in_features=1024, out_features=1024, bias=False)\n",
              "              (o): Linear(in_features=1024, out_features=1024, bias=False)\n",
              "            )\n",
              "            (layer_norm): T5LayerNorm()\n",
              "            (dropout): Dropout(p=0.1, inplace=False)\n",
              "          )\n",
              "          (2): T5LayerFF(\n",
              "            (DenseReluDense): T5DenseGatedActDense(\n",
              "              (wi_0): Linear(in_features=1024, out_features=2816, bias=False)\n",
              "              (wi_1): Linear(in_features=1024, out_features=2816, bias=False)\n",
              "              (wo): Linear(in_features=2816, out_features=1024, bias=False)\n",
              "              (dropout): Dropout(p=0.1, inplace=False)\n",
              "              (act): NewGELUActivation()\n",
              "            )\n",
              "            (layer_norm): T5LayerNorm()\n",
              "            (dropout): Dropout(p=0.1, inplace=False)\n",
              "          )\n",
              "        )\n",
              "      )\n",
              "      (1-23): 23 x T5Block(\n",
              "        (layer): ModuleList(\n",
              "          (0): T5LayerSelfAttention(\n",
              "            (SelfAttention): T5Attention(\n",
              "              (q): Linear(in_features=1024, out_features=1024, bias=False)\n",
              "              (k): Linear(in_features=1024, out_features=1024, bias=False)\n",
              "              (v): Linear(in_features=1024, out_features=1024, bias=False)\n",
              "              (o): Linear(in_features=1024, out_features=1024, bias=False)\n",
              "            )\n",
              "            (layer_norm): T5LayerNorm()\n",
              "            (dropout): Dropout(p=0.1, inplace=False)\n",
              "          )\n",
              "          (1): T5LayerCrossAttention(\n",
              "            (EncDecAttention): T5Attention(\n",
              "              (q): Linear(in_features=1024, out_features=1024, bias=False)\n",
              "              (k): Linear(in_features=1024, out_features=1024, bias=False)\n",
              "              (v): Linear(in_features=1024, out_features=1024, bias=False)\n",
              "              (o): Linear(in_features=1024, out_features=1024, bias=False)\n",
              "            )\n",
              "            (layer_norm): T5LayerNorm()\n",
              "            (dropout): Dropout(p=0.1, inplace=False)\n",
              "          )\n",
              "          (2): T5LayerFF(\n",
              "            (DenseReluDense): T5DenseGatedActDense(\n",
              "              (wi_0): Linear(in_features=1024, out_features=2816, bias=False)\n",
              "              (wi_1): Linear(in_features=1024, out_features=2816, bias=False)\n",
              "              (wo): Linear(in_features=2816, out_features=1024, bias=False)\n",
              "              (dropout): Dropout(p=0.1, inplace=False)\n",
              "              (act): NewGELUActivation()\n",
              "            )\n",
              "            (layer_norm): T5LayerNorm()\n",
              "            (dropout): Dropout(p=0.1, inplace=False)\n",
              "          )\n",
              "        )\n",
              "      )\n",
              "    )\n",
              "    (final_layer_norm): T5LayerNorm()\n",
              "    (dropout): Dropout(p=0.1, inplace=False)\n",
              "  )\n",
              "  (lm_head): Linear(in_features=1024, out_features=32128, bias=False)\n",
              ")"
            ]
          },
          "metadata": {},
          "execution_count": 27
        }
      ]
    },
    {
      "cell_type": "code",
      "source": [
        "f1_3, preds_3, refs_3 = evaluate_with_generate(fine_tuned_model_3, val_dataset, tokenizer)"
      ],
      "metadata": {
        "colab": {
          "base_uri": "https://localhost:8080/"
        },
        "id": "TU8ddMEcVNdV",
        "outputId": "a077f3de-bb20-4e87-d788-43d9d7cb7c11"
      },
      "execution_count": null,
      "outputs": [
        {
          "output_type": "stream",
          "name": "stderr",
          "text": [
            "Generating predictions: 100%|██████████| 1151/1151 [04:13<00:00,  4.54it/s]"
          ]
        },
        {
          "output_type": "stream",
          "name": "stdout",
          "text": [
            "Sample predictions:\n",
            "Pred: in-favor | Ref: in-favor\n",
            "Pred: against | Ref: against\n",
            "Pred: in-favor | Ref: in-favor\n",
            "Pred: in-favor | Ref: in-favor\n",
            "Pred: in-favor | Ref: in-favor\n",
            "F1 Score: 0.7625\n"
          ]
        },
        {
          "output_type": "stream",
          "name": "stderr",
          "text": [
            "\n"
          ]
        }
      ]
    },
    {
      "cell_type": "code",
      "source": [
        "!pip install huggingface_hub"
      ],
      "metadata": {
        "colab": {
          "base_uri": "https://localhost:8080/"
        },
        "id": "RR5L35pahS6M",
        "outputId": "69f0b07a-7a66-4d01-b9d7-b6b9eaa55360"
      },
      "execution_count": null,
      "outputs": [
        {
          "output_type": "stream",
          "name": "stdout",
          "text": [
            "Requirement already satisfied: huggingface_hub in /usr/local/lib/python3.11/dist-packages (0.33.4)\n",
            "Requirement already satisfied: filelock in /usr/local/lib/python3.11/dist-packages (from huggingface_hub) (3.18.0)\n",
            "Requirement already satisfied: fsspec>=2023.5.0 in /usr/local/lib/python3.11/dist-packages (from huggingface_hub) (2025.7.0)\n",
            "Requirement already satisfied: packaging>=20.9 in /usr/local/lib/python3.11/dist-packages (from huggingface_hub) (25.0)\n",
            "Requirement already satisfied: pyyaml>=5.1 in /usr/local/lib/python3.11/dist-packages (from huggingface_hub) (6.0.2)\n",
            "Requirement already satisfied: requests in /usr/local/lib/python3.11/dist-packages (from huggingface_hub) (2.32.3)\n",
            "Requirement already satisfied: tqdm>=4.42.1 in /usr/local/lib/python3.11/dist-packages (from huggingface_hub) (4.67.1)\n",
            "Requirement already satisfied: typing-extensions>=3.7.4.3 in /usr/local/lib/python3.11/dist-packages (from huggingface_hub) (4.14.1)\n",
            "Requirement already satisfied: hf-xet<2.0.0,>=1.1.2 in /usr/local/lib/python3.11/dist-packages (from huggingface_hub) (1.1.5)\n",
            "Requirement already satisfied: charset-normalizer<4,>=2 in /usr/local/lib/python3.11/dist-packages (from requests->huggingface_hub) (3.4.2)\n",
            "Requirement already satisfied: idna<4,>=2.5 in /usr/local/lib/python3.11/dist-packages (from requests->huggingface_hub) (3.10)\n",
            "Requirement already satisfied: urllib3<3,>=1.21.1 in /usr/local/lib/python3.11/dist-packages (from requests->huggingface_hub) (2.5.0)\n",
            "Requirement already satisfied: certifi>=2017.4.17 in /usr/local/lib/python3.11/dist-packages (from requests->huggingface_hub) (2025.7.14)\n"
          ]
        }
      ]
    },
    {
      "cell_type": "code",
      "source": [
        "!huggingface-cli login"
      ],
      "metadata": {
        "colab": {
          "base_uri": "https://localhost:8080/"
        },
        "id": "Q-A6Us-Whdlt",
        "outputId": "a3fab2d7-719f-45dc-fb08-d2e6a899f5e3"
      },
      "execution_count": null,
      "outputs": [
        {
          "output_type": "stream",
          "name": "stdout",
          "text": [
            "\n",
            "    _|    _|  _|    _|    _|_|_|    _|_|_|  _|_|_|  _|      _|    _|_|_|      _|_|_|_|    _|_|      _|_|_|  _|_|_|_|\n",
            "    _|    _|  _|    _|  _|        _|          _|    _|_|    _|  _|            _|        _|    _|  _|        _|\n",
            "    _|_|_|_|  _|    _|  _|  _|_|  _|  _|_|    _|    _|  _|  _|  _|  _|_|      _|_|_|    _|_|_|_|  _|        _|_|_|\n",
            "    _|    _|  _|    _|  _|    _|  _|    _|    _|    _|    _|_|  _|    _|      _|        _|    _|  _|        _|\n",
            "    _|    _|    _|_|      _|_|_|    _|_|_|  _|_|_|  _|      _|    _|_|_|      _|        _|    _|    _|_|_|  _|_|_|_|\n",
            "\n",
            "    To log in, `huggingface_hub` requires a token generated from https://huggingface.co/settings/tokens .\n",
            "Enter your token (input will not be visible): \n",
            "Add token as git credential? (Y/n) y\n",
            "Token is valid (permission: write).\n",
            "The token `tweet_pred` has been saved to /root/.cache/huggingface/stored_tokens\n",
            "\u001b[1m\u001b[31mCannot authenticate through git-credential as no helper is defined on your machine.\n",
            "You might have to re-authenticate when pushing to the Hugging Face Hub.\n",
            "Run the following command in your terminal in case you want to set the 'store' credential helper as default.\n",
            "\n",
            "git config --global credential.helper store\n",
            "\n",
            "Read https://git-scm.com/book/en/v2/Git-Tools-Credential-Storage for more details.\u001b[0m\n",
            "Token has not been saved to git credential helper.\n",
            "Your token has been saved to /root/.cache/huggingface/token\n",
            "Login successful.\n",
            "The current active token is: `tweet_pred`\n"
          ]
        }
      ]
    },
    {
      "cell_type": "code",
      "source": [
        "from transformers import T5Tokenizer, T5ForConditionalGeneration, Trainer, TrainingArguments\n",
        "\n",
        "fine_tuned_model_2 = T5ForConditionalGeneration.from_pretrained(\"./version_2\")"
      ],
      "metadata": {
        "id": "qWRzfUcZid4G"
      },
      "execution_count": null,
      "outputs": []
    },
    {
      "cell_type": "code",
      "source": [
        "fine_tuned_model_3.push_to_hub(\"flan-t5-large-tweet-classification-v2\")"
      ],
      "metadata": {
        "colab": {
          "base_uri": "https://localhost:8080/",
          "height": 156,
          "referenced_widgets": [
            "d44e79ff5f834dd885118103a48fcf84",
            "fa7fedc91c8b4fc5958b2543fd73ceeb",
            "bdee6a1cfec54669aca8a614eee85f97",
            "c664d82b352746fd831d3c6442eb4645",
            "eeb145bbe94b43a88f63bda4418e6811",
            "d9f8eeeed3654811af852061bcf93873",
            "d2d76b88e14a4175beb5fa2e0162f661",
            "fe47cdb0e45641cbad6d60a9155cfaf9",
            "0409390370cb4bb09f8ff13b20f75a4f",
            "cff8a09c066f4dc78028154ab30ce521",
            "9a7bc64e720b429b903c381277076f46"
          ]
        },
        "id": "0DR0ybFHihrV",
        "outputId": "8f9bfbe4-1eff-4540-dbce-2aaa52299916"
      },
      "execution_count": null,
      "outputs": [
        {
          "output_type": "display_data",
          "data": {
            "text/plain": [
              "model.safetensors:   0%|          | 0.00/3.13G [00:00<?, ?B/s]"
            ],
            "application/vnd.jupyter.widget-view+json": {
              "version_major": 2,
              "version_minor": 0,
              "model_id": "d44e79ff5f834dd885118103a48fcf84"
            }
          },
          "metadata": {}
        },
        {
          "output_type": "execute_result",
          "data": {
            "text/plain": [
              "CommitInfo(commit_url='https://huggingface.co/apoooooorva/flan-t5-large-tweet-classification-v2/commit/c9343f0de1902ed91120f3e3db95414a34ee1c49', commit_message='Upload T5ForConditionalGeneration', commit_description='', oid='c9343f0de1902ed91120f3e3db95414a34ee1c49', pr_url=None, repo_url=RepoUrl('https://huggingface.co/apoooooorva/flan-t5-large-tweet-classification-v2', endpoint='https://huggingface.co', repo_type='model', repo_id='apoooooorva/flan-t5-large-tweet-classification-v2'), pr_revision=None, pr_num=None)"
            ],
            "application/vnd.google.colaboratory.intrinsic+json": {
              "type": "string"
            }
          },
          "metadata": {},
          "execution_count": 16
        }
      ]
    },
    {
      "cell_type": "code",
      "source": [
        "tokenizer = T5Tokenizer.from_pretrained(\"google/flan-t5-large\")"
      ],
      "metadata": {
        "colab": {
          "base_uri": "https://localhost:8080/",
          "height": 183,
          "referenced_widgets": [
            "baf48ed6653e41caa5f06acbfad99693",
            "705af4cbd481468fbc672ef9c835de54",
            "d359de40278847a6b9ea31b42c5f2788",
            "4c1d54ee01074b89890a2eba9f2b3c33",
            "da3583a2431e499b8b2ac19655ab6146",
            "4663c09dbd6d4b15bd77127eeadacd3a",
            "d115ced347274881a7e207c702b586e1",
            "e7ddaefd560d4bfdbd752a0522c0bdf9",
            "ca1043e3b21047bdbd515651fc19ff47",
            "6b0f65a87d9a4d49a73c76a2beaa448b",
            "8e06cffb53d04f1581d287661703dbdc",
            "35e46fb16fc4485497a651eac6cb6667",
            "713160c747574e1da478078e326840c0",
            "f6efe923e15f413cbcef904522845f11",
            "137a289102c6426aa378cc0940972a10",
            "2ef9822a760745589014220fc72334dd",
            "d8d0cd919d754d469843e31a0b955847",
            "56fcec6d3f134a2db7e48cf3611f34a2",
            "4bdc0e00a94d4ad0ac379efa256b6064",
            "bcffd194faed46f7aec2d1d208ff82f7",
            "fe3ed47d044c4a13bf289406d36e5717",
            "684e89397d5a482e8dc1fe0737f28e1b",
            "2f3211fd07fc485ea84cf93ac9dcef98",
            "41a48d71b2564646b85054f2e0b0a69e",
            "48aee2cd7e40432bb3092649a2a49638",
            "b21bd75cc3714d29bb59ac4b689bd0dd",
            "96785e177fa24dc1b2c2429cf9c5ff9c",
            "5c1e3f0cd842441a947a3760a6abc682",
            "975d022db4d3499ba10dff5b0d0a610d",
            "3dd7f01f26e44b63b24cd992c3d9f6c7",
            "e82569c457a54c96b30bebc1699aee0f",
            "a747a39107db47d286da9d15d781b54e",
            "5b92816902ad4896bd08e70e6ffc4359",
            "36019348d74c4610bfeb4eb21f19d3c4",
            "8b51d69100ba41c1985bb30c30607725",
            "bf51bbc9f18d464faa8f939cf3b58d76",
            "a37f3875c4204a679a02be2080cf1816",
            "3d996ef7f15640eeb00bab05cefe51ac",
            "406bed42774843c5810ae1a8884243f9",
            "993fcb1df1ab477bb37cbd4df4722b3e",
            "591ea7b3c16f40369baecd06aedd459d",
            "84705d5b69324c1db65c471dc554ea01",
            "cfc8b605504e4e58877416f3feab60cf",
            "d2bbcdcc97ff4aae957c6f29d9f9414b"
          ]
        },
        "id": "QC9hIvCflvJE",
        "outputId": "66feb3cc-7538-4999-d09e-4e0824232e9e"
      },
      "execution_count": null,
      "outputs": [
        {
          "output_type": "display_data",
          "data": {
            "text/plain": [
              "tokenizer_config.json: 0.00B [00:00, ?B/s]"
            ],
            "application/vnd.jupyter.widget-view+json": {
              "version_major": 2,
              "version_minor": 0,
              "model_id": "baf48ed6653e41caa5f06acbfad99693"
            }
          },
          "metadata": {}
        },
        {
          "output_type": "display_data",
          "data": {
            "text/plain": [
              "spiece.model:   0%|          | 0.00/792k [00:00<?, ?B/s]"
            ],
            "application/vnd.jupyter.widget-view+json": {
              "version_major": 2,
              "version_minor": 0,
              "model_id": "35e46fb16fc4485497a651eac6cb6667"
            }
          },
          "metadata": {}
        },
        {
          "output_type": "display_data",
          "data": {
            "text/plain": [
              "special_tokens_map.json: 0.00B [00:00, ?B/s]"
            ],
            "application/vnd.jupyter.widget-view+json": {
              "version_major": 2,
              "version_minor": 0,
              "model_id": "2f3211fd07fc485ea84cf93ac9dcef98"
            }
          },
          "metadata": {}
        },
        {
          "output_type": "display_data",
          "data": {
            "text/plain": [
              "tokenizer.json: 0.00B [00:00, ?B/s]"
            ],
            "application/vnd.jupyter.widget-view+json": {
              "version_major": 2,
              "version_minor": 0,
              "model_id": "36019348d74c4610bfeb4eb21f19d3c4"
            }
          },
          "metadata": {}
        },
        {
          "output_type": "stream",
          "name": "stderr",
          "text": [
            "You are using the default legacy behaviour of the <class 'transformers.models.t5.tokenization_t5.T5Tokenizer'>. This is expected, and simply means that the `legacy` (previous) behavior will be used so nothing changes for you. If you want to use the new behaviour, set `legacy=False`. This should only be set if you understand what it means, and thoroughly read the reason why this was added as explained in https://github.com/huggingface/transformers/pull/24565\n"
          ]
        }
      ]
    },
    {
      "cell_type": "code",
      "source": [
        "tokenizer.push_to_hub(\"flan-t5-large-tweet-classification-v3\")"
      ],
      "metadata": {
        "colab": {
          "base_uri": "https://localhost:8080/",
          "height": 188,
          "referenced_widgets": [
            "e571f37347b8441bbcd736055d2a90e7",
            "0f0d9aaec0ec41a29cc3ff1d9d488471",
            "fba321db4dd44d0a96c363ab28c9c14d",
            "af82bc1e635a49d1a6555e9a46162dfb",
            "02178bc9a3e140f49416d5058d93f9f8",
            "b22155cc96704de1861da77adbabbe6d",
            "6e1a4ab4f671461686f2a6d6d0b6631d",
            "d66c1bc5ff0b48cb915f4f4bea36c67a",
            "a342d5cfbc584514959ecb2f3695579c",
            "86b3ea8566dd4e06b54d353cdf46f0a1",
            "9177908f15fe4925bb8a87fa6d09c4a6",
            "06f3a61f63c84eaab96dfd5e8479461d",
            "447ca81ba084458697d8016da288203b",
            "96a57dbf241046c1b8886b056c7b683c",
            "cb22388fa95a443ab20f1ce8cef23968",
            "11114c20cf814ff0970e326396115fd3",
            "cd8de8bc8dba4f4e96d30db9b2c4249c",
            "cb213124a26a4223b1699496352bec09",
            "294f89776dc54c3aaa29abd90ebdcb22",
            "a71d02eb6ef14f15b5ec0ecf5284e94b",
            "07f01c19e8ae4f8a950aa3737796fc7c",
            "338201d62bc1416286665b6e8c438fa1"
          ]
        },
        "id": "sZyghtcOmETr",
        "outputId": "282485ab-73b6-4b7f-a413-be005fda63f4"
      },
      "execution_count": null,
      "outputs": [
        {
          "output_type": "display_data",
          "data": {
            "text/plain": [
              "README.md: 0.00B [00:00, ?B/s]"
            ],
            "application/vnd.jupyter.widget-view+json": {
              "version_major": 2,
              "version_minor": 0,
              "model_id": "e571f37347b8441bbcd736055d2a90e7"
            }
          },
          "metadata": {}
        },
        {
          "output_type": "display_data",
          "data": {
            "text/plain": [
              "spiece.model:   0%|          | 0.00/792k [00:00<?, ?B/s]"
            ],
            "application/vnd.jupyter.widget-view+json": {
              "version_major": 2,
              "version_minor": 0,
              "model_id": "06f3a61f63c84eaab96dfd5e8479461d"
            }
          },
          "metadata": {}
        },
        {
          "output_type": "execute_result",
          "data": {
            "text/plain": [
              "CommitInfo(commit_url='https://huggingface.co/apoooooorva/flan-t5-large-tweet-classification-v3/commit/13c7e1d81b099581d5dea4d21a4d8ce225d11d20', commit_message='Upload tokenizer', commit_description='', oid='13c7e1d81b099581d5dea4d21a4d8ce225d11d20', pr_url=None, repo_url=RepoUrl('https://huggingface.co/apoooooorva/flan-t5-large-tweet-classification-v3', endpoint='https://huggingface.co', repo_type='model', repo_id='apoooooorva/flan-t5-large-tweet-classification-v3'), pr_revision=None, pr_num=None)"
            ],
            "application/vnd.google.colaboratory.intrinsic+json": {
              "type": "string"
            }
          },
          "metadata": {},
          "execution_count": 14
        }
      ]
    },
    {
      "cell_type": "code",
      "source": [
        "import pandas as pd\n",
        "import torch\n",
        "from transformers import T5Tokenizer, T5ForConditionalGeneration\n",
        "from sklearn.metrics import f1_score\n",
        "from tqdm import tqdm\n",
        "from src.prompt import PROMPT_TEMPLATE\n",
        "\n",
        "# Load model and tokenizer from Hugging Face Hub\n",
        "model = T5ForConditionalGeneration.from_pretrained(\"apoooooorva/flan-t5-large-tweet-classification-v3\")\n",
        "tokenizer = T5Tokenizer.from_pretrained(\"apoooooorva/flan-t5-large-tweet-classification-v3\")\n",
        "device = torch.device(\"cuda\" if torch.cuda.is_available() else \"cpu\")\n",
        "model = model.to(device)\n",
        "\n",
        "# Load dataset\n",
        "df = pd.read_csv(\"Q2_20230202_majority.csv\").dropna(subset=[\"tweet\", \"label_true\"])\n",
        "\n",
        "# Prepare prompts using PROMPT_TEMPLATE\n",
        "prompts = df[\"tweet\"].apply(lambda t: PROMPT_TEMPLATE.format(tweet=t)).tolist()\n",
        "\n",
        "# Generate predictions\n",
        "label_pred = []\n",
        "for prompt in tqdm(prompts, desc=\"Generating predictions\"):\n",
        "    enc = tokenizer(prompt, return_tensors=\"pt\", truncation=True, padding=\"max_length\", max_length=256)\n",
        "    input_ids = enc.input_ids.to(device)\n",
        "    attention_mask = enc.attention_mask.to(device)\n",
        "    with torch.no_grad():\n",
        "        output = model.generate(input_ids=input_ids, attention_mask=attention_mask, max_length=10)\n",
        "    pred = tokenizer.decode(output[0], skip_special_tokens=True).strip()\n",
        "    label_pred.append(pred)\n",
        "\n",
        "# Add predictions to DataFrame and save\n",
        "df[\"label_pred\"] = label_pred\n",
        "df.to_csv(\"Q2_20230202_majority_with_preds.csv\", index=False)\n",
        "\n",
        "# Calculate F1 score\n",
        "f1 = f1_score(df[\"label_true\"], df[\"label_pred\"], average=\"weighted\")\n",
        "print(f\"F1 Score: {f1:.4f}\")\n"
      ],
      "metadata": {
        "id": "--duXawBmIGF",
        "colab": {
          "base_uri": "https://localhost:8080/"
        },
        "outputId": "0d379406-3009-4407-8075-a7cffedc2644"
      },
      "execution_count": 5,
      "outputs": [
        {
          "output_type": "stream",
          "name": "stderr",
          "text": [
            "/usr/local/lib/python3.11/dist-packages/huggingface_hub/utils/_auth.py:94: UserWarning: \n",
            "The secret `HF_TOKEN` does not exist in your Colab secrets.\n",
            "To authenticate with the Hugging Face Hub, create a token in your settings tab (https://huggingface.co/settings/tokens), set it as secret in your Google Colab and restart your session.\n",
            "You will be able to reuse this secret in all of your notebooks.\n",
            "Please note that authentication is recommended but still optional to access public models or datasets.\n",
            "  warnings.warn(\n",
            "Generating predictions: 100%|██████████| 5751/5751 [19:37<00:00,  4.88it/s]"
          ]
        },
        {
          "output_type": "stream",
          "name": "stdout",
          "text": [
            "F1 Score: 0.8933\n"
          ]
        },
        {
          "output_type": "stream",
          "name": "stderr",
          "text": [
            "\n"
          ]
        }
      ]
    },
    {
      "cell_type": "code",
      "source": [],
      "metadata": {
        "id": "kN3jMiLNvkyl"
      },
      "execution_count": null,
      "outputs": []
    }
  ],
  "metadata": {
    "accelerator": "GPU",
    "colab": {
      "gpuType": "L4",
      "machine_shape": "hm",
      "provenance": [],
      "authorship_tag": "ABX9TyOcyEeAj6C/h3ImDQuRKik/",
      "include_colab_link": true
    },
    "kernelspec": {
      "display_name": "Python 3",
      "name": "python3"
    },
    "language_info": {
      "name": "python"
    }
  },
  "nbformat": 4,
  "nbformat_minor": 0
}